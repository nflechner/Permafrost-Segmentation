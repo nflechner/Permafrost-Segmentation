{
 "cells": [
  {
   "cell_type": "markdown",
   "metadata": {},
   "source": [
    "### VGG16BN"
   ]
  },
  {
   "cell_type": "code",
   "execution_count": 1,
   "metadata": {},
   "outputs": [],
   "source": [
    "import torch\n",
    "import os\n",
    "import pandas as pd\n",
    "import torch\n",
    "import torch.nn as nn\n",
    "import torch.optim as optim\n",
    "from torch.utils.data import Dataset, DataLoader\n",
    "from PIL import Image\n",
    "import rasterio\n",
    "import numpy as np\n",
    "from torchvision import models, transforms\n",
    "from utils import ImageDataset, SaveFeatures, accuracy, imshow_transform\n",
    "from VGG_model import vgg19\n",
    "from torch.autograd import Variable\n",
    "\n",
    "\n",
    "#####################\n",
    "# Define dataloaders\n",
    "#####################\n",
    "\n",
    "\n",
    "image_dir = \"/home/nadjaflechner/Palsa_data/dataset_100m/\"\n",
    "labels_file = \"/home/nadjaflechner/Palsa_data/binary_palsa_labels_100m.csv\"\n",
    "\n",
    "# image_dir = \"/Users/nadja/Documents/UU/Thesis/Data/100m\"\n",
    "# labels_file = \"/Users/nadja/Documents/UU/Thesis/Data/100m_palsa_labels.csv\"\n",
    "\n",
    "# Load the labels from the CSV file\n",
    "labels_df = pd.read_csv(labels_file, index_col=0).head(5000)\n",
    "\n",
    "# Split the dataset into training and validation sets\n",
    "train_df = labels_df.head(4000)\n",
    "val_df = labels_df.drop(train_df.index)\n",
    "\n",
    "# Create the datasets and data loaders\n",
    "train_dataset = ImageDataset(image_dir, train_df )\n",
    "val_dataset = ImageDataset(image_dir, val_df )\n",
    "train_loader = DataLoader(train_dataset, batch_size=50, shuffle=True)\n",
    "val_loader = DataLoader(val_dataset, batch_size=50, shuffle=True)"
   ]
  },
  {
   "cell_type": "code",
   "execution_count": 7,
   "metadata": {},
   "outputs": [],
   "source": [
    "###############\n",
    "# Define model\n",
    "###############\n",
    "\n",
    "from VGG_16bn import vgg16bn\n",
    "\n",
    "model = vgg16bn()\n"
   ]
  },
  {
   "cell_type": "code",
   "execution_count": 8,
   "metadata": {},
   "outputs": [
    {
     "data": {
      "text/plain": [
       "VGG(\n",
       "  (features): Sequential(\n",
       "    (0): Conv2d(3, 64, kernel_size=(3, 3), stride=(1, 1), padding=(1, 1))\n",
       "    (1): BatchNorm2d(64, eps=1e-05, momentum=0.1, affine=True, track_running_stats=True)\n",
       "    (2): ReLU(inplace=True)\n",
       "    (3): Conv2d(64, 64, kernel_size=(3, 3), stride=(1, 1), padding=(1, 1))\n",
       "    (4): BatchNorm2d(64, eps=1e-05, momentum=0.1, affine=True, track_running_stats=True)\n",
       "    (5): ReLU(inplace=True)\n",
       "    (6): MaxPool2d(kernel_size=2, stride=2, padding=0, dilation=1, ceil_mode=False)\n",
       "    (7): Conv2d(64, 128, kernel_size=(3, 3), stride=(1, 1), padding=(1, 1))\n",
       "    (8): BatchNorm2d(128, eps=1e-05, momentum=0.1, affine=True, track_running_stats=True)\n",
       "    (9): ReLU(inplace=True)\n",
       "    (10): Conv2d(128, 128, kernel_size=(3, 3), stride=(1, 1), padding=(1, 1))\n",
       "    (11): BatchNorm2d(128, eps=1e-05, momentum=0.1, affine=True, track_running_stats=True)\n",
       "    (12): ReLU(inplace=True)\n",
       "    (13): MaxPool2d(kernel_size=2, stride=2, padding=0, dilation=1, ceil_mode=False)\n",
       "    (14): Conv2d(128, 256, kernel_size=(3, 3), stride=(1, 1), padding=(1, 1))\n",
       "    (15): BatchNorm2d(256, eps=1e-05, momentum=0.1, affine=True, track_running_stats=True)\n",
       "    (16): ReLU(inplace=True)\n",
       "    (17): Conv2d(256, 256, kernel_size=(3, 3), stride=(1, 1), padding=(1, 1))\n",
       "    (18): BatchNorm2d(256, eps=1e-05, momentum=0.1, affine=True, track_running_stats=True)\n",
       "    (19): ReLU(inplace=True)\n",
       "    (20): Conv2d(256, 256, kernel_size=(3, 3), stride=(1, 1), padding=(1, 1))\n",
       "    (21): BatchNorm2d(256, eps=1e-05, momentum=0.1, affine=True, track_running_stats=True)\n",
       "    (22): ReLU(inplace=True)\n",
       "    (23): MaxPool2d(kernel_size=2, stride=2, padding=0, dilation=1, ceil_mode=False)\n",
       "    (24): Conv2d(256, 512, kernel_size=(3, 3), stride=(1, 1), padding=(1, 1))\n",
       "    (25): BatchNorm2d(512, eps=1e-05, momentum=0.1, affine=True, track_running_stats=True)\n",
       "    (26): ReLU(inplace=True)\n",
       "    (27): Conv2d(512, 512, kernel_size=(3, 3), stride=(1, 1), padding=(1, 1))\n",
       "    (28): BatchNorm2d(512, eps=1e-05, momentum=0.1, affine=True, track_running_stats=True)\n",
       "    (29): ReLU(inplace=True)\n",
       "    (30): Conv2d(512, 512, kernel_size=(3, 3), stride=(1, 1), padding=(1, 1))\n",
       "    (31): BatchNorm2d(512, eps=1e-05, momentum=0.1, affine=True, track_running_stats=True)\n",
       "    (32): ReLU(inplace=True)\n",
       "    (33): MaxPool2d(kernel_size=2, stride=2, padding=0, dilation=1, ceil_mode=False)\n",
       "    (34): Conv2d(512, 512, kernel_size=(3, 3), stride=(1, 1), padding=(1, 1))\n",
       "    (35): BatchNorm2d(512, eps=1e-05, momentum=0.1, affine=True, track_running_stats=True)\n",
       "    (36): ReLU(inplace=True)\n",
       "    (37): Conv2d(512, 512, kernel_size=(3, 3), stride=(1, 1), padding=(1, 1))\n",
       "    (38): BatchNorm2d(512, eps=1e-05, momentum=0.1, affine=True, track_running_stats=True)\n",
       "    (39): ReLU(inplace=True)\n",
       "    (40): Conv2d(512, 512, kernel_size=(3, 3), stride=(1, 1), padding=(1, 1))\n",
       "    (41): BatchNorm2d(512, eps=1e-05, momentum=0.1, affine=True, track_running_stats=True)\n",
       "    (42): ReLU(inplace=True)\n",
       "    (43): MaxPool2d(kernel_size=2, stride=2, padding=0, dilation=1, ceil_mode=False)\n",
       "  )\n",
       "  (classifier): Sequential(\n",
       "    (0): Linear(in_features=25088, out_features=4096, bias=True)\n",
       "    (1): ReLU(inplace=True)\n",
       "    (2): Dropout(p=0.2, inplace=False)\n",
       "    (3): Linear(in_features=4096, out_features=4096, bias=True)\n",
       "    (4): ReLU(inplace=True)\n",
       "    (5): Dropout(p=0.2, inplace=False)\n",
       "    (6): Linear(in_features=4096, out_features=1000, bias=True)\n",
       "  )\n",
       ")"
      ]
     },
     "execution_count": 8,
     "metadata": {},
     "output_type": "execute_result"
    }
   ],
   "source": [
    "model"
   ]
  },
  {
   "cell_type": "code",
   "execution_count": 9,
   "metadata": {},
   "outputs": [],
   "source": [
    "\n",
    "#freeze layers\n",
    "for idx, param in enumerate(model.parameters()):\n",
    "    if idx == 30:\n",
    "        break\n",
    "    param.requires_grad = False\n",
    "\n",
    "#modify the last two convolutions\n",
    "model.features[-7] = nn.Conv2d(512,512,3, padding=1)\n",
    "model.features[-4] = nn.Conv2d(512,2,3, padding=1)\n",
    "model.features[-3] = nn.BatchNorm2d(2,eps=1e-05, momentum=0.1, affine=True, track_running_stats=True)\n",
    "\n",
    "#remove fully connected layer and replace it with AdaptiveAvePooling\n",
    "model.classifier = nn.Sequential(\n",
    "                                nn.AdaptiveAvgPool2d(1),\n",
    "                                nn.Flatten()\n",
    "                                )\n",
    "                                # ,\n",
    "                                # nn.LogSoftmax()\n",
    "                                # )"
   ]
  },
  {
   "cell_type": "code",
   "execution_count": 10,
   "metadata": {},
   "outputs": [
    {
     "data": {
      "text/plain": [
       "VGG(\n",
       "  (features): Sequential(\n",
       "    (0): Conv2d(3, 64, kernel_size=(3, 3), stride=(1, 1), padding=(1, 1))\n",
       "    (1): BatchNorm2d(64, eps=1e-05, momentum=0.1, affine=True, track_running_stats=True)\n",
       "    (2): ReLU(inplace=True)\n",
       "    (3): Conv2d(64, 64, kernel_size=(3, 3), stride=(1, 1), padding=(1, 1))\n",
       "    (4): BatchNorm2d(64, eps=1e-05, momentum=0.1, affine=True, track_running_stats=True)\n",
       "    (5): ReLU(inplace=True)\n",
       "    (6): MaxPool2d(kernel_size=2, stride=2, padding=0, dilation=1, ceil_mode=False)\n",
       "    (7): Conv2d(64, 128, kernel_size=(3, 3), stride=(1, 1), padding=(1, 1))\n",
       "    (8): BatchNorm2d(128, eps=1e-05, momentum=0.1, affine=True, track_running_stats=True)\n",
       "    (9): ReLU(inplace=True)\n",
       "    (10): Conv2d(128, 128, kernel_size=(3, 3), stride=(1, 1), padding=(1, 1))\n",
       "    (11): BatchNorm2d(128, eps=1e-05, momentum=0.1, affine=True, track_running_stats=True)\n",
       "    (12): ReLU(inplace=True)\n",
       "    (13): MaxPool2d(kernel_size=2, stride=2, padding=0, dilation=1, ceil_mode=False)\n",
       "    (14): Conv2d(128, 256, kernel_size=(3, 3), stride=(1, 1), padding=(1, 1))\n",
       "    (15): BatchNorm2d(256, eps=1e-05, momentum=0.1, affine=True, track_running_stats=True)\n",
       "    (16): ReLU(inplace=True)\n",
       "    (17): Conv2d(256, 256, kernel_size=(3, 3), stride=(1, 1), padding=(1, 1))\n",
       "    (18): BatchNorm2d(256, eps=1e-05, momentum=0.1, affine=True, track_running_stats=True)\n",
       "    (19): ReLU(inplace=True)\n",
       "    (20): Conv2d(256, 256, kernel_size=(3, 3), stride=(1, 1), padding=(1, 1))\n",
       "    (21): BatchNorm2d(256, eps=1e-05, momentum=0.1, affine=True, track_running_stats=True)\n",
       "    (22): ReLU(inplace=True)\n",
       "    (23): MaxPool2d(kernel_size=2, stride=2, padding=0, dilation=1, ceil_mode=False)\n",
       "    (24): Conv2d(256, 512, kernel_size=(3, 3), stride=(1, 1), padding=(1, 1))\n",
       "    (25): BatchNorm2d(512, eps=1e-05, momentum=0.1, affine=True, track_running_stats=True)\n",
       "    (26): ReLU(inplace=True)\n",
       "    (27): Conv2d(512, 512, kernel_size=(3, 3), stride=(1, 1), padding=(1, 1))\n",
       "    (28): BatchNorm2d(512, eps=1e-05, momentum=0.1, affine=True, track_running_stats=True)\n",
       "    (29): ReLU(inplace=True)\n",
       "    (30): Conv2d(512, 512, kernel_size=(3, 3), stride=(1, 1), padding=(1, 1))\n",
       "    (31): BatchNorm2d(512, eps=1e-05, momentum=0.1, affine=True, track_running_stats=True)\n",
       "    (32): ReLU(inplace=True)\n",
       "    (33): MaxPool2d(kernel_size=2, stride=2, padding=0, dilation=1, ceil_mode=False)\n",
       "    (34): Conv2d(512, 512, kernel_size=(3, 3), stride=(1, 1), padding=(1, 1))\n",
       "    (35): BatchNorm2d(512, eps=1e-05, momentum=0.1, affine=True, track_running_stats=True)\n",
       "    (36): ReLU(inplace=True)\n",
       "    (37): Conv2d(512, 512, kernel_size=(3, 3), stride=(1, 1), padding=(1, 1))\n",
       "    (38): BatchNorm2d(512, eps=1e-05, momentum=0.1, affine=True, track_running_stats=True)\n",
       "    (39): ReLU(inplace=True)\n",
       "    (40): Conv2d(512, 2, kernel_size=(3, 3), stride=(1, 1), padding=(1, 1))\n",
       "    (41): BatchNorm2d(2, eps=1e-05, momentum=0.1, affine=True, track_running_stats=True)\n",
       "    (42): ReLU(inplace=True)\n",
       "    (43): MaxPool2d(kernel_size=2, stride=2, padding=0, dilation=1, ceil_mode=False)\n",
       "  )\n",
       "  (classifier): Sequential(\n",
       "    (0): AdaptiveAvgPool2d(output_size=1)\n",
       "    (1): Flatten(start_dim=1, end_dim=-1)\n",
       "  )\n",
       ")"
      ]
     },
     "execution_count": 10,
     "metadata": {},
     "output_type": "execute_result"
    }
   ],
   "source": [
    "model"
   ]
  },
  {
   "cell_type": "code",
   "execution_count": 11,
   "metadata": {},
   "outputs": [
    {
     "name": "stdout",
     "output_type": "stream",
     "text": [
      "EPOCH:  1\n",
      "EPOCH:  2\n",
      "EPOCH:  3\n",
      "EPOCH:  4\n",
      "EPOCH:  5\n",
      "EPOCH:  6\n",
      "EPOCH:  7\n",
      "EPOCH:  8\n",
      "EPOCH:  9\n",
      "EPOCH:  10\n",
      "EPOCH:  11\n",
      "EPOCH:  12\n",
      "EPOCH:  13\n",
      "EPOCH:  14\n",
      "EPOCH:  15\n",
      "EPOCH:  16\n",
      "EPOCH:  17\n",
      "EPOCH:  18\n",
      "EPOCH:  19\n",
      "EPOCH:  20\n"
     ]
    }
   ],
   "source": [
    "device = torch.device('cuda' if torch.cuda.is_available() else 'cpu')\n",
    "model.to(device)\n",
    "optimizer = optim.Adam(model.parameters(), lr=0.00001, weight_decay=0.08)\n",
    "loss_function = nn.CrossEntropyLoss()\n",
    "num_epochs = 20\n",
    "\n",
    "# define weights information \n",
    "weights = models.VGG16_BN_Weights.DEFAULT\n",
    "transforms = weights.transforms()\n",
    "\n",
    "mean_train_losses = []\n",
    "mean_val_losses = []\n",
    "\n",
    "mean_train_acc = []\n",
    "mean_val_acc = []\n",
    "\n",
    "\n",
    "for epoch in range(num_epochs):\n",
    "    print('EPOCH: ',epoch+1)\n",
    "\n",
    "    train_acc = []\n",
    "    val_acc = []\n",
    "\n",
    "    running_loss = 0.0\n",
    "        \n",
    "    model.train()\n",
    "    count = 0\n",
    "    for batch_idx, (images, labels) in enumerate(train_loader):        \n",
    "        images = Variable(transforms(images)).to(device)\n",
    "        labels = Variable(labels.long()).to(device)\n",
    "        \n",
    "        outputs = model(images) \n",
    "        # print(outputs)\n",
    "        \n",
    "        optimizer.zero_grad()\n",
    "        loss = loss_function(outputs, labels)\n",
    "        batch_accuracy = accuracy(outputs, labels.long())\n",
    "        train_acc.append(batch_accuracy)\n",
    "        # print(f\"Batch {batch_idx} accuracy = {round(batch_accuracy*100,2)}%\")\n",
    "        # print(f\"Batch {batch_idx} loss = {round(loss.cpu().detach().item(), 2)}\")\n",
    "        \n",
    "        loss.backward()\n",
    "        optimizer.step()  \n",
    "\n",
    "        running_loss += loss.item()\n",
    "        count += 1\n",
    "\n",
    "        # if batch_idx == 1:\n",
    "        #     break  \n",
    "    \n",
    "    mean_train_losses.append(running_loss/count)\n",
    "        \n",
    "    model.eval()\n",
    "    count = 0\n",
    "    val_running_loss = 0.0\n",
    "    model.to(device)\n",
    "\n",
    "    for batch_idx, (images, labels) in enumerate(val_loader):        \n",
    "        images = Variable(transforms(images)).to(device)\n",
    "        labels = Variable(labels.long()).to(device)\n",
    "        \n",
    "        outputs = model(images)\n",
    "        loss = loss_function(outputs, labels)\n",
    "\n",
    "        val_acc.append(accuracy(outputs, labels))\n",
    "        val_running_loss += loss.item()\n",
    "        count +=1\n",
    "\n",
    "        # if batch_idx == 4:\n",
    "        #     break\n",
    "\n",
    "    mean_val_loss = val_running_loss/count\n",
    "        \n",
    "    mean_val_losses.append(mean_val_loss)\n",
    "    \n",
    "    mean_train_acc.append(np.mean(train_acc))\n",
    "    \n",
    "    val_acc_ = np.mean(val_acc)\n",
    "    mean_val_acc.append(val_acc_)\n",
    "\n",
    "    # print('Training accuracy:...', np.mean(train_acc))\n",
    "    # print('Validation accuracy..', np.mean(val_acc))"
   ]
  },
  {
   "cell_type": "code",
   "execution_count": 12,
   "metadata": {},
   "outputs": [
    {
     "data": {
      "text/plain": [
       "<matplotlib.legend.Legend at 0x72659c850740>"
      ]
     },
     "execution_count": 12,
     "metadata": {},
     "output_type": "execute_result"
    },
    {
     "data": {
      "image/png": "[encoded data removed]",
      "text/plain": [
       "<Figure size 640x480 with 1 Axes>"
      ]
     },
     "metadata": {},
     "output_type": "display_data"
    }
   ],
   "source": [
    "import matplotlib.pyplot as plt \n",
    "\n",
    "x = [i for i in range(len(mean_train_losses))]\n",
    "y1 = mean_train_losses\n",
    "y2 = mean_val_losses\n",
    "\n",
    "plt.plot(x,y2, c = 'b', label = 'val loss')\n",
    "plt.plot(x,y1, c = 'r', label = 'train loss')\n",
    "plt.legend()"
   ]
  },
  {
   "cell_type": "code",
   "execution_count": 13,
   "metadata": {},
   "outputs": [
    {
     "data": {
      "text/plain": [
       "<matplotlib.legend.Legend at 0x72659c6ea510>"
      ]
     },
     "execution_count": 13,
     "metadata": {},
     "output_type": "execute_result"
    },
    {
     "data": {
      "image/png": "[encoded data removed]",
      "text/plain": [
       "<Figure size 640x480 with 1 Axes>"
      ]
     },
     "metadata": {},
     "output_type": "display_data"
    }
   ],
   "source": [
    "import matplotlib.pyplot as plt \n",
    "\n",
    "x = [i for i in range(len(mean_train_acc))]\n",
    "y1 = mean_train_acc\n",
    "y2 = mean_val_acc\n",
    "\n",
    "plt.plot(x,y2, c = 'b', label = 'val accuracy')\n",
    "plt.plot(x,y1, c = 'r', label = 'train accuracy')\n",
    "plt.legend()"
   ]
  },
  {
   "cell_type": "code",
   "execution_count": 14,
   "metadata": {},
   "outputs": [
    {
     "data": {
      "text/plain": [
       "[0.76100004,\n",
       " 0.83875,\n",
       " 0.86875,\n",
       " 0.886,\n",
       " 0.90325004,\n",
       " 0.92275,\n",
       " 0.93925,\n",
       " 0.95649993,\n",
       " 0.9692499,\n",
       " 0.97599995,\n",
       " 0.982,\n",
       " 0.99125004,\n",
       " 0.99575007,\n",
       " 0.99549997,\n",
       " 0.9987499,\n",
       " 0.99850005,\n",
       " 0.9995,\n",
       " 1.0,\n",
       " 1.0,\n",
       " 1.0,\n",
       " 0.99974996,\n",
       " 1.0,\n",
       " 1.0,\n",
       " 1.0,\n",
       " 1.0,\n",
       " 1.0,\n",
       " 1.0,\n",
       " 1.0,\n",
       " 1.0,\n",
       " 1.0,\n",
       " 1.0,\n",
       " 1.0,\n",
       " 1.0,\n",
       " 1.0,\n",
       " 1.0,\n",
       " 1.0,\n",
       " 1.0,\n",
       " 1.0,\n",
       " 1.0,\n",
       " 1.0]"
      ]
     },
     "execution_count": 14,
     "metadata": {},
     "output_type": "execute_result"
    }
   ],
   "source": [
    "mean_train_acc"
   ]
  },
  {
   "cell_type": "markdown",
   "metadata": {},
   "source": [
    "### VGG19"
   ]
  },
  {
   "cell_type": "code",
   "execution_count": 1,
   "metadata": {},
   "outputs": [],
   "source": [
    "import torch\n",
    "import os\n",
    "import pandas as pd\n",
    "import torch\n",
    "import torch.nn as nn\n",
    "import torch.optim as optim\n",
    "from torch.utils.data import Dataset, DataLoader\n",
    "from PIL import Image\n",
    "import rasterio\n",
    "import numpy as np\n",
    "from torchvision import models, transforms\n",
    "from utils import ImageDataset, SaveFeatures, accuracy, imshow_transform\n",
    "from VGG_model import vgg19\n",
    "from torch.autograd import Variable\n",
    "\n",
    "\n",
    "#####################\n",
    "# Define dataloaders\n",
    "#####################\n",
    "\n",
    "\n",
    "image_dir = \"/home/nadjaflechner/Palsa_data/dataset_100m/\"\n",
    "labels_file = \"/home/nadjaflechner/Palsa_data/binary_palsa_labels_100m.csv\"\n",
    "\n",
    "# image_dir = \"/Users/nadja/Documents/UU/Thesis/Data/100m\"\n",
    "# labels_file = \"/Users/nadja/Documents/UU/Thesis/Data/100m_palsa_labels.csv\"\n",
    "\n",
    "# Load the labels from the CSV file\n",
    "labels_df = pd.read_csv(labels_file, index_col=0).head(5000)\n",
    "\n",
    "# Split the dataset into training and validation sets\n",
    "train_df = labels_df.head(4000)\n",
    "val_df = labels_df.drop(train_df.index)\n",
    "\n",
    "# Create the datasets and data loaders\n",
    "train_dataset = ImageDataset(image_dir, train_df )\n",
    "val_dataset = ImageDataset(image_dir, val_df )\n",
    "train_loader = DataLoader(train_dataset, batch_size=50, shuffle=True)\n",
    "val_loader = DataLoader(val_dataset, batch_size=50, shuffle=True)"
   ]
  },
  {
   "cell_type": "code",
   "execution_count": 2,
   "metadata": {},
   "outputs": [],
   "source": [
    "###############\n",
    "# Define model\n",
    "###############\n",
    "\n",
    "model = vgg19()\n",
    "\n",
    "#freeze layers\n",
    "for idx, param in enumerate(model.parameters()):\n",
    "    if idx == 30:\n",
    "        break\n",
    "    param.requires_grad = False\n",
    "\n",
    "#modify the last two convolutions\n",
    "model.features[-5] = nn.Conv2d(512,512,3, padding=1)\n",
    "model.features[-3] = nn.Conv2d(512,2,3, padding=1)\n",
    "\n",
    "#remove fully connected layer and replace it with AdaptiveAvePooling\n",
    "model.classifier = nn.Sequential(\n",
    "                                nn.AdaptiveAvgPool2d(1),\n",
    "                                nn.Flatten()\n",
    "                                )\n",
    "                                # ,\n",
    "                                # nn.LogSoftmax()\n",
    "                                # )"
   ]
  },
  {
   "cell_type": "code",
   "execution_count": 3,
   "metadata": {},
   "outputs": [
    {
     "name": "stdout",
     "output_type": "stream",
     "text": [
      "EPOCH:  1\n"
     ]
    },
    {
     "name": "stderr",
     "output_type": "stream",
     "text": [
      "/home/nadjaflechner/miniconda3/envs/torch_only_env/lib/python3.12/site-packages/torchvision/transforms/functional.py:1603: UserWarning: The default value of the antialias parameter of all the resizing transforms (Resize(), RandomResizedCrop(), etc.) will change from None to True in v0.17, in order to be consistent across the PIL and Tensor backends. To suppress this warning, directly pass antialias=True (recommended, future default), antialias=None (current default, which means False for Tensors and True for PIL), or antialias=False (only works on Tensors - PIL will still use antialiasing). This also applies if you are using the inference transforms from the models weights: update the call to weights.transforms(antialias=True).\n",
      "  warnings.warn(\n"
     ]
    },
    {
     "name": "stdout",
     "output_type": "stream",
     "text": [
      "EPOCH:  2\n",
      "EPOCH:  3\n",
      "EPOCH:  4\n",
      "EPOCH:  5\n",
      "EPOCH:  6\n",
      "EPOCH:  7\n",
      "EPOCH:  8\n",
      "EPOCH:  9\n",
      "EPOCH:  10\n",
      "EPOCH:  11\n",
      "EPOCH:  12\n",
      "EPOCH:  13\n",
      "EPOCH:  14\n",
      "EPOCH:  15\n",
      "EPOCH:  16\n",
      "EPOCH:  17\n",
      "EPOCH:  18\n",
      "EPOCH:  19\n",
      "EPOCH:  20\n",
      "EPOCH:  21\n",
      "EPOCH:  22\n",
      "EPOCH:  23\n",
      "EPOCH:  24\n",
      "EPOCH:  25\n",
      "EPOCH:  26\n",
      "EPOCH:  27\n",
      "EPOCH:  28\n",
      "EPOCH:  29\n",
      "EPOCH:  30\n"
     ]
    }
   ],
   "source": [
    "device = torch.device('cuda' if torch.cuda.is_available() else 'cpu')\n",
    "model.to(device)\n",
    "optimizer = optim.Adam(model.parameters(), lr=0.00001)\n",
    "loss_function = nn.CrossEntropyLoss()\n",
    "num_epochs = 30\n",
    "\n",
    "# define weights information \n",
    "weights = models.VGG19_Weights.DEFAULT\n",
    "transforms = weights.transforms()\n",
    "\n",
    "mean_train_losses = []\n",
    "mean_val_losses = []\n",
    "\n",
    "mean_train_acc = []\n",
    "mean_val_acc = []\n",
    "\n",
    "\n",
    "for epoch in range(num_epochs):\n",
    "    print('EPOCH: ',epoch+1)\n",
    "\n",
    "    train_acc = []\n",
    "    val_acc = []\n",
    "\n",
    "    running_loss = 0.0\n",
    "        \n",
    "    model.train()\n",
    "    count = 0\n",
    "    for batch_idx, (images, labels) in enumerate(train_loader):        \n",
    "        images = Variable(transforms(images)).to(device)\n",
    "        labels = Variable(labels.long()).to(device)\n",
    "        \n",
    "        outputs = model(images) \n",
    "        # print(outputs)\n",
    "        \n",
    "        optimizer.zero_grad()\n",
    "        loss = loss_function(outputs, labels)\n",
    "        batch_accuracy = accuracy(outputs, labels.long())\n",
    "        train_acc.append(batch_accuracy)\n",
    "        # print(f\"Batch {batch_idx} accuracy = {round(batch_accuracy*100,2)}%\")\n",
    "        # print(f\"Batch {batch_idx} loss = {round(loss.cpu().detach().item(), 2)}\")\n",
    "        \n",
    "        loss.backward()\n",
    "        optimizer.step()  \n",
    "\n",
    "        running_loss += loss.item()\n",
    "        count += 1\n",
    "\n",
    "        # if batch_idx == 1:\n",
    "        #     break  \n",
    "    \n",
    "    mean_train_losses.append(running_loss/count)\n",
    "        \n",
    "    model.eval()\n",
    "    count = 0\n",
    "    val_running_loss = 0.0\n",
    "    model.to(device)\n",
    "\n",
    "    for batch_idx, (images, labels) in enumerate(val_loader):        \n",
    "        images = Variable(transforms(images)).to(device)\n",
    "        labels = Variable(labels.long()).to(device)\n",
    "        \n",
    "        outputs = model(images)\n",
    "        loss = loss_function(outputs, labels)\n",
    "\n",
    "        val_acc.append(accuracy(outputs, labels))\n",
    "        val_running_loss += loss.item()\n",
    "        count +=1\n",
    "\n",
    "        # if batch_idx == 4:\n",
    "        #     break\n",
    "\n",
    "    mean_val_loss = val_running_loss/count\n",
    "        \n",
    "    mean_val_losses.append(mean_val_loss)\n",
    "    \n",
    "    mean_train_acc.append(np.mean(train_acc))\n",
    "    \n",
    "    val_acc_ = np.mean(val_acc)\n",
    "    mean_val_acc.append(val_acc_)\n",
    "\n",
    "    # print('Training accuracy:...', np.mean(train_acc))\n",
    "    # print('Validation accuracy..', np.mean(val_acc))"
   ]
  },
  {
   "cell_type": "code",
   "execution_count": 4,
   "metadata": {},
   "outputs": [
    {
     "data": {
      "text/plain": [
       "<matplotlib.legend.Legend at 0x79c052d62900>"
      ]
     },
     "execution_count": 4,
     "metadata": {},
     "output_type": "execute_result"
    },
    {
     "data": {
      "image/png": "[encoded data removed]",
      "text/plain": [
       "<Figure size 640x480 with 1 Axes>"
      ]
     },
     "metadata": {},
     "output_type": "display_data"
    }
   ],
   "source": [
    "import matplotlib.pyplot as plt \n",
    "\n",
    "x = [i for i in range(len(mean_train_losses))]\n",
    "y1 = mean_train_losses\n",
    "y2 = mean_val_losses\n",
    "\n",
    "plt.plot(x,y2, c = 'b', label = 'val loss')\n",
    "plt.plot(x,y1, c = 'r', label = 'train loss')\n",
    "plt.legend()"
   ]
  },
  {
   "cell_type": "code",
   "execution_count": 5,
   "metadata": {},
   "outputs": [
    {
     "data": {
      "text/plain": [
       "<matplotlib.legend.Legend at 0x79c053ab3b60>"
      ]
     },
     "execution_count": 5,
     "metadata": {},
     "output_type": "execute_result"
    },
    {
     "data": {
      "image/png": "[encoded data removed]",
      "text/plain": [
       "<Figure size 640x480 with 1 Axes>"
      ]
     },
     "metadata": {},
     "output_type": "display_data"
    }
   ],
   "source": [
    "import matplotlib.pyplot as plt \n",
    "\n",
    "x = [i for i in range(len(mean_train_acc))]\n",
    "y1 = mean_train_acc\n",
    "y2 = mean_val_acc\n",
    "\n",
    "plt.plot(x,y2, c = 'b', label = 'val accuracy')\n",
    "plt.plot(x,y1, c = 'r', label = 'train accuracy')\n",
    "plt.legend()"
   ]
  },
  {
   "cell_type": "code",
   "execution_count": 9,
   "metadata": {},
   "outputs": [
    {
     "ename": "SyntaxError",
     "evalue": "f-string: expecting a valid expression after '{' (3786668235.py, line 1)",
     "output_type": "error",
     "traceback": [
      "\u001b[0;36m  Cell \u001b[0;32mIn[9], line 1\u001b[0;36m\u001b[0m\n\u001b[0;31m    print(f\"%.2f {%batch_accuracy}\")\u001b[0m\n\u001b[0m                  ^\u001b[0m\n\u001b[0;31mSyntaxError\u001b[0m\u001b[0;31m:\u001b[0m f-string: expecting a valid expression after '{'\n"
     ]
    }
   ],
   "source": [
    "print(f\"%.2f {%batch_accuracy}\")"
   ]
  },
  {
   "cell_type": "code",
   "execution_count": 7,
   "metadata": {},
   "outputs": [
    {
     "name": "stderr",
     "output_type": "stream",
     "text": [
      "/Users/nadja/miniconda3/envs/torchvision/lib/python3.11/site-packages/torchvision/transforms/functional.py:1603: UserWarning: The default value of the antialias parameter of all the resizing transforms (Resize(), RandomResizedCrop(), etc.) will change from None to True in v0.17, in order to be consistent across the PIL and Tensor backends. To suppress this warning, directly pass antialias=True (recommended, future default), antialias=None (current default, which means False for Tensors and True for PIL), or antialias=False (only works on Tensors - PIL will still use antialiasing). This also applies if you are using the inference transforms from the models weights: update the call to weights.transforms(antialias=True).\n",
      "  warnings.warn(\n",
      "/Users/nadja/miniconda3/envs/torchvision/lib/python3.11/site-packages/torch/nn/modules/module.py:1511: UserWarning: Implicit dimension choice for log_softmax has been deprecated. Change the call to include dim=X as an argument.\n",
      "  return self._call_impl(*args, **kwargs)\n"
     ]
    },
    {
     "name": "stdout",
     "output_type": "stream",
     "text": [
      "Training accuracy:... 0.5\n",
      "Validation accuracy.. 0.0\n"
     ]
    }
   ],
   "source": [
    "model.eval()\n",
    "count = 0\n",
    "val_running_loss = 0.0\n",
    "for batch_idx, (images, labels) in enumerate(val_loader):        \n",
    "    images = Variable(transforms(images))\n",
    "    labels = Variable(labels.long())\n",
    "    \n",
    "    outputs = model(images)\n",
    "    loss = loss_function(outputs, labels)\n",
    "\n",
    "    val_acc.append(accuracy(outputs, labels))\n",
    "\n",
    "    if batch_idx == 4:\n",
    "        break\n",
    "\n",
    "print('Training accuracy:...', np.mean(train_acc))\n",
    "print('Validation accuracy..', np.mean(val_acc))"
   ]
  },
  {
   "cell_type": "code",
   "execution_count": 8,
   "metadata": {},
   "outputs": [
    {
     "data": {
      "text/plain": [
       "tensor([[-0.6856, -0.7007],\n",
       "        [-0.6931, -0.6931]], grad_fn=<LogSoftmaxBackward0>)"
      ]
     },
     "execution_count": 8,
     "metadata": {},
     "output_type": "execute_result"
    }
   ],
   "source": [
    "outputs"
   ]
  },
  {
   "cell_type": "markdown",
   "metadata": {},
   "source": [
    "#### THIS TRAINING LOOP BELOW RUNS, BUT OUTPUTS ARE IDENTICAL FOR ALL IMAGES FOR ALL CLASSES..\n"
   ]
  },
  {
   "cell_type": "code",
   "execution_count": 38,
   "metadata": {},
   "outputs": [
    {
     "name": "stderr",
     "output_type": "stream",
     "text": [
      "/Users/nadja/miniconda3/envs/torchvision/lib/python3.11/site-packages/torchvision/transforms/functional.py:1603: UserWarning: The default value of the antialias parameter of all the resizing transforms (Resize(), RandomResizedCrop(), etc.) will change from None to True in v0.17, in order to be consistent across the PIL and Tensor backends. To suppress this warning, directly pass antialias=True (recommended, future default), antialias=None (current default, which means False for Tensors and True for PIL), or antialias=False (only works on Tensors - PIL will still use antialiasing). This also applies if you are using the inference transforms from the models weights: update the call to weights.transforms(antialias=True).\n",
      "  warnings.warn(\n",
      "/Users/nadja/miniconda3/envs/torchvision/lib/python3.11/site-packages/torch/nn/modules/module.py:1511: UserWarning: Implicit dimension choice for log_softmax has been deprecated. Change the call to include dim=X as an argument.\n",
      "  return self._call_impl(*args, **kwargs)\n"
     ]
    },
    {
     "name": "stdout",
     "output_type": "stream",
     "text": [
      "tensor([[-4.6492e-06, -1.2277e+01],\n",
      "        [-3.4809e-05, -1.0266e+01]], grad_fn=<LogSoftmaxBackward0>)\n",
      "batch 0 has been trained.\n",
      "tensor([[  0.0000, -56.2124],\n",
      "        [  0.0000, -64.9888]], grad_fn=<LogSoftmaxBackward0>)\n",
      "batch 1 has been trained.\n",
      "tensor([[ 0.0000e+00, -1.7727e+01],\n",
      "        [-2.1458e-06, -1.3079e+01]], grad_fn=<LogSoftmaxBackward0>)\n",
      "batch 2 has been trained.\n",
      "tensor([[-0.6846, -0.7018],\n",
      "        [-0.6931, -0.6931]], grad_fn=<LogSoftmaxBackward0>)\n",
      "batch 3 has been trained.\n",
      "tensor([[-0.6931, -0.6931],\n",
      "        [-0.6931, -0.6931]], grad_fn=<LogSoftmaxBackward0>)\n",
      "batch 4 has been trained.\n",
      "tensor([[-0.6931, -0.6931],\n",
      "        [-0.6931, -0.6931]], grad_fn=<LogSoftmaxBackward0>)\n",
      "batch 5 has been trained.\n",
      "tensor([[-0.6931, -0.6931],\n",
      "        [-0.6931, -0.6931]], grad_fn=<LogSoftmaxBackward0>)\n",
      "batch 6 has been trained.\n",
      "tensor([[-0.6931, -0.6931],\n",
      "        [-0.6931, -0.6931]], grad_fn=<LogSoftmaxBackward0>)\n",
      "batch 7 has been trained.\n",
      "tensor([[-0.6931, -0.6931],\n",
      "        [-0.7491, -0.6401]], grad_fn=<LogSoftmaxBackward0>)\n",
      "batch 8 has been trained.\n",
      "tensor([[-0.6931, -0.6931],\n",
      "        [-0.6931, -0.6931]], grad_fn=<LogSoftmaxBackward0>)\n",
      "batch 9 has been trained.\n",
      "tensor([[-0.6931, -0.6931],\n",
      "        [-0.6931, -0.6931]], grad_fn=<LogSoftmaxBackward0>)\n",
      "batch 10 has been trained.\n"
     ]
    }
   ],
   "source": [
    "######################\n",
    "# Define training loop\n",
    "######################\n",
    "\n",
    "# define model training parameters\n",
    "# optimizer = optim.Adam(model.parameters(), lr=0.01, weight_decay=0.0001)\n",
    "optimizer = optim.Adam(model.parameters(), lr=0.0001)\n",
    "loss_function = nn.CrossEntropyLoss()\n",
    "num_epochs = 1\n",
    "device = torch.device('cuda' if torch.cuda.is_available() else 'cpu')\n",
    "\n",
    "# define weights information \n",
    "weights = models.VGG19_Weights.DEFAULT\n",
    "transforms = weights.transforms()\n",
    "\n",
    "# Finetuning loop\n",
    "for epoch in range(num_epochs):\n",
    "\n",
    "    train_acc = []\n",
    "    val_acc = []\n",
    "\n",
    "    model.train()\n",
    "    for batch_idx, (data, targets) in enumerate(train_loader):\n",
    "        data, targets = data.to(device), targets.to(device)\n",
    "        transformed_batch = transforms(data)\n",
    "\n",
    "        optimizer.zero_grad()\n",
    "        \n",
    "        outputs = model(transformed_batch)\n",
    "        print(outputs)\n",
    "        loss = loss_function(outputs, targets.long())\n",
    "        batch_accuracy = accuracy(outputs, targets.long())\n",
    "        train_acc.append(batch_accuracy)\n",
    "\n",
    "        loss.backward()\n",
    "        optimizer.step()\n",
    "\n",
    "        print(f\"batch {batch_idx} has been trained.\")\n",
    "\n",
    "        if batch_idx == 10:\n",
    "            break \n"
   ]
  },
  {
   "cell_type": "code",
   "execution_count": 20,
   "metadata": {},
   "outputs": [
    {
     "data": {
      "text/plain": [
       "tensor([[[[365.7380, 404.7867, 410.8636,  ..., 198.4825, 181.4247, 176.1751],\n",
       "          [339.8197, 379.0304, 388.6787,  ..., 208.7172, 191.6594, 179.0089],\n",
       "          [340.8858, 354.5630, 361.5461,  ..., 218.9520, 201.8941, 185.0857],\n",
       "          ...,\n",
       "          [400.5254, 416.1494, 417.4287,  ..., 443.6871, 446.7789, 442.7607],\n",
       "          [390.4506, 400.3708, 422.9725,  ..., 446.7789, 444.5400, 449.7437],\n",
       "          [379.7937, 384.5092, 415.9596,  ..., 468.1236, 454.3174, 446.2906]],\n",
       "\n",
       "         [[435.4686, 476.9191, 485.2570,  ..., 260.2748, 245.7245, 244.7763],\n",
       "          [406.2469, 448.7176, 459.1808,  ..., 275.8323, 255.5054, 246.9103],\n",
       "          [402.4868, 417.3281, 427.7913,  ..., 286.4589, 268.8568, 254.4852],\n",
       "          ...,\n",
       "          [460.3644, 478.9660, 480.4374,  ..., 462.4494, 465.7737, 461.7018],\n",
       "          [448.7024, 459.9470, 485.9414,  ..., 462.2859, 462.8854, 468.8407],\n",
       "          [435.8501, 443.0959, 478.7360,  ..., 480.6553, 470.0287, 465.9055]],\n",
       "\n",
       "         [[374.9197, 417.2440, 425.5447,  ..., 253.3225, 241.5495, 241.7947],\n",
       "          [344.9414, 389.6691, 398.8922,  ..., 267.0128, 251.9304, 242.7301],\n",
       "          [344.6702, 360.6978, 364.4955,  ..., 280.5762, 260.0684, 247.5586],\n",
       "          ...,\n",
       "          [399.6279, 423.3811, 425.1715,  ..., 398.7913, 405.2474, 399.4315],\n",
       "          [385.3050, 398.6958, 430.3256,  ..., 401.7752, 400.0934, 407.2982],\n",
       "          [371.4475, 375.2377, 417.6639,  ..., 423.5905, 411.6548, 403.3583]]],\n",
       "\n",
       "\n",
       "        [[[205.2012, 201.3280, 193.1722,  ..., 364.9886, 373.3043, 381.4952],\n",
       "          [210.5670, 201.7502, 192.1018,  ..., 377.2201, 380.1519, 387.4079],\n",
       "          [220.2153, 205.7481, 198.7650,  ..., 374.6081, 390.8664, 394.8174],\n",
       "          ...,\n",
       "          [305.4694, 310.2766, 320.0315,  ..., 281.7345, 281.8944, 279.7675],\n",
       "          [308.8810, 311.9290, 313.6881,  ..., 281.8944, 284.7196, 291.4948],\n",
       "          [306.9705, 310.0889, 312.1678,  ..., 268.9987, 278.6470, 285.5096]],\n",
       "\n",
       "         [[264.1637, 261.7343, 255.5217,  ..., 391.3315, 403.3205, 411.3990],\n",
       "          [271.4792, 265.1860, 255.3223,  ..., 403.8361, 410.3210, 417.1886],\n",
       "          [284.8306, 272.7609, 265.6219,  ..., 401.1658, 421.2747, 431.1395],\n",
       "          ...,\n",
       "          [345.5388, 352.2788, 358.7638,  ..., 336.8609, 333.8636, 333.5868],\n",
       "          [351.1518, 353.9682, 352.2788,  ..., 333.8636, 339.0407, 346.9382],\n",
       "          [350.2614, 349.8341, 350.5971,  ..., 319.9846, 333.3361, 341.1192]],\n",
       "\n",
       "         [[288.1424, 285.2583, 276.9575,  ..., 374.6181, 384.4380, 397.4317],\n",
       "          [290.2583, 285.1867, 276.5604,  ..., 384.4857, 390.9419, 402.7301],\n",
       "          [292.3742, 286.9771, 286.4888,  ..., 381.8273, 401.8468, 414.5031],\n",
       "          ...,\n",
       "          [330.8920, 339.0940, 352.3318,  ..., 330.9527, 324.8221, 321.1459],\n",
       "          [336.4801, 340.1791, 342.5662,  ..., 328.2943, 335.7271, 341.3824],\n",
       "          [335.0011, 338.1750, 340.2908,  ..., 314.2947, 326.8273, 335.0011]]]])"
      ]
     },
     "execution_count": 20,
     "metadata": {},
     "output_type": "execute_result"
    }
   ],
   "source": [
    "transformed_batch"
   ]
  },
  {
   "cell_type": "code",
   "execution_count": null,
   "metadata": {},
   "outputs": [],
   "source": [
    "    model.eval()\n",
    "    for batch_idx, (data, targets) in enumerate(val_loader):\n",
    "        data, targets = data.to(device), targets.to(device)\n",
    "        transformed_batch = transforms(data)\n",
    "        outputs = model(transformed_batch)\n",
    "        val_acc.append(accuracy(outputs, targets.long()))\n",
    "\n",
    "        if batch_idx == 2:\n",
    "            break \n",
    "        \n",
    "    print('Training accuracy:...', np.mean(train_acc))\n",
    "    print('Validation accuracy..', np.mean(val_acc))"
   ]
  },
  {
   "cell_type": "code",
   "execution_count": 17,
   "metadata": {},
   "outputs": [
    {
     "data": {
      "text/plain": [
       "tensor([[-0.6931, -0.6931],\n",
       "        [-0.6931, -0.6931]], grad_fn=<LogSoftmaxBackward0>)"
      ]
     },
     "execution_count": 17,
     "metadata": {},
     "output_type": "execute_result"
    }
   ],
   "source": [
    "outputs"
   ]
  },
  {
   "cell_type": "markdown",
   "metadata": {},
   "source": [
    "### Below is simply copied from CAM github \n",
    "\n",
    "https://github.com/tony-mtz/CAM/blob/master/CAM.ipynb"
   ]
  },
  {
   "cell_type": "code",
   "execution_count": 6,
   "metadata": {},
   "outputs": [
    {
     "name": "stderr",
     "output_type": "stream",
     "text": [
      "/Users/nadja/miniconda3/envs/torchvision/lib/python3.11/site-packages/torchvision/io/image.py:13: UserWarning: Failed to load image Python extension: 'dlopen(/Users/nadja/miniconda3/envs/torchvision/lib/python3.11/site-packages/torchvision/image.so, 0x0006): Symbol not found: __ZN3c1017RegisterOperatorsD1Ev\n",
      "  Referenced from: <E03EDA44-89AE-3115-9796-62BA9E0E2EDE> /Users/nadja/miniconda3/envs/torchvision/lib/python3.11/site-packages/torchvision/image.so\n",
      "  Expected in:     <F75BB06B-2723-344D-99CE-9CB8BB94077A> /Users/nadja/miniconda3/envs/torchvision/lib/python3.11/site-packages/torch/lib/libtorch_cpu.dylib'If you don't plan on using image functionality from `torchvision.io`, you can ignore this warning. Otherwise, there might be something wrong with your environment. Did you have `libjpeg` or `libpng` installed before building `torchvision` from source?\n",
      "  warn(\n"
     ]
    },
    {
     "name": "stdout",
     "output_type": "stream",
     "text": [
      "result: no palsa 0\n"
     ]
    },
    {
     "name": "stderr",
     "output_type": "stream",
     "text": [
      "/Users/nadja/miniconda3/envs/torchvision/lib/python3.11/site-packages/torch/nn/modules/module.py:1511: UserWarning: Implicit dimension choice for log_softmax has been deprecated. Change the call to include dim=X as an argument.\n",
      "  return self._call_impl(*args, **kwargs)\n"
     ]
    }
   ],
   "source": [
    "\n",
    "from torch.autograd import Variable\n",
    "import pandas as pd\n",
    "import numpy as np\n",
    "import matplotlib.pyplot as plt\n",
    "%matplotlib inline\n",
    "\n",
    "from skimage.transform import resize\n",
    "from skimage.io import imshow\n",
    "\n",
    "#change batch size to 1 to grab one image at a time\n",
    "valid_loader = torch.utils.data.DataLoader(val_dataset, batch_size=1, \n",
    "                                          shuffle=True,\n",
    "                                          num_workers=1)\n",
    "\n",
    "#get the last convolution\n",
    "sf = SaveFeatures(model.features[-3])\n",
    "\n",
    "#get image and label\n",
    "im, lab = next(iter(valid_loader))\n",
    "# print(im.shape)\n",
    "\n",
    "# im = Variable(im.cuda())\n",
    "# lab = Variable(lab.cuda())\n",
    "im = Variable(im)\n",
    "lab = Variable(lab)\n",
    "outputs = model(im)\n",
    "\n",
    "#[ant, bee]\n",
    "# res = torch.argmax(outputs.data).cpu().detach().numpy()\n",
    "res = torch.argmax(outputs.data).numpy()\n",
    "\n",
    "\n",
    "if res==1:\n",
    "    print('result: palsa',res)\n",
    "else:\n",
    "    print('result: no palsa',res)"
   ]
  },
  {
   "cell_type": "code",
   "execution_count": 7,
   "metadata": {},
   "outputs": [
    {
     "data": {
      "text/plain": [
       "<matplotlib.image.AxesImage at 0x1331d5010>"
      ]
     },
     "execution_count": 7,
     "metadata": {},
     "output_type": "execute_result"
    },
    {
     "data": {
      "image/png": "[encoded data removed]",
      "text/plain": [
       "<Figure size 640x480 with 1 Axes>"
      ]
     },
     "metadata": {},
     "output_type": "display_data"
    }
   ],
   "source": [
    "sf.remove()\n",
    "arr = sf.features.cpu().detach().numpy()\n",
    "arr1 = arr[0]\n",
    "ans_ant = np.dot(np.rollaxis(arr1,0,3), [1,0])\n",
    "ans_bee = np.dot(np.rollaxis(arr1,0,3), [0,1])\n",
    "#ant activation\n",
    "imshow(ans_ant, cmap='jet')"
   ]
  },
  {
   "cell_type": "code",
   "execution_count": 8,
   "metadata": {},
   "outputs": [
    {
     "data": {
      "text/plain": [
       "<matplotlib.image.AxesImage at 0x13389ac10>"
      ]
     },
     "execution_count": 8,
     "metadata": {},
     "output_type": "execute_result"
    },
    {
     "data": {
      "image/png": "[encoded data removed]",
      "text/plain": [
       "<Figure size 640x480 with 1 Axes>"
      ]
     },
     "metadata": {},
     "output_type": "display_data"
    }
   ],
   "source": [
    "imshow(ans_bee, cmap='jet')\n"
   ]
  },
  {
   "cell_type": "code",
   "execution_count": 9,
   "metadata": {},
   "outputs": [
    {
     "data": {
      "image/png": "[encoded data removed]",
      "text/plain": [
       "<Figure size 640x480 with 1 Axes>"
      ]
     },
     "metadata": {},
     "output_type": "display_data"
    }
   ],
   "source": [
    "bee_ant = imshow_transform(im)\n"
   ]
  },
  {
   "cell_type": "code",
   "execution_count": 10,
   "metadata": {},
   "outputs": [
    {
     "data": {
      "text/plain": [
       "<Figure size 640x480 with 0 Axes>"
      ]
     },
     "metadata": {},
     "output_type": "display_data"
    },
    {
     "data": {
      "image/png": "[encoded data removed]",
      "text/plain": [
       "<Figure size 400x400 with 1 Axes>"
      ]
     },
     "metadata": {},
     "output_type": "display_data"
    }
   ],
   "source": [
    "from skimage.transform import resize\n",
    "bee_cam = resize(ans_bee, (224,224))\n",
    "\n",
    "plt.figure()\n",
    "plt.subplots(figsize=(4,4))\n",
    "plt.imshow(bee_ant)\n",
    "plt.imshow(bee_cam, alpha=.4, cmap='jet')\n",
    "plt.show()"
   ]
  }
 ],
 "metadata": {
  "kernelspec": {
   "display_name": "torchvision",
   "language": "python",
   "name": "python3"
  },
  "language_info": {
   "codemirror_mode": {
    "name": "ipython",
    "version": 3
   },
   "file_extension": ".py",
   "mimetype": "text/x-python",
   "name": "python",
   "nbconvert_exporter": "python",
   "pygments_lexer": "ipython3",
   "version": "3.12.3"
  }
 },
 "nbformat": 4,
 "nbformat_minor": 2
}
