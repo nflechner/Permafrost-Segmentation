{
 "cells": [
  {
   "cell_type": "markdown",
   "metadata": {},
   "source": [
    "### CODE FOR CALCULATING DATASET-WIDE MEAN AND STD "
   ]
  },
  {
   "cell_type": "code",
   "execution_count": 74,
   "metadata": {},
   "outputs": [],
   "source": [
    "#######\n",
    "# RGB #\n",
    "#######\n",
    "\n",
    "import os\n",
    "import rasterio \n",
    "import numpy as np\n",
    "\n",
    "dir = \"/Users/nadja/Documents/UU/Thesis/Data/TINYsampleFINAL/tinydataset/rgb/\"\n",
    "all_rgb = os.listdir(dir)\n",
    "all_rgb = [file for file in all_rgb if not file.endswith('aug.tif')]\n",
    "\n",
    "img_means_sum = np.array([0.0,0.0,0.0])\n",
    "\n",
    "for img in all_rgb:\n",
    "    with rasterio.open(os.path.join(dir, img)) as img:\n",
    "        img = img.read()\n",
    "    img_means_sum += img.mean(axis=(1,2))\n",
    "\n",
    "means = img_means_sum / len(all_rgb)"
   ]
  },
  {
   "cell_type": "code",
   "execution_count": 78,
   "metadata": {},
   "outputs": [],
   "source": [
    "##########\n",
    "# hs/dem #\n",
    "##########\n",
    "\n",
    "import os\n",
    "import rasterio \n",
    "import numpy as np\n",
    "\n",
    "dir = \"/Users/nadja/Documents/UU/Thesis/Data/TINYsampleFINAL/tinydataset/dem/\"\n",
    "all_rgb = os.listdir(dir)\n",
    "all_rgb = [file for file in all_rgb if not file.endswith('aug.tif')]\n",
    "\n",
    "img_means_sum = np.array([0.0])\n",
    "\n",
    "for img in all_rgb:\n",
    "    with rasterio.open(os.path.join(dir, img)) as img:\n",
    "        img = img.read()\n",
    "    img_means_sum += img.mean()\n",
    "\n",
    "means = img_means_sum / len(all_rgb)"
   ]
  },
  {
   "cell_type": "markdown",
   "metadata": {},
   "source": [
    "### Messing around "
   ]
  },
  {
   "cell_type": "markdown",
   "metadata": {},
   "source": []
  }
 ],
 "metadata": {
  "kernelspec": {
   "display_name": "palsa_env_torch",
   "language": "python",
   "name": "python3"
  },
  "language_info": {
   "codemirror_mode": {
    "name": "ipython",
    "version": 3
   },
   "file_extension": ".py",
   "mimetype": "text/x-python",
   "name": "python",
   "nbconvert_exporter": "python",
   "pygments_lexer": "ipython3",
   "version": "3.12.2"
  }
 },
 "nbformat": 4,
 "nbformat_minor": 2
}
