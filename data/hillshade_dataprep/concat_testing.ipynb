{
 "cells": [
  {
   "cell_type": "code",
   "execution_count": 1,
   "metadata": {},
   "outputs": [],
   "source": [
    "import geopandas as gpd\n",
    "import numpy as np \n",
    "import pandas"
   ]
  },
  {
   "cell_type": "code",
   "execution_count": 2,
   "metadata": {},
   "outputs": [],
   "source": [
    "import rasterio\n",
    "img = rasterio.open(\"/Users/nadja/Downloads/DEM_1m/758_65_5075_2010.tif\")\n"
   ]
  },
  {
   "cell_type": "code",
   "execution_count": 6,
   "metadata": {},
   "outputs": [
    {
     "data": {
      "text/plain": [
       "2500.0"
      ]
     },
     "execution_count": 6,
     "metadata": {},
     "output_type": "execute_result"
    }
   ],
   "source": [
    "img.bounds.right - img.bounds.left\n"
   ]
  },
  {
   "cell_type": "code",
   "execution_count": 18,
   "metadata": {},
   "outputs": [],
   "source": [
    "def RGB_name_from_DEM(DEM_name):\n",
    "    DEM_name = DEM_name[:-9] # remove _year.tif\n",
    "    north_kms = 0 if int(DEM_name[7:9]) < 50 else 5\n",
    "    east_kms = 0 if int(DEM_name[9:11]) < 50 else 5\n",
    "    RGB_name = f\"{DEM_name[:7]}{north_kms}{east_kms}\"\n",
    "    return RGB_name\n"
   ]
  },
  {
   "cell_type": "code",
   "execution_count": 19,
   "metadata": {},
   "outputs": [
    {
     "data": {
      "text/plain": [
       "'758_65_55'"
      ]
     },
     "execution_count": 19,
     "metadata": {},
     "output_type": "execute_result"
    }
   ],
   "source": [
    "name = \"758_65_5075_2010.tif\"\n",
    "\n",
    "RGB_name_from_DEM(name)\n"
   ]
  },
  {
   "cell_type": "code",
   "execution_count": 15,
   "metadata": {},
   "outputs": [
    {
     "data": {
      "text/plain": [
       "'758_65_'"
      ]
     },
     "execution_count": 15,
     "metadata": {},
     "output_type": "execute_result"
    }
   ],
   "source": [
    "name[:7]\n"
   ]
  },
  {
   "cell_type": "code",
   "execution_count": null,
   "metadata": {},
   "outputs": [],
   "source": [
    "def tif_from_ruta(ruta_geometry):\n",
    "    minx_ruta = ruta_geometry.bounds[0]\n",
    "    miny_ruta = ruta_geometry.bounds[1]\n",
    "\n",
    "    miny = str(miny_ruta)[0:3]\n",
    "    minx = str(minx_ruta)[0:2]\n",
    "    km_siffran_y = 0 if int(str(miny_ruta)[3]) < 5 else 5\n",
    "    km_siffran_x = 0 if int(str(minx_ruta)[2]) < 5 else 5\n",
    "    year = 2018\n",
    "\n",
    "    filename = f\"{miny}_{minx}_{km_siffran_y}{km_siffran_x}_{year}.tif\"\n",
    "    return filename"
   ]
  },
  {
   "cell_type": "code",
   "execution_count": null,
   "metadata": {},
   "outputs": [],
   "source": [
    "def keep_newest(original_tif_dir):\n",
    "    \"\"\"\n",
    "    IN: directory of RGB tifs (with duplicates from various years)\n",
    "    OUT: list of only the newest tif per place\n",
    "    \"\"\"\n",
    "\n",
    "    dir_files = os.listdir(original_tif_dir)\n",
    "\n",
    "    newest_filenames = []\n",
    "    for filename in dir_files:\n",
    "\n",
    "    return intersection"
   ]
  },
  {
   "cell_type": "code",
   "execution_count": 13,
   "metadata": {},
   "outputs": [],
   "source": [
    "def get_RGB_match(DEM_name, all_RGB_files):\n",
    "\n",
    "    # Find the base name matching the DEM file\n",
    "    DEM_name = DEM_name[:-9] # remove _year.tif\n",
    "    north_kms = 0 if int(DEM_name[7:9]) < 50 else 5\n",
    "    east_kms = 0 if int(DEM_name[9:11]) < 50 else 5\n",
    "    RGB_name = f\"{DEM_name[:7]}{north_kms}{east_kms}\"\n",
    "\n",
    "    # all_RGB_files = os.listdir(original_tif_dir)\n",
    "\n",
    "    newest_match = f\"{RGB_name}_0000\"\n",
    "    for file in all_RGB_files: \n",
    "        if file[:9] == RGB_name and int(file[10:14]) > int(newest_match[10:14]):\n",
    "            newest_match = file\n",
    "    return newest_match"
   ]
  },
  {
   "cell_type": "code",
   "execution_count": 14,
   "metadata": {},
   "outputs": [
    {
     "data": {
      "text/plain": [
       "'758_65_50_2018.tif'"
      ]
     },
     "execution_count": 14,
     "metadata": {},
     "output_type": "execute_result"
    }
   ],
   "source": [
    "DEM = \"758_65_7525_2018.tif\"\n",
    "lissie = [\"758_65_50_2010.tif\",\n",
    "          \"758_65_50_2012.tif\",\n",
    "          \"758_65_50_2018.tif\",\n",
    "        ]\n",
    "\n",
    "get_RGB_match(DEM, lissie)"
   ]
  },
  {
   "cell_type": "code",
   "execution_count": 12,
   "metadata": {},
   "outputs": [
    {
     "data": {
      "text/plain": [
       "'2012'"
      ]
     },
     "execution_count": 12,
     "metadata": {},
     "output_type": "execute_result"
    }
   ],
   "source": [
    "file = lissie[1]\n",
    "file[10:14]"
   ]
  },
  {
   "cell_type": "code",
   "execution_count": 4,
   "metadata": {},
   "outputs": [
    {
     "ename": "NameError",
     "evalue": "name 'newest_match' is not defined",
     "output_type": "error",
     "traceback": [
      "\u001b[0;31m---------------------------------------------------------------------------\u001b[0m",
      "\u001b[0;31mNameError\u001b[0m                                 Traceback (most recent call last)",
      "Cell \u001b[0;32mIn[4], line 1\u001b[0m\n\u001b[0;32m----> 1\u001b[0m \u001b[38;5;28mint\u001b[39m(newest_match[\u001b[38;5;241m12\u001b[39m:\u001b[38;5;241m16\u001b[39m])\n",
      "\u001b[0;31mNameError\u001b[0m: name 'newest_match' is not defined"
     ]
    }
   ],
   "source": [
    "int(newest_match[12:16])"
   ]
  },
  {
   "cell_type": "code",
   "execution_count": null,
   "metadata": {},
   "outputs": [],
   "source": []
  }
 ],
 "metadata": {
  "kernelspec": {
   "display_name": "palsa_env",
   "language": "python",
   "name": "python3"
  },
  "language_info": {
   "codemirror_mode": {
    "name": "ipython",
    "version": 3
   },
   "file_extension": ".py",
   "mimetype": "text/x-python",
   "name": "python",
   "nbconvert_exporter": "python",
   "pygments_lexer": "ipython3",
   "version": "3.12.2"
  }
 },
 "nbformat": 4,
 "nbformat_minor": 2
}
