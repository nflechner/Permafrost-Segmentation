{
 "cells": [
  {
   "cell_type": "code",
   "execution_count": 1,
   "metadata": {},
   "outputs": [],
   "source": [
    "import geopandas as gpd\n",
    "import numpy as np \n",
    "import pandas"
   ]
  },
  {
   "cell_type": "code",
   "execution_count": 2,
   "metadata": {},
   "outputs": [],
   "source": [
    "import rasterio\n",
    "img = rasterio.open(\"/Users/nadja/Downloads/DEM_1m/758_65_5075_2010.tif\")\n"
   ]
  },
  {
   "cell_type": "code",
   "execution_count": 6,
   "metadata": {},
   "outputs": [
    {
     "data": {
      "text/plain": [
       "2500.0"
      ]
     },
     "execution_count": 6,
     "metadata": {},
     "output_type": "execute_result"
    }
   ],
   "source": [
    "img.bounds.right - img.bounds.left\n"
   ]
  },
  {
   "cell_type": "code",
   "execution_count": 18,
   "metadata": {},
   "outputs": [],
   "source": [
    "def RGB_name_from_DEM(DEM_name):\n",
    "    DEM_name = DEM_name[:-9] # remove _year.tif\n",
    "    north_kms = 0 if int(DEM_name[7:9]) < 50 else 5\n",
    "    east_kms = 0 if int(DEM_name[9:11]) < 50 else 5\n",
    "    RGB_name = f\"{DEM_name[:7]}{north_kms}{east_kms}\"\n",
    "    return RGB_name\n"
   ]
  },
  {
   "cell_type": "code",
   "execution_count": 19,
   "metadata": {},
   "outputs": [
    {
     "data": {
      "text/plain": [
       "'758_65_55'"
      ]
     },
     "execution_count": 19,
     "metadata": {},
     "output_type": "execute_result"
    }
   ],
   "source": [
    "name = \"758_65_5075_2010.tif\"\n",
    "\n",
    "RGB_name_from_DEM(name)\n"
   ]
  },
  {
   "cell_type": "code",
   "execution_count": 15,
   "metadata": {},
   "outputs": [
    {
     "data": {
      "text/plain": [
       "'758_65_'"
      ]
     },
     "execution_count": 15,
     "metadata": {},
     "output_type": "execute_result"
    }
   ],
   "source": [
    "name[:7]\n"
   ]
  },
  {
   "cell_type": "code",
   "execution_count": null,
   "metadata": {},
   "outputs": [],
   "source": [
    "def tif_from_ruta(ruta_geometry):\n",
    "    minx_ruta = ruta_geometry.bounds[0]\n",
    "    miny_ruta = ruta_geometry.bounds[1]\n",
    "\n",
    "    miny = str(miny_ruta)[0:3]\n",
    "    minx = str(minx_ruta)[0:2]\n",
    "    km_siffran_y = 0 if int(str(miny_ruta)[3]) < 5 else 5\n",
    "    km_siffran_x = 0 if int(str(minx_ruta)[2]) < 5 else 5\n",
    "    year = 2018\n",
    "\n",
    "    filename = f\"{miny}_{minx}_{km_siffran_y}{km_siffran_x}_{year}.tif\"\n",
    "    return filename"
   ]
  },
  {
   "cell_type": "code",
   "execution_count": null,
   "metadata": {},
   "outputs": [],
   "source": [
    "def keep_newest(original_tif_dir):\n",
    "    \"\"\"\n",
    "    IN: directory of RGB tifs (with duplicates from various years)\n",
    "    OUT: list of only the newest tif per place\n",
    "    \"\"\"\n",
    "\n",
    "    dir_files = os.listdir(original_tif_dir)\n",
    "\n",
    "    newest_filenames = []\n",
    "    for filename in dir_files:\n",
    "\n",
    "    return intersection"
   ]
  },
  {
   "cell_type": "code",
   "execution_count": 13,
   "metadata": {},
   "outputs": [],
   "source": [
    "def get_RGB_match(DEM_name, all_RGB_files):\n",
    "\n",
    "    # Find the base name matching the DEM file\n",
    "    DEM_name = DEM_name[:-9] # remove _year.tif\n",
    "    north_kms = 0 if int(DEM_name[7:9]) < 50 else 5\n",
    "    east_kms = 0 if int(DEM_name[9:11]) < 50 else 5\n",
    "    RGB_name = f\"{DEM_name[:7]}{north_kms}{east_kms}\"\n",
    "\n",
    "    # all_RGB_files = os.listdir(original_tif_dir)\n",
    "\n",
    "    newest_match = f\"{RGB_name}_0000\"\n",
    "    for file in all_RGB_files: \n",
    "        if file[:9] == RGB_name and int(file[10:14]) > int(newest_match[10:14]):\n",
    "            newest_match = file\n",
    "    return newest_match"
   ]
  },
  {
   "cell_type": "code",
   "execution_count": 14,
   "metadata": {},
   "outputs": [
    {
     "data": {
      "text/plain": [
       "'758_65_50_2018.tif'"
      ]
     },
     "execution_count": 14,
     "metadata": {},
     "output_type": "execute_result"
    }
   ],
   "source": [
    "DEM = \"758_65_7525_2018.tif\"\n",
    "lissie = [\"758_65_50_2010.tif\",\n",
    "          \"758_65_50_2012.tif\",\n",
    "          \"758_65_50_2018.tif\",\n",
    "        ]\n",
    "\n",
    "get_RGB_match(DEM, lissie)"
   ]
  },
  {
   "cell_type": "code",
   "execution_count": 12,
   "metadata": {},
   "outputs": [
    {
     "data": {
      "text/plain": [
       "'2012'"
      ]
     },
     "execution_count": 12,
     "metadata": {},
     "output_type": "execute_result"
    }
   ],
   "source": [
    "file = lissie[1]\n",
    "file[10:14]"
   ]
  },
  {
   "cell_type": "code",
   "execution_count": 4,
   "metadata": {},
   "outputs": [
    {
     "ename": "NameError",
     "evalue": "name 'newest_match' is not defined",
     "output_type": "error",
     "traceback": [
      "\u001b[0;31m---------------------------------------------------------------------------\u001b[0m",
      "\u001b[0;31mNameError\u001b[0m                                 Traceback (most recent call last)",
      "Cell \u001b[0;32mIn[4], line 1\u001b[0m\n\u001b[0;32m----> 1\u001b[0m \u001b[38;5;28mint\u001b[39m(newest_match[\u001b[38;5;241m12\u001b[39m:\u001b[38;5;241m16\u001b[39m])\n",
      "\u001b[0;31mNameError\u001b[0m: name 'newest_match' is not defined"
     ]
    }
   ],
   "source": [
    "int(newest_match[12:16])"
   ]
  },
  {
   "cell_type": "code",
   "execution_count": 15,
   "metadata": {},
   "outputs": [],
   "source": [
    "import os \n",
    "import geopandas as gpd\n",
    "\n",
    "\n",
    "def filter_imgs(all_rutor_path, original_tif_dir):\n",
    "    all_rutor = gpd.read_file(all_rutor_path)\n",
    "    all_rutor['in_tif'] = all_rutor['geometry'].map(tif_from_ruta)\n",
    "    uniques = all_rutor.in_tif.unique()\n",
    "\n",
    "    dir_files = os.listdir(original_tif_dir)\n",
    "    only_tifs = [filename for filename in dir_files if filename[-4:] == \".tif\"]\n",
    "\n",
    "    only_tifs_noyear = [filename[:-8] for filename in only_tifs]\n",
    "    uniques_noyear = [filename[:-8] for filename in list(uniques)]\n",
    "\n",
    "    # check that all uniques are in only tifs\n",
    "    if not (set(list(uniques_noyear)).issubset(set(only_tifs_noyear))):\n",
    "        # logger.WARN(f\"at least one tif name generated from all_rutor was not found in the directory: {original_tif_dir}\")\n",
    "        print(f\"at least one tif name generated from all_rutor was not found in the directory\")\n",
    "        items_not_in_dir = [item for item in list(uniques) if item not in only_tifs]\n",
    "        print(f\"items not in directory are: \\n {items_not_in_dir}\")\n",
    "\n",
    "    intersection = list(set(uniques_noyear) & set(only_tifs_noyear))\n",
    "\n",
    "    tifs_to_use = [filename for filename in only_tifs if filename[:-8] in intersection]\n",
    "\n",
    "    return tifs_to_use"
   ]
  },
  {
   "cell_type": "code",
   "execution_count": 16,
   "metadata": {},
   "outputs": [],
   "source": [
    "def tif_from_ruta(ruta_geometry):\n",
    "    minx_ruta = ruta_geometry.bounds[0]\n",
    "    miny_ruta = ruta_geometry.bounds[1]\n",
    "\n",
    "    miny = str(miny_ruta)[0:3]\n",
    "    minx = str(minx_ruta)[0:2]\n",
    "\n",
    "    if 0 <= int(str(miny_ruta)[3:5]) < 25:\n",
    "        km_siffran_y = 00\n",
    "    elif 25 <= int(str(miny_ruta)[3:5]) < 50:\n",
    "        km_siffran_y = 25\n",
    "    elif 50 <= int(str(miny_ruta)[3:5]) < 75:\n",
    "        km_siffran_y = 50\n",
    "    elif 75 <= int(str(miny_ruta)[3:5]) < 100:\n",
    "        km_siffran_y = 75\n",
    "\n",
    "    if 0 <= int(str(minx_ruta)[3:5]) < 25:\n",
    "        km_siffran_x = 00\n",
    "    elif 25 <= int(str(minx_ruta)[3:5]) < 50:\n",
    "        km_siffran_x = 25\n",
    "    elif 50 <= int(str(minx_ruta)[3:5]) < 75:\n",
    "        km_siffran_x = 50\n",
    "    elif 75 <= int(str(minx_ruta)[3:5]) < 100:\n",
    "        km_siffran_x = 75\n",
    "\n",
    "    year = 2018 # WHICH YEAR SHOULD IT BE??\n",
    "\n",
    "    filename = f\"{miny}_{minx}_{km_siffran_y}{km_siffran_x}_{year}.tif\"\n",
    "    return filename"
   ]
  },
  {
   "cell_type": "code",
   "execution_count": 19,
   "metadata": {},
   "outputs": [
    {
     "ename": "DriverError",
     "evalue": "/Users/nadja/Documents/UU/Thesis/Data/palsaShape/RUTNAT_100x100M_PALS_OR_PALSVATT_ALL.shp: No such file or directory",
     "output_type": "error",
     "traceback": [
      "\u001b[0;31m---------------------------------------------------------------------------\u001b[0m",
      "\u001b[0;31mCPLE_OpenFailedError\u001b[0m                      Traceback (most recent call last)",
      "File \u001b[0;32mfiona/ogrext.pyx:136\u001b[0m, in \u001b[0;36mfiona.ogrext.gdal_open_vector\u001b[0;34m()\u001b[0m\n",
      "File \u001b[0;32mfiona/_err.pyx:291\u001b[0m, in \u001b[0;36mfiona._err.exc_wrap_pointer\u001b[0;34m()\u001b[0m\n",
      "\u001b[0;31mCPLE_OpenFailedError\u001b[0m: /Users/nadja/Documents/UU/Thesis/Data/palsaShape/RUTNAT_100x100M_PALS_OR_PALSVATT_ALL.shp: No such file or directory",
      "\nDuring handling of the above exception, another exception occurred:\n",
      "\u001b[0;31mDriverError\u001b[0m                               Traceback (most recent call last)",
      "Cell \u001b[0;32mIn[19], line 3\u001b[0m\n\u001b[1;32m      1\u001b[0m all_rutor_path \u001b[38;5;241m=\u001b[39m \u001b[38;5;124m\"\u001b[39m\u001b[38;5;124m/Users/nadja/Documents/UU/Thesis/Data/palsaShape/RUTNAT_100x100M_PALS_OR_PALSVATT_ALL.shp\u001b[39m\u001b[38;5;124m\"\u001b[39m\n\u001b[0;32m----> 3\u001b[0m all_rutor \u001b[38;5;241m=\u001b[39m gpd\u001b[38;5;241m.\u001b[39mread_file(all_rutor_path)\n",
      "File \u001b[0;32m~/miniconda3/envs/palsa_env/lib/python3.12/site-packages/geopandas/io/file.py:96\u001b[0m, in \u001b[0;36m_read_file\u001b[0;34m(filename, bbox, mask, rows, **kwargs)\u001b[0m\n\u001b[1;32m     93\u001b[0m     reader \u001b[38;5;241m=\u001b[39m fiona\u001b[38;5;241m.\u001b[39mopen\n\u001b[1;32m     95\u001b[0m \u001b[38;5;28;01mwith\u001b[39;00m fiona_env():\n\u001b[0;32m---> 96\u001b[0m     \u001b[38;5;28;01mwith\u001b[39;00m reader(path_or_bytes, \u001b[38;5;241m*\u001b[39m\u001b[38;5;241m*\u001b[39mkwargs) \u001b[38;5;28;01mas\u001b[39;00m features:\n\u001b[1;32m     97\u001b[0m \n\u001b[1;32m     98\u001b[0m         \u001b[38;5;66;03m# In a future Fiona release the crs attribute of features will\u001b[39;00m\n\u001b[1;32m     99\u001b[0m         \u001b[38;5;66;03m# no longer be a dict, but will behave like a dict. So this should\u001b[39;00m\n\u001b[1;32m    100\u001b[0m         \u001b[38;5;66;03m# be forwards compatible\u001b[39;00m\n\u001b[1;32m    101\u001b[0m         crs \u001b[38;5;241m=\u001b[39m (\n\u001b[1;32m    102\u001b[0m             features\u001b[38;5;241m.\u001b[39mcrs[\u001b[38;5;124m\"\u001b[39m\u001b[38;5;124minit\u001b[39m\u001b[38;5;124m\"\u001b[39m]\n\u001b[1;32m    103\u001b[0m             \u001b[38;5;28;01mif\u001b[39;00m features\u001b[38;5;241m.\u001b[39mcrs \u001b[38;5;129;01mand\u001b[39;00m \u001b[38;5;124m\"\u001b[39m\u001b[38;5;124minit\u001b[39m\u001b[38;5;124m\"\u001b[39m \u001b[38;5;129;01min\u001b[39;00m features\u001b[38;5;241m.\u001b[39mcrs\n\u001b[1;32m    104\u001b[0m             \u001b[38;5;28;01melse\u001b[39;00m features\u001b[38;5;241m.\u001b[39mcrs_wkt\n\u001b[1;32m    105\u001b[0m         )\n\u001b[1;32m    107\u001b[0m         \u001b[38;5;66;03m# handle loading the bounding box\u001b[39;00m\n",
      "File \u001b[0;32m~/miniconda3/envs/palsa_env/lib/python3.12/site-packages/fiona/env.py:457\u001b[0m, in \u001b[0;36mensure_env_with_credentials.<locals>.wrapper\u001b[0;34m(*args, **kwds)\u001b[0m\n\u001b[1;32m    454\u001b[0m     session \u001b[38;5;241m=\u001b[39m DummySession()\n\u001b[1;32m    456\u001b[0m \u001b[38;5;28;01mwith\u001b[39;00m env_ctor(session\u001b[38;5;241m=\u001b[39msession):\n\u001b[0;32m--> 457\u001b[0m     \u001b[38;5;28;01mreturn\u001b[39;00m f(\u001b[38;5;241m*\u001b[39margs, \u001b[38;5;241m*\u001b[39m\u001b[38;5;241m*\u001b[39mkwds)\n",
      "File \u001b[0;32m~/miniconda3/envs/palsa_env/lib/python3.12/site-packages/fiona/__init__.py:292\u001b[0m, in \u001b[0;36mopen\u001b[0;34m(fp, mode, driver, schema, crs, encoding, layer, vfs, enabled_drivers, crs_wkt, allow_unsupported_drivers, **kwargs)\u001b[0m\n\u001b[1;32m    289\u001b[0m     path \u001b[38;5;241m=\u001b[39m parse_path(fp)\n\u001b[1;32m    291\u001b[0m \u001b[38;5;28;01mif\u001b[39;00m mode \u001b[38;5;129;01min\u001b[39;00m (\u001b[38;5;124m\"\u001b[39m\u001b[38;5;124ma\u001b[39m\u001b[38;5;124m\"\u001b[39m, \u001b[38;5;124m\"\u001b[39m\u001b[38;5;124mr\u001b[39m\u001b[38;5;124m\"\u001b[39m):\n\u001b[0;32m--> 292\u001b[0m     colxn \u001b[38;5;241m=\u001b[39m Collection(\n\u001b[1;32m    293\u001b[0m         path,\n\u001b[1;32m    294\u001b[0m         mode,\n\u001b[1;32m    295\u001b[0m         driver\u001b[38;5;241m=\u001b[39mdriver,\n\u001b[1;32m    296\u001b[0m         encoding\u001b[38;5;241m=\u001b[39mencoding,\n\u001b[1;32m    297\u001b[0m         layer\u001b[38;5;241m=\u001b[39mlayer,\n\u001b[1;32m    298\u001b[0m         enabled_drivers\u001b[38;5;241m=\u001b[39menabled_drivers,\n\u001b[1;32m    299\u001b[0m         allow_unsupported_drivers\u001b[38;5;241m=\u001b[39mallow_unsupported_drivers,\n\u001b[1;32m    300\u001b[0m         \u001b[38;5;241m*\u001b[39m\u001b[38;5;241m*\u001b[39mkwargs\n\u001b[1;32m    301\u001b[0m     )\n\u001b[1;32m    302\u001b[0m \u001b[38;5;28;01melif\u001b[39;00m mode \u001b[38;5;241m==\u001b[39m \u001b[38;5;124m\"\u001b[39m\u001b[38;5;124mw\u001b[39m\u001b[38;5;124m\"\u001b[39m:\n\u001b[1;32m    303\u001b[0m     colxn \u001b[38;5;241m=\u001b[39m Collection(\n\u001b[1;32m    304\u001b[0m         path,\n\u001b[1;32m    305\u001b[0m         mode,\n\u001b[0;32m   (...)\u001b[0m\n\u001b[1;32m    314\u001b[0m         \u001b[38;5;241m*\u001b[39m\u001b[38;5;241m*\u001b[39mkwargs\n\u001b[1;32m    315\u001b[0m     )\n",
      "File \u001b[0;32m~/miniconda3/envs/palsa_env/lib/python3.12/site-packages/fiona/collection.py:243\u001b[0m, in \u001b[0;36mCollection.__init__\u001b[0;34m(self, path, mode, driver, schema, crs, encoding, layer, vsi, archive, enabled_drivers, crs_wkt, ignore_fields, ignore_geometry, include_fields, wkt_version, allow_unsupported_drivers, **kwargs)\u001b[0m\n\u001b[1;32m    241\u001b[0m \u001b[38;5;28;01mif\u001b[39;00m \u001b[38;5;28mself\u001b[39m\u001b[38;5;241m.\u001b[39mmode \u001b[38;5;241m==\u001b[39m \u001b[38;5;124m\"\u001b[39m\u001b[38;5;124mr\u001b[39m\u001b[38;5;124m\"\u001b[39m:\n\u001b[1;32m    242\u001b[0m     \u001b[38;5;28mself\u001b[39m\u001b[38;5;241m.\u001b[39msession \u001b[38;5;241m=\u001b[39m Session()\n\u001b[0;32m--> 243\u001b[0m     \u001b[38;5;28mself\u001b[39m\u001b[38;5;241m.\u001b[39msession\u001b[38;5;241m.\u001b[39mstart(\u001b[38;5;28mself\u001b[39m, \u001b[38;5;241m*\u001b[39m\u001b[38;5;241m*\u001b[39mkwargs)\n\u001b[1;32m    244\u001b[0m \u001b[38;5;28;01melif\u001b[39;00m \u001b[38;5;28mself\u001b[39m\u001b[38;5;241m.\u001b[39mmode \u001b[38;5;129;01min\u001b[39;00m (\u001b[38;5;124m\"\u001b[39m\u001b[38;5;124ma\u001b[39m\u001b[38;5;124m\"\u001b[39m, \u001b[38;5;124m\"\u001b[39m\u001b[38;5;124mw\u001b[39m\u001b[38;5;124m\"\u001b[39m):\n\u001b[1;32m    245\u001b[0m     \u001b[38;5;28mself\u001b[39m\u001b[38;5;241m.\u001b[39msession \u001b[38;5;241m=\u001b[39m WritingSession()\n",
      "File \u001b[0;32mfiona/ogrext.pyx:588\u001b[0m, in \u001b[0;36mfiona.ogrext.Session.start\u001b[0;34m()\u001b[0m\n",
      "File \u001b[0;32mfiona/ogrext.pyx:143\u001b[0m, in \u001b[0;36mfiona.ogrext.gdal_open_vector\u001b[0;34m()\u001b[0m\n",
      "\u001b[0;31mDriverError\u001b[0m: /Users/nadja/Documents/UU/Thesis/Data/palsaShape/RUTNAT_100x100M_PALS_OR_PALSVATT_ALL.shp: No such file or directory"
     ]
    }
   ],
   "source": [
    "all_rutor_path = \"/Users/nadja/Documents/UU/Thesis/Data/palsaShape/RUTNAT_100x100M_PALS_OR_PALSVATT_ALL.shp\"\n",
    "\n",
    "all_rutor = gpd.read_file(all_rutor_path)"
   ]
  },
  {
   "cell_type": "code",
   "execution_count": 20,
   "metadata": {},
   "outputs": [
    {
     "data": {
      "text/html": [
       "<div>\n",
       "<style scoped>\n",
       "    .dataframe tbody tr th:only-of-type {\n",
       "        vertical-align: middle;\n",
       "    }\n",
       "\n",
       "    .dataframe tbody tr th {\n",
       "        vertical-align: top;\n",
       "    }\n",
       "\n",
       "    .dataframe thead th {\n",
       "        text-align: right;\n",
       "    }\n",
       "</style>\n",
       "<table border=\"1\" class=\"dataframe\">\n",
       "  <thead>\n",
       "    <tr style=\"text-align: right;\">\n",
       "      <th></th>\n",
       "      <th>MASK</th>\n",
       "      <th>KARTERAD</th>\n",
       "      <th>PALS</th>\n",
       "      <th>PALS_VATT</th>\n",
       "      <th>PALS_HA</th>\n",
       "      <th>PALSVATTHA</th>\n",
       "      <th>Shape_area</th>\n",
       "      <th>Shape_len</th>\n",
       "      <th>geometry</th>\n",
       "    </tr>\n",
       "  </thead>\n",
       "  <tbody>\n",
       "    <tr>\n",
       "      <th>0</th>\n",
       "      <td>INOM</td>\n",
       "      <td>KLAR</td>\n",
       "      <td>0</td>\n",
       "      <td>7</td>\n",
       "      <td>0.00</td>\n",
       "      <td>0.07</td>\n",
       "      <td>10000.0</td>\n",
       "      <td>400.0</td>\n",
       "      <td>POLYGON ((714900.000 7610000.000, 714800.000 7...</td>\n",
       "    </tr>\n",
       "    <tr>\n",
       "      <th>1</th>\n",
       "      <td>INOM</td>\n",
       "      <td>KLAR</td>\n",
       "      <td>12</td>\n",
       "      <td>0</td>\n",
       "      <td>0.12</td>\n",
       "      <td>0.00</td>\n",
       "      <td>10000.0</td>\n",
       "      <td>400.0</td>\n",
       "      <td>POLYGON ((717200.000 7610000.000, 717100.000 7...</td>\n",
       "    </tr>\n",
       "    <tr>\n",
       "      <th>2</th>\n",
       "      <td>INOM</td>\n",
       "      <td>KLAR</td>\n",
       "      <td>7</td>\n",
       "      <td>0</td>\n",
       "      <td>0.07</td>\n",
       "      <td>0.00</td>\n",
       "      <td>10000.0</td>\n",
       "      <td>400.0</td>\n",
       "      <td>POLYGON ((721600.000 7610000.000, 721500.000 7...</td>\n",
       "    </tr>\n",
       "    <tr>\n",
       "      <th>3</th>\n",
       "      <td>INOM</td>\n",
       "      <td>KLAR</td>\n",
       "      <td>12</td>\n",
       "      <td>0</td>\n",
       "      <td>0.12</td>\n",
       "      <td>0.00</td>\n",
       "      <td>10000.0</td>\n",
       "      <td>400.0</td>\n",
       "      <td>POLYGON ((721700.000 7610000.000, 721600.000 7...</td>\n",
       "    </tr>\n",
       "    <tr>\n",
       "      <th>4</th>\n",
       "      <td>INOM</td>\n",
       "      <td>KLAR</td>\n",
       "      <td>14</td>\n",
       "      <td>0</td>\n",
       "      <td>0.14</td>\n",
       "      <td>0.00</td>\n",
       "      <td>10000.0</td>\n",
       "      <td>400.0</td>\n",
       "      <td>POLYGON ((727500.000 7610000.000, 727400.000 7...</td>\n",
       "    </tr>\n",
       "    <tr>\n",
       "      <th>...</th>\n",
       "      <td>...</td>\n",
       "      <td>...</td>\n",
       "      <td>...</td>\n",
       "      <td>...</td>\n",
       "      <td>...</td>\n",
       "      <td>...</td>\n",
       "      <td>...</td>\n",
       "      <td>...</td>\n",
       "      <td>...</td>\n",
       "    </tr>\n",
       "    <tr>\n",
       "      <th>16707</th>\n",
       "      <td>INOM</td>\n",
       "      <td>KLAR</td>\n",
       "      <td>8</td>\n",
       "      <td>0</td>\n",
       "      <td>0.08</td>\n",
       "      <td>0.00</td>\n",
       "      <td>10000.0</td>\n",
       "      <td>400.0</td>\n",
       "      <td>POLYGON ((799900.000 7609600.000, 799800.000 7...</td>\n",
       "    </tr>\n",
       "    <tr>\n",
       "      <th>16708</th>\n",
       "      <td>INOM</td>\n",
       "      <td>KLAR</td>\n",
       "      <td>10</td>\n",
       "      <td>0</td>\n",
       "      <td>0.10</td>\n",
       "      <td>0.00</td>\n",
       "      <td>10000.0</td>\n",
       "      <td>400.0</td>\n",
       "      <td>POLYGON ((800000.000 7609600.000, 799900.000 7...</td>\n",
       "    </tr>\n",
       "    <tr>\n",
       "      <th>16709</th>\n",
       "      <td>INOM</td>\n",
       "      <td>KLAR</td>\n",
       "      <td>17</td>\n",
       "      <td>0</td>\n",
       "      <td>0.17</td>\n",
       "      <td>0.00</td>\n",
       "      <td>10000.0</td>\n",
       "      <td>400.0</td>\n",
       "      <td>POLYGON ((799900.000 7609700.000, 799800.000 7...</td>\n",
       "    </tr>\n",
       "    <tr>\n",
       "      <th>16710</th>\n",
       "      <td>INOM</td>\n",
       "      <td>KLAR</td>\n",
       "      <td>44</td>\n",
       "      <td>1</td>\n",
       "      <td>0.44</td>\n",
       "      <td>0.01</td>\n",
       "      <td>10000.0</td>\n",
       "      <td>400.0</td>\n",
       "      <td>POLYGON ((800000.000 7609700.000, 799900.000 7...</td>\n",
       "    </tr>\n",
       "    <tr>\n",
       "      <th>16711</th>\n",
       "      <td>INOM</td>\n",
       "      <td>KLAR</td>\n",
       "      <td>3</td>\n",
       "      <td>0</td>\n",
       "      <td>0.03</td>\n",
       "      <td>0.00</td>\n",
       "      <td>10000.0</td>\n",
       "      <td>400.0</td>\n",
       "      <td>POLYGON ((800100.000 7609700.000, 800000.000 7...</td>\n",
       "    </tr>\n",
       "  </tbody>\n",
       "</table>\n",
       "<p>16712 rows × 9 columns</p>\n",
       "</div>"
      ],
      "text/plain": [
       "       MASK KARTERAD  PALS  PALS_VATT  PALS_HA  PALSVATTHA  Shape_area  \\\n",
       "0      INOM     KLAR     0          7     0.00        0.07     10000.0   \n",
       "1      INOM     KLAR    12          0     0.12        0.00     10000.0   \n",
       "2      INOM     KLAR     7          0     0.07        0.00     10000.0   \n",
       "3      INOM     KLAR    12          0     0.12        0.00     10000.0   \n",
       "4      INOM     KLAR    14          0     0.14        0.00     10000.0   \n",
       "...     ...      ...   ...        ...      ...         ...         ...   \n",
       "16707  INOM     KLAR     8          0     0.08        0.00     10000.0   \n",
       "16708  INOM     KLAR    10          0     0.10        0.00     10000.0   \n",
       "16709  INOM     KLAR    17          0     0.17        0.00     10000.0   \n",
       "16710  INOM     KLAR    44          1     0.44        0.01     10000.0   \n",
       "16711  INOM     KLAR     3          0     0.03        0.00     10000.0   \n",
       "\n",
       "       Shape_len                                           geometry  \n",
       "0          400.0  POLYGON ((714900.000 7610000.000, 714800.000 7...  \n",
       "1          400.0  POLYGON ((717200.000 7610000.000, 717100.000 7...  \n",
       "2          400.0  POLYGON ((721600.000 7610000.000, 721500.000 7...  \n",
       "3          400.0  POLYGON ((721700.000 7610000.000, 721600.000 7...  \n",
       "4          400.0  POLYGON ((727500.000 7610000.000, 727400.000 7...  \n",
       "...          ...                                                ...  \n",
       "16707      400.0  POLYGON ((799900.000 7609600.000, 799800.000 7...  \n",
       "16708      400.0  POLYGON ((800000.000 7609600.000, 799900.000 7...  \n",
       "16709      400.0  POLYGON ((799900.000 7609700.000, 799800.000 7...  \n",
       "16710      400.0  POLYGON ((800000.000 7609700.000, 799900.000 7...  \n",
       "16711      400.0  POLYGON ((800100.000 7609700.000, 800000.000 7...  \n",
       "\n",
       "[16712 rows x 9 columns]"
      ]
     },
     "execution_count": 20,
     "metadata": {},
     "output_type": "execute_result"
    }
   ],
   "source": [
    "all_rutor"
   ]
  },
  {
   "cell_type": "code",
   "execution_count": 41,
   "metadata": {},
   "outputs": [],
   "source": [
    "def tif_from_ruta(ruta_geometry):\n",
    "    minx_ruta = ruta_geometry.bounds[0]\n",
    "    miny_ruta = ruta_geometry.bounds[1]\n",
    "\n",
    "    miny = str(miny_ruta)[0:3]\n",
    "    minx = str(minx_ruta)[0:2]\n",
    "\n",
    "    if 0 <= int(str(miny_ruta)[3:5]) < 25:\n",
    "        km_siffran_y = '00'\n",
    "    elif 25 <= int(str(miny_ruta)[3:5]) < 50:\n",
    "        km_siffran_y = '25'\n",
    "    elif 50 <= int(str(miny_ruta)[3:5]) < 75:\n",
    "        km_siffran_y = '50'\n",
    "    elif 75 <= int(str(miny_ruta)[3:5]) < 100:\n",
    "        km_siffran_y = '75'\n",
    "\n",
    "    if 0 <= int(str(minx_ruta)[3:5]) < 25:\n",
    "        km_siffran_x = '00'\n",
    "    elif 25 <= int(str(minx_ruta)[3:5]) < 50:\n",
    "        km_siffran_x = '25'\n",
    "    elif 50 <= int(str(minx_ruta)[3:5]) < 75:\n",
    "        km_siffran_x = '50'\n",
    "    elif 75 <= int(str(minx_ruta)[3:5]) < 100:\n",
    "        km_siffran_x = '75'\n",
    "\n",
    "    year = 2018 # WHICH YEAR SHOULD IT BE??\n",
    "\n",
    "    filename = f\"{miny}_{minx}_{km_siffran_y}{km_siffran_x}_{year}.tif\"\n",
    "    return filename"
   ]
  },
  {
   "cell_type": "code",
   "execution_count": 43,
   "metadata": {},
   "outputs": [
    {
     "name": "stdout",
     "output_type": "stream",
     "text": [
      "761_71_0075_2018.tif\n",
      "761_71_0000_2018.tif\n",
      "761_72_0050_2018.tif\n",
      "761_72_0050_2018.tif\n",
      "761_72_0025_2018.tif\n",
      "761_72_0050_2018.tif\n",
      "761_72_0075_2018.tif\n",
      "761_72_0000_2018.tif\n",
      "761_72_0000_2018.tif\n",
      "761_73_0050_2018.tif\n",
      "761_73_0075_2018.tif\n"
     ]
    }
   ],
   "source": [
    "for idx, ruta in enumerate(all_rutor['geometry']):\n",
    "    # print(ruta.bounds[0], ruta.bounds[1])\n",
    "    print(tif_from_ruta(ruta))\n",
    "    if idx == 10:\n",
    "        break\n",
    "\n",
    "# all_rutor['in_tif'] = all_rutor['geometry'].map(tif_from_ruta)\n",
    "# uniques = all_rutor.in_tif.unique()\n",
    "\n",
    "# dir_files = os.listdir(original_tif_dir)\n",
    "# only_tifs = [filename for filename in dir_files if filename[-4:] == \".tif\"]\n",
    "\n",
    "# only_tifs_noyear = [filename[:-8] for filename in only_tifs]\n",
    "# uniques_noyear = [filename[:-8] for filename in list(uniques)]\n",
    "\n",
    "# # check that all uniques are in only tifs\n",
    "# if not (set(list(uniques_noyear)).issubset(set(only_tifs_noyear))):\n",
    "#     # logger.WARN(f\"at least one tif name generated from all_rutor was not found in the directory: {original_tif_dir}\")\n",
    "#     print(f\"at least one tif name generated from all_rutor was not found in the directory\")\n",
    "#     items_not_in_dir = [item for item in list(uniques) if item not in only_tifs]\n",
    "#     print(f\"items not in directory are: \\n {items_not_in_dir}\")\n",
    "\n",
    "# intersection = list(set(uniques_noyear) & set(only_tifs_noyear))\n",
    "\n",
    "# tifs_to_use = [filename for filename in only_tifs if filename[:-8] in intersection]"
   ]
  },
  {
   "cell_type": "code",
   "execution_count": 22,
   "metadata": {},
   "outputs": [
    {
     "data": {
      "text/plain": [
       "(730900.0, 7610000.0, 731000.0, 7610100.0)"
      ]
     },
     "execution_count": 22,
     "metadata": {},
     "output_type": "execute_result"
    }
   ],
   "source": [
    "ruta.bounds"
   ]
  },
  {
   "cell_type": "code",
   "execution_count": 39,
   "metadata": {},
   "outputs": [],
   "source": [
    "minx_ruta = ruta.bounds[0]\n",
    "miny_ruta = ruta.bounds[1]\n",
    "\n",
    "miny = str(miny_ruta)[0:3]\n",
    "minx = str(minx_ruta)[0:2]\n",
    "\n",
    "if 0 <= int(str(miny_ruta)[3:5]) < 25:\n",
    "    km_siffran_y = '00'\n",
    "elif 25 <= int(str(miny_ruta)[3:5]) < 50:\n",
    "    km_siffran_y = '25'\n",
    "elif 50 <= int(str(miny_ruta)[3:5]) < 75:\n",
    "    km_siffran_y = '50'\n",
    "elif 75 <= int(str(miny_ruta)[3:5]) < 100:\n",
    "    km_siffran_y = '75'\n",
    "\n",
    "if 0 <= int(str(minx_ruta)[3:5]) < 25:\n",
    "    km_siffran_x = '00'\n",
    "elif 25 <= int(str(minx_ruta)[3:5]) < 50:\n",
    "    km_siffran_x = '25'\n",
    "elif 50 <= int(str(minx_ruta)[3:5]) < 75:\n",
    "    km_siffran_x = '50'\n",
    "elif 75 <= int(str(minx_ruta)[3:5]) < 100:\n",
    "    km_siffran_x = '75'\n",
    "\n",
    "filename = f\"{miny}_{minx}_{km_siffran_y}{km_siffran_x}_.tif\"\n"
   ]
  },
  {
   "cell_type": "code",
   "execution_count": 40,
   "metadata": {},
   "outputs": [
    {
     "data": {
      "text/plain": [
       "'761_73_0075_.tif'"
      ]
     },
     "execution_count": 40,
     "metadata": {},
     "output_type": "execute_result"
    }
   ],
   "source": [
    "filename"
   ]
  },
  {
   "cell_type": "code",
   "execution_count": 32,
   "metadata": {},
   "outputs": [
    {
     "data": {
      "text/plain": [
       "'761'"
      ]
     },
     "execution_count": 32,
     "metadata": {},
     "output_type": "execute_result"
    }
   ],
   "source": [
    "str(miny_ruta)[0:3]\n"
   ]
  },
  {
   "cell_type": "code",
   "execution_count": 26,
   "metadata": {},
   "outputs": [],
   "source": [
    "import rasterio \n",
    "img = rasterio.open(\"/Users/nadja/Documents/UU/Thesis/Data/hillshade/758_66_5000_2010.tif\")"
   ]
  },
  {
   "cell_type": "code",
   "execution_count": 27,
   "metadata": {},
   "outputs": [
    {
     "data": {
      "text/plain": [
       "BoundingBox(left=660000.0, bottom=7585000.0, right=662500.0, top=7587500.0)"
      ]
     },
     "execution_count": 27,
     "metadata": {},
     "output_type": "execute_result"
    }
   ],
   "source": [
    "img.bounds"
   ]
  },
  {
   "cell_type": "code",
   "execution_count": null,
   "metadata": {},
   "outputs": [],
   "source": []
  }
 ],
 "metadata": {
  "kernelspec": {
   "display_name": "palsa_env",
   "language": "python",
   "name": "python3"
  },
  "language_info": {
   "codemirror_mode": {
    "name": "ipython",
    "version": 3
   },
   "file_extension": ".py",
   "mimetype": "text/x-python",
   "name": "python",
   "nbconvert_exporter": "python",
   "pygments_lexer": "ipython3",
   "version": "3.12.2"
  }
 },
 "nbformat": 4,
 "nbformat_minor": 2
}
