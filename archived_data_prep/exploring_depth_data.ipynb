{
 "cells": [
  {
   "cell_type": "code",
   "execution_count": 1,
   "metadata": {},
   "outputs": [],
   "source": [
    "import geopandas as gpd\n",
    "import numpy as np \n",
    "import pandas"
   ]
  },
  {
   "cell_type": "code",
   "execution_count": 3,
   "metadata": {},
   "outputs": [],
   "source": [
    "# with rasterio open tif image corresponding to the above\n",
    "\n",
    "import rasterio\n",
    "hillshade_tif = rasterio.open(\"/Users/nadja/Documents/UU/Thesis/Data/hillshade_758_65_5075.tif\")\n",
    "height_tif = rasterio.open(\"/Users/nadja/Documents/UU/Thesis/Data/DEM_1m/758_65_5075_2010.tif\")"
   ]
  },
  {
   "cell_type": "code",
   "execution_count": 4,
   "metadata": {},
   "outputs": [
    {
     "name": "stdout",
     "output_type": "stream",
     "text": [
      "657500.0 657500.0\n",
      "7585000.0 7585000.0\n",
      "660000.0 660000.0\n",
      "7587500.0 7587500.0\n"
     ]
    }
   ],
   "source": [
    "for i,j in zip(hillshade_tif.bounds, height_tif.bounds):\n",
    "    print(i,j)"
   ]
  },
  {
   "cell_type": "code",
   "execution_count": 10,
   "metadata": {},
   "outputs": [
    {
     "ename": "TypeError",
     "evalue": "'DatasetReader' object is not subscriptable",
     "output_type": "error",
     "traceback": [
      "\u001b[0;31m---------------------------------------------------------------------------\u001b[0m",
      "\u001b[0;31mTypeError\u001b[0m                                 Traceback (most recent call last)",
      "Cell \u001b[0;32mIn[10], line 1\u001b[0m\n\u001b[0;32m----> 1\u001b[0m hillshade_tif[:\u001b[38;5;241m100\u001b[39m]\n",
      "\u001b[0;31mTypeError\u001b[0m: 'DatasetReader' object is not subscriptable"
     ]
    }
   ],
   "source": [
    "hillshade_tif[100]"
   ]
  },
  {
   "cell_type": "code",
   "execution_count": 8,
   "metadata": {},
   "outputs": [
    {
     "data": {
      "text/plain": [
       "(2500, 2500)"
      ]
     },
     "execution_count": 8,
     "metadata": {},
     "output_type": "execute_result"
    }
   ],
   "source": [
    "height_tif[100]"
   ]
  },
  {
   "cell_type": "code",
   "execution_count": 16,
   "metadata": {},
   "outputs": [
    {
     "data": {
      "text/plain": [
       "(2500, 2500)"
      ]
     },
     "execution_count": 16,
     "metadata": {},
     "output_type": "execute_result"
    }
   ],
   "source": [
    "hillshade_tif.read()[0].shape"
   ]
  },
  {
   "cell_type": "code",
   "execution_count": 17,
   "metadata": {},
   "outputs": [],
   "source": [
    "hillshade_df = pandas.DataFrame(hillshade_tif.read()[0])\n",
    "height_df = pandas.DataFrame(height_tif.read()[0])"
   ]
  },
  {
   "cell_type": "code",
   "execution_count": 18,
   "metadata": {},
   "outputs": [
    {
     "data": {
      "text/html": [
       "<div>\n",
       "<style scoped>\n",
       "    .dataframe tbody tr th:only-of-type {\n",
       "        vertical-align: middle;\n",
       "    }\n",
       "\n",
       "    .dataframe tbody tr th {\n",
       "        vertical-align: top;\n",
       "    }\n",
       "\n",
       "    .dataframe thead th {\n",
       "        text-align: right;\n",
       "    }\n",
       "</style>\n",
       "<table border=\"1\" class=\"dataframe\">\n",
       "  <thead>\n",
       "    <tr style=\"text-align: right;\">\n",
       "      <th></th>\n",
       "      <th>0</th>\n",
       "      <th>1</th>\n",
       "      <th>2</th>\n",
       "      <th>3</th>\n",
       "      <th>4</th>\n",
       "      <th>5</th>\n",
       "      <th>6</th>\n",
       "      <th>7</th>\n",
       "      <th>8</th>\n",
       "      <th>9</th>\n",
       "      <th>...</th>\n",
       "      <th>2490</th>\n",
       "      <th>2491</th>\n",
       "      <th>2492</th>\n",
       "      <th>2493</th>\n",
       "      <th>2494</th>\n",
       "      <th>2495</th>\n",
       "      <th>2496</th>\n",
       "      <th>2497</th>\n",
       "      <th>2498</th>\n",
       "      <th>2499</th>\n",
       "    </tr>\n",
       "  </thead>\n",
       "  <tbody>\n",
       "    <tr>\n",
       "      <th>0</th>\n",
       "      <td>0</td>\n",
       "      <td>0</td>\n",
       "      <td>0</td>\n",
       "      <td>0</td>\n",
       "      <td>0</td>\n",
       "      <td>0</td>\n",
       "      <td>0</td>\n",
       "      <td>0</td>\n",
       "      <td>0</td>\n",
       "      <td>0</td>\n",
       "      <td>...</td>\n",
       "      <td>0</td>\n",
       "      <td>0</td>\n",
       "      <td>0</td>\n",
       "      <td>0</td>\n",
       "      <td>0</td>\n",
       "      <td>0</td>\n",
       "      <td>0</td>\n",
       "      <td>0</td>\n",
       "      <td>0</td>\n",
       "      <td>0</td>\n",
       "    </tr>\n",
       "    <tr>\n",
       "      <th>1</th>\n",
       "      <td>0</td>\n",
       "      <td>197</td>\n",
       "      <td>198</td>\n",
       "      <td>195</td>\n",
       "      <td>190</td>\n",
       "      <td>188</td>\n",
       "      <td>191</td>\n",
       "      <td>198</td>\n",
       "      <td>205</td>\n",
       "      <td>200</td>\n",
       "      <td>...</td>\n",
       "      <td>195</td>\n",
       "      <td>196</td>\n",
       "      <td>194</td>\n",
       "      <td>196</td>\n",
       "      <td>195</td>\n",
       "      <td>186</td>\n",
       "      <td>192</td>\n",
       "      <td>196</td>\n",
       "      <td>187</td>\n",
       "      <td>0</td>\n",
       "    </tr>\n",
       "    <tr>\n",
       "      <th>2</th>\n",
       "      <td>0</td>\n",
       "      <td>198</td>\n",
       "      <td>193</td>\n",
       "      <td>194</td>\n",
       "      <td>190</td>\n",
       "      <td>185</td>\n",
       "      <td>188</td>\n",
       "      <td>196</td>\n",
       "      <td>204</td>\n",
       "      <td>200</td>\n",
       "      <td>...</td>\n",
       "      <td>202</td>\n",
       "      <td>201</td>\n",
       "      <td>196</td>\n",
       "      <td>200</td>\n",
       "      <td>198</td>\n",
       "      <td>181</td>\n",
       "      <td>187</td>\n",
       "      <td>192</td>\n",
       "      <td>182</td>\n",
       "      <td>0</td>\n",
       "    </tr>\n",
       "    <tr>\n",
       "      <th>3</th>\n",
       "      <td>0</td>\n",
       "      <td>189</td>\n",
       "      <td>183</td>\n",
       "      <td>188</td>\n",
       "      <td>187</td>\n",
       "      <td>184</td>\n",
       "      <td>192</td>\n",
       "      <td>203</td>\n",
       "      <td>209</td>\n",
       "      <td>198</td>\n",
       "      <td>...</td>\n",
       "      <td>203</td>\n",
       "      <td>193</td>\n",
       "      <td>183</td>\n",
       "      <td>186</td>\n",
       "      <td>184</td>\n",
       "      <td>177</td>\n",
       "      <td>187</td>\n",
       "      <td>186</td>\n",
       "      <td>168</td>\n",
       "      <td>0</td>\n",
       "    </tr>\n",
       "    <tr>\n",
       "      <th>4</th>\n",
       "      <td>0</td>\n",
       "      <td>175</td>\n",
       "      <td>167</td>\n",
       "      <td>178</td>\n",
       "      <td>185</td>\n",
       "      <td>186</td>\n",
       "      <td>193</td>\n",
       "      <td>204</td>\n",
       "      <td>210</td>\n",
       "      <td>191</td>\n",
       "      <td>...</td>\n",
       "      <td>196</td>\n",
       "      <td>176</td>\n",
       "      <td>174</td>\n",
       "      <td>182</td>\n",
       "      <td>182</td>\n",
       "      <td>180</td>\n",
       "      <td>184</td>\n",
       "      <td>182</td>\n",
       "      <td>175</td>\n",
       "      <td>0</td>\n",
       "    </tr>\n",
       "  </tbody>\n",
       "</table>\n",
       "<p>5 rows × 2500 columns</p>\n",
       "</div>"
      ],
      "text/plain": [
       "   0     1     2     3     4     5     6     7     8     9     ...  2490  \\\n",
       "0     0     0     0     0     0     0     0     0     0     0  ...     0   \n",
       "1     0   197   198   195   190   188   191   198   205   200  ...   195   \n",
       "2     0   198   193   194   190   185   188   196   204   200  ...   202   \n",
       "3     0   189   183   188   187   184   192   203   209   198  ...   203   \n",
       "4     0   175   167   178   185   186   193   204   210   191  ...   196   \n",
       "\n",
       "   2491  2492  2493  2494  2495  2496  2497  2498  2499  \n",
       "0     0     0     0     0     0     0     0     0     0  \n",
       "1   196   194   196   195   186   192   196   187     0  \n",
       "2   201   196   200   198   181   187   192   182     0  \n",
       "3   193   183   186   184   177   187   186   168     0  \n",
       "4   176   174   182   182   180   184   182   175     0  \n",
       "\n",
       "[5 rows x 2500 columns]"
      ]
     },
     "execution_count": 18,
     "metadata": {},
     "output_type": "execute_result"
    }
   ],
   "source": [
    "hillshade_df.head()"
   ]
  },
  {
   "cell_type": "code",
   "execution_count": 19,
   "metadata": {},
   "outputs": [
    {
     "data": {
      "text/html": [
       "<div>\n",
       "<style scoped>\n",
       "    .dataframe tbody tr th:only-of-type {\n",
       "        vertical-align: middle;\n",
       "    }\n",
       "\n",
       "    .dataframe tbody tr th {\n",
       "        vertical-align: top;\n",
       "    }\n",
       "\n",
       "    .dataframe thead th {\n",
       "        text-align: right;\n",
       "    }\n",
       "</style>\n",
       "<table border=\"1\" class=\"dataframe\">\n",
       "  <thead>\n",
       "    <tr style=\"text-align: right;\">\n",
       "      <th></th>\n",
       "      <th>0</th>\n",
       "      <th>1</th>\n",
       "      <th>2</th>\n",
       "      <th>3</th>\n",
       "      <th>4</th>\n",
       "      <th>5</th>\n",
       "      <th>6</th>\n",
       "      <th>7</th>\n",
       "      <th>8</th>\n",
       "      <th>9</th>\n",
       "      <th>...</th>\n",
       "      <th>2490</th>\n",
       "      <th>2491</th>\n",
       "      <th>2492</th>\n",
       "      <th>2493</th>\n",
       "      <th>2494</th>\n",
       "      <th>2495</th>\n",
       "      <th>2496</th>\n",
       "      <th>2497</th>\n",
       "      <th>2498</th>\n",
       "      <th>2499</th>\n",
       "    </tr>\n",
       "  </thead>\n",
       "  <tbody>\n",
       "    <tr>\n",
       "      <th>0</th>\n",
       "      <td>344.390015</td>\n",
       "      <td>344.380005</td>\n",
       "      <td>344.380005</td>\n",
       "      <td>344.540009</td>\n",
       "      <td>344.570007</td>\n",
       "      <td>344.640015</td>\n",
       "      <td>344.570007</td>\n",
       "      <td>344.589996</td>\n",
       "      <td>344.660004</td>\n",
       "      <td>344.809998</td>\n",
       "      <td>...</td>\n",
       "      <td>383.720001</td>\n",
       "      <td>383.720001</td>\n",
       "      <td>383.859985</td>\n",
       "      <td>383.880005</td>\n",
       "      <td>384.019989</td>\n",
       "      <td>383.929993</td>\n",
       "      <td>383.940002</td>\n",
       "      <td>384.000000</td>\n",
       "      <td>384.220001</td>\n",
       "      <td>384.140015</td>\n",
       "    </tr>\n",
       "    <tr>\n",
       "      <th>1</th>\n",
       "      <td>344.350006</td>\n",
       "      <td>344.429993</td>\n",
       "      <td>344.500000</td>\n",
       "      <td>344.570007</td>\n",
       "      <td>344.619995</td>\n",
       "      <td>344.660004</td>\n",
       "      <td>344.700012</td>\n",
       "      <td>344.739990</td>\n",
       "      <td>344.779999</td>\n",
       "      <td>344.899994</td>\n",
       "      <td>...</td>\n",
       "      <td>383.790009</td>\n",
       "      <td>383.820007</td>\n",
       "      <td>383.859985</td>\n",
       "      <td>383.880005</td>\n",
       "      <td>383.970001</td>\n",
       "      <td>384.019989</td>\n",
       "      <td>384.010010</td>\n",
       "      <td>384.049988</td>\n",
       "      <td>384.109985</td>\n",
       "      <td>384.149994</td>\n",
       "    </tr>\n",
       "    <tr>\n",
       "      <th>2</th>\n",
       "      <td>344.589996</td>\n",
       "      <td>344.600006</td>\n",
       "      <td>344.589996</td>\n",
       "      <td>344.630005</td>\n",
       "      <td>344.660004</td>\n",
       "      <td>344.670013</td>\n",
       "      <td>344.709991</td>\n",
       "      <td>344.769989</td>\n",
       "      <td>344.910004</td>\n",
       "      <td>345.019989</td>\n",
       "      <td>...</td>\n",
       "      <td>383.950012</td>\n",
       "      <td>383.899994</td>\n",
       "      <td>384.000000</td>\n",
       "      <td>383.959991</td>\n",
       "      <td>384.179993</td>\n",
       "      <td>384.070007</td>\n",
       "      <td>384.019989</td>\n",
       "      <td>384.179993</td>\n",
       "      <td>384.170013</td>\n",
       "      <td>384.149994</td>\n",
       "    </tr>\n",
       "    <tr>\n",
       "      <th>3</th>\n",
       "      <td>344.609985</td>\n",
       "      <td>344.709991</td>\n",
       "      <td>344.660004</td>\n",
       "      <td>344.670013</td>\n",
       "      <td>344.769989</td>\n",
       "      <td>344.690002</td>\n",
       "      <td>344.690002</td>\n",
       "      <td>344.820007</td>\n",
       "      <td>344.950012</td>\n",
       "      <td>345.130005</td>\n",
       "      <td>...</td>\n",
       "      <td>384.019989</td>\n",
       "      <td>384.140015</td>\n",
       "      <td>384.130005</td>\n",
       "      <td>384.029999</td>\n",
       "      <td>384.170013</td>\n",
       "      <td>384.140015</td>\n",
       "      <td>384.049988</td>\n",
       "      <td>384.089996</td>\n",
       "      <td>384.179993</td>\n",
       "      <td>384.049988</td>\n",
       "    </tr>\n",
       "    <tr>\n",
       "      <th>4</th>\n",
       "      <td>344.489990</td>\n",
       "      <td>344.720001</td>\n",
       "      <td>344.690002</td>\n",
       "      <td>344.619995</td>\n",
       "      <td>344.730011</td>\n",
       "      <td>344.750000</td>\n",
       "      <td>344.769989</td>\n",
       "      <td>344.859985</td>\n",
       "      <td>345.130005</td>\n",
       "      <td>345.260010</td>\n",
       "      <td>...</td>\n",
       "      <td>384.089996</td>\n",
       "      <td>384.089996</td>\n",
       "      <td>384.049988</td>\n",
       "      <td>384.029999</td>\n",
       "      <td>384.059998</td>\n",
       "      <td>384.089996</td>\n",
       "      <td>384.170013</td>\n",
       "      <td>384.179993</td>\n",
       "      <td>384.059998</td>\n",
       "      <td>383.950012</td>\n",
       "    </tr>\n",
       "  </tbody>\n",
       "</table>\n",
       "<p>5 rows × 2500 columns</p>\n",
       "</div>"
      ],
      "text/plain": [
       "         0           1           2           3           4           5     \\\n",
       "0  344.390015  344.380005  344.380005  344.540009  344.570007  344.640015   \n",
       "1  344.350006  344.429993  344.500000  344.570007  344.619995  344.660004   \n",
       "2  344.589996  344.600006  344.589996  344.630005  344.660004  344.670013   \n",
       "3  344.609985  344.709991  344.660004  344.670013  344.769989  344.690002   \n",
       "4  344.489990  344.720001  344.690002  344.619995  344.730011  344.750000   \n",
       "\n",
       "         6           7           8           9     ...        2490  \\\n",
       "0  344.570007  344.589996  344.660004  344.809998  ...  383.720001   \n",
       "1  344.700012  344.739990  344.779999  344.899994  ...  383.790009   \n",
       "2  344.709991  344.769989  344.910004  345.019989  ...  383.950012   \n",
       "3  344.690002  344.820007  344.950012  345.130005  ...  384.019989   \n",
       "4  344.769989  344.859985  345.130005  345.260010  ...  384.089996   \n",
       "\n",
       "         2491        2492        2493        2494        2495        2496  \\\n",
       "0  383.720001  383.859985  383.880005  384.019989  383.929993  383.940002   \n",
       "1  383.820007  383.859985  383.880005  383.970001  384.019989  384.010010   \n",
       "2  383.899994  384.000000  383.959991  384.179993  384.070007  384.019989   \n",
       "3  384.140015  384.130005  384.029999  384.170013  384.140015  384.049988   \n",
       "4  384.089996  384.049988  384.029999  384.059998  384.089996  384.170013   \n",
       "\n",
       "         2497        2498        2499  \n",
       "0  384.000000  384.220001  384.140015  \n",
       "1  384.049988  384.109985  384.149994  \n",
       "2  384.179993  384.170013  384.149994  \n",
       "3  384.089996  384.179993  384.049988  \n",
       "4  384.179993  384.059998  383.950012  \n",
       "\n",
       "[5 rows x 2500 columns]"
      ]
     },
     "execution_count": 19,
     "metadata": {},
     "output_type": "execute_result"
    }
   ],
   "source": [
    "height_df.head()"
   ]
  },
  {
   "cell_type": "code",
   "execution_count": 33,
   "metadata": {},
   "outputs": [
    {
     "data": {
      "text/plain": [
       "18.201949734756102"
      ]
     },
     "execution_count": 33,
     "metadata": {},
     "output_type": "execute_result"
    }
   ],
   "source": [
    "hillshade_df.to_numpy().flatten().std()"
   ]
  },
  {
   "cell_type": "code",
   "execution_count": 34,
   "metadata": {},
   "outputs": [
    {
     "data": {
      "text/plain": [
       "47.384888"
      ]
     },
     "execution_count": 34,
     "metadata": {},
     "output_type": "execute_result"
    }
   ],
   "source": [
    "height_df.to_numpy().flatten().std()"
   ]
  },
  {
   "cell_type": "code",
   "execution_count": null,
   "metadata": {},
   "outputs": [],
   "source": []
  }
 ],
 "metadata": {
  "kernelspec": {
   "display_name": "palsa_env",
   "language": "python",
   "name": "python3"
  },
  "language_info": {
   "codemirror_mode": {
    "name": "ipython",
    "version": 3
   },
   "file_extension": ".py",
   "mimetype": "text/x-python",
   "name": "python",
   "nbconvert_exporter": "python",
   "pygments_lexer": "ipython3",
   "version": "3.12.2"
  }
 },
 "nbformat": 4,
 "nbformat_minor": 2
}
