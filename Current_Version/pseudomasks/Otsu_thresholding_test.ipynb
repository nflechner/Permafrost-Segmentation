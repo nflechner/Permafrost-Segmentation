{
 "cells": [
  {
   "cell_type": "code",
   "execution_count": 1,
   "metadata": {},
   "outputs": [
    {
     "name": "stderr",
     "output_type": "stream",
     "text": [
      "Failed to detect the name of this notebook, you can set it manually with the WANDB_NOTEBOOK_NAME environment variable to enable code saving.\n",
      "\u001b[34m\u001b[1mwandb\u001b[0m: Currently logged in as: \u001b[33mnadja-flechner\u001b[0m (\u001b[33mnadjaflechner\u001b[0m). Use \u001b[1m`wandb login --relogin`\u001b[0m to force relogin\n"
     ]
    },
    {
     "data": {
      "text/html": [
       "wandb version 0.18.7 is available!  To upgrade, please run:\n",
       " $ pip install wandb --upgrade"
      ],
      "text/plain": [
       "<IPython.core.display.HTML object>"
      ]
     },
     "metadata": {},
     "output_type": "display_data"
    },
    {
     "data": {
      "text/html": [
       "Tracking run with wandb version 0.16.6"
      ],
      "text/plain": [
       "<IPython.core.display.HTML object>"
      ]
     },
     "metadata": {},
     "output_type": "display_data"
    },
    {
     "data": {
      "text/html": [
       "Run data is saved locally in <code>/Users/nadja/Documents/1. Project/Thesis/Permafrost-Segmentation/Current_Version/pseudomasks/wandb/run-20241118_102557-hl5ulbre</code>"
      ],
      "text/plain": [
       "<IPython.core.display.HTML object>"
      ]
     },
     "metadata": {},
     "output_type": "display_data"
    },
    {
     "data": {
      "text/html": [
       "Syncing run <strong><a href='https://wandb.ai/nadjaflechner/VGG_CAMs/runs/hl5ulbre' target=\"_blank\">crimson-wind-725</a></strong> to <a href='https://wandb.ai/nadjaflechner/VGG_CAMs' target=\"_blank\">Weights & Biases</a> (<a href='https://wandb.me/run' target=\"_blank\">docs</a>)<br/>"
      ],
      "text/plain": [
       "<IPython.core.display.HTML object>"
      ]
     },
     "metadata": {},
     "output_type": "display_data"
    },
    {
     "data": {
      "text/html": [
       " View project at <a href='https://wandb.ai/nadjaflechner/VGG_CAMs' target=\"_blank\">https://wandb.ai/nadjaflechner/VGG_CAMs</a>"
      ],
      "text/plain": [
       "<IPython.core.display.HTML object>"
      ]
     },
     "metadata": {},
     "output_type": "display_data"
    },
    {
     "data": {
      "text/html": [
       " View run at <a href='https://wandb.ai/nadjaflechner/VGG_CAMs/runs/hl5ulbre' target=\"_blank\">https://wandb.ai/nadjaflechner/VGG_CAMs/runs/hl5ulbre</a>"
      ],
      "text/plain": [
       "<IPython.core.display.HTML object>"
      ]
     },
     "metadata": {},
     "output_type": "display_data"
    },
    {
     "name": "stderr",
     "output_type": "stream",
     "text": [
      "\u001b[34m\u001b[1mwandb\u001b[0m:   1 of 1 files downloaded.  \n"
     ]
    }
   ],
   "source": [
    "############\n",
    "# Imports #\n",
    "############\n",
    "\n",
    "import json\n",
    "import os\n",
    "\n",
    "import torch\n",
    "import wandb\n",
    "from torch.utils.data import DataLoader\n",
    "\n",
    "from model.cnn_classifier import model_4D\n",
    "from model.finetune import FinetuneLoop\n",
    "from model.pseudomask import Pseudomasks\n",
    "from model.train import ClassifierTrainLoop\n",
    "from utils.data_modules import ImageDataset, TestSet, filter_dataset\n",
    "\n",
    "##############################\n",
    "# define train/test function #\n",
    "##############################\n",
    "\n",
    "\n",
    "run = wandb.init(\n",
    "        project=\"VGG_CAMs\",\n",
    "        tags=['PseudomaskGridsearch']\n",
    ")\n",
    "\n",
    "cam_threshold_factor = None\n",
    "std_from_mean = None\n",
    "\n",
    "# define model\n",
    "model_path = \"nadjaflechner/VGG_CAMs/classification_model:v61\"\n",
    "api = wandb.Api()\n",
    "artifact = api.artifact(model_path, type='model')\n",
    "artifact_dir = artifact.download()\n",
    "state_dict = torch.load(f\"{artifact_dir}/model.pth\", map_location=torch.device('cpu'))\n",
    "\n",
    "# define dataset\n",
    "GT_dir = \"/Volumes/USB/Ground_truth/All_GTs\"\n",
    "dataset = TestSet(\"hs\", GT_dir, normalize = False)\n",
    "test_loader = DataLoader(dataset, batch_size=1, shuffle=True)\n",
    "\n",
    "# Make pseudomask generator\n",
    "pseudomask_generator = Pseudomasks(test_loader, cam_threshold_factor, overlap_threshold=0,\n",
    "                                    snic_seeds=0, snic_compactness=0, finetuned=False, std_from_mean=std_from_mean)\n",
    "pseudomask_generator.model_from_dict(state_dict)\n",
    "pseudomask_generator.test_loop_otsu_CAMs(test_loader)\n",
    "\n"
   ]
  },
  {
   "cell_type": "code",
   "execution_count": null,
   "metadata": {},
   "outputs": [],
   "source": []
  }
 ],
 "metadata": {
  "kernelspec": {
   "display_name": "torchvision",
   "language": "python",
   "name": "python3"
  },
  "language_info": {
   "codemirror_mode": {
    "name": "ipython",
    "version": 3
   },
   "file_extension": ".py",
   "mimetype": "text/x-python",
   "name": "python",
   "nbconvert_exporter": "python",
   "pygments_lexer": "ipython3",
   "version": "3.11.5"
  }
 },
 "nbformat": 4,
 "nbformat_minor": 2
}
