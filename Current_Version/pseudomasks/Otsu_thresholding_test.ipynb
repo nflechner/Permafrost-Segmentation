{
 "cells": [
  {
   "cell_type": "code",
   "execution_count": 3,
   "metadata": {},
   "outputs": [
    {
     "data": {
      "text/html": [
       "Finishing last run (ID:kzeoevmu) before initializing another..."
      ],
      "text/plain": [
       "<IPython.core.display.HTML object>"
      ]
     },
     "metadata": {},
     "output_type": "display_data"
    },
    {
     "data": {
      "application/vnd.jupyter.widget-view+json": {
       "model_id": "d47317f42dcf429ab1051820855e2dec",
       "version_major": 2,
       "version_minor": 0
      },
      "text/plain": [
       "VBox(children=(Label(value='0.001 MB of 0.001 MB uploaded\\r'), FloatProgress(value=1.0, max=1.0)))"
      ]
     },
     "metadata": {},
     "output_type": "display_data"
    },
    {
     "data": {
      "text/html": [
       "<style>\n",
       "    table.wandb td:nth-child(1) { padding: 0 10px; text-align: left ; width: auto;} td:nth-child(2) {text-align: left ; width: 100%}\n",
       "    .wandb-row { display: flex; flex-direction: row; flex-wrap: wrap; justify-content: flex-start; width: 100% }\n",
       "    .wandb-col { display: flex; flex-direction: column; flex-basis: 100%; flex: 1; padding: 10px; }\n",
       "    </style>\n",
       "<div class=\"wandb-row\"><div class=\"wandb-col\"><h3>Run history:</h3><br/><table class=\"wandb\"><tr><td>test_F1_nopalsa</td><td>▁</td></tr><tr><td>test_F1_palsa</td><td>▁</td></tr><tr><td>test_accuracy_nopalsa</td><td>▁</td></tr><tr><td>test_accuracy_palsa</td><td>▁</td></tr><tr><td>test_jaccard_nopalsa</td><td>▁</td></tr><tr><td>test_jaccard_palsa</td><td>▁</td></tr><tr><td>test_overall_accuracy</td><td>▁</td></tr><tr><td>test_overall_jaccard</td><td>▁</td></tr></table><br/></div><div class=\"wandb-col\"><h3>Run summary:</h3><br/><table class=\"wandb\"><tr><td>test_F1_nopalsa</td><td>0.90807</td></tr><tr><td>test_F1_palsa</td><td>0.2275</td></tr><tr><td>test_accuracy_nopalsa</td><td>0.91519</td></tr><tr><td>test_accuracy_palsa</td><td>0.2801</td></tr><tr><td>test_jaccard_nopalsa</td><td>0.86486</td></tr><tr><td>test_jaccard_palsa</td><td>0.15678</td></tr><tr><td>test_overall_accuracy</td><td>0.87428</td></tr><tr><td>test_overall_jaccard</td><td>0.81274</td></tr></table><br/></div></div>"
      ],
      "text/plain": [
       "<IPython.core.display.HTML object>"
      ]
     },
     "metadata": {},
     "output_type": "display_data"
    },
    {
     "data": {
      "text/html": [
       " View run <strong style=\"color:#cdcd00\">bright-valley-723</strong> at: <a href='https://wandb.ai/nadjaflechner/VGG_CAMs/runs/kzeoevmu' target=\"_blank\">https://wandb.ai/nadjaflechner/VGG_CAMs/runs/kzeoevmu</a><br/> View project at: <a href='https://wandb.ai/nadjaflechner/VGG_CAMs' target=\"_blank\">https://wandb.ai/nadjaflechner/VGG_CAMs</a><br/>Synced 6 W&B file(s), 0 media file(s), 0 artifact file(s) and 0 other file(s)"
      ],
      "text/plain": [
       "<IPython.core.display.HTML object>"
      ]
     },
     "metadata": {},
     "output_type": "display_data"
    },
    {
     "data": {
      "text/html": [
       "Find logs at: <code>./wandb/run-20241118_095258-kzeoevmu/logs</code>"
      ],
      "text/plain": [
       "<IPython.core.display.HTML object>"
      ]
     },
     "metadata": {},
     "output_type": "display_data"
    },
    {
     "data": {
      "text/html": [
       "Successfully finished last run (ID:kzeoevmu). Initializing new run:<br/>"
      ],
      "text/plain": [
       "<IPython.core.display.HTML object>"
      ]
     },
     "metadata": {},
     "output_type": "display_data"
    },
    {
     "data": {
      "application/vnd.jupyter.widget-view+json": {
       "model_id": "6922984716154ecc864d1bc3077cfeb3",
       "version_major": 2,
       "version_minor": 0
      },
      "text/plain": [
       "VBox(children=(Label(value='Waiting for wandb.init()...\\r'), FloatProgress(value=0.011119712888871112, max=1.0…"
      ]
     },
     "metadata": {},
     "output_type": "display_data"
    },
    {
     "data": {
      "text/html": [
       "wandb version 0.18.7 is available!  To upgrade, please run:\n",
       " $ pip install wandb --upgrade"
      ],
      "text/plain": [
       "<IPython.core.display.HTML object>"
      ]
     },
     "metadata": {},
     "output_type": "display_data"
    },
    {
     "data": {
      "text/html": [
       "Tracking run with wandb version 0.16.6"
      ],
      "text/plain": [
       "<IPython.core.display.HTML object>"
      ]
     },
     "metadata": {},
     "output_type": "display_data"
    },
    {
     "data": {
      "text/html": [
       "Run data is saved locally in <code>/Users/nadja/Documents/1. Project/Thesis/Permafrost-Segmentation/Current_Version/pseudomasks/wandb/run-20241118_095620-jrnh1qml</code>"
      ],
      "text/plain": [
       "<IPython.core.display.HTML object>"
      ]
     },
     "metadata": {},
     "output_type": "display_data"
    },
    {
     "data": {
      "text/html": [
       "Syncing run <strong><a href='https://wandb.ai/nadjaflechner/VGG_CAMs/runs/jrnh1qml' target=\"_blank\">legendary-thunder-724</a></strong> to <a href='https://wandb.ai/nadjaflechner/VGG_CAMs' target=\"_blank\">Weights & Biases</a> (<a href='https://wandb.me/run' target=\"_blank\">docs</a>)<br/>"
      ],
      "text/plain": [
       "<IPython.core.display.HTML object>"
      ]
     },
     "metadata": {},
     "output_type": "display_data"
    },
    {
     "data": {
      "text/html": [
       " View project at <a href='https://wandb.ai/nadjaflechner/VGG_CAMs' target=\"_blank\">https://wandb.ai/nadjaflechner/VGG_CAMs</a>"
      ],
      "text/plain": [
       "<IPython.core.display.HTML object>"
      ]
     },
     "metadata": {},
     "output_type": "display_data"
    },
    {
     "data": {
      "text/html": [
       " View run at <a href='https://wandb.ai/nadjaflechner/VGG_CAMs/runs/jrnh1qml' target=\"_blank\">https://wandb.ai/nadjaflechner/VGG_CAMs/runs/jrnh1qml</a>"
      ],
      "text/plain": [
       "<IPython.core.display.HTML object>"
      ]
     },
     "metadata": {},
     "output_type": "display_data"
    },
    {
     "name": "stderr",
     "output_type": "stream",
     "text": [
      "\u001b[34m\u001b[1mwandb\u001b[0m:   1 of 1 files downloaded.  \n"
     ]
    }
   ],
   "source": [
    "############\n",
    "# Imports #\n",
    "############\n",
    "\n",
    "import json\n",
    "import os\n",
    "\n",
    "import torch\n",
    "import wandb\n",
    "from torch.utils.data import DataLoader\n",
    "\n",
    "from model.cnn_classifier import model_4D\n",
    "from model.finetune import FinetuneLoop\n",
    "from model.pseudomask import Pseudomasks\n",
    "from model.train import ClassifierTrainLoop\n",
    "from utils.data_modules import ImageDataset, TestSet, filter_dataset\n",
    "\n",
    "##############################\n",
    "# define train/test function #\n",
    "##############################\n",
    "\n",
    "\n",
    "run = wandb.init(\n",
    "        project=\"VGG_CAMs\",\n",
    "        tags=['PseudomaskGridsearch']\n",
    ")\n",
    "\n",
    "cam_threshold_factor = None\n",
    "std_from_mean = None\n",
    "\n",
    "# define model\n",
    "model_path = \"nadjaflechner/VGG_CAMs/classification_model:v61\"\n",
    "api = wandb.Api()\n",
    "artifact = api.artifact(model_path, type='model')\n",
    "artifact_dir = artifact.download()\n",
    "state_dict = torch.load(f\"{artifact_dir}/model.pth\", map_location=torch.device('cpu'))\n",
    "\n",
    "# define dataset\n",
    "GT_dir = \"/Volumes/USB/Ground_truth/All_GTs\"\n",
    "dataset = TestSet(\"hs\", GT_dir, normalize = False)\n",
    "test_loader = DataLoader(dataset, batch_size=1, shuffle=True)\n",
    "\n",
    "# Make pseudomask generator\n",
    "pseudomask_generator = Pseudomasks(test_loader, cam_threshold_factor, overlap_threshold=0,\n",
    "                                    snic_seeds=0, snic_compactness=0, finetuned=False, std_from_mean=std_from_mean)\n",
    "pseudomask_generator.model_from_dict(state_dict)\n",
    "pseudomask_generator.test_loop_otsu_CAMs(test_loader)\n",
    "\n"
   ]
  },
  {
   "cell_type": "code",
   "execution_count": null,
   "metadata": {},
   "outputs": [],
   "source": []
  }
 ],
 "metadata": {
  "kernelspec": {
   "display_name": "torchvision",
   "language": "python",
   "name": "python3"
  },
  "language_info": {
   "codemirror_mode": {
    "name": "ipython",
    "version": 3
   },
   "file_extension": ".py",
   "mimetype": "text/x-python",
   "name": "python",
   "nbconvert_exporter": "python",
   "pygments_lexer": "ipython3",
   "version": "3.11.5"
  }
 },
 "nbformat": 4,
 "nbformat_minor": 2
}
