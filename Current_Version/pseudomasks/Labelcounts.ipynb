{
 "cells": [
  {
   "cell_type": "code",
   "execution_count": 1,
   "metadata": {},
   "outputs": [
    {
     "name": "stdout",
     "output_type": "stream",
     "text": [
      "Average 'palsa' of the sampled rows: 8.22362385321101\n"
     ]
    }
   ],
   "source": [
    "import pandas as pd\n",
    "filename = '/Users/nadja/Documents/1. Project/Thesis/Permafrost-Segmentation/Supervised_dataset/orig_palsa_labels.csv'\n",
    "\n",
    "# Get all image filenames without extension\n",
    "dataframe = pd.read_csv(\n",
    "    filename, \n",
    "    names=['filename', 'palsa'], \n",
    "    header=0\n",
    "    )\n",
    "\n",
    "dataframe = dataframe.loc[dataframe['palsa']>0]\n",
    "dataframe = dataframe[~dataframe['filename'].str.endswith('aug')]\n",
    "\n",
    "sampled_dataframe = dataframe.sample(frac=0.15, random_state=42)\n",
    "average_palsa = sampled_dataframe['palsa'].mean()\n",
    "print(f\"Average 'palsa' of the sampled rows: {average_palsa}\")\n"
   ]
  },
  {
   "cell_type": "code",
   "execution_count": 13,
   "metadata": {},
   "outputs": [],
   "source": [
    "import pandas as pd \n",
    "\n",
    "file = \"/Users/nadja/Documents/UU/Thesis/Data/orig_palsa_labels.csv\"\n",
    "labels = pd.read_csv(file, header = 0, names = ['image', 'palsa_percentage'])"
   ]
  },
  {
   "cell_type": "code",
   "execution_count": 16,
   "metadata": {},
   "outputs": [
    {
     "data": {
      "text/plain": [
       "10267"
      ]
     },
     "execution_count": 16,
     "metadata": {},
     "output_type": "execute_result"
    }
   ],
   "source": [
    "len(labels[labels['palsa_percentage']==0])"
   ]
  },
  {
   "cell_type": "markdown",
   "metadata": {},
   "source": [
    ">10 = 2868\n",
    "0 = 10267\n",
    "\n",
    "n_samples = 13135\n",
    "weights = [1.28,4.60]"
   ]
  },
  {
   "cell_type": "code",
   "execution_count": 20,
   "metadata": {},
   "outputs": [
    {
     "data": {
      "text/plain": [
       "1.279341579818837"
      ]
     },
     "execution_count": 20,
     "metadata": {},
     "output_type": "execute_result"
    }
   ],
   "source": [
    "13135/10267"
   ]
  },
  {
   "cell_type": "code",
   "execution_count": 4,
   "metadata": {},
   "outputs": [],
   "source": [
    "# Use str.endswith() to create a boolean mask\n",
    "mask = labels['image'].str.endswith('_aug')\n",
    "\n",
    "# Apply the mask to keep only rows where the condition is True\n",
    "labels = labels[~mask]\n",
    "\n",
    "# Reset the index if needed\n",
    "labels = labels.reset_index(drop=True)"
   ]
  },
  {
   "cell_type": "code",
   "execution_count": 5,
   "metadata": {},
   "outputs": [
    {
     "data": {
      "text/html": [
       "<div>\n",
       "<style scoped>\n",
       "    .dataframe tbody tr th:only-of-type {\n",
       "        vertical-align: middle;\n",
       "    }\n",
       "\n",
       "    .dataframe tbody tr th {\n",
       "        vertical-align: top;\n",
       "    }\n",
       "\n",
       "    .dataframe thead th {\n",
       "        text-align: right;\n",
       "    }\n",
       "</style>\n",
       "<table border=\"1\" class=\"dataframe\">\n",
       "  <thead>\n",
       "    <tr style=\"text-align: right;\">\n",
       "      <th></th>\n",
       "      <th>image</th>\n",
       "      <th>palsa_percentage</th>\n",
       "    </tr>\n",
       "  </thead>\n",
       "  <tbody>\n",
       "    <tr>\n",
       "      <th>0</th>\n",
       "      <td>760_73_5025_2018_crop_14</td>\n",
       "      <td>7.25</td>\n",
       "    </tr>\n",
       "    <tr>\n",
       "      <th>1</th>\n",
       "      <td>760_73_5025_2018_crop_15</td>\n",
       "      <td>0.75</td>\n",
       "    </tr>\n",
       "    <tr>\n",
       "      <th>2</th>\n",
       "      <td>760_73_5025_2018_crop_16</td>\n",
       "      <td>3.25</td>\n",
       "    </tr>\n",
       "    <tr>\n",
       "      <th>3</th>\n",
       "      <td>760_73_5025_2018_crop_17</td>\n",
       "      <td>1.50</td>\n",
       "    </tr>\n",
       "    <tr>\n",
       "      <th>4</th>\n",
       "      <td>760_73_5025_2018_crop_18</td>\n",
       "      <td>7.50</td>\n",
       "    </tr>\n",
       "    <tr>\n",
       "      <th>...</th>\n",
       "      <td>...</td>\n",
       "      <td>...</td>\n",
       "    </tr>\n",
       "    <tr>\n",
       "      <th>14581</th>\n",
       "      <td>763_72_2550_2018_negcrop_6</td>\n",
       "      <td>0.00</td>\n",
       "    </tr>\n",
       "    <tr>\n",
       "      <th>14582</th>\n",
       "      <td>763_72_2550_2018_negcrop_7</td>\n",
       "      <td>0.00</td>\n",
       "    </tr>\n",
       "    <tr>\n",
       "      <th>14583</th>\n",
       "      <td>763_72_2550_2018_negcrop_8</td>\n",
       "      <td>0.00</td>\n",
       "    </tr>\n",
       "    <tr>\n",
       "      <th>14584</th>\n",
       "      <td>763_72_2550_2018_negcrop_9</td>\n",
       "      <td>0.00</td>\n",
       "    </tr>\n",
       "    <tr>\n",
       "      <th>14585</th>\n",
       "      <td>763_72_2550_2018_negcrop_10</td>\n",
       "      <td>0.00</td>\n",
       "    </tr>\n",
       "  </tbody>\n",
       "</table>\n",
       "<p>14586 rows × 2 columns</p>\n",
       "</div>"
      ],
      "text/plain": [
       "                             image  palsa_percentage\n",
       "0         760_73_5025_2018_crop_14              7.25\n",
       "1         760_73_5025_2018_crop_15              0.75\n",
       "2         760_73_5025_2018_crop_16              3.25\n",
       "3         760_73_5025_2018_crop_17              1.50\n",
       "4         760_73_5025_2018_crop_18              7.50\n",
       "...                            ...               ...\n",
       "14581   763_72_2550_2018_negcrop_6              0.00\n",
       "14582   763_72_2550_2018_negcrop_7              0.00\n",
       "14583   763_72_2550_2018_negcrop_8              0.00\n",
       "14584   763_72_2550_2018_negcrop_9              0.00\n",
       "14585  763_72_2550_2018_negcrop_10              0.00\n",
       "\n",
       "[14586 rows x 2 columns]"
      ]
     },
     "execution_count": 5,
     "metadata": {},
     "output_type": "execute_result"
    }
   ],
   "source": [
    "labels"
   ]
  },
  {
   "cell_type": "code",
   "execution_count": 22,
   "metadata": {},
   "outputs": [
    {
     "data": {
      "text/plain": [
       "14586"
      ]
     },
     "execution_count": 22,
     "metadata": {},
     "output_type": "execute_result"
    }
   ],
   "source": [
    "len(labels)"
   ]
  },
  {
   "cell_type": "code",
   "execution_count": 11,
   "metadata": {},
   "outputs": [
    {
     "data": {
      "text/plain": [
       "1434"
      ]
     },
     "execution_count": 11,
     "metadata": {},
     "output_type": "execute_result"
    }
   ],
   "source": [
    "len(labels[labels['palsa_percentage']>=10])"
   ]
  },
  {
   "cell_type": "code",
   "execution_count": 12,
   "metadata": {},
   "outputs": [
    {
     "data": {
      "text/plain": [
       "10205"
      ]
     },
     "execution_count": 12,
     "metadata": {},
     "output_type": "execute_result"
    }
   ],
   "source": [
    "1434 +8771 "
   ]
  },
  {
   "cell_type": "code",
   "execution_count": 4,
   "metadata": {},
   "outputs": [],
   "source": [
    "def nearest_10(num):\n",
    "    if num<10:\n",
    "        return 0\n",
    "    else: \n",
    "        return int(str(num)[0])*10"
   ]
  },
  {
   "cell_type": "code",
   "execution_count": 5,
   "metadata": {},
   "outputs": [],
   "source": [
    "labels['nearest10'] = labels['palsa_percentage'].apply(nearest_10)"
   ]
  },
  {
   "cell_type": "code",
   "execution_count": 6,
   "metadata": {},
   "outputs": [
    {
     "data": {
      "text/plain": [
       "nearest10\n",
       "0     19029\n",
       "10     1534\n",
       "20      664\n",
       "30      358\n",
       "40      180\n",
       "50       86\n",
       "60       34\n",
       "70        8\n",
       "80        4\n",
       "Name: count, dtype: int64"
      ]
     },
     "execution_count": 6,
     "metadata": {},
     "output_type": "execute_result"
    }
   ],
   "source": [
    "labels['nearest10'].value_counts()"
   ]
  },
  {
   "cell_type": "code",
   "execution_count": 8,
   "metadata": {},
   "outputs": [],
   "source": [
    "nozero = labels.loc[labels['palsa_percentage']>0]"
   ]
  },
  {
   "cell_type": "code",
   "execution_count": 9,
   "metadata": {},
   "outputs": [
    {
     "data": {
      "text/html": [
       "<div>\n",
       "<style scoped>\n",
       "    .dataframe tbody tr th:only-of-type {\n",
       "        vertical-align: middle;\n",
       "    }\n",
       "\n",
       "    .dataframe tbody tr th {\n",
       "        vertical-align: top;\n",
       "    }\n",
       "\n",
       "    .dataframe thead th {\n",
       "        text-align: right;\n",
       "    }\n",
       "</style>\n",
       "<table border=\"1\" class=\"dataframe\">\n",
       "  <thead>\n",
       "    <tr style=\"text-align: right;\">\n",
       "      <th></th>\n",
       "      <th>Unnamed: 0</th>\n",
       "      <th>palsa_percentage</th>\n",
       "      <th>nearest10</th>\n",
       "    </tr>\n",
       "  </thead>\n",
       "  <tbody>\n",
       "    <tr>\n",
       "      <th>0</th>\n",
       "      <td>760_73_5025_2018_crop_14</td>\n",
       "      <td>7.25</td>\n",
       "      <td>0</td>\n",
       "    </tr>\n",
       "    <tr>\n",
       "      <th>1</th>\n",
       "      <td>760_73_5025_2018_crop_15</td>\n",
       "      <td>0.75</td>\n",
       "      <td>0</td>\n",
       "    </tr>\n",
       "    <tr>\n",
       "      <th>2</th>\n",
       "      <td>760_73_5025_2018_crop_16</td>\n",
       "      <td>3.25</td>\n",
       "      <td>0</td>\n",
       "    </tr>\n",
       "    <tr>\n",
       "      <th>3</th>\n",
       "      <td>760_73_5025_2018_crop_17</td>\n",
       "      <td>1.50</td>\n",
       "      <td>0</td>\n",
       "    </tr>\n",
       "    <tr>\n",
       "      <th>4</th>\n",
       "      <td>760_73_5025_2018_crop_18</td>\n",
       "      <td>7.50</td>\n",
       "      <td>0</td>\n",
       "    </tr>\n",
       "    <tr>\n",
       "      <th>...</th>\n",
       "      <td>...</td>\n",
       "      <td>...</td>\n",
       "      <td>...</td>\n",
       "    </tr>\n",
       "    <tr>\n",
       "      <th>21891</th>\n",
       "      <td>763_72_2550_2018_crop_80_aug</td>\n",
       "      <td>6.50</td>\n",
       "      <td>0</td>\n",
       "    </tr>\n",
       "    <tr>\n",
       "      <th>21893</th>\n",
       "      <td>763_72_2550_2018_crop_93_aug</td>\n",
       "      <td>7.25</td>\n",
       "      <td>0</td>\n",
       "    </tr>\n",
       "    <tr>\n",
       "      <th>21894</th>\n",
       "      <td>763_72_2550_2018_crop_94_aug</td>\n",
       "      <td>2.50</td>\n",
       "      <td>0</td>\n",
       "    </tr>\n",
       "    <tr>\n",
       "      <th>21895</th>\n",
       "      <td>763_72_2550_2018_crop_104_aug</td>\n",
       "      <td>5.00</td>\n",
       "      <td>0</td>\n",
       "    </tr>\n",
       "    <tr>\n",
       "      <th>21896</th>\n",
       "      <td>763_72_2550_2018_crop_105_aug</td>\n",
       "      <td>0.75</td>\n",
       "      <td>0</td>\n",
       "    </tr>\n",
       "  </tbody>\n",
       "</table>\n",
       "<p>11630 rows × 3 columns</p>\n",
       "</div>"
      ],
      "text/plain": [
       "                          Unnamed: 0  palsa_percentage  nearest10\n",
       "0           760_73_5025_2018_crop_14              7.25          0\n",
       "1           760_73_5025_2018_crop_15              0.75          0\n",
       "2           760_73_5025_2018_crop_16              3.25          0\n",
       "3           760_73_5025_2018_crop_17              1.50          0\n",
       "4           760_73_5025_2018_crop_18              7.50          0\n",
       "...                              ...               ...        ...\n",
       "21891   763_72_2550_2018_crop_80_aug              6.50          0\n",
       "21893   763_72_2550_2018_crop_93_aug              7.25          0\n",
       "21894   763_72_2550_2018_crop_94_aug              2.50          0\n",
       "21895  763_72_2550_2018_crop_104_aug              5.00          0\n",
       "21896  763_72_2550_2018_crop_105_aug              0.75          0\n",
       "\n",
       "[11630 rows x 3 columns]"
      ]
     },
     "execution_count": 9,
     "metadata": {},
     "output_type": "execute_result"
    }
   ],
   "source": [
    "nozero\n"
   ]
  },
  {
   "cell_type": "code",
   "execution_count": 10,
   "metadata": {},
   "outputs": [
    {
     "name": "stderr",
     "output_type": "stream",
     "text": [
      "/var/folders/wm/j23cgbjn0m15n_64hfkt3n500000gn/T/ipykernel_25757/1831171057.py:1: SettingWithCopyWarning: \n",
      "A value is trying to be set on a copy of a slice from a DataFrame.\n",
      "Try using .loc[row_indexer,col_indexer] = value instead\n",
      "\n",
      "See the caveats in the documentation: https://pandas.pydata.org/pandas-docs/stable/user_guide/indexing.html#returning-a-view-versus-a-copy\n",
      "  nozero['nearest10'] = nozero['palsa_percentage'].apply(nearest_10)\n"
     ]
    }
   ],
   "source": [
    "nozero['nearest10'] = nozero['palsa_percentage'].apply(nearest_10)"
   ]
  },
  {
   "cell_type": "code",
   "execution_count": 11,
   "metadata": {},
   "outputs": [
    {
     "data": {
      "text/plain": [
       "nearest10\n",
       "0     8762\n",
       "10    1534\n",
       "20     664\n",
       "30     358\n",
       "40     180\n",
       "50      86\n",
       "60      34\n",
       "70       8\n",
       "80       4\n",
       "Name: count, dtype: int64"
      ]
     },
     "execution_count": 11,
     "metadata": {},
     "output_type": "execute_result"
    }
   ],
   "source": [
    "nozero['nearest10'].value_counts()"
   ]
  },
  {
   "cell_type": "code",
   "execution_count": 12,
   "metadata": {},
   "outputs": [
    {
     "data": {
      "text/plain": [
       "0.753396388650043"
      ]
     },
     "execution_count": 12,
     "metadata": {},
     "output_type": "execute_result"
    }
   ],
   "source": [
    "8762/11630"
   ]
  },
  {
   "cell_type": "code",
   "execution_count": 1,
   "metadata": {},
   "outputs": [],
   "source": [
    "import pandas as pd \n",
    "\n",
    "files = pd.read_csv(\"/Users/nadja/Documents/UU/Thesis/Data/FINALFINAL_200m_groundtruths/new_palsa_labels.csv\")"
   ]
  },
  {
   "cell_type": "code",
   "execution_count": 2,
   "metadata": {},
   "outputs": [
    {
     "data": {
      "text/html": [
       "<div>\n",
       "<style scoped>\n",
       "    .dataframe tbody tr th:only-of-type {\n",
       "        vertical-align: middle;\n",
       "    }\n",
       "\n",
       "    .dataframe tbody tr th {\n",
       "        vertical-align: top;\n",
       "    }\n",
       "\n",
       "    .dataframe thead th {\n",
       "        text-align: right;\n",
       "    }\n",
       "</style>\n",
       "<table border=\"1\" class=\"dataframe\">\n",
       "  <thead>\n",
       "    <tr style=\"text-align: right;\">\n",
       "      <th></th>\n",
       "      <th>Unnamed: 0</th>\n",
       "      <th>palsa_percentage</th>\n",
       "      <th>matthias_percentage</th>\n",
       "      <th>difference</th>\n",
       "    </tr>\n",
       "  </thead>\n",
       "  <tbody>\n",
       "    <tr>\n",
       "      <th>0</th>\n",
       "      <td>757_69_5050_2014_crop_3</td>\n",
       "      <td>1.50</td>\n",
       "      <td>1.6100</td>\n",
       "      <td>0.1100</td>\n",
       "    </tr>\n",
       "    <tr>\n",
       "      <th>1</th>\n",
       "      <td>757_69_5050_2014_crop_4</td>\n",
       "      <td>1.75</td>\n",
       "      <td>4.1225</td>\n",
       "      <td>2.3725</td>\n",
       "    </tr>\n",
       "    <tr>\n",
       "      <th>2</th>\n",
       "      <td>757_69_5050_2014_crop_15</td>\n",
       "      <td>2.25</td>\n",
       "      <td>1.7400</td>\n",
       "      <td>0.5100</td>\n",
       "    </tr>\n",
       "    <tr>\n",
       "      <th>3</th>\n",
       "      <td>757_69_5050_2014_crop_16</td>\n",
       "      <td>8.50</td>\n",
       "      <td>3.4075</td>\n",
       "      <td>5.0925</td>\n",
       "    </tr>\n",
       "    <tr>\n",
       "      <th>4</th>\n",
       "      <td>757_69_5050_2014_crop_17</td>\n",
       "      <td>2.50</td>\n",
       "      <td>3.5725</td>\n",
       "      <td>1.0725</td>\n",
       "    </tr>\n",
       "  </tbody>\n",
       "</table>\n",
       "</div>"
      ],
      "text/plain": [
       "                 Unnamed: 0  palsa_percentage  matthias_percentage  difference\n",
       "0   757_69_5050_2014_crop_3              1.50               1.6100      0.1100\n",
       "1   757_69_5050_2014_crop_4              1.75               4.1225      2.3725\n",
       "2  757_69_5050_2014_crop_15              2.25               1.7400      0.5100\n",
       "3  757_69_5050_2014_crop_16              8.50               3.4075      5.0925\n",
       "4  757_69_5050_2014_crop_17              2.50               3.5725      1.0725"
      ]
     },
     "execution_count": 2,
     "metadata": {},
     "output_type": "execute_result"
    }
   ],
   "source": [
    "files.head()"
   ]
  },
  {
   "cell_type": "code",
   "execution_count": 2,
   "metadata": {},
   "outputs": [
    {
     "data": {
      "text/plain": [
       "620"
      ]
     },
     "execution_count": 2,
     "metadata": {},
     "output_type": "execute_result"
    }
   ],
   "source": [
    "len(files[files['difference']<10])"
   ]
  },
  {
   "cell_type": "code",
   "execution_count": 4,
   "metadata": {},
   "outputs": [
    {
     "data": {
      "text/plain": [
       "2042.7375"
      ]
     },
     "execution_count": 4,
     "metadata": {},
     "output_type": "execute_result"
    }
   ],
   "source": [
    "sum(files['matthias_percentage'])"
   ]
  },
  {
   "cell_type": "code",
   "execution_count": 5,
   "metadata": {},
   "outputs": [
    {
     "data": {
      "text/plain": [
       "640"
      ]
     },
     "execution_count": 5,
     "metadata": {},
     "output_type": "execute_result"
    }
   ],
   "source": [
    "len(files)"
   ]
  },
  {
   "cell_type": "code",
   "execution_count": 11,
   "metadata": {},
   "outputs": [
    {
     "data": {
      "text/plain": [
       "0.0640625"
      ]
     },
     "execution_count": 11,
     "metadata": {},
     "output_type": "execute_result"
    }
   ],
   "source": [
    "41/640"
   ]
  },
  {
   "cell_type": "code",
   "execution_count": 12,
   "metadata": {},
   "outputs": [
    {
     "data": {
      "text/plain": [
       "187"
      ]
     },
     "execution_count": 12,
     "metadata": {},
     "output_type": "execute_result"
    }
   ],
   "source": [
    "len(files[files[\"palsa_percentage\"]!=0])"
   ]
  },
  {
   "cell_type": "code",
   "execution_count": 10,
   "metadata": {},
   "outputs": [
    {
     "data": {
      "text/plain": [
       "2042.1425000000002"
      ]
     },
     "execution_count": 10,
     "metadata": {},
     "output_type": "execute_result"
    }
   ],
   "source": [
    "sum(files[files[\"palsa_percentage\"]!=0]['matthias_percentage'])"
   ]
  },
  {
   "cell_type": "code",
   "execution_count": 13,
   "metadata": {},
   "outputs": [
    {
     "data": {
      "text/plain": [
       "3.4224598930481283"
      ]
     },
     "execution_count": 13,
     "metadata": {},
     "output_type": "execute_result"
    }
   ],
   "source": [
    "640/187"
   ]
  },
  {
   "cell_type": "code",
   "execution_count": 2,
   "metadata": {},
   "outputs": [],
   "source": [
    "import pandas as pd\n",
    "orig_files = pd.read_csv(\"/home/nadjaflechner/Palsa_data/generated_datasets/Verified_GTs/new_palsa_labels.csv\")\n"
   ]
  },
  {
   "cell_type": "code",
   "execution_count": 3,
   "metadata": {},
   "outputs": [
    {
     "data": {
      "text/html": [
       "<div>\n",
       "<style scoped>\n",
       "    .dataframe tbody tr th:only-of-type {\n",
       "        vertical-align: middle;\n",
       "    }\n",
       "\n",
       "    .dataframe tbody tr th {\n",
       "        vertical-align: top;\n",
       "    }\n",
       "\n",
       "    .dataframe thead th {\n",
       "        text-align: right;\n",
       "    }\n",
       "</style>\n",
       "<table border=\"1\" class=\"dataframe\">\n",
       "  <thead>\n",
       "    <tr style=\"text-align: right;\">\n",
       "      <th></th>\n",
       "      <th>Unnamed: 0</th>\n",
       "      <th>palsa_percentage</th>\n",
       "      <th>matthias_percentage</th>\n",
       "      <th>difference</th>\n",
       "    </tr>\n",
       "  </thead>\n",
       "  <tbody>\n",
       "    <tr>\n",
       "      <th>0</th>\n",
       "      <td>757_69_5050_2014_crop_25</td>\n",
       "      <td>1.50</td>\n",
       "      <td>1.3950</td>\n",
       "      <td>0.1050</td>\n",
       "    </tr>\n",
       "    <tr>\n",
       "      <th>1</th>\n",
       "      <td>757_69_5050_2014_crop_26</td>\n",
       "      <td>0.50</td>\n",
       "      <td>0.0500</td>\n",
       "      <td>0.4500</td>\n",
       "    </tr>\n",
       "    <tr>\n",
       "      <th>2</th>\n",
       "      <td>757_69_5050_2014_crop_30</td>\n",
       "      <td>3.00</td>\n",
       "      <td>2.7900</td>\n",
       "      <td>0.2100</td>\n",
       "    </tr>\n",
       "    <tr>\n",
       "      <th>3</th>\n",
       "      <td>753_67_2550_2014_crop_36</td>\n",
       "      <td>1.25</td>\n",
       "      <td>0.0725</td>\n",
       "      <td>1.1775</td>\n",
       "    </tr>\n",
       "    <tr>\n",
       "      <th>4</th>\n",
       "      <td>753_67_2550_2014_crop_50</td>\n",
       "      <td>2.75</td>\n",
       "      <td>0.5700</td>\n",
       "      <td>2.1800</td>\n",
       "    </tr>\n",
       "  </tbody>\n",
       "</table>\n",
       "</div>"
      ],
      "text/plain": [
       "                 Unnamed: 0  palsa_percentage  matthias_percentage  difference\n",
       "0  757_69_5050_2014_crop_25              1.50               1.3950      0.1050\n",
       "1  757_69_5050_2014_crop_26              0.50               0.0500      0.4500\n",
       "2  757_69_5050_2014_crop_30              3.00               2.7900      0.2100\n",
       "3  753_67_2550_2014_crop_36              1.25               0.0725      1.1775\n",
       "4  753_67_2550_2014_crop_50              2.75               0.5700      2.1800"
      ]
     },
     "execution_count": 3,
     "metadata": {},
     "output_type": "execute_result"
    }
   ],
   "source": [
    "orig_files.head()"
   ]
  },
  {
   "cell_type": "code",
   "execution_count": 6,
   "metadata": {},
   "outputs": [
    {
     "data": {
      "text/plain": [
       "111"
      ]
     },
     "execution_count": 6,
     "metadata": {},
     "output_type": "execute_result"
    }
   ],
   "source": [
    "len(orig_files[orig_files['matthias_percentage'] >0])"
   ]
  },
  {
   "cell_type": "markdown",
   "metadata": {},
   "source": [
    "Making Test/Train split of the GTs"
   ]
  },
  {
   "cell_type": "code",
   "execution_count": 9,
   "metadata": {},
   "outputs": [],
   "source": [
    "import pandas as pd \n",
    "\n",
    "names = pd.read_csv(\"/Volumes/USB/Ground_truth/Verified_GTs/new_palsa_labels.csv\", header=1, names=['filename','palsa_percentage', 'matthias', 'diff'])"
   ]
  },
  {
   "cell_type": "code",
   "execution_count": 10,
   "metadata": {},
   "outputs": [
    {
     "data": {
      "text/html": [
       "<div>\n",
       "<style scoped>\n",
       "    .dataframe tbody tr th:only-of-type {\n",
       "        vertical-align: middle;\n",
       "    }\n",
       "\n",
       "    .dataframe tbody tr th {\n",
       "        vertical-align: top;\n",
       "    }\n",
       "\n",
       "    .dataframe thead th {\n",
       "        text-align: right;\n",
       "    }\n",
       "</style>\n",
       "<table border=\"1\" class=\"dataframe\">\n",
       "  <thead>\n",
       "    <tr style=\"text-align: right;\">\n",
       "      <th></th>\n",
       "      <th>filename</th>\n",
       "      <th>palsa_percentage</th>\n",
       "      <th>matthias</th>\n",
       "      <th>diff</th>\n",
       "    </tr>\n",
       "  </thead>\n",
       "  <tbody>\n",
       "    <tr>\n",
       "      <th>0</th>\n",
       "      <td>757_69_5050_2014_crop_26</td>\n",
       "      <td>0.50</td>\n",
       "      <td>0.0500</td>\n",
       "      <td>0.4500</td>\n",
       "    </tr>\n",
       "    <tr>\n",
       "      <th>1</th>\n",
       "      <td>757_69_5050_2014_crop_30</td>\n",
       "      <td>3.00</td>\n",
       "      <td>2.7900</td>\n",
       "      <td>0.2100</td>\n",
       "    </tr>\n",
       "    <tr>\n",
       "      <th>2</th>\n",
       "      <td>753_67_2550_2014_crop_36</td>\n",
       "      <td>1.25</td>\n",
       "      <td>0.0725</td>\n",
       "      <td>1.1775</td>\n",
       "    </tr>\n",
       "    <tr>\n",
       "      <th>3</th>\n",
       "      <td>753_67_2550_2014_crop_50</td>\n",
       "      <td>2.75</td>\n",
       "      <td>0.5700</td>\n",
       "      <td>2.1800</td>\n",
       "    </tr>\n",
       "    <tr>\n",
       "      <th>4</th>\n",
       "      <td>753_67_2550_2014_crop_51</td>\n",
       "      <td>41.50</td>\n",
       "      <td>37.9500</td>\n",
       "      <td>3.5500</td>\n",
       "    </tr>\n",
       "  </tbody>\n",
       "</table>\n",
       "</div>"
      ],
      "text/plain": [
       "                   filename  palsa_percentage  matthias    diff\n",
       "0  757_69_5050_2014_crop_26              0.50    0.0500  0.4500\n",
       "1  757_69_5050_2014_crop_30              3.00    2.7900  0.2100\n",
       "2  753_67_2550_2014_crop_36              1.25    0.0725  1.1775\n",
       "3  753_67_2550_2014_crop_50              2.75    0.5700  2.1800\n",
       "4  753_67_2550_2014_crop_51             41.50   37.9500  3.5500"
      ]
     },
     "execution_count": 10,
     "metadata": {},
     "output_type": "execute_result"
    }
   ],
   "source": [
    "names.head()"
   ]
  },
  {
   "cell_type": "code",
   "execution_count": 11,
   "metadata": {},
   "outputs": [],
   "source": [
    "filtered_names = names[names['palsa_percentage'] > 0]"
   ]
  },
  {
   "cell_type": "code",
   "execution_count": 23,
   "metadata": {},
   "outputs": [],
   "source": [
    "above7 = filtered_names[filtered_names['palsa_percentage']>7]"
   ]
  },
  {
   "cell_type": "code",
   "execution_count": 25,
   "metadata": {},
   "outputs": [
    {
     "data": {
      "text/plain": [
       "(64, 42)"
      ]
     },
     "execution_count": 25,
     "metadata": {},
     "output_type": "execute_result"
    }
   ],
   "source": [
    "train_set = above7.sample(frac=0.6, random_state=42)\n",
    "test_set = above7.drop(train_set.index)\n",
    "\n",
    "remaining = filtered_names[~filtered_names.index.isin(above7.index)]\n",
    "remaining_train = remaining.sample(frac=0.6, random_state=42)\n",
    "train_set = pd.concat([train_set, remaining_train])\n",
    "test_set = pd.concat([test_set, remaining.drop(remaining_train.index)])\n",
    "\n",
    "len(train_set), len(test_set)"
   ]
  },
  {
   "cell_type": "code",
   "execution_count": 27,
   "metadata": {},
   "outputs": [
    {
     "data": {
      "text/html": [
       "<div>\n",
       "<style scoped>\n",
       "    .dataframe tbody tr th:only-of-type {\n",
       "        vertical-align: middle;\n",
       "    }\n",
       "\n",
       "    .dataframe tbody tr th {\n",
       "        vertical-align: top;\n",
       "    }\n",
       "\n",
       "    .dataframe thead th {\n",
       "        text-align: right;\n",
       "    }\n",
       "</style>\n",
       "<table border=\"1\" class=\"dataframe\">\n",
       "  <thead>\n",
       "    <tr style=\"text-align: right;\">\n",
       "      <th></th>\n",
       "      <th>filename</th>\n",
       "      <th>palsa_percentage</th>\n",
       "      <th>matthias</th>\n",
       "      <th>diff</th>\n",
       "    </tr>\n",
       "  </thead>\n",
       "  <tbody>\n",
       "    <tr>\n",
       "      <th>35</th>\n",
       "      <td>757_69_2575_2014_crop_14</td>\n",
       "      <td>14.50</td>\n",
       "      <td>20.1650</td>\n",
       "      <td>5.6650</td>\n",
       "    </tr>\n",
       "    <tr>\n",
       "      <th>32</th>\n",
       "      <td>760_74_5025_2018_crop_48</td>\n",
       "      <td>22.75</td>\n",
       "      <td>28.4775</td>\n",
       "      <td>5.7275</td>\n",
       "    </tr>\n",
       "    <tr>\n",
       "      <th>31</th>\n",
       "      <td>760_74_5025_2018_crop_37</td>\n",
       "      <td>25.00</td>\n",
       "      <td>31.6725</td>\n",
       "      <td>6.6725</td>\n",
       "    </tr>\n",
       "    <tr>\n",
       "      <th>49</th>\n",
       "      <td>764_75_2500_2015_crop_78</td>\n",
       "      <td>16.75</td>\n",
       "      <td>21.7150</td>\n",
       "      <td>4.9650</td>\n",
       "    </tr>\n",
       "    <tr>\n",
       "      <th>10</th>\n",
       "      <td>753_67_2550_2014_crop_86</td>\n",
       "      <td>22.75</td>\n",
       "      <td>19.3975</td>\n",
       "      <td>3.3525</td>\n",
       "    </tr>\n",
       "  </tbody>\n",
       "</table>\n",
       "</div>"
      ],
      "text/plain": [
       "                    filename  palsa_percentage  matthias    diff\n",
       "35  757_69_2575_2014_crop_14             14.50   20.1650  5.6650\n",
       "32  760_74_5025_2018_crop_48             22.75   28.4775  5.7275\n",
       "31  760_74_5025_2018_crop_37             25.00   31.6725  6.6725\n",
       "49  764_75_2500_2015_crop_78             16.75   21.7150  4.9650\n",
       "10  753_67_2550_2014_crop_86             22.75   19.3975  3.3525"
      ]
     },
     "execution_count": 27,
     "metadata": {},
     "output_type": "execute_result"
    }
   ],
   "source": [
    "train_set.head()"
   ]
  },
  {
   "cell_type": "code",
   "execution_count": 26,
   "metadata": {},
   "outputs": [],
   "source": [
    "all_GT_path = \"/Volumes/USB/Ground_truth/All_GTs\"\n",
    "train_GT_path = \"/Volumes/USB/Ground_truth/Optimize_GTs\"\n",
    "test_GT_path = \"/Volumes/USB/Ground_truth/TEST_GTs\"\n",
    "\n",
    "import os\n",
    "import shutil\n",
    "\n",
    "# Define the subfolders\n",
    "subfolders = ['hs', 'rgb', 'dem', 'groundtruth_mask']\n",
    "\n",
    "# Create train and test directories and copy files\n",
    "for subfolder in subfolders:\n",
    "    # Create the full paths for train and test directories\n",
    "    train_subfolder_path = os.path.join(train_GT_path, subfolder)\n",
    "    test_subfolder_path = os.path.join(test_GT_path, subfolder)\n",
    "    \n",
    "    # Create the directories if they do not exist\n",
    "    os.makedirs(train_subfolder_path, exist_ok=True)\n",
    "    os.makedirs(test_subfolder_path, exist_ok=True)\n",
    "    \n",
    "    # Copy train set files\n",
    "    for _, row in train_set.iterrows():\n",
    "        src_file = os.path.join(all_GT_path, subfolder, row['filename'] + '.tif')\n",
    "        dst_file = os.path.join(train_subfolder_path, row['filename'] + '.tif')\n",
    "        shutil.copy(src_file, dst_file)\n",
    "    \n",
    "    # Copy test set files\n",
    "    for _, row in test_set.iterrows():\n",
    "        src_file = os.path.join(all_GT_path, subfolder, row['filename'] + '.tif')\n",
    "        dst_file = os.path.join(test_subfolder_path, row['filename'] + '.tif')\n",
    "        shutil.copy(src_file, dst_file)\n"
   ]
  },
  {
   "cell_type": "code",
   "execution_count": 28,
   "metadata": {},
   "outputs": [],
   "source": [
    "train_set.to_csv(os.path.join(train_GT_path, 'palsa_labels.csv'), index=False)\n",
    "test_set.to_csv(os.path.join(test_GT_path, 'palsa_labels.csv'), index=False)\n"
   ]
  },
  {
   "cell_type": "code",
   "execution_count": null,
   "metadata": {},
   "outputs": [],
   "source": []
  }
 ],
 "metadata": {
  "kernelspec": {
   "display_name": "palsa_env_torch",
   "language": "python",
   "name": "python3"
  },
  "language_info": {
   "codemirror_mode": {
    "name": "ipython",
    "version": 3
   },
   "file_extension": ".py",
   "mimetype": "text/x-python",
   "name": "python",
   "nbconvert_exporter": "python",
   "pygments_lexer": "ipython3",
   "version": "3.11.5"
  }
 },
 "nbformat": 4,
 "nbformat_minor": 2
}
