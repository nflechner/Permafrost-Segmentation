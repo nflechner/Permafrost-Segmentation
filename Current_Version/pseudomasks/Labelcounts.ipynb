{
 "cells": [
  {
   "cell_type": "code",
   "execution_count": 1,
   "metadata": {},
   "outputs": [
    {
     "name": "stdout",
     "output_type": "stream",
     "text": [
      "Average 'palsa' of the sampled rows: 8.22362385321101\n"
     ]
    }
   ],
   "source": [
    "import pandas as pd\n",
    "filename = '/Users/nadja/Documents/1. Project/Thesis/Permafrost-Segmentation/Supervised_dataset/orig_palsa_labels.csv'\n",
    "\n",
    "# Get all image filenames without extension\n",
    "dataframe = pd.read_csv(\n",
    "    filename, \n",
    "    names=['filename', 'palsa'], \n",
    "    header=0\n",
    "    )\n",
    "\n",
    "dataframe = dataframe.loc[dataframe['palsa']>0]\n",
    "dataframe = dataframe[~dataframe['filename'].str.endswith('aug')]\n",
    "\n",
    "sampled_dataframe = dataframe.sample(frac=0.15, random_state=42)\n",
    "average_palsa = sampled_dataframe['palsa'].mean()\n",
    "print(f\"Average 'palsa' of the sampled rows: {average_palsa}\")\n"
   ]
  },
  {
   "cell_type": "code",
   "execution_count": 13,
   "metadata": {},
   "outputs": [],
   "source": [
    "import pandas as pd \n",
    "\n",
    "file = \"/Users/nadja/Documents/UU/Thesis/Data/orig_palsa_labels.csv\"\n",
    "labels = pd.read_csv(file, header = 0, names = ['image', 'palsa_percentage'])"
   ]
  },
  {
   "cell_type": "code",
   "execution_count": 16,
   "metadata": {},
   "outputs": [
    {
     "data": {
      "text/plain": [
       "10267"
      ]
     },
     "execution_count": 16,
     "metadata": {},
     "output_type": "execute_result"
    }
   ],
   "source": [
    "len(labels[labels['palsa_percentage']==0])"
   ]
  },
  {
   "cell_type": "markdown",
   "metadata": {},
   "source": [
    ">10 = 2868\n",
    "0 = 10267\n",
    "\n",
    "n_samples = 13135\n",
    "weights = [1.28,4.60]"
   ]
  },
  {
   "cell_type": "code",
   "execution_count": 20,
   "metadata": {},
   "outputs": [
    {
     "data": {
      "text/plain": [
       "1.279341579818837"
      ]
     },
     "execution_count": 20,
     "metadata": {},
     "output_type": "execute_result"
    }
   ],
   "source": [
    "13135/10267"
   ]
  },
  {
   "cell_type": "code",
   "execution_count": 4,
   "metadata": {},
   "outputs": [],
   "source": [
    "# Use str.endswith() to create a boolean mask\n",
    "mask = labels['image'].str.endswith('_aug')\n",
    "\n",
    "# Apply the mask to keep only rows where the condition is True\n",
    "labels = labels[~mask]\n",
    "\n",
    "# Reset the index if needed\n",
    "labels = labels.reset_index(drop=True)"
   ]
  },
  {
   "cell_type": "code",
   "execution_count": 5,
   "metadata": {},
   "outputs": [
    {
     "data": {
      "text/html": [
       "<div>\n",
       "<style scoped>\n",
       "    .dataframe tbody tr th:only-of-type {\n",
       "        vertical-align: middle;\n",
       "    }\n",
       "\n",
       "    .dataframe tbody tr th {\n",
       "        vertical-align: top;\n",
       "    }\n",
       "\n",
       "    .dataframe thead th {\n",
       "        text-align: right;\n",
       "    }\n",
       "</style>\n",
       "<table border=\"1\" class=\"dataframe\">\n",
       "  <thead>\n",
       "    <tr style=\"text-align: right;\">\n",
       "      <th></th>\n",
       "      <th>image</th>\n",
       "      <th>palsa_percentage</th>\n",
       "    </tr>\n",
       "  </thead>\n",
       "  <tbody>\n",
       "    <tr>\n",
       "      <th>0</th>\n",
       "      <td>760_73_5025_2018_crop_14</td>\n",
       "      <td>7.25</td>\n",
       "    </tr>\n",
       "    <tr>\n",
       "      <th>1</th>\n",
       "      <td>760_73_5025_2018_crop_15</td>\n",
       "      <td>0.75</td>\n",
       "    </tr>\n",
       "    <tr>\n",
       "      <th>2</th>\n",
       "      <td>760_73_5025_2018_crop_16</td>\n",
       "      <td>3.25</td>\n",
       "    </tr>\n",
       "    <tr>\n",
       "      <th>3</th>\n",
       "      <td>760_73_5025_2018_crop_17</td>\n",
       "      <td>1.50</td>\n",
       "    </tr>\n",
       "    <tr>\n",
       "      <th>4</th>\n",
       "      <td>760_73_5025_2018_crop_18</td>\n",
       "      <td>7.50</td>\n",
       "    </tr>\n",
       "    <tr>\n",
       "      <th>...</th>\n",
       "      <td>...</td>\n",
       "      <td>...</td>\n",
       "    </tr>\n",
       "    <tr>\n",
       "      <th>14581</th>\n",
       "      <td>763_72_2550_2018_negcrop_6</td>\n",
       "      <td>0.00</td>\n",
       "    </tr>\n",
       "    <tr>\n",
       "      <th>14582</th>\n",
       "      <td>763_72_2550_2018_negcrop_7</td>\n",
       "      <td>0.00</td>\n",
       "    </tr>\n",
       "    <tr>\n",
       "      <th>14583</th>\n",
       "      <td>763_72_2550_2018_negcrop_8</td>\n",
       "      <td>0.00</td>\n",
       "    </tr>\n",
       "    <tr>\n",
       "      <th>14584</th>\n",
       "      <td>763_72_2550_2018_negcrop_9</td>\n",
       "      <td>0.00</td>\n",
       "    </tr>\n",
       "    <tr>\n",
       "      <th>14585</th>\n",
       "      <td>763_72_2550_2018_negcrop_10</td>\n",
       "      <td>0.00</td>\n",
       "    </tr>\n",
       "  </tbody>\n",
       "</table>\n",
       "<p>14586 rows × 2 columns</p>\n",
       "</div>"
      ],
      "text/plain": [
       "                             image  palsa_percentage\n",
       "0         760_73_5025_2018_crop_14              7.25\n",
       "1         760_73_5025_2018_crop_15              0.75\n",
       "2         760_73_5025_2018_crop_16              3.25\n",
       "3         760_73_5025_2018_crop_17              1.50\n",
       "4         760_73_5025_2018_crop_18              7.50\n",
       "...                            ...               ...\n",
       "14581   763_72_2550_2018_negcrop_6              0.00\n",
       "14582   763_72_2550_2018_negcrop_7              0.00\n",
       "14583   763_72_2550_2018_negcrop_8              0.00\n",
       "14584   763_72_2550_2018_negcrop_9              0.00\n",
       "14585  763_72_2550_2018_negcrop_10              0.00\n",
       "\n",
       "[14586 rows x 2 columns]"
      ]
     },
     "execution_count": 5,
     "metadata": {},
     "output_type": "execute_result"
    }
   ],
   "source": [
    "labels"
   ]
  },
  {
   "cell_type": "code",
   "execution_count": 22,
   "metadata": {},
   "outputs": [
    {
     "data": {
      "text/plain": [
       "14586"
      ]
     },
     "execution_count": 22,
     "metadata": {},
     "output_type": "execute_result"
    }
   ],
   "source": [
    "len(labels)"
   ]
  },
  {
   "cell_type": "code",
   "execution_count": 11,
   "metadata": {},
   "outputs": [
    {
     "data": {
      "text/plain": [
       "1434"
      ]
     },
     "execution_count": 11,
     "metadata": {},
     "output_type": "execute_result"
    }
   ],
   "source": [
    "len(labels[labels['palsa_percentage']>=10])"
   ]
  },
  {
   "cell_type": "code",
   "execution_count": 12,
   "metadata": {},
   "outputs": [
    {
     "data": {
      "text/plain": [
       "10205"
      ]
     },
     "execution_count": 12,
     "metadata": {},
     "output_type": "execute_result"
    }
   ],
   "source": [
    "1434 +8771 "
   ]
  },
  {
   "cell_type": "code",
   "execution_count": 4,
   "metadata": {},
   "outputs": [],
   "source": [
    "def nearest_10(num):\n",
    "    if num<10:\n",
    "        return 0\n",
    "    else: \n",
    "        return int(str(num)[0])*10"
   ]
  },
  {
   "cell_type": "code",
   "execution_count": 5,
   "metadata": {},
   "outputs": [],
   "source": [
    "labels['nearest10'] = labels['palsa_percentage'].apply(nearest_10)"
   ]
  },
  {
   "cell_type": "code",
   "execution_count": 6,
   "metadata": {},
   "outputs": [
    {
     "data": {
      "text/plain": [
       "nearest10\n",
       "0     19029\n",
       "10     1534\n",
       "20      664\n",
       "30      358\n",
       "40      180\n",
       "50       86\n",
       "60       34\n",
       "70        8\n",
       "80        4\n",
       "Name: count, dtype: int64"
      ]
     },
     "execution_count": 6,
     "metadata": {},
     "output_type": "execute_result"
    }
   ],
   "source": [
    "labels['nearest10'].value_counts()"
   ]
  },
  {
   "cell_type": "code",
   "execution_count": 8,
   "metadata": {},
   "outputs": [],
   "source": [
    "nozero = labels.loc[labels['palsa_percentage']>0]"
   ]
  },
  {
   "cell_type": "code",
   "execution_count": 9,
   "metadata": {},
   "outputs": [
    {
     "data": {
      "text/html": [
       "<div>\n",
       "<style scoped>\n",
       "    .dataframe tbody tr th:only-of-type {\n",
       "        vertical-align: middle;\n",
       "    }\n",
       "\n",
       "    .dataframe tbody tr th {\n",
       "        vertical-align: top;\n",
       "    }\n",
       "\n",
       "    .dataframe thead th {\n",
       "        text-align: right;\n",
       "    }\n",
       "</style>\n",
       "<table border=\"1\" class=\"dataframe\">\n",
       "  <thead>\n",
       "    <tr style=\"text-align: right;\">\n",
       "      <th></th>\n",
       "      <th>Unnamed: 0</th>\n",
       "      <th>palsa_percentage</th>\n",
       "      <th>nearest10</th>\n",
       "    </tr>\n",
       "  </thead>\n",
       "  <tbody>\n",
       "    <tr>\n",
       "      <th>0</th>\n",
       "      <td>760_73_5025_2018_crop_14</td>\n",
       "      <td>7.25</td>\n",
       "      <td>0</td>\n",
       "    </tr>\n",
       "    <tr>\n",
       "      <th>1</th>\n",
       "      <td>760_73_5025_2018_crop_15</td>\n",
       "      <td>0.75</td>\n",
       "      <td>0</td>\n",
       "    </tr>\n",
       "    <tr>\n",
       "      <th>2</th>\n",
       "      <td>760_73_5025_2018_crop_16</td>\n",
       "      <td>3.25</td>\n",
       "      <td>0</td>\n",
       "    </tr>\n",
       "    <tr>\n",
       "      <th>3</th>\n",
       "      <td>760_73_5025_2018_crop_17</td>\n",
       "      <td>1.50</td>\n",
       "      <td>0</td>\n",
       "    </tr>\n",
       "    <tr>\n",
       "      <th>4</th>\n",
       "      <td>760_73_5025_2018_crop_18</td>\n",
       "      <td>7.50</td>\n",
       "      <td>0</td>\n",
       "    </tr>\n",
       "    <tr>\n",
       "      <th>...</th>\n",
       "      <td>...</td>\n",
       "      <td>...</td>\n",
       "      <td>...</td>\n",
       "    </tr>\n",
       "    <tr>\n",
       "      <th>21891</th>\n",
       "      <td>763_72_2550_2018_crop_80_aug</td>\n",
       "      <td>6.50</td>\n",
       "      <td>0</td>\n",
       "    </tr>\n",
       "    <tr>\n",
       "      <th>21893</th>\n",
       "      <td>763_72_2550_2018_crop_93_aug</td>\n",
       "      <td>7.25</td>\n",
       "      <td>0</td>\n",
       "    </tr>\n",
       "    <tr>\n",
       "      <th>21894</th>\n",
       "      <td>763_72_2550_2018_crop_94_aug</td>\n",
       "      <td>2.50</td>\n",
       "      <td>0</td>\n",
       "    </tr>\n",
       "    <tr>\n",
       "      <th>21895</th>\n",
       "      <td>763_72_2550_2018_crop_104_aug</td>\n",
       "      <td>5.00</td>\n",
       "      <td>0</td>\n",
       "    </tr>\n",
       "    <tr>\n",
       "      <th>21896</th>\n",
       "      <td>763_72_2550_2018_crop_105_aug</td>\n",
       "      <td>0.75</td>\n",
       "      <td>0</td>\n",
       "    </tr>\n",
       "  </tbody>\n",
       "</table>\n",
       "<p>11630 rows × 3 columns</p>\n",
       "</div>"
      ],
      "text/plain": [
       "                          Unnamed: 0  palsa_percentage  nearest10\n",
       "0           760_73_5025_2018_crop_14              7.25          0\n",
       "1           760_73_5025_2018_crop_15              0.75          0\n",
       "2           760_73_5025_2018_crop_16              3.25          0\n",
       "3           760_73_5025_2018_crop_17              1.50          0\n",
       "4           760_73_5025_2018_crop_18              7.50          0\n",
       "...                              ...               ...        ...\n",
       "21891   763_72_2550_2018_crop_80_aug              6.50          0\n",
       "21893   763_72_2550_2018_crop_93_aug              7.25          0\n",
       "21894   763_72_2550_2018_crop_94_aug              2.50          0\n",
       "21895  763_72_2550_2018_crop_104_aug              5.00          0\n",
       "21896  763_72_2550_2018_crop_105_aug              0.75          0\n",
       "\n",
       "[11630 rows x 3 columns]"
      ]
     },
     "execution_count": 9,
     "metadata": {},
     "output_type": "execute_result"
    }
   ],
   "source": [
    "nozero\n"
   ]
  },
  {
   "cell_type": "code",
   "execution_count": 10,
   "metadata": {},
   "outputs": [
    {
     "name": "stderr",
     "output_type": "stream",
     "text": [
      "/var/folders/wm/j23cgbjn0m15n_64hfkt3n500000gn/T/ipykernel_25757/1831171057.py:1: SettingWithCopyWarning: \n",
      "A value is trying to be set on a copy of a slice from a DataFrame.\n",
      "Try using .loc[row_indexer,col_indexer] = value instead\n",
      "\n",
      "See the caveats in the documentation: https://pandas.pydata.org/pandas-docs/stable/user_guide/indexing.html#returning-a-view-versus-a-copy\n",
      "  nozero['nearest10'] = nozero['palsa_percentage'].apply(nearest_10)\n"
     ]
    }
   ],
   "source": [
    "nozero['nearest10'] = nozero['palsa_percentage'].apply(nearest_10)"
   ]
  },
  {
   "cell_type": "code",
   "execution_count": 11,
   "metadata": {},
   "outputs": [
    {
     "data": {
      "text/plain": [
       "nearest10\n",
       "0     8762\n",
       "10    1534\n",
       "20     664\n",
       "30     358\n",
       "40     180\n",
       "50      86\n",
       "60      34\n",
       "70       8\n",
       "80       4\n",
       "Name: count, dtype: int64"
      ]
     },
     "execution_count": 11,
     "metadata": {},
     "output_type": "execute_result"
    }
   ],
   "source": [
    "nozero['nearest10'].value_counts()"
   ]
  },
  {
   "cell_type": "code",
   "execution_count": 12,
   "metadata": {},
   "outputs": [
    {
     "data": {
      "text/plain": [
       "0.753396388650043"
      ]
     },
     "execution_count": 12,
     "metadata": {},
     "output_type": "execute_result"
    }
   ],
   "source": [
    "8762/11630"
   ]
  },
  {
   "cell_type": "code",
   "execution_count": 1,
   "metadata": {},
   "outputs": [],
   "source": [
    "import pandas as pd \n",
    "\n",
    "files = pd.read_csv(\"/Users/nadja/Documents/UU/Thesis/Data/FINALFINAL_200m_groundtruths/new_palsa_labels.csv\")"
   ]
  },
  {
   "cell_type": "code",
   "execution_count": 2,
   "metadata": {},
   "outputs": [
    {
     "data": {
      "text/html": [
       "<div>\n",
       "<style scoped>\n",
       "    .dataframe tbody tr th:only-of-type {\n",
       "        vertical-align: middle;\n",
       "    }\n",
       "\n",
       "    .dataframe tbody tr th {\n",
       "        vertical-align: top;\n",
       "    }\n",
       "\n",
       "    .dataframe thead th {\n",
       "        text-align: right;\n",
       "    }\n",
       "</style>\n",
       "<table border=\"1\" class=\"dataframe\">\n",
       "  <thead>\n",
       "    <tr style=\"text-align: right;\">\n",
       "      <th></th>\n",
       "      <th>Unnamed: 0</th>\n",
       "      <th>palsa_percentage</th>\n",
       "      <th>matthias_percentage</th>\n",
       "      <th>difference</th>\n",
       "    </tr>\n",
       "  </thead>\n",
       "  <tbody>\n",
       "    <tr>\n",
       "      <th>0</th>\n",
       "      <td>757_69_5050_2014_crop_3</td>\n",
       "      <td>1.50</td>\n",
       "      <td>1.6100</td>\n",
       "      <td>0.1100</td>\n",
       "    </tr>\n",
       "    <tr>\n",
       "      <th>1</th>\n",
       "      <td>757_69_5050_2014_crop_4</td>\n",
       "      <td>1.75</td>\n",
       "      <td>4.1225</td>\n",
       "      <td>2.3725</td>\n",
       "    </tr>\n",
       "    <tr>\n",
       "      <th>2</th>\n",
       "      <td>757_69_5050_2014_crop_15</td>\n",
       "      <td>2.25</td>\n",
       "      <td>1.7400</td>\n",
       "      <td>0.5100</td>\n",
       "    </tr>\n",
       "    <tr>\n",
       "      <th>3</th>\n",
       "      <td>757_69_5050_2014_crop_16</td>\n",
       "      <td>8.50</td>\n",
       "      <td>3.4075</td>\n",
       "      <td>5.0925</td>\n",
       "    </tr>\n",
       "    <tr>\n",
       "      <th>4</th>\n",
       "      <td>757_69_5050_2014_crop_17</td>\n",
       "      <td>2.50</td>\n",
       "      <td>3.5725</td>\n",
       "      <td>1.0725</td>\n",
       "    </tr>\n",
       "  </tbody>\n",
       "</table>\n",
       "</div>"
      ],
      "text/plain": [
       "                 Unnamed: 0  palsa_percentage  matthias_percentage  difference\n",
       "0   757_69_5050_2014_crop_3              1.50               1.6100      0.1100\n",
       "1   757_69_5050_2014_crop_4              1.75               4.1225      2.3725\n",
       "2  757_69_5050_2014_crop_15              2.25               1.7400      0.5100\n",
       "3  757_69_5050_2014_crop_16              8.50               3.4075      5.0925\n",
       "4  757_69_5050_2014_crop_17              2.50               3.5725      1.0725"
      ]
     },
     "execution_count": 2,
     "metadata": {},
     "output_type": "execute_result"
    }
   ],
   "source": [
    "files.head()"
   ]
  },
  {
   "cell_type": "code",
   "execution_count": 2,
   "metadata": {},
   "outputs": [
    {
     "data": {
      "text/plain": [
       "620"
      ]
     },
     "execution_count": 2,
     "metadata": {},
     "output_type": "execute_result"
    }
   ],
   "source": [
    "len(files[files['difference']<10])"
   ]
  },
  {
   "cell_type": "code",
   "execution_count": 4,
   "metadata": {},
   "outputs": [
    {
     "data": {
      "text/plain": [
       "2042.7375"
      ]
     },
     "execution_count": 4,
     "metadata": {},
     "output_type": "execute_result"
    }
   ],
   "source": [
    "sum(files['matthias_percentage'])"
   ]
  },
  {
   "cell_type": "code",
   "execution_count": 5,
   "metadata": {},
   "outputs": [
    {
     "data": {
      "text/plain": [
       "640"
      ]
     },
     "execution_count": 5,
     "metadata": {},
     "output_type": "execute_result"
    }
   ],
   "source": [
    "len(files)"
   ]
  },
  {
   "cell_type": "code",
   "execution_count": 11,
   "metadata": {},
   "outputs": [
    {
     "data": {
      "text/plain": [
       "0.0640625"
      ]
     },
     "execution_count": 11,
     "metadata": {},
     "output_type": "execute_result"
    }
   ],
   "source": [
    "41/640"
   ]
  },
  {
   "cell_type": "code",
   "execution_count": 12,
   "metadata": {},
   "outputs": [
    {
     "data": {
      "text/plain": [
       "187"
      ]
     },
     "execution_count": 12,
     "metadata": {},
     "output_type": "execute_result"
    }
   ],
   "source": [
    "len(files[files[\"palsa_percentage\"]!=0])"
   ]
  },
  {
   "cell_type": "code",
   "execution_count": 10,
   "metadata": {},
   "outputs": [
    {
     "data": {
      "text/plain": [
       "2042.1425000000002"
      ]
     },
     "execution_count": 10,
     "metadata": {},
     "output_type": "execute_result"
    }
   ],
   "source": [
    "sum(files[files[\"palsa_percentage\"]!=0]['matthias_percentage'])"
   ]
  },
  {
   "cell_type": "code",
   "execution_count": 13,
   "metadata": {},
   "outputs": [
    {
     "data": {
      "text/plain": [
       "3.4224598930481283"
      ]
     },
     "execution_count": 13,
     "metadata": {},
     "output_type": "execute_result"
    }
   ],
   "source": [
    "640/187"
   ]
  },
  {
   "cell_type": "code",
   "execution_count": 2,
   "metadata": {},
   "outputs": [],
   "source": [
    "import pandas as pd\n",
    "orig_files = pd.read_csv(\"/home/nadjaflechner/Palsa_data/generated_datasets/Verified_GTs/new_palsa_labels.csv\")\n"
   ]
  },
  {
   "cell_type": "code",
   "execution_count": 3,
   "metadata": {},
   "outputs": [
    {
     "data": {
      "text/html": [
       "<div>\n",
       "<style scoped>\n",
       "    .dataframe tbody tr th:only-of-type {\n",
       "        vertical-align: middle;\n",
       "    }\n",
       "\n",
       "    .dataframe tbody tr th {\n",
       "        vertical-align: top;\n",
       "    }\n",
       "\n",
       "    .dataframe thead th {\n",
       "        text-align: right;\n",
       "    }\n",
       "</style>\n",
       "<table border=\"1\" class=\"dataframe\">\n",
       "  <thead>\n",
       "    <tr style=\"text-align: right;\">\n",
       "      <th></th>\n",
       "      <th>Unnamed: 0</th>\n",
       "      <th>palsa_percentage</th>\n",
       "      <th>matthias_percentage</th>\n",
       "      <th>difference</th>\n",
       "    </tr>\n",
       "  </thead>\n",
       "  <tbody>\n",
       "    <tr>\n",
       "      <th>0</th>\n",
       "      <td>757_69_5050_2014_crop_25</td>\n",
       "      <td>1.50</td>\n",
       "      <td>1.3950</td>\n",
       "      <td>0.1050</td>\n",
       "    </tr>\n",
       "    <tr>\n",
       "      <th>1</th>\n",
       "      <td>757_69_5050_2014_crop_26</td>\n",
       "      <td>0.50</td>\n",
       "      <td>0.0500</td>\n",
       "      <td>0.4500</td>\n",
       "    </tr>\n",
       "    <tr>\n",
       "      <th>2</th>\n",
       "      <td>757_69_5050_2014_crop_30</td>\n",
       "      <td>3.00</td>\n",
       "      <td>2.7900</td>\n",
       "      <td>0.2100</td>\n",
       "    </tr>\n",
       "    <tr>\n",
       "      <th>3</th>\n",
       "      <td>753_67_2550_2014_crop_36</td>\n",
       "      <td>1.25</td>\n",
       "      <td>0.0725</td>\n",
       "      <td>1.1775</td>\n",
       "    </tr>\n",
       "    <tr>\n",
       "      <th>4</th>\n",
       "      <td>753_67_2550_2014_crop_50</td>\n",
       "      <td>2.75</td>\n",
       "      <td>0.5700</td>\n",
       "      <td>2.1800</td>\n",
       "    </tr>\n",
       "  </tbody>\n",
       "</table>\n",
       "</div>"
      ],
      "text/plain": [
       "                 Unnamed: 0  palsa_percentage  matthias_percentage  difference\n",
       "0  757_69_5050_2014_crop_25              1.50               1.3950      0.1050\n",
       "1  757_69_5050_2014_crop_26              0.50               0.0500      0.4500\n",
       "2  757_69_5050_2014_crop_30              3.00               2.7900      0.2100\n",
       "3  753_67_2550_2014_crop_36              1.25               0.0725      1.1775\n",
       "4  753_67_2550_2014_crop_50              2.75               0.5700      2.1800"
      ]
     },
     "execution_count": 3,
     "metadata": {},
     "output_type": "execute_result"
    }
   ],
   "source": [
    "orig_files.head()"
   ]
  },
  {
   "cell_type": "code",
   "execution_count": 6,
   "metadata": {},
   "outputs": [
    {
     "data": {
      "text/plain": [
       "111"
      ]
     },
     "execution_count": 6,
     "metadata": {},
     "output_type": "execute_result"
    }
   ],
   "source": [
    "len(orig_files[orig_files['matthias_percentage'] >0])"
   ]
  },
  {
   "cell_type": "markdown",
   "metadata": {},
   "source": [
    "Making Test/Train split of the GTs"
   ]
  },
  {
   "cell_type": "code",
   "execution_count": 9,
   "metadata": {},
   "outputs": [],
   "source": [
    "import pandas as pd \n",
    "\n",
    "names = pd.read_csv(\"/Volumes/USB/Ground_truth/Verified_GTs/new_palsa_labels.csv\", header=1, names=['filename','palsa_percentage', 'matthias', 'diff'])"
   ]
  },
  {
   "cell_type": "code",
   "execution_count": 10,
   "metadata": {},
   "outputs": [
    {
     "data": {
      "text/html": [
       "<div>\n",
       "<style scoped>\n",
       "    .dataframe tbody tr th:only-of-type {\n",
       "        vertical-align: middle;\n",
       "    }\n",
       "\n",
       "    .dataframe tbody tr th {\n",
       "        vertical-align: top;\n",
       "    }\n",
       "\n",
       "    .dataframe thead th {\n",
       "        text-align: right;\n",
       "    }\n",
       "</style>\n",
       "<table border=\"1\" class=\"dataframe\">\n",
       "  <thead>\n",
       "    <tr style=\"text-align: right;\">\n",
       "      <th></th>\n",
       "      <th>filename</th>\n",
       "      <th>palsa_percentage</th>\n",
       "      <th>matthias</th>\n",
       "      <th>diff</th>\n",
       "    </tr>\n",
       "  </thead>\n",
       "  <tbody>\n",
       "    <tr>\n",
       "      <th>0</th>\n",
       "      <td>757_69_5050_2014_crop_26</td>\n",
       "      <td>0.50</td>\n",
       "      <td>0.0500</td>\n",
       "      <td>0.4500</td>\n",
       "    </tr>\n",
       "    <tr>\n",
       "      <th>1</th>\n",
       "      <td>757_69_5050_2014_crop_30</td>\n",
       "      <td>3.00</td>\n",
       "      <td>2.7900</td>\n",
       "      <td>0.2100</td>\n",
       "    </tr>\n",
       "    <tr>\n",
       "      <th>2</th>\n",
       "      <td>753_67_2550_2014_crop_36</td>\n",
       "      <td>1.25</td>\n",
       "      <td>0.0725</td>\n",
       "      <td>1.1775</td>\n",
       "    </tr>\n",
       "    <tr>\n",
       "      <th>3</th>\n",
       "      <td>753_67_2550_2014_crop_50</td>\n",
       "      <td>2.75</td>\n",
       "      <td>0.5700</td>\n",
       "      <td>2.1800</td>\n",
       "    </tr>\n",
       "    <tr>\n",
       "      <th>4</th>\n",
       "      <td>753_67_2550_2014_crop_51</td>\n",
       "      <td>41.50</td>\n",
       "      <td>37.9500</td>\n",
       "      <td>3.5500</td>\n",
       "    </tr>\n",
       "  </tbody>\n",
       "</table>\n",
       "</div>"
      ],
      "text/plain": [
       "                   filename  palsa_percentage  matthias    diff\n",
       "0  757_69_5050_2014_crop_26              0.50    0.0500  0.4500\n",
       "1  757_69_5050_2014_crop_30              3.00    2.7900  0.2100\n",
       "2  753_67_2550_2014_crop_36              1.25    0.0725  1.1775\n",
       "3  753_67_2550_2014_crop_50              2.75    0.5700  2.1800\n",
       "4  753_67_2550_2014_crop_51             41.50   37.9500  3.5500"
      ]
     },
     "execution_count": 10,
     "metadata": {},
     "output_type": "execute_result"
    }
   ],
   "source": [
    "names.head()"
   ]
  },
  {
   "cell_type": "code",
   "execution_count": 11,
   "metadata": {},
   "outputs": [],
   "source": [
    "filtered_names = names[names['palsa_percentage'] > 0]"
   ]
  },
  {
   "cell_type": "code",
   "execution_count": 23,
   "metadata": {},
   "outputs": [],
   "source": [
    "above7 = filtered_names[filtered_names['palsa_percentage']>7]"
   ]
  },
  {
   "cell_type": "code",
   "execution_count": 25,
   "metadata": {},
   "outputs": [
    {
     "data": {
      "text/plain": [
       "(64, 42)"
      ]
     },
     "execution_count": 25,
     "metadata": {},
     "output_type": "execute_result"
    }
   ],
   "source": [
    "train_set = above7.sample(frac=0.6, random_state=42)\n",
    "test_set = above7.drop(train_set.index)\n",
    "\n",
    "remaining = filtered_names[~filtered_names.index.isin(above7.index)]\n",
    "remaining_train = remaining.sample(frac=0.6, random_state=42)\n",
    "train_set = pd.concat([train_set, remaining_train])\n",
    "test_set = pd.concat([test_set, remaining.drop(remaining_train.index)])\n",
    "\n",
    "len(train_set), len(test_set)"
   ]
  },
  {
   "cell_type": "code",
   "execution_count": 27,
   "metadata": {},
   "outputs": [
    {
     "data": {
      "text/html": [
       "<div>\n",
       "<style scoped>\n",
       "    .dataframe tbody tr th:only-of-type {\n",
       "        vertical-align: middle;\n",
       "    }\n",
       "\n",
       "    .dataframe tbody tr th {\n",
       "        vertical-align: top;\n",
       "    }\n",
       "\n",
       "    .dataframe thead th {\n",
       "        text-align: right;\n",
       "    }\n",
       "</style>\n",
       "<table border=\"1\" class=\"dataframe\">\n",
       "  <thead>\n",
       "    <tr style=\"text-align: right;\">\n",
       "      <th></th>\n",
       "      <th>filename</th>\n",
       "      <th>palsa_percentage</th>\n",
       "      <th>matthias</th>\n",
       "      <th>diff</th>\n",
       "    </tr>\n",
       "  </thead>\n",
       "  <tbody>\n",
       "    <tr>\n",
       "      <th>35</th>\n",
       "      <td>757_69_2575_2014_crop_14</td>\n",
       "      <td>14.50</td>\n",
       "      <td>20.1650</td>\n",
       "      <td>5.6650</td>\n",
       "    </tr>\n",
       "    <tr>\n",
       "      <th>32</th>\n",
       "      <td>760_74_5025_2018_crop_48</td>\n",
       "      <td>22.75</td>\n",
       "      <td>28.4775</td>\n",
       "      <td>5.7275</td>\n",
       "    </tr>\n",
       "    <tr>\n",
       "      <th>31</th>\n",
       "      <td>760_74_5025_2018_crop_37</td>\n",
       "      <td>25.00</td>\n",
       "      <td>31.6725</td>\n",
       "      <td>6.6725</td>\n",
       "    </tr>\n",
       "    <tr>\n",
       "      <th>49</th>\n",
       "      <td>764_75_2500_2015_crop_78</td>\n",
       "      <td>16.75</td>\n",
       "      <td>21.7150</td>\n",
       "      <td>4.9650</td>\n",
       "    </tr>\n",
       "    <tr>\n",
       "      <th>10</th>\n",
       "      <td>753_67_2550_2014_crop_86</td>\n",
       "      <td>22.75</td>\n",
       "      <td>19.3975</td>\n",
       "      <td>3.3525</td>\n",
       "    </tr>\n",
       "  </tbody>\n",
       "</table>\n",
       "</div>"
      ],
      "text/plain": [
       "                    filename  palsa_percentage  matthias    diff\n",
       "35  757_69_2575_2014_crop_14             14.50   20.1650  5.6650\n",
       "32  760_74_5025_2018_crop_48             22.75   28.4775  5.7275\n",
       "31  760_74_5025_2018_crop_37             25.00   31.6725  6.6725\n",
       "49  764_75_2500_2015_crop_78             16.75   21.7150  4.9650\n",
       "10  753_67_2550_2014_crop_86             22.75   19.3975  3.3525"
      ]
     },
     "execution_count": 27,
     "metadata": {},
     "output_type": "execute_result"
    }
   ],
   "source": [
    "train_set.head()"
   ]
  },
  {
   "cell_type": "code",
   "execution_count": 26,
   "metadata": {},
   "outputs": [],
   "source": [
    "all_GT_path = \"/Volumes/USB/Ground_truth/All_GTs\"\n",
    "train_GT_path = \"/Volumes/USB/Ground_truth/Optimize_GTs\"\n",
    "test_GT_path = \"/Volumes/USB/Ground_truth/TEST_GTs\"\n",
    "\n",
    "import os\n",
    "import shutil\n",
    "\n",
    "# Define the subfolders\n",
    "subfolders = ['hs', 'rgb', 'dem', 'groundtruth_mask']\n",
    "\n",
    "# Create train and test directories and copy files\n",
    "for subfolder in subfolders:\n",
    "    # Create the full paths for train and test directories\n",
    "    train_subfolder_path = os.path.join(train_GT_path, subfolder)\n",
    "    test_subfolder_path = os.path.join(test_GT_path, subfolder)\n",
    "    \n",
    "    # Create the directories if they do not exist\n",
    "    os.makedirs(train_subfolder_path, exist_ok=True)\n",
    "    os.makedirs(test_subfolder_path, exist_ok=True)\n",
    "    \n",
    "    # Copy train set files\n",
    "    for _, row in train_set.iterrows():\n",
    "        src_file = os.path.join(all_GT_path, subfolder, row['filename'] + '.tif')\n",
    "        dst_file = os.path.join(train_subfolder_path, row['filename'] + '.tif')\n",
    "        shutil.copy(src_file, dst_file)\n",
    "    \n",
    "    # Copy test set files\n",
    "    for _, row in test_set.iterrows():\n",
    "        src_file = os.path.join(all_GT_path, subfolder, row['filename'] + '.tif')\n",
    "        dst_file = os.path.join(test_subfolder_path, row['filename'] + '.tif')\n",
    "        shutil.copy(src_file, dst_file)\n"
   ]
  },
  {
   "cell_type": "code",
   "execution_count": 28,
   "metadata": {},
   "outputs": [],
   "source": [
    "train_set.to_csv(os.path.join(train_GT_path, 'palsa_labels.csv'), index=False)\n",
    "test_set.to_csv(os.path.join(test_GT_path, 'palsa_labels.csv'), index=False)\n"
   ]
  },
  {
   "cell_type": "markdown",
   "metadata": {},
   "source": [
    "### Generating palsa labels for datasets"
   ]
  },
  {
   "cell_type": "code",
   "execution_count": 63,
   "metadata": {},
   "outputs": [],
   "source": [
    "import pandas as pd \n",
    "labels_df = pd.read_csv(\n",
    "    \"/Volumes/USB/Orig_200m_TIFS/new_palsa_labels.csv\", \n",
    "    names=['filename', 'palsa'], \n",
    "    header=0\n",
    "    )"
   ]
  },
  {
   "cell_type": "code",
   "execution_count": 64,
   "metadata": {},
   "outputs": [
    {
     "data": {
      "text/html": [
       "<div>\n",
       "<style scoped>\n",
       "    .dataframe tbody tr th:only-of-type {\n",
       "        vertical-align: middle;\n",
       "    }\n",
       "\n",
       "    .dataframe tbody tr th {\n",
       "        vertical-align: top;\n",
       "    }\n",
       "\n",
       "    .dataframe thead th {\n",
       "        text-align: right;\n",
       "    }\n",
       "</style>\n",
       "<table border=\"1\" class=\"dataframe\">\n",
       "  <thead>\n",
       "    <tr style=\"text-align: right;\">\n",
       "      <th></th>\n",
       "      <th>filename</th>\n",
       "      <th>palsa</th>\n",
       "    </tr>\n",
       "  </thead>\n",
       "  <tbody>\n",
       "    <tr>\n",
       "      <th>0</th>\n",
       "      <td>760_73_5025_2018_crop_14</td>\n",
       "      <td>7.25</td>\n",
       "    </tr>\n",
       "    <tr>\n",
       "      <th>1</th>\n",
       "      <td>760_73_5025_2018_crop_15</td>\n",
       "      <td>0.75</td>\n",
       "    </tr>\n",
       "    <tr>\n",
       "      <th>2</th>\n",
       "      <td>760_73_5025_2018_crop_16</td>\n",
       "      <td>3.25</td>\n",
       "    </tr>\n",
       "    <tr>\n",
       "      <th>3</th>\n",
       "      <td>760_73_5025_2018_crop_17</td>\n",
       "      <td>1.50</td>\n",
       "    </tr>\n",
       "    <tr>\n",
       "      <th>4</th>\n",
       "      <td>760_73_5025_2018_crop_18</td>\n",
       "      <td>7.50</td>\n",
       "    </tr>\n",
       "  </tbody>\n",
       "</table>\n",
       "</div>"
      ],
      "text/plain": [
       "                   filename  palsa\n",
       "0  760_73_5025_2018_crop_14   7.25\n",
       "1  760_73_5025_2018_crop_15   0.75\n",
       "2  760_73_5025_2018_crop_16   3.25\n",
       "3  760_73_5025_2018_crop_17   1.50\n",
       "4  760_73_5025_2018_crop_18   7.50"
      ]
     },
     "execution_count": 64,
     "metadata": {},
     "output_type": "execute_result"
    }
   ],
   "source": [
    "labels_df.head()"
   ]
  },
  {
   "cell_type": "code",
   "execution_count": 73,
   "metadata": {},
   "outputs": [],
   "source": [
    "import os\n",
    "test_dir = \"/Volumes/USB/Pseudomasks/TRAIN/images\"\n",
    "testnames = os.listdir(test_dir)"
   ]
  },
  {
   "cell_type": "code",
   "execution_count": 74,
   "metadata": {},
   "outputs": [],
   "source": [
    "testnames_filtered = [name for name in testnames if not name.startswith('.')]"
   ]
  },
  {
   "cell_type": "code",
   "execution_count": 75,
   "metadata": {},
   "outputs": [],
   "source": [
    "testnames_final = [name.split('.')[0] for name in testnames_filtered]"
   ]
  },
  {
   "cell_type": "code",
   "execution_count": 76,
   "metadata": {},
   "outputs": [
    {
     "data": {
      "text/plain": [
       "['762_74_0025_2018_crop_18',\n",
       " '759_73_7525_2013_crop_92',\n",
       " '761_73_2525_2018_negcrop_23',\n",
       " '758_73_5050_2013_crop_52',\n",
       " '761_71_5075_2018_crop_84',\n",
       " '754_67_7525_2015_negcrop_10',\n",
       " '733_52_2525_2015_negcrop_2',\n",
       " '751_58_5050_2016_negcrop_0',\n",
       " '764_75_2500_2015_negcrop_25',\n",
       " '746_57_5025_2015_negcrop_7',\n",
       " '763_71_5025_2018_negcrop_0',\n",
       " '759_71_7550_2013_negcrop_12',\n",
       " '764_74_7500_2018_crop_135',\n",
       " '754_68_7575_2015_negcrop_1',\n",
       " '761_73_0075_2018_crop_85',\n",
       " '746_64_5025_2014_crop_132',\n",
       " '758_70_0025_2013_negcrop_6',\n",
       " '761_73_0050_2018_negcrop_22',\n",
       " '762_74_0075_2018_negcrop_3',\n",
       " '746_64_5025_2014_negcrop_0',\n",
       " '761_71_5050_2018_crop_106',\n",
       " '760_73_7575_2018_crop_51',\n",
       " '758_74_2575_2013_negcrop_1',\n",
       " '749_68_2575_2014_negcrop_3',\n",
       " '751_65_7525_2015_crop_18',\n",
       " '749_68_7525_2015_negcrop_2',\n",
       " '765_74_2500_2016_negcrop_0',\n",
       " '753_67_2550_2014_crop_85',\n",
       " '760_73_5050_2018_negcrop_2',\n",
       " '759_76_7500_2013_negcrop_2',\n",
       " '747_61_2525_2014_crop_134',\n",
       " '763_72_0025_2018_crop_136',\n",
       " '763_72_7500_2018_negcrop_21',\n",
       " '764_74_7500_2018_negcrop_50',\n",
       " '750_66_2525_2015_negcrop_8',\n",
       " '762_72_5075_2018_negcrop_5',\n",
       " '763_75_5075_2015_crop_44',\n",
       " '751_65_7525_2015_negcrop_2',\n",
       " '758_70_2575_2013_crop_103',\n",
       " '761_71_5075_2018_crop_47',\n",
       " '764_74_2575_2018_crop_58',\n",
       " '760_71_2550_2018_negcrop_22',\n",
       " '759_72_5050_2013_negcrop_5',\n",
       " '764_74_7500_2018_negcrop_44',\n",
       " '758_72_7575_2013_negcrop_7',\n",
       " '761_72_0050_2018_negcrop_46',\n",
       " '752_65_0000_2015_negcrop_1',\n",
       " '761_72_2550_2018_negcrop_6',\n",
       " '751_69_7500_2015_crop_121',\n",
       " '758_73_5050_2013_negcrop_12',\n",
       " '760_73_7575_2018_negcrop_23',\n",
       " '759_72_2575_2013_crop_29',\n",
       " '755_67_5025_2016_crop_127',\n",
       " '760_72_2550_2018_crop_3',\n",
       " '758_71_2500_2013_negcrop_12',\n",
       " '754_67_7525_2015_crop_46',\n",
       " '758_73_2550_2013_negcrop_1',\n",
       " '749_66_2500_2014_crop_29',\n",
       " '758_74_2525_2013_negcrop_20',\n",
       " '747_65_5025_2014_crop_10',\n",
       " '759_73_7525_2013_crop_79',\n",
       " '761_73_0075_2018_crop_52',\n",
       " '764_74_5075_2018_negcrop_45',\n",
       " '763_72_5075_2018_negcrop_34',\n",
       " '760_73_7575_2018_negcrop_37',\n",
       " '758_73_5000_2013_negcrop_8',\n",
       " '764_74_5075_2018_crop_7',\n",
       " '762_73_2575_2018_crop_141',\n",
       " '760_72_5075_2018_crop_65',\n",
       " '758_70_2525_2013_negcrop_0',\n",
       " '753_68_2525_2014_negcrop_4',\n",
       " '751_66_2550_2015_crop_62',\n",
       " '761_75_7500_2015_crop_28',\n",
       " '758_71_0000_2013_crop_44',\n",
       " '761_73_0025_2018_crop_92',\n",
       " '764_74_7575_2018_negcrop_12',\n",
       " '752_66_0075_2015_negcrop_0',\n",
       " '758_70_2550_2013_crop_67',\n",
       " '754_67_7575_2015_crop_86',\n",
       " '760_74_7550_2018_negcrop_26',\n",
       " '749_61_0000_2019_crop_111',\n",
       " '764_73_0025_2018_crop_141',\n",
       " '761_74_5050_2018_negcrop_6',\n",
       " '764_71_2550_2018_crop_40',\n",
       " '755_67_7525_2016_negcrop_12',\n",
       " '758_73_2500_2013_negcrop_19',\n",
       " '761_74_7525_2018_crop_38',\n",
       " '750_65_7575_2015_crop_94',\n",
       " '765_72_5075_2016_negcrop_15',\n",
       " '758_73_7525_2013_crop_4',\n",
       " '754_66_0050_2015_negcrop_0',\n",
       " '750_66_5075_2015_negcrop_1',\n",
       " '752_69_0075_2015_negcrop_1',\n",
       " '761_76_0000_2015_crop_101',\n",
       " '753_67_2525_2014_negcrop_5',\n",
       " '733_52_0025_2015_negcrop_4',\n",
       " '761_73_0025_2018_negcrop_48',\n",
       " '764_72_7550_2018_negcrop_3',\n",
       " '763_72_2525_2018_crop_85',\n",
       " '761_72_0075_2018_crop_123',\n",
       " '761_73_2550_2018_crop_22',\n",
       " '759_71_0050_2013_crop_137',\n",
       " '761_73_7500_2018_negcrop_15',\n",
       " '761_75_0000_2015_crop_98',\n",
       " '758_69_7500_2014_negcrop_6',\n",
       " '759_74_0000_2013_crop_9',\n",
       " '761_73_0025_2018_crop_51',\n",
       " '759_70_5050_2013_crop_64',\n",
       " '761_72_0075_2018_crop_137',\n",
       " '750_65_5075_2015_negcrop_12',\n",
       " '761_71_0050_2018_negcrop_15',\n",
       " '764_75_5000_2015_negcrop_1',\n",
       " '760_75_0025_2015_negcrop_0',\n",
       " '761_72_2575_2018_crop_72',\n",
       " '758_66_7500_2010_crop_11',\n",
       " '763_73_5000_2018_negcrop_12',\n",
       " '761_79_2575_2013_crop_15',\n",
       " '761_72_0025_2018_crop_141',\n",
       " '759_73_0050_2013_crop_3',\n",
       " '758_70_2575_2013_negcrop_34',\n",
       " '757_72_7525_2013_crop_31',\n",
       " '752_67_0000_2015_negcrop_9',\n",
       " '759_76_5000_2013_negcrop_4',\n",
       " '765_74_2500_2016_negcrop_43',\n",
       " '758_70_2575_2013_negcrop_20',\n",
       " '758_72_5075_2013_negcrop_1',\n",
       " '759_73_5000_2013_crop_136',\n",
       " '734_52_2575_2015_crop_52',\n",
       " '764_75_2500_2015_crop_77',\n",
       " '761_74_0000_2018_negcrop_9',\n",
       " '758_72_0050_2013_crop_117',\n",
       " '750_65_7575_2015_crop_43',\n",
       " '764_75_0000_2015_negcrop_8',\n",
       " '756_70_7575_2010_negcrop_2',\n",
       " '760_72_0050_2018_crop_133',\n",
       " '759_73_0050_2013_negcrop_13',\n",
       " '762_72_0075_2018_negcrop_21',\n",
       " '759_76_0075_2013_crop_14',\n",
       " '760_72_0075_2018_crop_63',\n",
       " '758_70_2575_2013_negcrop_6',\n",
       " '754_67_7575_2015_negcrop_11',\n",
       " '751_69_7500_2015_negcrop_4',\n",
       " '760_73_7525_2018_crop_141',\n",
       " '765_74_0050_2016_negcrop_0',\n",
       " '764_75_0025_2015_negcrop_19',\n",
       " '761_73_0050_2018_crop_94',\n",
       " '749_68_0025_2014_negcrop_3',\n",
       " '760_71_0050_2018_negcrop_3',\n",
       " '764_72_2575_2018_crop_17',\n",
       " '760_73_5025_2018_crop_33',\n",
       " '758_74_0025_2013_negcrop_1',\n",
       " '758_73_7500_2013_crop_18',\n",
       " '760_73_7550_2018_crop_54',\n",
       " '747_65_0075_2014_negcrop_4',\n",
       " '761_71_5050_2018_crop_81',\n",
       " '764_75_0025_2015_negcrop_31',\n",
       " '759_73_7500_2013_crop_97',\n",
       " '765_71_7525_2016_negcrop_1',\n",
       " '760_74_7525_2018_negcrop_2',\n",
       " '758_72_0075_2013_negcrop_8',\n",
       " '763_71_7575_2018_negcrop_0',\n",
       " '750_65_7550_2015_crop_8',\n",
       " '747_65_0075_2014_negcrop_16',\n",
       " '758_72_2550_2013_crop_60',\n",
       " '761_73_0000_2018_negcrop_37',\n",
       " '764_75_0025_2015_negcrop_25',\n",
       " '749_67_0025_2014_negcrop_2',\n",
       " '753_67_7525_2015_negcrop_2',\n",
       " '751_66_7500_2015_negcrop_5',\n",
       " '763_72_0050_2018_negcrop_8',\n",
       " '758_73_2575_2013_crop_24',\n",
       " '765_74_2500_2016_crop_21',\n",
       " '759_71_5075_2013_negcrop_12',\n",
       " '761_72_2500_2018_crop_137',\n",
       " '762_73_2500_2018_negcrop_3',\n",
       " '760_74_5000_2018_negcrop_58',\n",
       " '759_68_0075_2014_crop_33',\n",
       " '761_72_0000_2018_negcrop_6',\n",
       " '761_72_0075_2018_crop_0',\n",
       " '760_74_7550_2018_crop_72',\n",
       " '765_73_0075_2016_negcrop_0',\n",
       " '758_69_7550_2014_negcrop_0',\n",
       " '755_68_5000_2016_negcrop_0',\n",
       " '760_73_7550_2018_crop_97',\n",
       " '760_75_0075_2015_negcrop_6',\n",
       " '756_70_5000_2010_crop_92',\n",
       " '758_76_7575_2013_negcrop_0',\n",
       " '759_72_2550_2013_crop_10',\n",
       " '761_73_5025_2018_negcrop_0',\n",
       " '750_65_5075_2015_crop_36',\n",
       " '761_74_5025_2018_crop_124',\n",
       " '749_68_7525_2015_crop_20',\n",
       " '758_73_5000_2013_negcrop_13',\n",
       " '750_65_7550_2015_negcrop_0',\n",
       " '763_72_5000_2018_negcrop_7',\n",
       " '758_72_2525_2013_crop_117',\n",
       " '765_73_0075_2016_crop_74',\n",
       " '751_65_5075_2015_negcrop_2',\n",
       " '760_74_5000_2018_negcrop_64',\n",
       " '760_73_7500_2018_negcrop_2',\n",
       " '759_73_7500_2013_crop_54',\n",
       " '764_73_2525_2018_negcrop_3',\n",
       " '765_73_0075_2016_crop_60',\n",
       " '764_71_0050_2018_negcrop_16',\n",
       " '749_68_7525_2015_crop_34',\n",
       " '759_77_5000_2013_crop_124',\n",
       " '755_70_2525_2010_crop_127',\n",
       " '765_72_2575_2016_crop_3',\n",
       " '761_74_2575_2018_crop_110',\n",
       " '758_73_2550_2013_negcrop_24',\n",
       " '760_74_7500_2018_negcrop_33',\n",
       " '760_74_5025_2018_negcrop_4',\n",
       " '761_75_5050_2015_crop_62',\n",
       " '734_52_7525_2015_crop_80',\n",
       " '751_65_0050_2015_crop_51',\n",
       " '762_72_5075_2018_crop_4',\n",
       " '760_73_5075_2018_crop_18',\n",
       " '759_80_7525_2013_negcrop_1',\n",
       " '758_73_7500_2013_negcrop_44',\n",
       " '760_73_0000_2018_crop_18',\n",
       " '756_65_7525_2016_crop_11',\n",
       " '761_73_2575_2018_negcrop_9',\n",
       " '765_72_2575_2016_crop_83',\n",
       " '746_58_0000_2015_crop_103',\n",
       " '758_72_7575_2013_crop_63',\n",
       " '760_72_5050_2018_crop_48',\n",
       " '758_73_2550_2013_negcrop_30',\n",
       " '760_74_7500_2018_negcrop_27',\n",
       " '756_69_2550_2014_negcrop_1',\n",
       " '761_76_2500_2015_crop_40',\n",
       " '765_73_2575_2016_crop_102',\n",
       " '758_73_2550_2013_negcrop_18',\n",
       " '762_74_0025_2018_negcrop_5',\n",
       " '758_74_2550_2013_crop_130',\n",
       " '760_73_0000_2018_crop_24',\n",
       " '758_70_2575_2013_crop_76',\n",
       " '754_67_7550_2015_crop_97',\n",
       " '764_74_5075_2018_crop_109',\n",
       " '748_61_7575_2019_negcrop_2',\n",
       " '758_73_7550_2013_negcrop_8',\n",
       " '761_74_0000_2018_crop_72',\n",
       " '754_69_2500_2015_negcrop_1',\n",
       " '760_73_5075_2018_crop_30',\n",
       " '761_72_5050_2018_crop_117',\n",
       " '758_71_2550_2013_crop_26',\n",
       " '735_54_5050_2013_crop_45',\n",
       " '764_73_0025_2018_negcrop_5',\n",
       " '761_73_0075_2018_negcrop_49',\n",
       " '760_73_5000_2018_negcrop_4',\n",
       " '750_65_5050_2015_negcrop_6',\n",
       " '754_67_7550_2015_crop_68',\n",
       " '763_72_7500_2018_negcrop_1',\n",
       " '757_70_5050_2013_negcrop_5',\n",
       " '758_70_7500_2013_crop_89',\n",
       " '765_72_2575_2016_crop_40',\n",
       " '763_75_5050_2015_negcrop_3',\n",
       " '765_72_7550_2016_negcrop_0',\n",
       " '759_68_0075_2014_negcrop_26',\n",
       " '758_71_0000_2013_negcrop_9',\n",
       " '755_70_7500_2010_negcrop_8',\n",
       " '761_73_0025_2018_crop_6',\n",
       " '748_62_5000_2019_negcrop_13',\n",
       " '758_70_5000_2013_negcrop_40',\n",
       " '761_77_2500_2015_crop_9',\n",
       " '760_73_7525_2018_crop_3',\n",
       " '762_72_5000_2018_crop_40',\n",
       " '758_74_2525_2013_crop_29',\n",
       " '761_72_2500_2018_negcrop_0',\n",
       " '761_73_0000_2018_crop_40',\n",
       " '765_73_0075_2016_negcrop_10',\n",
       " '764_73_5050_2018_crop_103',\n",
       " '762_72_0075_2018_crop_40',\n",
       " '762_73_0000_2018_negcrop_5',\n",
       " '760_72_0025_2018_negcrop_2',\n",
       " '761_71_5025_2018_negcrop_8',\n",
       " '759_73_7500_2013_negcrop_30',\n",
       " '750_65_7550_2015_negcrop_12',\n",
       " '758_73_2500_2013_negcrop_7',\n",
       " '761_71_5000_2018_crop_69',\n",
       " '748_62_5000_2019_negcrop_5',\n",
       " '761_73_0075_2018_negcrop_61',\n",
       " '765_73_2575_2016_negcrop_6',\n",
       " '757_72_7550_2013_negcrop_18',\n",
       " '748_62_5000_2019_negcrop_4',\n",
       " '761_73_0075_2018_negcrop_60',\n",
       " '762_72_0075_2018_crop_41',\n",
       " '765_73_0075_2016_negcrop_11',\n",
       " '761_72_2500_2018_negcrop_1',\n",
       " '753_67_2525_2014_crop_55',\n",
       " '761_71_5025_2018_negcrop_9',\n",
       " '763_72_2500_2018_crop_81',\n",
       " '760_72_0025_2018_negcrop_3',\n",
       " '758_66_2550_2010_crop_29',\n",
       " '761_73_2550_2018_crop_127',\n",
       " '747_67_7575_2014_crop_132',\n",
       " '762_73_0000_2018_negcrop_4',\n",
       " '761_73_0025_2018_crop_7',\n",
       " '758_71_0000_2013_negcrop_8',\n",
       " '759_68_0075_2014_negcrop_27',\n",
       " '765_72_7550_2016_negcrop_1',\n",
       " '758_73_5025_2013_crop_82',\n",
       " '750_65_7550_2015_crop_47',\n",
       " '760_73_7525_2018_crop_2',\n",
       " '765_73_0075_2016_negcrop_39',\n",
       " '758_73_2575_2013_crop_1',\n",
       " '751_67_5075_2015_crop_132',\n",
       " '748_62_5000_2019_negcrop_12',\n",
       " '760_74_0025_2018_crop_101',\n",
       " '763_75_7575_2015_crop_30',\n",
       " '759_73_0050_2013_crop_31',\n",
       " '760_74_0025_2018_crop_115',\n",
       " '761_73_0075_2018_negcrop_48',\n",
       " '764_73_0025_2018_negcrop_4',\n",
       " '758_74_7550_2013_crop_14',\n",
       " '761_73_7525_2018_negcrop_7',\n",
       " '759_74_0000_2013_crop_109',\n",
       " '763_72_7500_2018_negcrop_0',\n",
       " '750_65_5050_2015_negcrop_7',\n",
       " '764_74_5050_2018_negcrop_13',\n",
       " '763_71_5050_2018_crop_48',\n",
       " '759_72_2550_2013_negcrop_35',\n",
       " '759_71_2550_2013_crop_80',\n",
       " '760_73_5075_2018_crop_31',\n",
       " '761_74_0000_2018_crop_73',\n",
       " '761_72_5050_2018_crop_116',\n",
       " '762_72_0075_2018_crop_96',\n",
       " '762_74_5025_2018_crop_37',\n",
       " '763_73_0050_2018_crop_75',\n",
       " '761_73_0000_2018_crop_96',\n",
       " '760_71_2550_2018_negcrop_4',\n",
       " '760_72_2550_2018_crop_12',\n",
       " '758_73_2550_2013_negcrop_19',\n",
       " '758_70_0075_2013_negcrop_1',\n",
       " '759_74_0025_2013_crop_128',\n",
       " '763_72_0000_2018_negcrop_16',\n",
       " '758_73_7550_2013_negcrop_9',\n",
       " '753_69_0000_2014_crop_96',\n",
       " '748_61_7575_2019_negcrop_3',\n",
       " '764_74_5075_2018_crop_108',\n",
       " '758_70_7500_2013_crop_77',\n",
       " '760_74_0000_2018_crop_134',\n",
       " '758_70_2575_2013_crop_77',\n",
       " '760_73_0000_2018_crop_25',\n",
       " '765_72_2575_2016_crop_82',\n",
       " '764_74_5075_2018_crop_120',\n",
       " '764_74_7525_2018_negcrop_12',\n",
       " '761_71_5025_2018_crop_8',\n",
       " '749_67_7575_2015_negcrop_4',\n",
       " '760_74_7500_2018_negcrop_26',\n",
       " '758_73_2550_2013_negcrop_31',\n",
       " '751_65_0050_2015_crop_44',\n",
       " '761_70_5050_2018_negcrop_0',\n",
       " '762_72_5075_2018_crop_5',\n",
       " '734_52_7525_2015_crop_81',\n",
       " '760_74_7500_2018_negcrop_32',\n",
       " '760_74_5025_2018_negcrop_5',\n",
       " '761_74_2575_2018_crop_111',\n",
       " '758_73_7500_2013_negcrop_45',\n",
       " '733_53_7525_2015_crop_86',\n",
       " '760_73_5075_2018_crop_19',\n",
       " '758_73_2525_2013_crop_32',\n",
       " '765_73_0075_2016_crop_61',\n",
       " '759_68_0050_2014_negcrop_5',\n",
       " '759_73_7500_2013_crop_41',\n",
       " '761_70_5075_2018_crop_13',\n",
       " '765_72_2575_2016_crop_2',\n",
       " '763_73_2500_2018_crop_126',\n",
       " '758_74_2575_2013_negcrop_20',\n",
       " '764_71_0050_2018_negcrop_17',\n",
       " '763_73_2500_2018_crop_132',\n",
       " '763_72_5000_2018_negcrop_6',\n",
       " '750_65_7550_2015_negcrop_1',\n",
       " '761_73_5025_2018_negcrop_1',\n",
       " '759_72_2550_2013_crop_11',\n",
       " '764_73_2525_2018_negcrop_2',\n",
       " '759_71_2575_2013_crop_140',\n",
       " '751_65_5075_2015_crop_90',\n",
       " '760_73_7500_2018_negcrop_3',\n",
       " '765_73_0075_2016_crop_75',\n",
       " '758_72_2525_2013_crop_116',\n",
       " '760_74_7550_2018_crop_73',\n",
       " '756_70_5000_2010_crop_93',\n",
       " '759_72_2550_2013_crop_39',\n",
       " '764_74_7525_2018_crop_74',\n",
       " '762_73_2500_2018_negcrop_2',\n",
       " '764_74_7525_2018_crop_60',\n",
       " '749_65_2575_2014_crop_40',\n",
       " '760_72_2525_2018_negcrop_5',\n",
       " '765_73_0075_2016_crop_49',\n",
       " '759_68_0075_2014_crop_32',\n",
       " '758_74_5000_2013_crop_105',\n",
       " '764_73_2550_2018_crop_140',\n",
       " '764_75_0025_2015_negcrop_24',\n",
       " '761_73_0000_2018_negcrop_36',\n",
       " '754_68_5025_2015_negcrop_0',\n",
       " '750_68_0000_2015_negcrop_1',\n",
       " '753_67_2575_2014_negcrop_2',\n",
       " '759_71_5075_2013_negcrop_13',\n",
       " '761_71_5050_2018_crop_94',\n",
       " '763_72_0050_2018_negcrop_9',\n",
       " '757_69_2575_2014_negcrop_4',\n",
       " '751_66_7500_2015_negcrop_4',\n",
       " '758_68_7575_2014_crop_127',\n",
       " '758_73_7500_2013_crop_31',\n",
       " '764_71_2525_2018_crop_47',\n",
       " '756_65_5075_2016_negcrop_2',\n",
       " '755_70_0050_2010_negcrop_0',\n",
       " '747_65_0075_2014_negcrop_5',\n",
       " '759_71_5075_2013_negcrop_3',\n",
       " '760_74_7525_2018_negcrop_3',\n",
       " '765_71_7525_2016_negcrop_0',\n",
       " '764_75_0025_2015_negcrop_30',\n",
       " '760_72_2500_2018_crop_39',\n",
       " '760_71_0050_2018_negcrop_2',\n",
       " '761_72_5050_2018_negcrop_8',\n",
       " '758_71_2500_2013_crop_24',\n",
       " '746_66_2500_2014_crop_7',\n",
       " '761_73_0050_2018_crop_95',\n",
       " '761_74_5025_2018_crop_70',\n",
       " '758_73_7500_2013_crop_19',\n",
       " '734_52_2575_2015_negcrop_1',\n",
       " '750_65_5050_2015_crop_140',\n",
       " '761_76_7550_2015_negcrop_14',\n",
       " '757_66_2575_2010_crop_69',\n",
       " '760_71_2525_2018_crop_123',\n",
       " '761_76_0025_2015_negcrop_2',\n",
       " '764_75_0000_2015_negcrop_9',\n",
       " '761_73_0050_2018_crop_81',\n",
       " '759_73_0050_2013_negcrop_12',\n",
       " '751_66_5025_2015_negcrop_21',\n",
       " '763_71_2550_2018_negcrop_13',\n",
       " '758_72_5075_2013_negcrop_0',\n",
       " '765_74_2500_2016_negcrop_42',\n",
       " '761_74_0000_2018_negcrop_8',\n",
       " '758_70_2550_2013_crop_99',\n",
       " '763_72_5050_2018_negcrop_0',\n",
       " '761_79_2575_2013_crop_14',\n",
       " '763_73_5000_2018_negcrop_13',\n",
       " '762_74_2500_2018_crop_128',\n",
       " '759_76_5000_2013_negcrop_5',\n",
       " '752_67_0000_2015_negcrop_8',\n",
       " '757_72_7525_2013_crop_30',\n",
       " '760_71_7550_2018_crop_85',\n",
       " '756_68_2550_2016_crop_5',\n",
       " '758_70_2575_2013_negcrop_35',\n",
       " '761_75_2550_2015_crop_3',\n",
       " '758_69_7500_2014_negcrop_7',\n",
       " '758_73_0050_2013_negcrop_6',\n",
       " '764_75_5000_2015_negcrop_0',\n",
       " '748_62_0025_2019_crop_139',\n",
       " '763_72_2525_2018_crop_84',\n",
       " '764_72_7550_2018_negcrop_2',\n",
       " '761_73_0025_2018_negcrop_49',\n",
       " '760_72_5075_2018_negcrop_11',\n",
       " '761_72_0050_2018_negcrop_1',\n",
       " '761_73_0025_2018_crop_44',\n",
       " '761_73_7500_2018_negcrop_14',\n",
       " '750_65_7550_2015_crop_117',\n",
       " '761_73_2550_2018_crop_23',\n",
       " '761_72_0075_2018_crop_122',\n",
       " '752_69_0075_2015_negcrop_0',\n",
       " '753_67_2575_2014_crop_100',\n",
       " '750_66_5075_2015_negcrop_0',\n",
       " '751_66_7550_2015_negcrop_2',\n",
       " '750_65_7575_2015_crop_122',\n",
       " '753_67_2525_2014_negcrop_4',\n",
       " '755_68_5025_2016_crop_28',\n",
       " '761_73_0025_2018_negcrop_8',\n",
       " '758_73_2500_2013_crop_23',\n",
       " '765_72_5075_2016_negcrop_14',\n",
       " '761_74_7525_2018_crop_39',\n",
       " '750_65_7575_2015_crop_95',\n",
       " '761_71_2525_2018_crop_112',\n",
       " '755_67_7525_2016_negcrop_13',\n",
       " '761_74_5050_2018_negcrop_7',\n",
       " '761_72_2575_2018_crop_98',\n",
       " '749_61_0000_2019_crop_110',\n",
       " '760_74_5000_2018_crop_135',\n",
       " '761_76_7550_2015_crop_78',\n",
       " '760_73_5000_2018_crop_122',\n",
       " '749_68_0075_2014_negcrop_4',\n",
       " '758_71_0000_2013_crop_45',\n",
       " '761_73_0025_2018_crop_93',\n",
       " '755_70_2525_2010_crop_75',\n",
       " '753_68_2525_2014_negcrop_5',\n",
       " '756_69_5025_2014_crop_27',\n",
       " '758_66_5025_2010_crop_120',\n",
       " '758_70_2550_2013_crop_66',\n",
       " '763_74_5000_2018_crop_95',\n",
       " '752_66_0075_2015_negcrop_1',\n",
       " '760_73_7525_2018_crop_47',\n",
       " '761_74_5050_2018_crop_62',\n",
       " '758_73_5000_2013_negcrop_9',\n",
       " '758_70_2525_2013_negcrop_1',\n",
       " '761_72_2550_2018_negcrop_10',\n",
       " '758_74_5000_2013_crop_4',\n",
       " '760_72_5075_2018_crop_64',\n",
       " '763_74_0050_2018_negcrop_6',\n",
       " '761_73_0025_2018_crop_87',\n",
       " '760_74_5000_2018_crop_109',\n",
       " '758_73_2550_2013_negcrop_0',\n",
       " '764_74_7500_2018_crop_71',\n",
       " '761_74_0025_2018_crop_130',\n",
       " '761_72_0050_2018_negcrop_53',\n",
       " '760_73_7575_2018_negcrop_36',\n",
       " '759_73_0075_2013_negcrop_2',\n",
       " '764_74_5075_2018_negcrop_44',\n",
       " '759_73_7525_2013_crop_78',\n",
       " '758_74_2525_2013_negcrop_21',\n",
       " '763_73_2575_2018_negcrop_0',\n",
       " '763_72_5075_2018_negcrop_21',\n",
       " '764_74_5075_2018_negcrop_50',\n",
       " '758_73_5050_2013_negcrop_13',\n",
       " '753_67_2550_2014_crop_53',\n",
       " '751_69_7500_2015_crop_120',\n",
       " '752_65_0000_2015_negcrop_0',\n",
       " '762_73_5075_2018_negcrop_19',\n",
       " '759_72_2575_2013_crop_28',\n",
       " '760_75_2525_2015_crop_72',\n",
       " '760_71_2550_2018_negcrop_23',\n",
       " '757_72_7575_2013_crop_27',\n",
       " '758_72_7575_2013_negcrop_6',\n",
       " '764_75_0025_2015_crop_12',\n",
       " '764_74_7500_2018_negcrop_45',\n",
       " '751_65_7525_2015_negcrop_3',\n",
       " '762_72_5075_2018_negcrop_4',\n",
       " '763_73_5050_2018_crop_98',\n",
       " '761_74_0025_2018_crop_118',\n",
       " '746_57_5075_2015_crop_109',\n",
       " '763_72_7500_2018_negcrop_20',\n",
       " '758_74_2550_2013_crop_12',\n",
       " '763_72_0025_2018_crop_137',\n",
       " '759_72_7500_2013_crop_14',\n",
       " '758_70_2575_2013_crop_102',\n",
       " '761_71_0025_2018_negcrop_0',\n",
       " '761_73_0050_2018_negcrop_37',\n",
       " '764_75_2500_2015_negcrop_18',\n",
       " '754_67_7575_2015_negcrop_1',\n",
       " '761_72_7500_2018_negcrop_8',\n",
       " '762_74_7525_2018_crop_42',\n",
       " '762_74_0025_2018_crop_25',\n",
       " '762_77_5000_2015_crop_20',\n",
       " '761_72_5025_2018_crop_5',\n",
       " '758_70_2500_2013_crop_71',\n",
       " '763_72_0000_2018_crop_23',\n",
       " '761_73_0050_2018_negcrop_23',\n",
       " '746_57_5025_2015_negcrop_6',\n",
       " '761_74_0000_2018_crop_111',\n",
       " '758_70_2500_2013_crop_59',\n",
       " '760_81_0000_2013_negcrop_0',\n",
       " '753_67_0025_2014_negcrop_2',\n",
       " '765_74_2525_2016_crop_25',\n",
       " '751_58_5050_2016_negcrop_1',\n",
       " '763_72_2500_2018_negcrop_9',\n",
       " '749_67_7525_2015_negcrop_2',\n",
       " '754_68_7575_2015_negcrop_0',\n",
       " '759_71_7550_2013_negcrop_13',\n",
       " '763_71_5025_2018_negcrop_1',\n",
       " '759_73_7525_2013_crop_87',\n",
       " '760_72_0050_2018_negcrop_27',\n",
       " '759_73_7525_2013_crop_93',\n",
       " '754_67_7525_2015_negcrop_11',\n",
       " '763_72_7500_2018_crop_78',\n",
       " '761_74_7550_2018_negcrop_1',\n",
       " '761_71_5075_2018_crop_85',\n",
       " '761_73_2525_2018_negcrop_22',\n",
       " '764_75_2500_2015_negcrop_30',\n",
       " '759_73_7525_2013_crop_85',\n",
       " '764_72_0025_2018_crop_119',\n",
       " '759_71_7550_2013_negcrop_11',\n",
       " '754_68_7575_2015_negcrop_2',\n",
       " '764_74_7500_2018_crop_136',\n",
       " '733_52_2525_2015_negcrop_1',\n",
       " '758_70_5025_2013_negcrop_14',\n",
       " '746_57_5025_2015_negcrop_4',\n",
       " '764_75_2500_2015_negcrop_26',\n",
       " '756_65_7525_2016_negcrop_0',\n",
       " '764_74_7500_2018_crop_98',\n",
       " '758_73_7525_2013_crop_36',\n",
       " '764_75_2500_2015_negcrop_32',\n",
       " '761_74_7550_2018_negcrop_3',\n",
       " '759_72_0000_2013_negcrop_9',\n",
       " '746_65_7550_2014_crop_38',\n",
       " '754_67_7525_2015_negcrop_13',\n",
       " '760_72_2525_2018_negcrop_18',\n",
       " '764_74_7500_2018_crop_122',\n",
       " '762_77_5000_2015_negcrop_14',\n",
       " '760_72_0050_2018_negcrop_25',\n",
       " '760_72_2525_2018_negcrop_30',\n",
       " '749_68_2575_2014_negcrop_0',\n",
       " '760_71_2500_2018_negcrop_0',\n",
       " '751_66_2500_2015_crop_62',\n",
       " '749_68_7525_2015_negcrop_1',\n",
       " '765_74_2500_2016_negcrop_3',\n",
       " '760_73_7575_2018_crop_52',\n",
       " '758_73_5050_2013_crop_79',\n",
       " '761_73_0050_2018_negcrop_35',\n",
       " '761_71_0025_2018_negcrop_2',\n",
       " '763_72_0000_2018_crop_35',\n",
       " '758_74_2575_2013_negcrop_2',\n",
       " '758_70_0075_2013_crop_14',\n",
       " '761_73_0050_2018_negcrop_21',\n",
       " '761_71_5050_2018_crop_105',\n",
       " '758_70_0025_2013_negcrop_5',\n",
       " '761_75_5050_2015_negcrop_8',\n",
       " '764_72_0025_2018_crop_131',\n",
       " '761_72_5025_2018_crop_7',\n",
       " '758_73_0025_2013_crop_130',\n",
       " '764_74_7500_2018_negcrop_47',\n",
       " '766_73_5000_2016_negcrop_0',\n",
       " '761_73_0025_2018_crop_119',\n",
       " '760_74_2500_2018_crop_48',\n",
       " '760_71_2550_2018_negcrop_21',\n",
       " '758_70_2575_2013_crop_114',\n",
       " '759_72_5050_2013_negcrop_6',\n",
       " '764_74_5075_2018_crop_28',\n",
       " '758_73_5050_2013_crop_92',\n",
       " '759_72_2575_2013_crop_16',\n",
       " '759_68_0075_2014_crop_9',\n",
       " '761_71_0000_2018_crop_44',\n",
       " '758_73_0025_2013_crop_92',\n",
       " '757_71_2500_2010_crop_38',\n",
       " '760_73_5050_2018_negcrop_1',\n",
       " '759_76_7500_2013_negcrop_1',\n",
       " '761_73_0075_2018_crop_79',\n",
       " '751_65_5050_2015_crop_97',\n",
       " '760_73_5000_2018_negcrop_21',\n",
       " '760_71_2575_2018_crop_84',\n",
       " '762_72_5075_2018_negcrop_6',\n",
       " '758_73_7525_2013_negcrop_10',\n",
       " '747_65_0050_2014_crop_119',\n",
       " '763_72_5075_2018_negcrop_37',\n",
       " '759_73_0075_2013_negcrop_0',\n",
       " '764_74_5075_2018_negcrop_46',\n",
       " '761_73_0075_2018_crop_51',\n",
       " '761_72_0050_2018_negcrop_51',\n",
       " '758_71_2500_2013_negcrop_11',\n",
       " '763_72_7500_2018_crop_91',\n",
       " '761_72_0050_2018_crop_15',\n",
       " '764_74_5075_2018_crop_14',\n",
       " '761_72_5025_2018_crop_15',\n",
       " '758_73_2550_2013_negcrop_2',\n",
       " '750_66_0075_2015_crop_75',\n",
       " '763_72_2575_2018_crop_85',\n",
       " '760_72_0075_2018_negcrop_7',\n",
       " '752_65_0000_2015_negcrop_2',\n",
       " '761_72_0050_2018_negcrop_45',\n",
       " '764_75_0025_2015_crop_38',\n",
       " '763_71_2550_2018_crop_118',\n",
       " '759_68_0050_2014_crop_35',\n",
       " '763_72_5075_2018_negcrop_23',\n",
       " '761_73_0075_2018_crop_45',\n",
       " '760_74_2500_2018_crop_60',\n",
       " '760_73_7575_2018_negcrop_20',\n",
       " '755_67_0025_2016_crop_35',\n",
       " '761_72_0050_2018_crop_129',\n",
       " '754_67_7575_2015_crop_85',\n",
       " '745_57_0000_2015_negcrop_1',\n",
       " '760_74_7550_2018_negcrop_25',\n",
       " '754_67_7550_2015_crop_109',\n",
       " '760_73_5000_2018_crop_108',\n",
       " '760_72_5075_2018_crop_72',\n",
       " '763_74_0050_2018_negcrop_4',\n",
       " '755_67_7525_2016_crop_3',\n",
       " '761_72_2550_2018_negcrop_12',\n",
       " '750_67_7500_2015_crop_96',\n",
       " '759_73_7525_2013_negcrop_9',\n",
       " '763_72_2525_2018_negcrop_14',\n",
       " '758_70_2550_2013_crop_70',\n",
       " '762_73_2575_2018_crop_142',\n",
       " '753_67_7575_2015_negcrop_7',\n",
       " '753_67_2525_2014_negcrop_6',\n",
       " '758_70_2550_2013_crop_58',\n",
       " '751_66_7550_2015_negcrop_0',\n",
       " '750_65_7575_2015_crop_120',\n",
       " '733_52_0025_2015_negcrop_7',\n",
       " '761_75_7500_2015_crop_17',\n",
       " '754_68_5075_2015_negcrop_4',\n",
       " '752_69_0075_2015_negcrop_2',\n",
       " '760_74_7525_2018_crop_88',\n",
       " '760_73_5000_2018_crop_120',\n",
       " '751_66_2550_2015_crop_49',\n",
       " '761_72_0050_2018_crop_101',\n",
       " '755_67_7525_2016_negcrop_11',\n",
       " '761_71_2525_2018_crop_110',\n",
       " '765_72_5075_2016_negcrop_16',\n",
       " '764_75_5000_2015_negcrop_2',\n",
       " '751_66_7550_2015_crop_109',\n",
       " '752_68_2575_2015_negcrop_11',\n",
       " '754_67_7575_2015_crop_46',\n",
       " '762_72_5025_2018_crop_52',\n",
       " '733_52_0025_2015_crop_49',\n",
       " '760_74_7525_2018_crop_77',\n",
       " '750_65_5075_2015_negcrop_11',\n",
       " '761_72_0075_2018_crop_120',\n",
       " '761_73_2550_2018_crop_21',\n",
       " '761_73_7500_2018_negcrop_16',\n",
       " '761_71_2500_2018_crop_131',\n",
       " '761_73_0025_2018_crop_46',\n",
       " '761_72_0050_2018_negcrop_3',\n",
       " '764_72_7550_2018_negcrop_0',\n",
       " '759_76_5000_2013_negcrop_15',\n",
       " '753_67_7550_2015_crop_39',\n",
       " '763_75_7500_2015_negcrop_0',\n",
       " '758_72_0050_2013_crop_114',\n",
       " '761_72_0075_2018_crop_108',\n",
       " '758_72_5075_2013_negcrop_2',\n",
       " '733_52_0025_2015_crop_75',\n",
       " '758_70_2575_2013_negcrop_23',\n",
       " '761_74_7550_2018_crop_127',\n",
       " '733_52_0025_2015_crop_61',\n",
       " '761_75_2550_2015_crop_1',\n",
       " '758_70_2575_2013_negcrop_37',\n",
       " '759_76_5000_2013_negcrop_7',\n",
       " '750_65_7550_2015_crop_129',\n",
       " '764_75_0075_2015_crop_5',\n",
       " '761_73_5000_2018_crop_3',\n",
       " '763_73_5000_2018_negcrop_11',\n",
       " '761_72_2575_2018_crop_59',\n",
       " '763_72_5050_2018_negcrop_2',\n",
       " '748_62_5000_2019_crop_21',\n",
       " '761_74_7550_2018_crop_15',\n",
       " '760_73_5025_2018_crop_30',\n",
       " '734_52_2575_2015_negcrop_3',\n",
       " '761_71_5025_2018_negcrop_21',\n",
       " '758_68_7575_2014_crop_119',\n",
       " '760_73_7525_2018_crop_142',\n",
       " '751_65_5075_2015_crop_79',\n",
       " '761_73_0050_2018_crop_97',\n",
       " '747_65_0075_2014_negcrop_29',\n",
       " '760_71_0050_2018_negcrop_0',\n",
       " '759_73_0050_2013_negcrop_10',\n",
       " '762_72_0075_2018_negcrop_22',\n",
       " '761_73_2575_2018_negcrop_21',\n",
       " '761_75_7500_2015_negcrop_8',\n",
       " '754_67_7575_2015_negcrop_12',\n",
       " '762_72_5050_2018_crop_83',\n",
       " '761_71_5025_2018_negcrop_35',\n",
       " '761_76_0025_2015_negcrop_0',\n",
       " '756_70_7575_2010_negcrop_1',\n",
       " '749_67_0025_2014_negcrop_1',\n",
       " '753_67_7525_2015_negcrop_1',\n",
       " '751_66_7500_2015_negcrop_6',\n",
       " '758_73_2575_2013_crop_27',\n",
       " '762_73_0050_2018_crop_120',\n",
       " '753_67_2575_2014_negcrop_0',\n",
       " '747_65_0075_2014_negcrop_15',\n",
       " '751_65_7500_2015_crop_22',\n",
       " '761_73_0000_2018_negcrop_34',\n",
       " '764_75_0025_2015_negcrop_26',\n",
       " '760_71_7525_2018_crop_56',\n",
       " '747_61_2525_2014_negcrop_0',\n",
       " '761_70_7550_2018_negcrop_4',\n",
       " '764_75_0025_2015_negcrop_32',\n",
       " '761_73_0000_2018_negcrop_20',\n",
       " '765_71_7525_2016_negcrop_2',\n",
       " '757_72_7525_2013_crop_110',\n",
       " '760_71_2550_2018_crop_42',\n",
       " '764_74_2500_2018_negcrop_0',\n",
       " '759_72_2550_2013_negcrop_9',\n",
       " '747_65_0075_2014_negcrop_7',\n",
       " '765_74_2500_2016_crop_36',\n",
       " '751_66_5000_2015_crop_128',\n",
       " '756_65_5075_2016_negcrop_0',\n",
       " '765_72_7550_2016_crop_97',\n",
       " '761_71_0025_2018_crop_69',\n",
       " '762_77_5000_2015_crop_7',\n",
       " '759_72_0050_2013_crop_125',\n",
       " '763_71_7550_2018_crop_131',\n",
       " '745_57_0000_2015_crop_88',\n",
       " '758_73_0000_2013_negcrop_2',\n",
       " '764_71_0050_2018_negcrop_29',\n",
       " '749_60_0075_2019_crop_95',\n",
       " '761_72_2575_2018_negcrop_51',\n",
       " '761_75_2550_2015_negcrop_7',\n",
       " '758_72_2525_2013_crop_128',\n",
       " '761_72_0000_2018_negcrop_5',\n",
       " '761_72_5050_2018_negcrop_18',\n",
       " '761_72_2575_2018_negcrop_45',\n",
       " '763_72_2550_2018_crop_80',\n",
       " '764_71_0050_2018_negcrop_15',\n",
       " '761_74_5025_2018_crop_133',\n",
       " '751_66_7550_2015_crop_98',\n",
       " '759_73_7500_2013_crop_43',\n",
       " '759_68_0050_2014_negcrop_7',\n",
       " '758_73_5000_2013_crop_138',\n",
       " '765_73_0075_2016_crop_63',\n",
       " '733_52_2525_2015_crop_14',\n",
       " '751_66_5025_2015_crop_135',\n",
       " '751_65_5075_2015_negcrop_1',\n",
       " '760_73_7500_2018_negcrop_1',\n",
       " '759_76_5050_2013_negcrop_1',\n",
       " '764_73_2525_2018_negcrop_0',\n",
       " '763_71_7550_2018_crop_119',\n",
       " '750_65_7550_2015_negcrop_3',\n",
       " '761_72_5050_2018_crop_128',\n",
       " '761_75_5050_2015_crop_75',\n",
       " '761_74_2575_2018_crop_107',\n",
       " '758_73_2550_2013_negcrop_33',\n",
       " '760_74_7500_2018_negcrop_24',\n",
       " '763_71_5075_2018_negcrop_5',\n",
       " '756_69_2550_2014_negcrop_2',\n",
       " '758_73_7550_2013_crop_24',\n",
       " '751_66_5000_2015_negcrop_0',\n",
       " '764_74_7525_2018_negcrop_10',\n",
       " '758_73_2525_2013_crop_24',\n",
       " '750_66_5075_2015_crop_98',\n",
       " '764_74_5075_2018_crop_122',\n",
       " '765_72_2575_2016_crop_94',\n",
       " '733_53_7525_2015_crop_84',\n",
       " '760_72_2550_2018_crop_38',\n",
       " '760_74_5025_2018_negcrop_7',\n",
       " '761_75_5050_2015_crop_61',\n",
       " '760_74_7500_2018_negcrop_18',\n",
       " '764_74_5025_2018_crop_140',\n",
       " '752_68_2575_2015_crop_47',\n",
       " '753_66_5050_2014_negcrop_0',\n",
       " '735_54_5050_2013_crop_46',\n",
       " '754_67_7525_2015_negcrop_5',\n",
       " '760_73_5075_2018_crop_33',\n",
       " '758_74_2525_2013_negcrop_4',\n",
       " '764_74_5050_2018_negcrop_11',\n",
       " '758_70_0025_2013_crop_121',\n",
       " '751_64_7575_2015_crop_59',\n",
       " '762_74_0025_2018_negcrop_6',\n",
       " '756_69_7575_2014_crop_53',\n",
       " '764_74_7525_2018_negcrop_38',\n",
       " '759_72_2550_2013_negcrop_23',\n",
       " '763_72_0000_2018_negcrop_14',\n",
       " '758_70_0075_2013_negcrop_3',\n",
       " '765_73_2575_2016_crop_101',\n",
       " '760_74_0025_2018_crop_103',\n",
       " '758_73_2575_2013_crop_3',\n",
       " '748_62_5000_2019_negcrop_10',\n",
       " '764_74_5050_2018_negcrop_9',\n",
       " '760_71_7575_2018_crop_96',\n",
       " '759_73_0050_2013_crop_27',\n",
       " '763_75_5050_2015_negcrop_0',\n",
       " '759_72_7525_2013_crop_130',\n",
       " '761_71_5000_2018_crop_56',\n",
       " '759_68_0075_2014_negcrop_25',\n",
       " '759_72_5000_2013_negcrop_0',\n",
       " '763_75_0075_2015_crop_127',\n",
       " '761_73_7525_2018_negcrop_5',\n",
       " '763_73_7525_2018_negcrop_11',\n",
       " '764_73_0025_2018_negcrop_6',\n",
       " '762_72_5025_2018_negcrop_0',\n",
       " '764_73_5050_2018_crop_114',\n",
       " '761_73_0075_2018_negcrop_62',\n",
       " '748_62_5000_2019_negcrop_6',\n",
       " '765_73_2575_2016_negcrop_5',\n",
       " '759_68_0075_2014_negcrop_19',\n",
       " '754_67_7550_2015_crop_43',\n",
       " '765_72_5075_2016_crop_130',\n",
       " '750_65_7550_2015_negcrop_11',\n",
       " '758_73_2500_2013_negcrop_4',\n",
       " '762_73_0000_2018_negcrop_6',\n",
       " '759_73_0000_2013_crop_120',\n",
       " '757_72_7550_2013_negcrop_8',\n",
       " '759_73_7500_2013_negcrop_27',\n",
       " '744_57_7550_2019_negcrop_0',\n",
       " '761_72_2500_2018_negcrop_3',\n",
       " '750_67_0025_2015_crop_37',\n",
       " '758_70_0000_2013_crop_128',\n",
       " '760_72_0025_2018_negcrop_0',\n",
       " '759_73_0000_2013_crop_121',\n",
       " '750_67_7500_2015_crop_100',\n",
       " '758_70_0000_2013_crop_129',\n",
       " '765_73_0075_2016_negcrop_12',\n",
       " '761_73_2575_2018_crop_25',\n",
       " '761_72_2500_2018_negcrop_2',\n",
       " '744_57_7550_2019_negcrop_1',\n",
       " '765_73_2575_2016_negcrop_4',\n",
       " '756_70_0000_2010_crop_129',\n",
       " '760_74_7500_2018_crop_73',\n",
       " '748_62_5000_2019_negcrop_7',\n",
       " '764_73_5050_2018_crop_115',\n",
       " '750_65_7550_2015_negcrop_10',\n",
       " '754_67_7550_2015_crop_42',\n",
       " '759_68_0075_2014_negcrop_18',\n",
       " '761_73_7525_2018_negcrop_4',\n",
       " '757_70_5050_2013_negcrop_7',\n",
       " '762_72_5050_2018_negcrop_15',\n",
       " '758_66_2550_2010_crop_16',\n",
       " '750_65_5050_2015_negcrop_4',\n",
       " '759_68_0075_2014_negcrop_30',\n",
       " '760_75_7525_2015_crop_63',\n",
       " '763_73_7525_2018_negcrop_10',\n",
       " '764_73_0025_2018_negcrop_7',\n",
       " '758_70_5000_2013_negcrop_42',\n",
       " '761_70_0075_2018_crop_143',\n",
       " '764_74_5050_2018_negcrop_8',\n",
       " '758_73_2575_2013_crop_2',\n",
       " '760_74_0025_2018_crop_102',\n",
       " '759_72_5000_2013_negcrop_1',\n",
       " '765_72_7550_2016_negcrop_2',\n",
       " '763_75_5050_2015_negcrop_1',\n",
       " '765_72_2575_2016_crop_42',\n",
       " '748_61_7575_2019_negcrop_0',\n",
       " '759_72_2550_2013_negcrop_22',\n",
       " '761_74_0000_2018_crop_64',\n",
       " '761_72_0075_2018_negcrop_13',\n",
       " '760_73_0000_2018_crop_26',\n",
       " '756_69_7575_2014_crop_52',\n",
       " '757_78_0050_2010_crop_25',\n",
       " '762_74_0025_2018_negcrop_7',\n",
       " '753_66_7550_2015_crop_92',\n",
       " '765_73_2575_2016_crop_100',\n",
       " '758_70_0075_2013_negcrop_2',\n",
       " '761_73_2575_2018_crop_139',\n",
       " '762_74_0050_2018_crop_20',\n",
       " '733_53_7550_2015_negcrop_0',\n",
       " '753_66_5050_2014_negcrop_1',\n",
       " '760_74_7500_2018_negcrop_19',\n",
       " '764_74_5050_2018_negcrop_10',\n",
       " '758_70_0025_2013_crop_120',\n",
       " '758_74_2525_2013_negcrop_5',\n",
       " '759_72_2550_2013_negcrop_36',\n",
       " '754_67_7525_2015_negcrop_4',\n",
       " '758_70_0025_2013_crop_108',\n",
       " '759_80_7525_2013_negcrop_3',\n",
       " '761_74_0000_2018_crop_58',\n",
       " '762_72_5075_2018_crop_6',\n",
       " '751_65_0050_2015_crop_53',\n",
       " '747_65_2500_2014_crop_139',\n",
       " '761_75_5050_2015_crop_60',\n",
       " '734_52_7525_2015_crop_82',\n",
       " '760_80_2525_2013_crop_126',\n",
       " '760_74_5025_2018_negcrop_6',\n",
       " '758_73_2550_2013_negcrop_26',\n",
       " '760_72_2550_2018_crop_39',\n",
       " '763_71_5075_2018_negcrop_4',\n",
       " '758_73_2550_2013_negcrop_32',\n",
       " '761_75_5050_2015_crop_74',\n",
       " '761_73_2575_2018_crop_111',\n",
       " '763_71_2550_2018_crop_10',\n",
       " '764_74_5075_2018_crop_123',\n",
       " '758_73_7550_2013_crop_25',\n",
       " '753_69_5050_2014_negcrop_0',\n",
       " '763_72_2500_2018_crop_69',\n",
       " '764_73_2525_2018_negcrop_1',\n",
       " '759_73_7500_2013_crop_56',\n",
       " '760_73_7500_2018_negcrop_0',\n",
       " '751_65_5075_2015_negcrop_0',\n",
       " '751_66_5025_2015_crop_134',\n",
       " '763_72_5000_2018_negcrop_5',\n",
       " '750_65_7550_2015_negcrop_2',\n",
       " '758_73_5000_2013_negcrop_11',\n",
       " '765_72_5025_2016_crop_32',\n",
       " '763_71_7550_2018_crop_118',\n",
       " '765_72_2575_2016_crop_1',\n",
       " '763_73_2500_2018_crop_125',\n",
       " '764_71_0050_2018_negcrop_14',\n",
       " '758_74_0000_2013_crop_67',\n",
       " '751_66_5025_2015_crop_120',\n",
       " '759_73_7500_2013_crop_42',\n",
       " '751_66_7550_2015_crop_99',\n",
       " '760_71_0075_2018_negcrop_20',\n",
       " '761_72_2550_2018_crop_143',\n",
       " '759_68_0075_2014_crop_19',\n",
       " '761_72_0000_2018_negcrop_4',\n",
       " '758_72_2525_2013_crop_129',\n",
       " '759_68_0075_2014_crop_31',\n",
       " '762_73_2500_2018_negcrop_1',\n",
       " '763_71_7550_2018_crop_124',\n",
       " '764_74_7525_2018_crop_63',\n",
       " '761_72_2575_2018_negcrop_44',\n",
       " '753_65_0075_2015_negcrop_1',\n",
       " '760_72_2525_2018_negcrop_6',\n",
       " '761_73_5025_2018_crop_119',\n",
       " '761_72_2575_2018_negcrop_50',\n",
       " '749_60_0075_2019_crop_94',\n",
       " '763_71_7550_2018_crop_130',\n",
       " '759_72_0050_2013_crop_124',\n",
       " '762_77_5000_2015_crop_6',\n",
       " '761_71_0025_2018_crop_68',\n",
       " '761_75_2550_2015_negcrop_6',\n",
       " '762_72_5050_2018_crop_55',\n",
       " '765_73_0075_2016_negcrop_2',\n",
       " '760_71_2550_2018_crop_43',\n",
       " '757_72_7525_2013_crop_111',\n",
       " '761_73_0000_2018_negcrop_21',\n",
       " '758_68_7575_2014_crop_130',\n",
       " '761_71_0025_2018_crop_83',\n",
       " '758_73_7500_2013_crop_32',\n",
       " '756_65_5075_2016_negcrop_1',\n",
       " '751_66_5000_2015_crop_129',\n",
       " '765_74_2500_2016_crop_37',\n",
       " '747_65_0075_2014_negcrop_6',\n",
       " '759_72_2550_2013_negcrop_8',\n",
       " '761_71_5050_2018_crop_83',\n",
       " '759_71_5075_2013_negcrop_10',\n",
       " '758_73_2575_2013_crop_26',\n",
       " '761_71_5050_2018_crop_97',\n",
       " '749_67_0025_2014_negcrop_0',\n",
       " '747_61_2525_2014_negcrop_1',\n",
       " '761_73_0000_2018_negcrop_35',\n",
       " '747_65_0075_2014_negcrop_14',\n",
       " '758_70_2575_2013_negcrop_4',\n",
       " '761_73_2575_2018_negcrop_20',\n",
       " ...]"
      ]
     },
     "execution_count": 76,
     "metadata": {},
     "output_type": "execute_result"
    }
   ],
   "source": [
    "testnames_final"
   ]
  },
  {
   "cell_type": "code",
   "execution_count": 77,
   "metadata": {},
   "outputs": [
    {
     "data": {
      "text/plain": [
       "9434"
      ]
     },
     "execution_count": 77,
     "metadata": {},
     "output_type": "execute_result"
    }
   ],
   "source": [
    "len(testnames_final)"
   ]
  },
  {
   "cell_type": "code",
   "execution_count": 78,
   "metadata": {},
   "outputs": [],
   "source": [
    "filtered_labels_df = labels_df[labels_df['filename'].isin(testnames_final)]\n"
   ]
  },
  {
   "cell_type": "code",
   "execution_count": 79,
   "metadata": {},
   "outputs": [],
   "source": [
    "filtered_labels_df.set_index('filename', inplace=True)\n"
   ]
  },
  {
   "cell_type": "code",
   "execution_count": 80,
   "metadata": {},
   "outputs": [],
   "source": [
    "filtered_labels_df.to_csv('/Volumes/USB/Pseudomasks/TRAIN/orig_palsa_labels.csv')\n"
   ]
  },
  {
   "cell_type": "code",
   "execution_count": 36,
   "metadata": {},
   "outputs": [],
   "source": [
    "test_files = pd.read_csv('/Volumes/USB/Pseudomasks/TEST/filtered_labels.csv')\n",
    "train_files = pd.read_csv('/Volumes/USB/Pseudomasks/TRAIN/filtered_labels.csv')\n",
    "combined_files = pd.concat([test_files, train_files], ignore_index=True)\n",
    "\n"
   ]
  },
  {
   "cell_type": "code",
   "execution_count": 37,
   "metadata": {},
   "outputs": [
    {
     "data": {
      "text/html": [
       "<div>\n",
       "<style scoped>\n",
       "    .dataframe tbody tr th:only-of-type {\n",
       "        vertical-align: middle;\n",
       "    }\n",
       "\n",
       "    .dataframe tbody tr th {\n",
       "        vertical-align: top;\n",
       "    }\n",
       "\n",
       "    .dataframe thead th {\n",
       "        text-align: right;\n",
       "    }\n",
       "</style>\n",
       "<table border=\"1\" class=\"dataframe\">\n",
       "  <thead>\n",
       "    <tr style=\"text-align: right;\">\n",
       "      <th></th>\n",
       "      <th>filename</th>\n",
       "      <th>palsa</th>\n",
       "    </tr>\n",
       "  </thead>\n",
       "  <tbody>\n",
       "    <tr>\n",
       "      <th>0</th>\n",
       "      <td>757_69_5050_2014_crop_25</td>\n",
       "      <td>1.50</td>\n",
       "    </tr>\n",
       "    <tr>\n",
       "      <th>1</th>\n",
       "      <td>757_69_5050_2014_crop_26</td>\n",
       "      <td>0.50</td>\n",
       "    </tr>\n",
       "    <tr>\n",
       "      <th>2</th>\n",
       "      <td>757_69_5050_2014_crop_30</td>\n",
       "      <td>3.00</td>\n",
       "    </tr>\n",
       "    <tr>\n",
       "      <th>3</th>\n",
       "      <td>753_67_2550_2014_crop_36</td>\n",
       "      <td>1.25</td>\n",
       "    </tr>\n",
       "    <tr>\n",
       "      <th>4</th>\n",
       "      <td>753_67_2550_2014_crop_51</td>\n",
       "      <td>41.50</td>\n",
       "    </tr>\n",
       "  </tbody>\n",
       "</table>\n",
       "</div>"
      ],
      "text/plain": [
       "                   filename  palsa\n",
       "0  757_69_5050_2014_crop_25   1.50\n",
       "1  757_69_5050_2014_crop_26   0.50\n",
       "2  757_69_5050_2014_crop_30   3.00\n",
       "3  753_67_2550_2014_crop_36   1.25\n",
       "4  753_67_2550_2014_crop_51  41.50"
      ]
     },
     "execution_count": 37,
     "metadata": {},
     "output_type": "execute_result"
    }
   ],
   "source": [
    "combined_files.head()"
   ]
  },
  {
   "cell_type": "code",
   "execution_count": 38,
   "metadata": {},
   "outputs": [
    {
     "data": {
      "text/plain": [
       "9503"
      ]
     },
     "execution_count": 38,
     "metadata": {},
     "output_type": "execute_result"
    }
   ],
   "source": [
    "len(combined_files)"
   ]
  },
  {
   "cell_type": "code",
   "execution_count": 62,
   "metadata": {},
   "outputs": [
    {
     "name": "stdout",
     "output_type": "stream",
     "text": [
      "No overlap found between GT_files and combined_files.\n"
     ]
    }
   ],
   "source": [
    "GT_files = pd.read_csv('/Volumes/USB/Ground_truth/All_GTs/new_palsa_labels.csv')\n",
    "GT_files.rename(columns={GT_files.columns[0]: 'filename'}, inplace=True)\n",
    "GT_files.head()\n",
    "GT_files = GT_files[GT_files['palsa_percentage']>0]\n",
    "\n",
    "overlap = GT_files[GT_files['filename'].isin(train_files['filename'])]\n",
    "if not overlap.empty:\n",
    "    print(\"Overlap found between GT_files and combined_files:\")\n",
    "    print(overlap)\n",
    "else:\n",
    "    print(\"No overlap found between GT_files and combined_files.\")\n"
   ]
  },
  {
   "cell_type": "code",
   "execution_count": 46,
   "metadata": {},
   "outputs": [],
   "source": [
    "GT = pd.read_csv('/Volumes/USB/Ground_truth/All_GTs/new_palsa_labels.csv')"
   ]
  },
  {
   "cell_type": "code",
   "execution_count": 51,
   "metadata": {},
   "outputs": [
    {
     "data": {
      "text/plain": [
       "107"
      ]
     },
     "execution_count": 51,
     "metadata": {},
     "output_type": "execute_result"
    }
   ],
   "source": [
    "len(GT[GT['palsa_percentage']>0])"
   ]
  },
  {
   "cell_type": "code",
   "execution_count": 58,
   "metadata": {},
   "outputs": [],
   "source": [
    "test_dir = \"/Volumes/USB/Pseudomasks/TEST/images\"\n",
    "train_dir = \"/Volumes/USB/Pseudomasks/TRAIN/images\"\n",
    "\n",
    "# Load filenames from both directories\n",
    "import os\n",
    "\n",
    "# Get list of filenames in both directories\n",
    "test_filenames = set(os.listdir(test_dir))\n",
    "train_filenames = set(os.listdir(train_dir))\n",
    "\n",
    "# Identify common filenames\n",
    "common_filenames = test_filenames.intersection(train_filenames)\n",
    "\n"
   ]
  },
  {
   "cell_type": "code",
   "execution_count": 59,
   "metadata": {},
   "outputs": [
    {
     "data": {
      "text/plain": [
       "106"
      ]
     },
     "execution_count": 59,
     "metadata": {},
     "output_type": "execute_result"
    }
   ],
   "source": [
    "len(common_filenames)"
   ]
  },
  {
   "cell_type": "code",
   "execution_count": 1,
   "metadata": {},
   "outputs": [],
   "source": [
    "import pandas as pd \n",
    "\n",
    "train_dir = \"/Volumes/USB/Pseudomasks/TRAIN/orig_palsa_labels.csv\"\n",
    "test_dir = \"/Volumes/USB/Pseudomasks/TEST/orig_palsa_labels.csv\"\n",
    "\n",
    "train_df = pd.read_csv(train_dir)\n",
    "test_df = pd.read_csv(test_dir)"
   ]
  },
  {
   "cell_type": "code",
   "execution_count": 2,
   "metadata": {},
   "outputs": [
    {
     "data": {
      "text/html": [
       "<div>\n",
       "<style scoped>\n",
       "    .dataframe tbody tr th:only-of-type {\n",
       "        vertical-align: middle;\n",
       "    }\n",
       "\n",
       "    .dataframe tbody tr th {\n",
       "        vertical-align: top;\n",
       "    }\n",
       "\n",
       "    .dataframe thead th {\n",
       "        text-align: right;\n",
       "    }\n",
       "</style>\n",
       "<table border=\"1\" class=\"dataframe\">\n",
       "  <thead>\n",
       "    <tr style=\"text-align: right;\">\n",
       "      <th></th>\n",
       "      <th>filename</th>\n",
       "      <th>palsa</th>\n",
       "    </tr>\n",
       "  </thead>\n",
       "  <tbody>\n",
       "    <tr>\n",
       "      <th>0</th>\n",
       "      <td>760_73_5025_2018_crop_14</td>\n",
       "      <td>7.25</td>\n",
       "    </tr>\n",
       "    <tr>\n",
       "      <th>1</th>\n",
       "      <td>760_73_5025_2018_crop_15</td>\n",
       "      <td>0.75</td>\n",
       "    </tr>\n",
       "    <tr>\n",
       "      <th>2</th>\n",
       "      <td>760_73_5025_2018_crop_17</td>\n",
       "      <td>1.50</td>\n",
       "    </tr>\n",
       "    <tr>\n",
       "      <th>3</th>\n",
       "      <td>760_73_5025_2018_crop_22</td>\n",
       "      <td>8.50</td>\n",
       "    </tr>\n",
       "    <tr>\n",
       "      <th>4</th>\n",
       "      <td>760_73_5025_2018_crop_23</td>\n",
       "      <td>13.75</td>\n",
       "    </tr>\n",
       "  </tbody>\n",
       "</table>\n",
       "</div>"
      ],
      "text/plain": [
       "                   filename  palsa\n",
       "0  760_73_5025_2018_crop_14   7.25\n",
       "1  760_73_5025_2018_crop_15   0.75\n",
       "2  760_73_5025_2018_crop_17   1.50\n",
       "3  760_73_5025_2018_crop_22   8.50\n",
       "4  760_73_5025_2018_crop_23  13.75"
      ]
     },
     "execution_count": 2,
     "metadata": {},
     "output_type": "execute_result"
    }
   ],
   "source": [
    "train_df.head()"
   ]
  },
  {
   "cell_type": "code",
   "execution_count": 5,
   "metadata": {},
   "outputs": [
    {
     "name": "stdout",
     "output_type": "stream",
     "text": [
      "Missing test images: 27\n",
      "Missing train images: 3446\n"
     ]
    }
   ],
   "source": [
    "all_images = \"/Volumes/USB/Thresholded_CAM/masks\"\n",
    "\n",
    "output_test = \"/Volumes/USB/Thresholded_CAM/TEST/masks\"\n",
    "output_train = \"/Volumes/USB/Thresholded_CAM/TRAIN/masks\"\n",
    "\n",
    "import shutil\n",
    "import os\n",
    "\n",
    "# Create output directories if they don't exist\n",
    "os.makedirs(output_test, exist_ok=True)\n",
    "os.makedirs(output_train, exist_ok=True)\n",
    "\n",
    "# Initialize counters for missing images\n",
    "missing_test_images = 0\n",
    "missing_train_images = 0\n",
    "\n",
    "# Copy files for the test dataset\n",
    "for filename in test_df['filename']:\n",
    "    src = os.path.join(all_images, f\"{filename}.png\")  # Assuming the extension is .png\n",
    "    dst = os.path.join(output_test, f\"{filename}.png\")\n",
    "    if os.path.exists(src):\n",
    "        shutil.copy(src, dst)\n",
    "    else:\n",
    "        missing_test_images += 1\n",
    "\n",
    "# Copy files for the train dataset\n",
    "for filename in train_df['filename']:\n",
    "    src = os.path.join(all_images, f\"{filename}.png\")  # Assuming the extension is .png\n",
    "    dst = os.path.join(output_train, f\"{filename}.png\")\n",
    "    if os.path.exists(src):\n",
    "        shutil.copy(src, dst)\n",
    "    else:\n",
    "        missing_train_images += 1\n",
    "\n",
    "# Print the count of missing images\n",
    "print(f\"Missing test images: {missing_test_images}\")\n",
    "print(f\"Missing train images: {missing_train_images}\")\n",
    "\n"
   ]
  },
  {
   "cell_type": "code",
   "execution_count": 7,
   "metadata": {},
   "outputs": [],
   "source": [
    "import pandas as pd \n",
    "all_labels_df = pd.read_csv(\"/Volumes/USB/Orig_200m_TIFS/new_palsa_labels.csv\", names = ['filename', 'palsa'], header = 0)\n"
   ]
  },
  {
   "cell_type": "code",
   "execution_count": 18,
   "metadata": {},
   "outputs": [
    {
     "data": {
      "text/plain": [
       "14600"
      ]
     },
     "execution_count": 18,
     "metadata": {},
     "output_type": "execute_result"
    }
   ],
   "source": [
    "import os\n",
    "# imgs = \"/Volumes/USB/Pseudomasks/Thresholded_CAM/TRAIN/images\"\n",
    "imgs = \"/Volumes/USB/Pseudomasks/orig_SNIC_pseudomasks/TRAIN/images\"\n",
    "files = [file[:-4] for file in os.listdir(imgs) if not file.startswith('._')]\n",
    "# imgs_files = [file[:-4] for file in os.listdir(testimgs) if not file.startswith('._')]\n",
    "\n",
    "all_images = files\n",
    "len(all_images)\n"
   ]
  },
  {
   "cell_type": "code",
   "execution_count": 19,
   "metadata": {},
   "outputs": [
    {
     "data": {
      "text/plain": [
       "14600"
      ]
     },
     "execution_count": 19,
     "metadata": {},
     "output_type": "execute_result"
    }
   ],
   "source": [
    "filtered_labels_df = all_labels_df[all_labels_df['filename'].isin(all_images)]\n",
    "len(filtered_labels_df)"
   ]
  },
  {
   "cell_type": "code",
   "execution_count": 20,
   "metadata": {},
   "outputs": [],
   "source": [
    "filtered_labels_df.to_csv(\"/Volumes/USB/Pseudomasks/orig_SNIC_pseudomasks/TRAIN/orig_palsa_labels.csv\")"
   ]
  },
  {
   "cell_type": "code",
   "execution_count": 26,
   "metadata": {},
   "outputs": [],
   "source": [
    "# meta_filenameformat = f'/Volumes/USB/Orig_200m_TIFS/tif_metadata/{filename}_metadata.json'\n",
    "\n",
    "meta_filenames = os.listdir('/Volumes/USB/Orig_200m_TIFS/tif_metadata/')\n",
    "metafiles = [filename[:-14] for filename in meta_filenames]\n",
    "metafiles = [file for file in metafiles if not file.startswith('._')]\n"
   ]
  },
  {
   "cell_type": "code",
   "execution_count": 27,
   "metadata": {},
   "outputs": [
    {
     "data": {
      "text/plain": [
       "15126"
      ]
     },
     "execution_count": 27,
     "metadata": {},
     "output_type": "execute_result"
    }
   ],
   "source": [
    "len(metafiles)"
   ]
  },
  {
   "cell_type": "code",
   "execution_count": 25,
   "metadata": {},
   "outputs": [
    {
     "data": {
      "text/plain": [
       "['761_73_0025_2018_negcrop_10',\n",
       " '._761_73_0025_2018_negcrop_10',\n",
       " '763_72_5025_2018_negcrop_2']"
      ]
     },
     "execution_count": 25,
     "metadata": {},
     "output_type": "execute_result"
    }
   ],
   "source": [
    "metafiles[:3]"
   ]
  },
  {
   "cell_type": "code",
   "execution_count": 35,
   "metadata": {},
   "outputs": [
    {
     "data": {
      "text/plain": [
       "15160"
      ]
     },
     "execution_count": 35,
     "metadata": {},
     "output_type": "execute_result"
    }
   ],
   "source": [
    "tr_imgs = \"/Volumes/USB/Pseudomasks/orig_SNIC_pseudomasks/TRAIN/images\"\n",
    "te_imgs = \"/Volumes/USB/Pseudomasks/orig_SNIC_pseudomasks/TEST/images\"\n",
    "tr_files = [file[:-4] for file in os.listdir(tr_imgs) if not file.startswith('._')]\n",
    "te_files = [file[:-4] for file in os.listdir(te_imgs) if not file.startswith('._')]\n",
    "\n",
    "all_images = tr_files+te_files\n",
    "len(all_images)"
   ]
  },
  {
   "cell_type": "code",
   "execution_count": 36,
   "metadata": {},
   "outputs": [],
   "source": [
    "missing_metafiles = [file for file in all_images if file not in metafiles]\n"
   ]
  },
  {
   "cell_type": "code",
   "execution_count": null,
   "metadata": {},
   "outputs": [],
   "source": []
  },
  {
   "cell_type": "code",
   "execution_count": 37,
   "metadata": {},
   "outputs": [
    {
     "data": {
      "text/plain": [
       "34"
      ]
     },
     "execution_count": 37,
     "metadata": {},
     "output_type": "execute_result"
    }
   ],
   "source": [
    "len(missing_metafiles)"
   ]
  },
  {
   "cell_type": "code",
   "execution_count": 14,
   "metadata": {},
   "outputs": [
    {
     "name": "stdout",
     "output_type": "stream",
     "text": [
      "Number of TIF files without corresponding JPGs: 577\n",
      "Missing JPG files: ['763_72_5025_2018_negcrop_2.tif', '751_65_5050_2015_negcrop_7.tif', '758_66_5075_2010_crop_133.tif', '760_73_7500_2018_negcrop_11.tif', '761_75_7500_2015_negcrop_23.tif', '759_72_2575_2013_negcrop_13.tif', '760_71_7550_2018_crop_104.tif', '759_76_7575_2013_negcrop_1.tif', '761_73_0050_2018_crop_101.tif', '759_71_7550_2013_negcrop_1.tif', '758_73_0075_2013_crop_135.tif', '758_70_5075_2013_crop_2.tif', '761_72_2550_2018_crop_13.tif', '758_70_0050_2013_crop_105.tif', '754_68_5050_2015_crop_48.tif', '761_74_2500_2018_crop_123.tif', '749_61_0000_2019_crop_62.tif', '748_62_0025_2019_negcrop_9.tif', '761_73_5025_2018_crop_143.tif', '765_72_5025_2016_crop_40.tif', '765_73_5000_2016_crop_38.tif', '763_72_5050_2018_crop_57.tif', '757_72_7525_2013_negcrop_17.tif', '763_75_7525_2015_negcrop_7.tif', '761_71_0025_2018_crop_27.tif', '760_74_7500_2018_negcrop_42.tif', '756_69_7575_2014_crop_21.tif', '762_72_0075_2018_crop_31.tif', '763_71_7550_2018_negcrop_16.tif', '758_74_2500_2013_negcrop_3.tif', '756_67_0000_2016_negcrop_0.tif', '753_68_2525_2014_negcrop_12.tif', '761_73_0025_2018_crop_34.tif', '764_75_2500_2015_crop_10.tif', '761_73_0050_2018_negcrop_9.tif', '746_65_5075_2014_crop_38.tif', '758_73_2550_2013_crop_85.tif', '761_73_0075_2018_crop_123.tif', '764_74_7500_2018_negcrop_37.tif', '759_73_7525_2013_negcrop_14.tif', '760_71_2575_2018_crop_37.tif', '759_71_7550_2013_crop_112.tif', '765_74_2525_2016_negcrop_6.tif', '764_74_2575_2018_negcrop_28.tif', '756_70_5000_2010_negcrop_4.tif', '758_73_7500_2013_negcrop_37.tif', '757_67_2500_2010_crop_74.tif', '763_75_7525_2015_negcrop_5.tif', '758_74_2575_2013_crop_71.tif', '761_72_0075_2018_negcrop_6.tif', '759_68_0075_2014_crop_54.tif', '759_73_7500_2013_crop_112.tif', '760_74_5025_2018_crop_98.tif', '757_72_7550_2013_crop_51.tif', '748_62_2500_2019_crop_128.tif', '758_73_7500_2013_negcrop_22.tif', '748_62_2525_2019_negcrop_14.tif', '762_74_0000_2018_negcrop_2.tif', '763_72_5075_2018_crop_87.tif', '756_67_0000_2016_negcrop_3.tif', '756_65_5075_2016_crop_29.tif', '760_74_7500_2018_negcrop_5.tif', '764_71_2550_2018_crop_26.tif', '763_71_7550_2018_negcrop_7.tif', '759_73_0075_2013_negcrop_22.tif', '755_68_5025_2016_negcrop_7.tif', '754_67_7550_2015_negcrop_24.tif', '755_67_5025_2016_negcrop_2.tif', '751_66_7525_2015_crop_14.tif', '758_71_0000_2013_crop_32.tif', '759_72_5025_2013_negcrop_0.tif', '764_74_5075_2018_negcrop_33.tif', '763_72_5075_2018_negcrop_42.tif', '756_69_2575_2014_negcrop_2.tif', '763_72_0050_2018_crop_117.tif', '762_73_5075_2018_negcrop_9.tif', '763_72_5075_2018_crop_54.tif', '759_73_0050_2013_negcrop_0.tif', '760_74_7500_2018_crop_13.tif', '758_72_0075_2013_crop_66.tif', '765_74_2525_2016_negcrop_3.tif', '762_74_5025_2018_crop_40.tif', '759_76_7525_2013_crop_12.tif', '760_73_0000_2018_negcrop_21.tif', '757_67_2500_2010_negcrop_11.tif', '761_72_2575_2018_negcrop_18.tif', '747_66_0025_2014_crop_26.tif', '752_69_2500_2015_crop_61.tif', '745_64_7575_2016_crop_110.tif', '760_73_7525_2018_crop_122.tif', '763_75_7525_2015_negcrop_1.tif', '760_73_7500_2018_crop_34.tif', '763_73_5025_2018_crop_17.tif', '765_72_5075_2016_crop_93.tif', '761_72_5050_2018_crop_98.tif', '762_73_2525_2018_crop_14.tif', '760_74_7500_2018_crop_12.tif', '758_70_5000_2013_negcrop_37.tif', '762_73_5075_2018_negcrop_8.tif', '764_75_2500_2015_negcrop_46.tif', '763_71_5050_2018_negcrop_4.tif', '746_57_5000_2015_crop_56.tif', '756_67_0000_2016_negcrop_6.tif', '761_73_2550_2018_crop_55.tif', '746_56_2575_2015_crop_89.tif', '753_67_7550_2015_crop_73.tif', '761_73_7500_2018_crop_124.tif', '754_67_7550_2015_negcrop_33.tif', '755_68_5025_2016_negcrop_0.tif', '746_66_7500_2014_negcrop_18.tif', '761_74_7525_2018_crop_65.tif', '747_65_0050_2014_negcrop_4.tif', '751_65_5075_2015_negcrop_13.tif', '764_74_5075_2018_negcrop_18.tif', '759_72_5025_2013_negcrop_3.tif', '761_75_2525_2015_crop_62.tif', '762_77_5000_2015_crop_40.tif', '761_73_0050_2018_crop_104.tif', '758_73_2525_2013_crop_139.tif', '759_76_5000_2013_crop_122.tif', '760_74_7500_2018_crop_10.tif', '760_71_2575_2018_negcrop_14.tif', '758_73_2500_2013_crop_130.tif', '758_72_0075_2013_crop_65.tif', '759_72_2550_2013_negcrop_41.tif', '758_73_7500_2013_negcrop_19.tif', '760_73_7500_2018_crop_22.tif', '762_73_0000_2018_crop_72.tif', '760_74_5000_2018_negcrop_11.tif', '765_74_2500_2016_crop_41.tif', '757_70_5050_2013_crop_19.tif', '765_73_0075_2016_crop_14.tif', '761_72_0075_2018_negcrop_1.tif', '760_72_2550_2018_negcrop_3.tif', '758_74_5000_2013_negcrop_9.tif', '752_66_0075_2015_negcrop_10.tif', '757_67_2500_2010_crop_98.tif', '761_73_2500_2018_negcrop_28.tif', '759_76_7525_2013_negcrop_3.tif', '760_73_7575_2018_crop_31.tif', '761_76_2500_2015_negcrop_4.tif', '759_68_0050_2014_negcrop_11.tif', '759_68_0050_2014_crop_42.tif', '764_74_7500_2018_crop_10.tif', '752_68_2575_2015_negcrop_9.tif', '760_74_7500_2018_negcrop_3.tif', '759_80_7525_2013_crop_124.tif', '762_72_7500_2018_negcrop_4.tif', '764_73_2500_2018_negcrop_2.tif', '748_62_5000_2019_crop_42.tif', '763_73_0000_2018_negcrop_0.tif', '758_66_5025_2010_negcrop_1.tif', '752_66_0075_2015_crop_91.tif', '758_66_5050_2010_negcrop_1.tif', '749_66_2500_2014_crop_125.tif', '749_61_0000_2019_crop_102.tif', '761_75_0000_2015_crop_74.tif', '753_67_2550_2014_crop_55.tif', '761_75_0000_2015_negcrop_3.tif', '762_74_0075_2018_negcrop_4.tif', '758_70_2500_2013_crop_77.tif', '759_73_0000_2013_negcrop_29.tif', '758_73_7500_2013_negcrop_9.tif', '750_65_7575_2015_negcrop_42.tif', '757_66_2575_2010_negcrop_2.tif', '761_73_2525_2018_negcrop_30.tif', '760_72_0025_2018_negcrop_5.tif', '758_73_2500_2013_negcrop_0.tif', '750_65_7550_2015_negcrop_15.tif', '761_71_5000_2018_crop_46.tif', '763_73_0050_2018_crop_98.tif', '762_72_7525_2018_negcrop_2.tif', '761_75_5050_2015_negcrop_16.tif', '765_73_0075_2016_negcrop_7.tif', '764_71_0050_2018_crop_26.tif', '756_70_2500_2010_crop_31.tif', '760_72_0050_2018_crop_135.tif', '760_75_0075_2015_crop_17.tif', '760_71_2550_2018_negcrop_3.tif', '750_65_5050_2015_negcrop_0.tif', '759_73_0000_2013_negcrop_14.tif', '750_65_7575_2015_negcrop_43.tif', '753_65_0075_2015_crop_71.tif', '759_76_7500_2013_negcrop_4.tif', '760_73_7575_2018_negcrop_19.tif', '761_73_0025_2018_crop_120.tif', '763_72_5075_2018_negcrop_26.tif', '758_73_0050_2013_negcrop_1.tif', '759_76_5000_2013_negcrop_10.tif', '758_66_5050_2010_negcrop_0.tif', '763_73_5000_2018_negcrop_14.tif', '765_74_2500_2016_negcrop_47.tif', '759_73_0075_2013_crop_25.tif', '761_73_5000_2018_crop_4.tif', '761_71_0050_2018_negcrop_11.tif', '764_71_2550_2018_crop_50.tif', '758_70_2525_2013_negcrop_4.tif', '763_72_7500_2018_negcrop_19.tif', '760_71_7550_2018_negcrop_8.tif', '760_74_5000_2018_crop_28.tif', '760_73_5050_2018_negcrop_6.tif', '764_75_2500_2015_negcrop_35.tif', '750_65_7550_2015_negcrop_16.tif', '757_70_5050_2013_negcrop_1.tif', '762_77_7500_2015_crop_50.tif', '748_61_7575_2019_negcrop_6.tif', '759_73_7500_2013_crop_50.tif', '762_77_7500_2015_crop_9.tif', '762_72_0075_2018_negcrop_24.tif', '762_72_0075_2018_negcrop_18.tif', '753_67_2575_2014_negcrop_6.tif', '750_65_7550_2015_negcrop_5.tif', '758_70_5075_2013_crop_28.tif', '759_76_5075_2013_crop_105.tif', '760_72_5050_2018_crop_71.tif', '761_73_0000_2018_crop_79.tif', '765_73_0075_2016_negcrop_29.tif', '750_65_5050_2015_negcrop_3.tif', '765_73_0075_2016_negcrop_15.tif', '748_62_5000_2019_negcrop_0.tif', '762_77_5000_2015_crop_18.tif', '764_74_7500_2018_crop_130.tif', '760_72_2525_2018_negcrop_22.tif', '762_72_2525_2018_crop_141.tif', '758_73_2550_2013_negcrop_4.tif', '758_69_7525_2014_crop_77.tif', '755_67_7525_2016_crop_5.tif', '761_72_2550_2018_negcrop_14.tif', '760_72_5075_2018_crop_74.tif', '750_65_7575_2015_crop_132.tif', '758_71_0000_2013_crop_69.tif', '761_76_0000_2015_crop_104.tif', '752_66_0075_2015_crop_87.tif', '759_72_7550_2013_negcrop_6.tif', '759_72_7550_2013_negcrop_2.tif', '760_71_7550_2018_crop_85.tif', '756_68_2550_2016_crop_5.tif', '758_73_2500_2013_crop_23.tif', '753_67_2575_2014_crop_100.tif', '761_74_7525_2018_crop_39.tif', '751_69_7500_2015_crop_120.tif', '764_74_5075_2018_negcrop_50.tif', '763_72_7500_2018_crop_78.tif', '764_75_2500_2015_crop_109.tif', '764_73_0025_2018_negcrop_4.tif', '760_73_5025_2018_crop_32.tif', '764_75_0000_2015_negcrop_9.tif', '747_65_0075_2014_negcrop_4.tif', '763_71_7575_2018_negcrop_0.tif', '749_68_0025_2014_negcrop_3.tif', '764_75_0025_2015_negcrop_19.tif', '765_72_2575_2016_crop_3.tif', '759_73_7500_2013_crop_40.tif', '761_72_2500_2018_crop_137.tif', '760_74_7550_2018_crop_72.tif', '735_54_5050_2013_crop_45.tif', '764_74_7525_2018_negcrop_13.tif', '761_71_5025_2018_negcrop_8.tif', '763_72_2500_2018_crop_80.tif', '761_73_0075_2018_negcrop_49.tif', '756_65_7525_2016_negcrop_3.tif', '758_73_2550_2013_negcrop_1.tif', '747_61_2525_2014_crop_134.tif', '754_66_0050_2015_negcrop_0.tif', '764_74_7575_2018_negcrop_12.tif', '758_70_2575_2013_negcrop_20.tif', '734_52_2575_2015_crop_52.tif', '763_72_2525_2018_crop_85.tif', '761_72_0050_2018_negcrop_2.tif', '761_71_0050_2018_negcrop_17.tif', '750_65_7575_2015_crop_55.tif', '759_72_7550_2013_negcrop_1.tif', '761_72_0025_2018_negcrop_12.tif', '758_70_2575_2013_crop_115.tif', '764_74_7500_2018_crop_123.tif', '761_73_0050_2018_negcrop_20.tif', '761_71_0025_2018_negcrop_3.tif', '760_71_7500_2018_negcrop_8.tif', '758_70_0000_2013_crop_129.tif', '760_80_2525_2013_crop_126.tif', '762_74_0050_2018_crop_34.tif', '753_65_0075_2015_negcrop_1.tif', '764_71_0050_2018_negcrop_14.tif', '760_74_7525_2018_negcrop_0.tif', '756_70_7575_2010_negcrop_1.tif', '751_66_5025_2015_negcrop_23.tif', '761_72_5050_2018_negcrop_18.tif', '760_73_0000_2018_crop_27.tif', '761_72_5050_2018_crop_128.tif', '760_72_0050_2018_negcrop_19.tif', '761_71_5050_2018_crop_105.tif', '763_71_5025_2018_negcrop_3.tif', '756_65_7525_2016_negcrop_0.tif', '759_76_7500_2013_negcrop_1.tif', '759_72_0000_2013_crop_71.tif', '761_76_0000_2015_crop_102.tif', '765_72_5075_2016_negcrop_16.tif', '751_66_2550_2015_crop_49.tif', '760_74_7550_2018_negcrop_25.tif', '748_62_5000_2019_crop_21.tif', '759_76_5000_2013_negcrop_7.tif', '761_74_7550_2018_crop_116.tif', '764_75_0000_2015_negcrop_40.tif', '758_70_2550_2013_crop_69.tif', '755_68_5025_2016_crop_27.tif', '761_72_2550_2018_negcrop_23.tif', '761_74_2500_2018_negcrop_1.tif', '747_62_5025_2019_negcrop_7.tif', '749_66_2500_2014_negcrop_5.tif', '751_66_7500_2015_negcrop_12.tif', '761_74_0000_2018_negcrop_43.tif', '763_75_0075_2015_crop_116.tif', '761_72_5050_2018_crop_125.tif', '761_72_0075_2018_crop_35.tif', '761_73_0000_2018_negcrop_39.tif', '759_73_0050_2013_negcrop_21.tif', '761_72_2525_2018_crop_125.tif', '747_64_2575_2019_negcrop_0.tif', '760_77_0000_2015_crop_23.tif', '761_71_0025_2018_crop_59.tif', '763_71_2550_2018_crop_35.tif', '759_68_0075_2014_negcrop_15.tif', '761_71_5000_2018_crop_66.tif', '759_68_0075_2014_negcrop_29.tif', '754_67_7525_2015_negcrop_23.tif', '750_66_0075_2015_crop_86.tif', '733_52_2500_2015_crop_35.tif', '761_73_0075_2018_crop_49.tif', '761_71_5075_2018_negcrop_1.tif', '760_72_5075_2018_crop_108.tif', '761_72_5000_2018_negcrop_0.tif', '759_72_2525_2013_crop_31.tif', '762_74_7525_2018_negcrop_5.tif', '763_73_5000_2018_crop_97.tif', '761_71_0050_2018_crop_49.tif', '761_74_0000_2018_negcrop_4.tif', '764_74_7500_2018_negcrop_7.tif', '760_74_5025_2018_negcrop_16.tif', '749_66_2500_2014_negcrop_6.tif', '760_73_5000_2018_negcrop_13.tif', '759_72_2575_2013_crop_30.tif', '761_72_7500_2018_negcrop_4.tif', '761_76_0000_2015_negcrop_13.tif', '753_67_2525_2014_crop_71.tif', '758_72_7575_2013_crop_85.tif', '761_73_0000_2018_crop_59.tif', '758_73_2550_2013_negcrop_29.tif', '764_75_2500_2015_negcrop_3.tif', '750_68_0000_2015_crop_110.tif', '761_72_5050_2018_negcrop_16.tif', '757_72_5050_2013_negcrop_0.tif', '764_74_7525_2018_crop_50.tif', '758_72_0025_2013_crop_2.tif', '759_69_0025_2014_negcrop_0.tif', '761_71_5025_2018_negcrop_13.tif', '760_72_0075_2018_crop_47.tif', '757_66_2575_2010_crop_70.tif', '761_75_7500_2015_negcrop_7.tif', '751_65_5075_2015_crop_89.tif', '759_72_0025_2013_negcrop_11.tif', '761_75_5000_2015_negcrop_1.tif', '759_73_7500_2013_negcrop_28.tif', '759_73_0000_2013_negcrop_22.tif', '761_70_2575_2018_crop_132.tif', '761_72_5025_2018_crop_8.tif', '763_74_7500_2018_negcrop_2.tif', '758_73_5050_2013_negcrop_36.tif', '753_67_7575_2015_negcrop_8.tif', '746_65_7550_2014_negcrop_3.tif', '763_74_5000_2018_negcrop_0.tif', '761_71_0050_2018_crop_64.tif', '734_52_2575_2015_crop_99.tif', '761_73_0025_2018_negcrop_1.tif', '763_75_5075_2015_crop_70.tif', '760_74_5000_2018_crop_18.tif', '760_71_7500_2018_crop_136.tif', '764_74_7500_2018_crop_44.tif', '761_74_0025_2018_negcrop_12.tif', '761_73_2575_2018_crop_127.tif', '750_65_7550_2015_negcrop_8.tif', '750_66_0075_2015_negcrop_0.tif', '760_74_5000_2018_negcrop_50.tif', '756_67_0000_2016_crop_40.tif', '761_73_0000_2018_negcrop_17.tif', '760_72_7575_2018_negcrop_2.tif', '762_72_2575_2018_negcrop_3.tif', '761_74_0000_2018_crop_47.tif', '764_71_2525_2018_negcrop_2.tif', '765_73_0075_2016_negcrop_19.tif', '765_72_2550_2016_negcrop_0.tif', '751_66_7500_2015_negcrop_15.tif', '763_73_7525_2018_crop_132.tif', '764_74_2575_2018_crop_45.tif', '746_65_5050_2014_negcrop_0.tif', '750_66_2525_2015_negcrop_1.tif', '760_74_7525_2018_negcrop_45.tif', '761_71_0000_2018_crop_72.tif', '762_73_5075_2018_negcrop_11.tif', '761_73_5000_2018_crop_9.tif', '760_71_0075_2018_crop_108.tif', '761_71_5025_2018_crop_98.tif', '760_72_2525_2018_crop_104.tif', '752_65_7550_2015_negcrop_3.tif', '762_73_5025_2018_crop_142.tif', '761_73_2525_2018_negcrop_14.tif', '758_70_5000_2013_crop_34.tif', '747_62_5025_2019_crop_69.tif', '758_70_5025_2013_negcrop_4.tif', '764_74_5050_2018_negcrop_1.tif', '761_73_2575_2018_crop_10.tif', '754_67_7550_2015_crop_88.tif', '758_73_2525_2013_crop_10.tif', '758_73_7550_2013_negcrop_3.tif', '759_72_2550_2013_negcrop_17.tif', '761_72_0075_2018_negcrop_26.tif', '758_71_2500_2013_negcrop_4.tif', '759_73_0000_2013_crop_10.tif', '751_66_5025_2015_crop_101.tif', '761_77_5050_2013_negcrop_2.tif', '759_77_5025_2013_negcrop_0.tif', '761_73_0000_2018_negcrop_15.tif', '758_72_2550_2013_crop_42.tif', '761_77_5050_2013_negcrop_3.tif', '761_73_5025_2018_crop_49.tif', '761_72_2575_2018_negcrop_58.tif', '751_66_5025_2015_crop_114.tif', '761_79_2575_2013_negcrop_2.tif', '765_74_2500_2016_crop_7.tif', '750_65_7550_2015_negcrop_24.tif', '758_71_0000_2013_negcrop_3.tif', '747_62_5025_2019_crop_68.tif', '753_68_2525_2014_crop_90.tif', '753_67_2550_2014_crop_64.tif', '760_73_5050_2018_negcrop_8.tif', '755_67_5025_2016_crop_139.tif', '748_62_2500_2019_negcrop_0.tif', '761_72_0050_2018_crop_134.tif', '750_65_7575_2015_crop_115.tif', '763_73_5000_2018_crop_47.tif', '760_72_2550_2018_negcrop_53.tif', '746_65_5075_2014_crop_26.tif', '760_72_2525_2018_crop_93.tif', '746_57_5025_2015_crop_107.tif', '761_72_0050_2018_crop_84.tif', '759_76_5075_2013_negcrop_11.tif', '759_71_0050_2013_crop_99.tif', '761_74_0000_2018_negcrop_34.tif', '763_74_5000_2018_negcrop_11.tif', '760_71_7575_2018_negcrop_0.tif', '761_73_2500_2018_negcrop_3.tif', '765_72_2575_2016_negcrop_5.tif', '759_72_0025_2013_negcrop_6.tif', '759_73_0000_2013_crop_8.tif', '763_71_5050_2018_crop_24.tif', '759_76_5025_2013_crop_133.tif', '760_71_5050_2018_crop_8.tif', '748_62_2525_2019_negcrop_6.tif', '758_73_7500_2013_crop_49.tif', '760_72_5050_2018_negcrop_17.tif', '761_73_7525_2018_negcrop_12.tif', '760_72_2500_2018_crop_40.tif', '764_75_0000_2015_crop_91.tif', '764_74_7525_2018_negcrop_7.tif', '758_72_0025_2013_crop_94.tif', '760_71_2575_2018_negcrop_25.tif', '761_73_0000_2018_crop_38.tif', '746_57_5075_2015_crop_88.tif', '758_66_7550_2010_crop_42.tif', '746_58_0000_2015_negcrop_2.tif', '760_73_5025_2018_negcrop_9.tif', '755_68_5025_2016_crop_45.tif', '759_72_2550_2013_crop_109.tif', '761_73_2550_2018_negcrop_25.tif', '759_72_7525_2013_negcrop_8.tif', '762_77_7500_2015_negcrop_10.tif', '761_71_7500_2018_negcrop_1.tif', '749_68_2550_2014_crop_128.tif', '757_72_7525_2013_crop_63.tif', '761_71_5000_2018_negcrop_33.tif', '763_73_2500_2018_crop_93.tif', '760_74_7525_2018_crop_32.tif', '761_73_2550_2018_crop_64.tif', '754_68_5075_2015_crop_53.tif', '765_72_5075_2016_negcrop_9.tif', '759_72_7550_2013_negcrop_13.tif', '763_72_0050_2018_crop_67.tif', '761_73_0050_2018_negcrop_0.tif', '756_70_5000_2010_negcrop_14.tif', '761_72_0050_2018_crop_50.tif', '746_58_0000_2015_negcrop_0.tif', '755_67_5025_2016_negcrop_17.tif', '761_71_5000_2018_negcrop_7.tif', '761_73_0075_2018_crop_116.tif', '758_73_2525_2013_negcrop_8.tif', '758_73_2550_2013_crop_73.tif', '751_66_7500_2015_crop_21.tif', '760_73_5025_2018_negcrop_33.tif', '759_73_0000_2013_crop_61.tif', '751_65_0050_2015_negcrop_4.tif', '759_72_0025_2013_crop_137.tif', '764_73_0025_2018_crop_67.tif', '747_65_0075_2014_crop_46.tif', '758_73_0050_2013_negcrop_20.tif', '762_74_5000_2018_negcrop_2.tif', '754_67_7550_2015_crop_13.tif', '764_74_5025_2018_negcrop_2.tif', '764_74_0000_2018_crop_44.tif', '758_70_5000_2013_crop_93.tif', '758_73_0050_2013_crop_137.tif', '761_72_0050_2018_crop_51.tif', '759_72_5025_2013_negcrop_13.tif', '765_73_2575_2016_crop_91.tif', '759_71_5075_2013_crop_73.tif', '761_73_2550_2018_negcrop_32.tif', '746_66_7500_2014_negcrop_16.tif', '761_72_0000_2018_crop_56.tif', '752_68_0075_2015_negcrop_4.tif', '759_76_2575_2013_crop_4.tif', '763_73_5050_2018_negcrop_4.tif', '760_71_0075_2018_negcrop_9.tif', '758_70_5000_2013_crop_40.tif', '761_73_2500_2018_negcrop_37.tif', '749_68_2550_2014_negcrop_9.tif', '763_71_2550_2018_crop_45.tif', '764_74_7525_2018_negcrop_44.tif', '760_74_2500_2018_crop_2.tif', '764_74_5025_2018_crop_114.tif', '762_74_5025_2018_crop_61.tif', '761_75_2525_2015_negcrop_8.tif', '763_72_5050_2018_crop_70.tif', '760_71_2550_2018_crop_16.tif', '756_69_7550_2014_crop_117.tif', '747_65_0075_2014_crop_57.tif', '746_66_7500_2014_negcrop_5.tif', '762_78_0000_2013_negcrop_0.tif', '756_65_7525_2016_crop_53.tif', '757_72_7525_2013_negcrop_6.tif', '757_72_7575_2013_negcrop_24.tif', '758_73_0050_2013_crop_132.tif', '764_72_0050_2018_crop_127.tif', '752_67_2575_2015_negcrop_2.tif', '752_68_2575_2015_negcrop_3.tif', '760_72_7550_2018_negcrop_0.tif', '758_73_5075_2013_negcrop_5.tif', '758_70_0025_2013_crop_95.tif', '753_69_5050_2014_crop_13.tif', '758_70_5050_2013_negcrop_15.tif', '747_62_7550_2019_negcrop_0.tif', '759_80_7525_2013_crop_110.tif', '760_72_2550_2018_negcrop_25.tif', '751_65_0050_2015_negcrop_10.tif', '764_74_5075_2018_negcrop_3.tif', '758_70_0050_2013_negcrop_9.tif', '750_65_7575_2015_negcrop_39.tif', '746_57_5050_2015_negcrop_8.tif', '762_74_5000_2018_negcrop_5.tif', '758_73_5025_2013_crop_14.tif', '747_66_0025_2014_crop_38.tif', '761_73_0000_2018_negcrop_0.tif', '757_72_7525_2013_negcrop_27.tif', '761_72_0075_2018_crop_85.tif', '758_74_5000_2013_negcrop_0.tif', '760_74_5000_2018_negcrop_19.tif', '755_69_7575_2014_crop_95.tif', '745_65_5000_2016_negcrop_0.tif', '751_66_7500_2015_crop_32.tif', '764_71_2550_2018_negcrop_14.tif', '748_62_2525_2019_crop_29.tif', '759_72_5000_2013_crop_35.tif', '763_74_5000_2018_negcrop_15.tif', '758_70_5000_2013_crop_56.tif', '750_66_5050_2015_crop_139.tif', '756_70_0000_2010_crop_16.tif', '759_76_7500_2013_crop_34.tif', '765_73_2575_2016_crop_40.tif', '757_72_7525_2013_crop_64.tif', '747_62_7550_2019_negcrop_1.tif']\n"
     ]
    }
   ],
   "source": [
    "import os \n",
    "tif_folder = \"/Volumes/USB/Orig_200m_TIFS/rgb\"\n",
    "jpg_folder = \"/Volumes/USB/Pseudomasks/orig_SNIC_pseudomasks/images\"\n",
    "\n",
    "orig_files = [file for file in os.listdir(tif_folder) if not file.endswith('_aug.tif') and not file.startswith('._')]\n",
    "thresholded_cams = [file for file in os.listdir(jpg_folder) if not file.startswith('._')]\n",
    "\n",
    "# List to store TIF files without corresponding JPG files\n",
    "missing_jpgs = []\n",
    "\n",
    "# Check for TIF files in the folder\n",
    "for tif_file in orig_files:\n",
    "    if tif_file.endswith('.tif'):\n",
    "        jpg_file = tif_file.replace('.tif', '.jpg')\n",
    "        if not os.path.exists(os.path.join(jpg_folder, jpg_file)):\n",
    "            missing_jpgs.append(tif_file)\n",
    "\n",
    "# Print the count and list of missing JPG files\n",
    "print(f\"Number of TIF files without corresponding JPGs: {len(missing_jpgs)}\")\n",
    "print(\"Missing JPG files:\", missing_jpgs)"
   ]
  },
  {
   "cell_type": "code",
   "execution_count": 3,
   "metadata": {},
   "outputs": [],
   "source": [
    "missing_jpgs = [file for file in missing_jpgs if not file.endswith('_aug') and not file.startswith('._')]\n"
   ]
  },
  {
   "cell_type": "code",
   "execution_count": 4,
   "metadata": {},
   "outputs": [
    {
     "data": {
      "text/plain": [
       "13192"
      ]
     },
     "execution_count": 4,
     "metadata": {},
     "output_type": "execute_result"
    }
   ],
   "source": [
    "len(missing_jpgs)"
   ]
  },
  {
   "cell_type": "code",
   "execution_count": 6,
   "metadata": {},
   "outputs": [
    {
     "data": {
      "text/plain": [
       "22728"
      ]
     },
     "execution_count": 6,
     "metadata": {},
     "output_type": "execute_result"
    }
   ],
   "source": [
    "orig_files = [file for file in os.listdir(tif_folder) if not file.endswith('_aug') and not file.startswith('._')]\n",
    "len(orig_files)"
   ]
  },
  {
   "cell_type": "code",
   "execution_count": 9,
   "metadata": {},
   "outputs": [
    {
     "data": {
      "text/plain": [
       "9536"
      ]
     },
     "execution_count": 9,
     "metadata": {},
     "output_type": "execute_result"
    }
   ],
   "source": [
    "thresholded_cams = [file for file in os.listdir(jpg_folder) if not file.startswith('._')]\n",
    "len(thresholded_cams)"
   ]
  },
  {
   "cell_type": "code",
   "execution_count": 8,
   "metadata": {},
   "outputs": [
    {
     "data": {
      "text/plain": [
       "19072"
      ]
     },
     "execution_count": 8,
     "metadata": {},
     "output_type": "execute_result"
    }
   ],
   "source": [
    "len(os.listdir(jpg_folder))"
   ]
  },
  {
   "cell_type": "code",
   "execution_count": 38,
   "metadata": {},
   "outputs": [
    {
     "name": "stdout",
     "output_type": "stream",
     "text": [
      "Number of GT images in imgs: 559\n",
      "GT images: ['765_74_2500_2016_negcrop_33', '765_74_2500_2016_negcrop_27', '746_66_7500_2014_negcrop_21', '758_66_5025_2010_negcrop_5', '757_69_2550_2014_negcrop_0', '753_67_2550_2014_negcrop_6', '758_71_0000_2013_negcrop_21', '753_67_2550_2014_crop_36', '760_74_5000_2018_negcrop_1', '758_66_5025_2010_negcrop_16', '764_75_2500_2015_negcrop_41', '746_57_5050_2015_negcrop_4', '765_74_2525_2016_negcrop_5', '733_52_2500_2015_negcrop_7', '753_67_2550_2014_negcrop_14', '760_79_7575_2013_negcrop_0', '760_74_5000_2018_negcrop_14', '760_74_5000_2018_negcrop_28', '733_52_0000_2015_negcrop_1', '765_74_0025_2016_negcrop_3', '765_74_0025_2016_negcrop_2', '733_52_0000_2015_negcrop_0', '760_74_5000_2018_negcrop_29', '760_74_5000_2018_negcrop_15', '760_79_7575_2013_negcrop_1', '733_52_2500_2015_negcrop_6', '753_67_2550_2014_negcrop_15', '765_74_2525_2016_negcrop_4', '764_75_2500_2015_negcrop_40', '746_57_5050_2015_negcrop_5', '758_66_5025_2010_negcrop_17', '760_74_5000_2018_negcrop_0', '758_71_0000_2013_negcrop_20', '758_71_0000_2013_negcrop_34', '753_67_2550_2014_negcrop_7', '758_66_5025_2010_negcrop_4', '746_66_7500_2014_negcrop_20', '765_74_2500_2016_negcrop_26', '765_74_2500_2016_negcrop_32', '765_74_2500_2016_negcrop_24', '765_74_2500_2016_negcrop_30', '765_74_2500_2016_negcrop_18', '758_66_5025_2010_negcrop_6', '753_67_2550_2014_negcrop_5', '758_71_0000_2013_negcrop_22', '758_66_7550_2010_crop_7', '758_66_7550_2010_negcrop_14', '746_57_5050_2015_negcrop_7', '764_75_2500_2015_negcrop_42', '758_66_5025_2010_negcrop_15', '760_74_5000_2018_negcrop_2', '765_74_2525_2016_negcrop_6', '753_67_2550_2014_negcrop_17', '746_57_5000_2015_negcrop_1', '733_52_2500_2015_negcrop_4', '746_66_7500_2014_negcrop_8', '760_74_5000_2018_negcrop_17', '758_66_5075_2010_negcrop_0', '733_52_0000_2015_negcrop_2', '765_74_0025_2016_negcrop_0', '765_74_0025_2016_negcrop_1', '733_52_0000_2015_negcrop_3', '765_74_2500_2016_crop_47', '758_66_5075_2010_negcrop_1', '760_74_5000_2018_negcrop_16', '746_57_5025_2015_crop_95', '746_66_7500_2014_negcrop_9', '753_67_2550_2014_negcrop_16', '733_52_2500_2015_negcrop_5', '746_57_5000_2015_negcrop_0', '765_74_2525_2016_negcrop_7', '760_74_5000_2018_negcrop_3', '758_66_5025_2010_negcrop_14', '746_57_5050_2015_negcrop_6', '764_75_2500_2015_negcrop_43', '758_71_0000_2013_negcrop_23', '753_67_2550_2014_negcrop_4', '760_79_7575_2013_crop_131', '758_66_5025_2010_negcrop_7', '765_74_2500_2016_negcrop_19', '765_74_2500_2016_negcrop_31', '765_74_2500_2016_negcrop_25', '758_66_5025_2010_negcrop_3', '765_74_2500_2016_negcrop_21', '765_74_2500_2016_negcrop_35', '758_71_0000_2013_negcrop_27', '758_71_0000_2013_negcrop_33', '753_67_2550_2014_negcrop_0', '764_75_2500_2015_negcrop_47', '746_57_5050_2015_negcrop_2', '758_66_5025_2010_negcrop_10', '760_74_5000_2018_negcrop_7', '758_66_7550_2010_negcrop_11', '757_69_5050_2014_negcrop_9', '733_52_2500_2015_negcrop_1', '753_67_2550_2014_negcrop_12', '765_74_2525_2016_negcrop_3', '757_69_5050_2014_crop_26', '760_74_5000_2018_negcrop_12', '765_74_0025_2016_negcrop_4', '760_74_5000_2018_negcrop_13', '765_74_2525_2016_negcrop_2', '733_52_2500_2015_negcrop_0', '753_67_2550_2014_negcrop_13', '757_69_5050_2014_negcrop_8', '758_66_7550_2010_negcrop_10', '760_74_5000_2018_negcrop_6', '758_66_5025_2010_negcrop_11', '764_75_2500_2015_negcrop_46', '746_57_5050_2015_negcrop_3', '753_67_2550_2014_negcrop_1', '758_71_0000_2013_negcrop_32', '758_71_0000_2013_negcrop_26', '765_74_2500_2016_negcrop_34', '765_74_2500_2016_negcrop_20', '758_66_5025_2010_negcrop_2', '758_66_5025_2010_negcrop_0', '765_74_2500_2016_negcrop_36', '746_66_7500_2014_negcrop_18', '765_74_2500_2016_negcrop_22', '758_71_0000_2013_negcrop_30', '758_71_0000_2013_negcrop_24', '753_67_2550_2014_negcrop_3', '758_71_0000_2013_negcrop_18', '764_75_2500_2015_negcrop_50', '760_74_5000_2018_negcrop_4', '758_66_5025_2010_negcrop_13', '746_57_5050_2015_negcrop_1', '764_75_2500_2015_negcrop_44', '758_66_7550_2010_negcrop_12', '753_67_2550_2014_negcrop_11', '733_52_2500_2015_negcrop_2', '765_74_2525_2016_negcrop_0', '760_74_5000_2018_negcrop_39', '757_69_5050_2014_crop_25', '760_74_5025_2018_crop_48', '760_74_5000_2018_negcrop_11', '733_52_0000_2015_negcrop_4', '760_74_5000_2018_negcrop_10', '760_74_5025_2018_crop_49', '746_57_5025_2015_crop_93', '760_74_5000_2018_negcrop_38', '757_69_5050_2014_crop_30', '765_74_2525_2016_negcrop_1', '753_67_2550_2014_negcrop_10', '733_52_2500_2015_negcrop_3', '758_66_7550_2010_negcrop_13', '746_57_5050_2015_negcrop_0', '764_75_2500_2015_negcrop_45', '758_66_5025_2010_negcrop_12', '760_74_5000_2018_negcrop_5', '758_71_0000_2013_negcrop_19', '753_67_2550_2014_negcrop_2', '758_71_0000_2013_negcrop_25', '758_71_0000_2013_negcrop_31', '765_74_2500_2016_negcrop_23', '765_74_2500_2016_negcrop_37', '746_66_7500_2014_negcrop_19', '758_66_5025_2010_negcrop_1', '765_74_2500_2016_negcrop_44', '758_66_5050_2010_negcrop_1', '746_66_7500_2014_crop_109', '733_52_0025_2015_negcrop_3', '753_67_2525_2014_negcrop_2', '758_66_7550_2010_negcrop_7', '749_68_2575_2014_negcrop_4', '765_74_2500_2016_negcrop_7', '764_75_2500_2015_negcrop_36', '746_57_5050_2015_crop_112', '764_75_2500_2015_negcrop_22', '746_57_5025_2015_negcrop_0', '746_66_7500_2014_crop_51', '758_66_7500_2010_negcrop_1', '735_55_7525_2016_crop_106', '764_75_2500_2015_negcrop_9', '760_74_5025_2018_negcrop_3', '760_74_5000_2018_negcrop_63', '757_69_2575_2014_negcrop_2', '757_69_2575_2014_negcrop_3', '760_74_5000_2018_negcrop_62', '760_74_5025_2018_negcrop_2', '764_75_2500_2015_negcrop_8', '735_55_7525_2016_crop_107', '758_66_7500_2010_negcrop_0', '746_66_7500_2014_crop_50', '746_57_5025_2015_negcrop_1', '764_75_2500_2015_negcrop_23', '764_75_2500_2015_negcrop_37', '746_57_5050_2015_crop_113', '765_74_2500_2016_negcrop_6', '749_68_2575_2014_negcrop_5', '758_66_5025_2010_crop_98', '746_66_7500_2014_crop_87', '758_66_7550_2010_negcrop_6', '746_66_7500_2014_crop_134', '753_67_2525_2014_negcrop_3', '733_52_0025_2015_negcrop_2', '746_66_7500_2014_crop_108', '758_71_0000_2013_crop_81', '758_66_5050_2010_negcrop_0', '765_74_2500_2016_negcrop_45', '733_52_0025_2015_crop_64', '764_75_2500_2015_crop_65', '765_74_2500_2016_negcrop_47', '758_66_5050_2010_negcrop_2', '733_52_0025_2015_negcrop_0', '753_67_2525_2014_negcrop_1', '746_66_7500_2014_crop_122', '764_75_2500_2015_crop_98', '746_57_2525_2015_crop_4', '758_66_7550_2010_negcrop_4', '758_66_5025_2010_crop_65', '765_74_0025_2016_crop_124', '746_66_7500_2014_crop_85', '749_68_2575_2014_negcrop_7', '765_74_2500_2016_negcrop_4', '764_75_2500_2015_negcrop_21', '746_66_7500_2014_crop_52', '746_57_5050_2015_crop_111', '764_75_2500_2015_negcrop_35', '760_74_5025_2018_negcrop_0', '760_74_5000_2018_negcrop_60', '760_74_5000_2018_negcrop_48', '757_69_2575_2014_negcrop_1', '757_69_2575_2014_negcrop_0', '760_74_5000_2018_negcrop_49', '760_74_5000_2018_negcrop_61', '760_74_5025_2018_negcrop_1', '764_75_2500_2015_negcrop_34', '764_75_2500_2015_negcrop_20', '746_57_5025_2015_negcrop_2', '765_74_2500_2016_negcrop_5', '749_68_2575_2014_negcrop_6', '758_66_7550_2010_crop_17', '758_66_7550_2010_negcrop_5', '746_57_2525_2015_crop_5', '758_71_0000_2013_crop_69', '753_67_2525_2014_negcrop_0', '733_52_0025_2015_negcrop_1', '758_66_5050_2010_negcrop_3', '765_74_2500_2016_negcrop_46', '758_71_0000_2013_crop_92', '765_74_2500_2016_negcrop_42', '764_75_2500_2015_crop_76', '733_52_0025_2015_crop_63', '758_66_5025_2010_crop_120', '764_75_2500_2015_crop_89', '746_66_7500_2014_crop_133', '733_52_0025_2015_negcrop_5', '753_67_2525_2014_negcrop_4', '765_74_0025_2016_crop_109', '758_66_7550_2010_negcrop_1', '751_58_5050_2016_negcrop_1', '746_57_5025_2015_negcrop_6', '764_75_2500_2015_negcrop_24', '764_75_2500_2015_negcrop_30', '746_57_5050_2015_crop_114', '764_75_2500_2015_crop_109', '749_68_2575_2014_negcrop_2', '764_75_2500_2015_crop_121', '765_74_2500_2016_negcrop_1', '764_75_2500_2015_negcrop_18', '758_71_0000_2013_negcrop_8', '760_74_5025_2018_negcrop_5', '760_74_5000_2018_negcrop_59', '757_69_2575_2014_negcrop_4', '765_74_2500_2016_crop_34', '765_74_2500_2016_crop_35', '760_74_5000_2018_negcrop_64', '760_74_5000_2018_negcrop_58', '760_74_5025_2018_negcrop_4', '758_71_0000_2013_negcrop_9', '765_74_2500_2016_negcrop_0', '749_68_2575_2014_negcrop_3', '764_75_2500_2015_negcrop_19', '764_75_2500_2015_negcrop_31', '746_57_5050_2015_crop_101', '764_75_2500_2015_negcrop_25', '746_57_5025_2015_negcrop_7', '751_58_5050_2016_negcrop_0', '758_66_7550_2010_negcrop_0', '753_67_2550_2014_crop_52', '765_74_0025_2016_crop_108', '760_79_7575_2013_crop_143', '758_66_5025_2010_crop_109', '753_67_2525_2014_negcrop_5', '733_52_0025_2015_negcrop_4', '758_66_5025_2010_crop_121', '765_74_2500_2016_negcrop_43', '758_71_0000_2013_crop_93', '765_74_2500_2016_negcrop_41', '760_74_5025_2018_negcrop_19', '733_52_0025_2015_negcrop_6', '753_67_2525_2014_negcrop_7', '758_66_5025_2010_crop_77', '753_67_2550_2014_crop_50', '758_66_7550_2010_negcrop_2', '764_75_2500_2015_negcrop_33', '764_75_2500_2015_negcrop_27', '746_57_5025_2015_negcrop_5', '749_68_2575_2014_negcrop_1', '753_67_2550_2014_crop_87', '765_74_2500_2016_negcrop_2', '760_74_5025_2018_negcrop_6', '760_74_5025_2018_negcrop_7', '765_74_2500_2016_negcrop_3', '753_67_2550_2014_crop_86', '749_68_2575_2014_negcrop_0', '746_57_5025_2015_negcrop_4', '764_75_2500_2015_negcrop_26', '746_57_5050_2015_crop_102', '764_75_2500_2015_negcrop_32', '753_67_2550_2014_crop_51', '758_66_7550_2010_negcrop_3', '758_66_5025_2010_crop_76', '753_67_2525_2014_negcrop_6', '733_52_0025_2015_negcrop_7', '760_74_5025_2018_negcrop_18', '765_74_2500_2016_negcrop_40', '733_52_0025_2015_negcrop_14', '760_74_5025_2018_negcrop_15', '757_69_2575_2014_crop_14', '753_67_2550_2014_crop_60', '764_75_2500_2015_negcrop_17', '758_71_0000_2013_negcrop_7', '764_75_2500_2015_negcrop_0', '760_74_5000_2018_negcrop_42', '760_74_5000_2018_negcrop_56', '757_69_2550_2014_crop_11', '735_55_7525_2016_negcrop_0', '761_79_0075_2013_negcrop_0', '761_79_0075_2013_negcrop_1', '735_55_7525_2016_negcrop_1', '760_74_5000_2018_negcrop_57', '760_74_5000_2018_negcrop_43', '764_75_2500_2015_negcrop_1', '758_71_0000_2013_negcrop_6', '764_75_2500_2015_negcrop_16', '753_67_2550_2014_crop_61', '758_66_5025_2010_crop_112', '760_74_5025_2018_negcrop_14', '764_75_2500_2015_crop_78', '733_52_0025_2015_negcrop_15', '760_74_5025_2018_negcrop_16', '758_66_5025_2010_crop_104', '733_52_0025_2015_negcrop_9', '753_67_2525_2014_negcrop_8', '758_66_5025_2010_crop_110', '746_66_7500_2014_crop_98', '764_75_2500_2015_negcrop_28', '746_57_5050_2015_crop_124', '765_74_2525_2016_crop_15', '764_75_2500_2015_negcrop_14', '758_71_0000_2013_negcrop_4', '760_74_5025_2018_negcrop_9', '764_75_2500_2015_negcrop_3', '760_74_5000_2018_negcrop_55', '760_74_5000_2018_negcrop_41', '746_57_5050_2015_negcrop_10', '735_55_7525_2016_negcrop_3', '760_74_5025_2018_crop_24', '760_74_5025_2018_crop_25', '746_57_2525_2015_negcrop_4', '735_55_7525_2016_negcrop_2', '760_74_5000_2018_negcrop_40', '760_74_5000_2018_negcrop_54', '764_75_2500_2015_negcrop_2', '757_69_2575_2014_crop_0', '760_74_5025_2018_negcrop_8', '735_55_7525_2016_crop_119', '758_71_0000_2013_negcrop_5', '764_75_2500_2015_negcrop_15', '758_66_5025_2010_crop_86', '764_75_2500_2015_crop_110', '764_75_2500_2015_negcrop_29', '746_66_7500_2014_crop_99', '753_67_2550_2014_crop_62', '753_67_2525_2014_negcrop_9', '733_52_0025_2015_negcrop_8', '760_74_5025_2018_negcrop_17', '764_75_2500_2015_crop_90', '733_52_0025_2015_negcrop_12', '746_57_2500_2015_crop_115', '758_66_5025_2010_crop_101', '758_66_5025_2010_crop_115', '760_74_5025_2018_negcrop_13', '758_66_7550_2010_negcrop_8', '764_75_2500_2015_negcrop_11', '746_66_7500_2014_crop_62', '765_74_2500_2016_negcrop_8', '764_75_2500_2015_negcrop_39', '758_71_0000_2013_negcrop_1', '764_75_2500_2015_negcrop_6', '746_57_2525_2015_negcrop_0', '753_67_2525_2014_negcrop_12', '760_74_5000_2018_negcrop_50', '760_74_5000_2018_negcrop_44', '760_74_5000_2018_negcrop_45', '760_74_5000_2018_negcrop_51', '746_57_2525_2015_negcrop_1', '764_75_2500_2015_negcrop_7', '758_71_0000_2013_negcrop_0', '764_75_2500_2015_negcrop_38', '764_75_2500_2015_negcrop_10', '765_74_2500_2016_negcrop_9', '753_67_2550_2014_crop_98', '753_67_2550_2014_crop_73', '758_66_7550_2010_negcrop_9', '760_74_5025_2018_negcrop_12', '758_66_5025_2010_crop_100', '746_57_2500_2015_crop_114', '733_52_0025_2015_negcrop_13', '733_52_0025_2015_negcrop_11', '746_57_2500_2015_crop_102', '760_74_5025_2018_negcrop_10', '764_75_2500_2015_crop_97', '749_68_2575_2014_negcrop_8', '765_74_2525_2016_crop_13', '764_75_2500_2015_negcrop_12', '746_57_5050_2015_crop_136', '746_66_7500_2014_crop_49', '758_71_0000_2013_negcrop_2', '764_75_2500_2015_negcrop_5', '753_67_2525_2014_negcrop_11', '746_57_2525_2015_negcrop_3', '760_74_5000_2018_negcrop_47', '760_74_5000_2018_negcrop_53', '746_57_2525_2015_crop_74', '760_74_5000_2018_negcrop_52', '760_74_5000_2018_negcrop_46', '760_74_5025_2018_crop_37', '746_57_2525_2015_negcrop_2', '753_67_2525_2014_negcrop_10', '764_75_2500_2015_negcrop_4', '758_71_0000_2013_negcrop_3', '749_68_2575_2014_negcrop_9', '764_75_2500_2015_negcrop_13', '760_74_5025_2018_negcrop_11', '733_52_0025_2015_negcrop_10', '765_74_2500_2016_negcrop_12', '758_66_5050_2010_crop_133', '746_66_7500_2014_negcrop_14', '758_71_0000_2013_negcrop_28', '765_74_2525_2016_crop_4', '758_71_0000_2013_negcrop_14', '764_75_2500_2015_negcrop_48', '760_74_5000_2018_negcrop_8', '758_66_5025_2010_negcrop_23', '757_69_5050_2014_negcrop_6', '746_66_7500_2014_negcrop_2', '753_67_2550_2014_negcrop_21', '749_68_2575_2014_negcrop_12', '760_74_5000_2018_negcrop_21', '760_74_5000_2018_negcrop_35', '761_79_0075_2013_crop_19', '761_79_0075_2013_crop_7', '760_74_5000_2018_negcrop_34', '760_74_5000_2018_negcrop_20', '749_68_2575_2014_negcrop_13', '753_67_2550_2014_negcrop_20', '746_66_7500_2014_negcrop_3', '757_69_5050_2014_negcrop_7', '758_66_5025_2010_negcrop_22', '760_74_5000_2018_negcrop_9', '764_75_2500_2015_negcrop_49', '746_57_5025_2015_crop_106', '758_71_0000_2013_negcrop_15', '758_71_0000_2013_negcrop_29', '749_68_2575_2014_crop_123', '746_66_7500_2014_negcrop_15', '758_66_5050_2010_crop_132', '765_74_2500_2016_negcrop_13', '765_74_2500_2016_negcrop_11', '746_66_7500_2014_negcrop_17', '732_52_7525_2015_negcrop_0', '765_74_2500_2016_negcrop_39', '758_71_0000_2013_negcrop_17', '758_66_5025_2010_negcrop_20', '757_69_5050_2014_negcrop_5', '746_66_7500_2014_negcrop_1', '749_68_2575_2014_negcrop_11', '753_67_2550_2014_negcrop_22', '760_74_5000_2018_negcrop_36', '760_74_5000_2018_negcrop_22', '760_74_5000_2018_negcrop_23', '760_74_5000_2018_negcrop_37', '753_67_2550_2014_negcrop_23', '749_68_2575_2014_negcrop_10', '746_66_7500_2014_negcrop_0', '757_69_5050_2014_negcrop_4', '758_66_5025_2010_negcrop_21', '746_66_7500_2014_crop_39', '746_57_5025_2015_crop_105', '758_71_0000_2013_negcrop_16', '746_66_7500_2014_negcrop_16', '765_74_2500_2016_negcrop_38', '732_52_7525_2015_negcrop_1', '765_74_2500_2016_negcrop_10', '746_57_2500_2015_negcrop_2', '746_66_7500_2014_negcrop_12', '765_74_2500_2016_negcrop_28', '765_74_2500_2016_negcrop_14', '758_71_0000_2013_negcrop_12', '753_67_2550_2014_negcrop_9', '749_68_2575_2014_crop_124', '765_74_2525_2016_crop_2', '758_66_5025_2010_negcrop_25', '758_66_5025_2010_negcrop_19', '757_69_5050_2014_negcrop_0', '753_67_2550_2014_negcrop_27', '746_66_7500_2014_negcrop_4', '733_52_2500_2015_negcrop_8', '760_74_5000_2018_negcrop_33', '760_74_5000_2018_negcrop_27', '760_74_5000_2018_negcrop_26', '760_74_5000_2018_negcrop_32', '746_66_7500_2014_negcrop_5', '753_67_2550_2014_negcrop_26', '757_69_5050_2014_negcrop_1', '758_66_5025_2010_negcrop_18', '758_66_5025_2010_negcrop_24', '753_67_2550_2014_negcrop_8', '758_71_0000_2013_negcrop_13', '765_74_2500_2016_negcrop_15', '765_74_2500_2016_negcrop_29', '746_66_7500_2014_negcrop_13', '746_57_2500_2015_negcrop_1', '746_66_7500_2014_negcrop_11', '758_66_5050_2010_crop_122', '765_74_2500_2016_negcrop_17', '758_66_5025_2010_negcrop_9', '758_71_0000_2013_negcrop_11', '765_74_2525_2016_crop_1', '758_66_5025_2010_negcrop_26', '746_57_5050_2015_negcrop_8', '757_69_5050_2014_negcrop_3', '753_67_2550_2014_negcrop_24', '753_67_2550_2014_negcrop_18', '746_66_7500_2014_negcrop_7', '760_74_5000_2018_negcrop_18', '735_55_7550_2016_negcrop_1', '760_74_5000_2018_negcrop_24', '760_74_5000_2018_negcrop_30', '746_57_2525_2015_crop_17', '760_74_5000_2018_negcrop_31', '760_74_5000_2018_negcrop_25', '735_55_7550_2016_negcrop_0', '760_74_5000_2018_negcrop_19', '746_66_7500_2014_negcrop_6', '753_67_2550_2014_negcrop_19', '753_67_2550_2014_negcrop_25', '765_74_2525_2016_negcrop_8', '757_69_5050_2014_negcrop_2', '746_57_5050_2015_negcrop_9', '758_71_0000_2013_negcrop_10', '758_66_5025_2010_negcrop_8', '765_74_2500_2016_negcrop_16', '746_66_7500_2014_negcrop_10', '746_57_2500_2015_negcrop_0']\n"
     ]
    }
   ],
   "source": [
    "GT = \"/Volumes/USB/Ground_truth/All_GTs/groundtruth_mask\"\n",
    "imgs = \"/Volumes/USB/Pseudomasks/Thresholded_CAM_1.6/TRAIN/images\"\n",
    "gt_files = [file[:-4] for file in os.listdir(GT) if not file.startswith('._')]\n",
    "imgs_files = [file[:-4] for file in os.listdir(imgs) if not file.startswith('._')]\n",
    "\n",
    "missing_gt_images = [file for file in gt_files if file in imgs_files]\n",
    "\n",
    "print(f\"Number of GT images in imgs: {len(missing_gt_images)}\")\n",
    "print(\"GT images:\", missing_gt_images)\n"
   ]
  },
  {
   "cell_type": "code",
   "execution_count": 40,
   "metadata": {},
   "outputs": [
    {
     "name": "stdout",
     "output_type": "stream",
     "text": [
      "number of imgs copied = 559\n"
     ]
    }
   ],
   "source": [
    "import os\n",
    "import shutil\n",
    "\n",
    "source = \"/Volumes/USB/Pseudomasks/Thresholded_CAM_1.6/TRAIN/masks\"\n",
    "dest = \"/Volumes/USB/Pseudomasks/Thresholded_CAM_1.6/TEST/masks\"\n",
    "\n",
    "# Move each file in missing_gt_images to the new directory\n",
    "counter = 0\n",
    "for file in missing_gt_images:\n",
    "    src = os.path.join(source, file + '.png')  # Assuming the files are in png format\n",
    "    dst = os.path.join(dest, file + '.png')\n",
    "    shutil.move(src, dst)\n",
    "    counter += 1 \n",
    "\n",
    "print(f\"number of imgs copied = {counter}\")\n"
   ]
  },
  {
   "cell_type": "code",
   "execution_count": 37,
   "metadata": {},
   "outputs": [
    {
     "data": {
      "text/html": [
       "<div>\n",
       "<style scoped>\n",
       "    .dataframe tbody tr th:only-of-type {\n",
       "        vertical-align: middle;\n",
       "    }\n",
       "\n",
       "    .dataframe tbody tr th {\n",
       "        vertical-align: top;\n",
       "    }\n",
       "\n",
       "    .dataframe thead th {\n",
       "        text-align: right;\n",
       "    }\n",
       "</style>\n",
       "<table border=\"1\" class=\"dataframe\">\n",
       "  <thead>\n",
       "    <tr style=\"text-align: right;\">\n",
       "      <th></th>\n",
       "      <th>filename</th>\n",
       "      <th>palsa</th>\n",
       "    </tr>\n",
       "  </thead>\n",
       "  <tbody>\n",
       "    <tr>\n",
       "      <th>376</th>\n",
       "      <td>763_73_5000_2018_negcrop_8</td>\n",
       "      <td>0.0</td>\n",
       "    </tr>\n",
       "    <tr>\n",
       "      <th>608</th>\n",
       "      <td>761_72_0050_2018_negcrop_30</td>\n",
       "      <td>0.0</td>\n",
       "    </tr>\n",
       "    <tr>\n",
       "      <th>2144</th>\n",
       "      <td>760_74_7525_2018_negcrop_40</td>\n",
       "      <td>0.0</td>\n",
       "    </tr>\n",
       "    <tr>\n",
       "      <th>2151</th>\n",
       "      <td>760_74_7525_2018_negcrop_47</td>\n",
       "      <td>0.0</td>\n",
       "    </tr>\n",
       "    <tr>\n",
       "      <th>4387</th>\n",
       "      <td>761_71_5025_2018_crop_50</td>\n",
       "      <td>0.0</td>\n",
       "    </tr>\n",
       "    <tr>\n",
       "      <th>5534</th>\n",
       "      <td>749_61_0000_2019_crop_88</td>\n",
       "      <td>0.0</td>\n",
       "    </tr>\n",
       "    <tr>\n",
       "      <th>7020</th>\n",
       "      <td>761_73_2550_2018_negcrop_37</td>\n",
       "      <td>0.0</td>\n",
       "    </tr>\n",
       "    <tr>\n",
       "      <th>8458</th>\n",
       "      <td>760_71_0075_2018_negcrop_4</td>\n",
       "      <td>0.0</td>\n",
       "    </tr>\n",
       "    <tr>\n",
       "      <th>8469</th>\n",
       "      <td>760_71_0075_2018_negcrop_15</td>\n",
       "      <td>0.0</td>\n",
       "    </tr>\n",
       "    <tr>\n",
       "      <th>9642</th>\n",
       "      <td>758_73_5025_2013_negcrop_0</td>\n",
       "      <td>0.0</td>\n",
       "    </tr>\n",
       "    <tr>\n",
       "      <th>9677</th>\n",
       "      <td>755_70_7550_2010_negcrop_0</td>\n",
       "      <td>0.0</td>\n",
       "    </tr>\n",
       "    <tr>\n",
       "      <th>10330</th>\n",
       "      <td>761_73_0075_2018_negcrop_2</td>\n",
       "      <td>0.0</td>\n",
       "    </tr>\n",
       "    <tr>\n",
       "      <th>12523</th>\n",
       "      <td>759_76_5025_2013_negcrop_0</td>\n",
       "      <td>0.0</td>\n",
       "    </tr>\n",
       "    <tr>\n",
       "      <th>12971</th>\n",
       "      <td>761_76_7525_2015_negcrop_1</td>\n",
       "      <td>0.0</td>\n",
       "    </tr>\n",
       "    <tr>\n",
       "      <th>13112</th>\n",
       "      <td>761_72_0075_2018_negcrop_54</td>\n",
       "      <td>0.0</td>\n",
       "    </tr>\n",
       "    <tr>\n",
       "      <th>13290</th>\n",
       "      <td>747_68_2500_2014_negcrop_0</td>\n",
       "      <td>0.0</td>\n",
       "    </tr>\n",
       "    <tr>\n",
       "      <th>14250</th>\n",
       "      <td>762_76_7575_2015_negcrop_0</td>\n",
       "      <td>0.0</td>\n",
       "    </tr>\n",
       "    <tr>\n",
       "      <th>15213</th>\n",
       "      <td>761_76_7550_2015_crop_14</td>\n",
       "      <td>0.0</td>\n",
       "    </tr>\n",
       "    <tr>\n",
       "      <th>16193</th>\n",
       "      <td>763_72_7500_2018_crop_20</td>\n",
       "      <td>0.0</td>\n",
       "    </tr>\n",
       "    <tr>\n",
       "      <th>19134</th>\n",
       "      <td>760_75_0000_2015_negcrop_5</td>\n",
       "      <td>0.0</td>\n",
       "    </tr>\n",
       "    <tr>\n",
       "      <th>21383</th>\n",
       "      <td>763_73_5075_2018_negcrop_1</td>\n",
       "      <td>0.0</td>\n",
       "    </tr>\n",
       "  </tbody>\n",
       "</table>\n",
       "</div>"
      ],
      "text/plain": [
       "                          filename  palsa\n",
       "376     763_73_5000_2018_negcrop_8    0.0\n",
       "608    761_72_0050_2018_negcrop_30    0.0\n",
       "2144   760_74_7525_2018_negcrop_40    0.0\n",
       "2151   760_74_7525_2018_negcrop_47    0.0\n",
       "4387      761_71_5025_2018_crop_50    0.0\n",
       "5534      749_61_0000_2019_crop_88    0.0\n",
       "7020   761_73_2550_2018_negcrop_37    0.0\n",
       "8458    760_71_0075_2018_negcrop_4    0.0\n",
       "8469   760_71_0075_2018_negcrop_15    0.0\n",
       "9642    758_73_5025_2013_negcrop_0    0.0\n",
       "9677    755_70_7550_2010_negcrop_0    0.0\n",
       "10330   761_73_0075_2018_negcrop_2    0.0\n",
       "12523   759_76_5025_2013_negcrop_0    0.0\n",
       "12971   761_76_7525_2015_negcrop_1    0.0\n",
       "13112  761_72_0075_2018_negcrop_54    0.0\n",
       "13290   747_68_2500_2014_negcrop_0    0.0\n",
       "14250   762_76_7575_2015_negcrop_0    0.0\n",
       "15213     761_76_7550_2015_crop_14    0.0\n",
       "16193     763_72_7500_2018_crop_20    0.0\n",
       "19134   760_75_0000_2015_negcrop_5    0.0\n",
       "21383   763_73_5075_2018_negcrop_1    0.0"
      ]
     },
     "execution_count": 37,
     "metadata": {},
     "output_type": "execute_result"
    }
   ],
   "source": [
    "import os\n",
    "import pandas as pd \n",
    "\n",
    "labels_file = \"/Volumes/USB/Pseudomasks/orig_SNIC_pseudomasks/TRAIN/orig_palsa_labels.csv\"\n",
    "all_files = pd.read_csv(labels_file, index_col=0)\n",
    "\n",
    "dir_files = os.listdir(\"/Volumes/USB/Orig_200m_TIFS/tif_metadata\")\n",
    "\n",
    "# Keep only the rows whose index name is in missing_jpgs (with the .tif extension)\n",
    "missing_jpgs = all_files.loc[~all_files['filename'].isin([file.replace('_metadata.json', '') for file in dir_files])]\n",
    "missing_jpgs"
   ]
  },
  {
   "cell_type": "code",
   "execution_count": 38,
   "metadata": {},
   "outputs": [
    {
     "data": {
      "text/html": [
       "<div>\n",
       "<style scoped>\n",
       "    .dataframe tbody tr th:only-of-type {\n",
       "        vertical-align: middle;\n",
       "    }\n",
       "\n",
       "    .dataframe tbody tr th {\n",
       "        vertical-align: top;\n",
       "    }\n",
       "\n",
       "    .dataframe thead th {\n",
       "        text-align: right;\n",
       "    }\n",
       "</style>\n",
       "<table border=\"1\" class=\"dataframe\">\n",
       "  <thead>\n",
       "    <tr style=\"text-align: right;\">\n",
       "      <th></th>\n",
       "      <th>filename</th>\n",
       "      <th>palsa</th>\n",
       "    </tr>\n",
       "  </thead>\n",
       "  <tbody>\n",
       "  </tbody>\n",
       "</table>\n",
       "</div>"
      ],
      "text/plain": [
       "Empty DataFrame\n",
       "Columns: [filename, palsa]\n",
       "Index: []"
      ]
     },
     "execution_count": 38,
     "metadata": {},
     "output_type": "execute_result"
    }
   ],
   "source": [
    "missing_jpgs[missing_jpgs['palsa']>0]"
   ]
  },
  {
   "cell_type": "code",
   "execution_count": 28,
   "metadata": {},
   "outputs": [
    {
     "data": {
      "text/plain": [
       "14600"
      ]
     },
     "execution_count": 28,
     "metadata": {},
     "output_type": "execute_result"
    }
   ],
   "source": [
    "len(all_files)"
   ]
  },
  {
   "cell_type": "code",
   "execution_count": 29,
   "metadata": {},
   "outputs": [
    {
     "data": {
      "text/plain": [
       "14600"
      ]
     },
     "execution_count": 29,
     "metadata": {},
     "output_type": "execute_result"
    }
   ],
   "source": [
    "len(missing_jpgs)"
   ]
  },
  {
   "cell_type": "code",
   "execution_count": 30,
   "metadata": {},
   "outputs": [
    {
     "data": {
      "text/plain": [
       "15694"
      ]
     },
     "execution_count": 30,
     "metadata": {},
     "output_type": "execute_result"
    }
   ],
   "source": [
    "len(dir_files)"
   ]
  },
  {
   "cell_type": "code",
   "execution_count": 31,
   "metadata": {},
   "outputs": [
    {
     "data": {
      "text/plain": [
       "1094"
      ]
     },
     "execution_count": 31,
     "metadata": {},
     "output_type": "execute_result"
    }
   ],
   "source": [
    "len([file for file in dir_files if file.startswith('._')])"
   ]
  },
  {
   "cell_type": "code",
   "execution_count": 15,
   "metadata": {},
   "outputs": [
    {
     "name": "stdout",
     "output_type": "stream",
     "text": [
      "Image names in dir_files that are not in the indices of missing_jpgs: []\n"
     ]
    }
   ],
   "source": [
    "not_in_missing_jpgs = [file for file in dir_files if file.replace('.jpg', '') not in missing_jpgs.index and not file.startswith('._')]\n",
    "print(\"Image names in dir_files that are not in the indices of missing_jpgs:\", not_in_missing_jpgs)\n"
   ]
  },
  {
   "cell_type": "code",
   "execution_count": 47,
   "metadata": {},
   "outputs": [],
   "source": [
    "missing_jpgs.to_csv(\"/Volumes/USB/Pseudomasks/Thresholded_CAM_1.6/TRAIN/orig_palsa_labels.csv\")"
   ]
  },
  {
   "cell_type": "code",
   "execution_count": 2,
   "metadata": {},
   "outputs": [],
   "source": [
    "import pandas as pd \n",
    "\n",
    "path = '/Volumes/USB/Pseudomasks/orig_SNIC_pseudomasks/TRAIN/orig_palsa_labels.csv'\n",
    "path2 = '/Volumes/USB/Pseudomasks/orig_SNIC_pseudomasks/TEST/orig_palsa_labels.csv'\n",
    "\n",
    "train_df = pd.read_csv(path)\n",
    "test_df = pd.read_csv(path2)\n",
    "combined_df = pd.concat([train_df, test_df], ignore_index=True)\n"
   ]
  },
  {
   "cell_type": "code",
   "execution_count": 3,
   "metadata": {},
   "outputs": [
    {
     "data": {
      "text/html": [
       "<div>\n",
       "<style scoped>\n",
       "    .dataframe tbody tr th:only-of-type {\n",
       "        vertical-align: middle;\n",
       "    }\n",
       "\n",
       "    .dataframe tbody tr th {\n",
       "        vertical-align: top;\n",
       "    }\n",
       "\n",
       "    .dataframe thead th {\n",
       "        text-align: right;\n",
       "    }\n",
       "</style>\n",
       "<table border=\"1\" class=\"dataframe\">\n",
       "  <thead>\n",
       "    <tr style=\"text-align: right;\">\n",
       "      <th></th>\n",
       "      <th>Unnamed: 0</th>\n",
       "      <th>filename</th>\n",
       "      <th>palsa</th>\n",
       "    </tr>\n",
       "  </thead>\n",
       "  <tbody>\n",
       "    <tr>\n",
       "      <th>0</th>\n",
       "      <td>0</td>\n",
       "      <td>760_73_5025_2018_crop_14</td>\n",
       "      <td>7.25</td>\n",
       "    </tr>\n",
       "    <tr>\n",
       "      <th>1</th>\n",
       "      <td>1</td>\n",
       "      <td>760_73_5025_2018_crop_15</td>\n",
       "      <td>0.75</td>\n",
       "    </tr>\n",
       "    <tr>\n",
       "      <th>2</th>\n",
       "      <td>2</td>\n",
       "      <td>760_73_5025_2018_crop_16</td>\n",
       "      <td>3.25</td>\n",
       "    </tr>\n",
       "    <tr>\n",
       "      <th>3</th>\n",
       "      <td>3</td>\n",
       "      <td>760_73_5025_2018_crop_17</td>\n",
       "      <td>1.50</td>\n",
       "    </tr>\n",
       "    <tr>\n",
       "      <th>4</th>\n",
       "      <td>4</td>\n",
       "      <td>760_73_5025_2018_crop_18</td>\n",
       "      <td>7.50</td>\n",
       "    </tr>\n",
       "  </tbody>\n",
       "</table>\n",
       "</div>"
      ],
      "text/plain": [
       "   Unnamed: 0                  filename  palsa\n",
       "0           0  760_73_5025_2018_crop_14   7.25\n",
       "1           1  760_73_5025_2018_crop_15   0.75\n",
       "2           2  760_73_5025_2018_crop_16   3.25\n",
       "3           3  760_73_5025_2018_crop_17   1.50\n",
       "4           4  760_73_5025_2018_crop_18   7.50"
      ]
     },
     "execution_count": 3,
     "metadata": {},
     "output_type": "execute_result"
    }
   ],
   "source": [
    "combined_df.head()"
   ]
  },
  {
   "cell_type": "code",
   "execution_count": 11,
   "metadata": {},
   "outputs": [
    {
     "name": "stdout",
     "output_type": "stream",
     "text": [
      "Collecting seaborn\n",
      "  Downloading seaborn-0.13.2-py3-none-any.whl.metadata (5.4 kB)\n",
      "Requirement already satisfied: numpy!=1.24.0,>=1.20 in /Users/nadja/miniconda3/envs/torchvision/lib/python3.11/site-packages (from seaborn) (1.26.4)\n",
      "Requirement already satisfied: pandas>=1.2 in /Users/nadja/miniconda3/envs/torchvision/lib/python3.11/site-packages (from seaborn) (2.2.1)\n",
      "Requirement already satisfied: matplotlib!=3.6.1,>=3.4 in /Users/nadja/miniconda3/envs/torchvision/lib/python3.11/site-packages (from seaborn) (3.8.4)\n",
      "Requirement already satisfied: contourpy>=1.0.1 in /Users/nadja/miniconda3/envs/torchvision/lib/python3.11/site-packages (from matplotlib!=3.6.1,>=3.4->seaborn) (1.2.0)\n",
      "Requirement already satisfied: cycler>=0.10 in /Users/nadja/miniconda3/envs/torchvision/lib/python3.11/site-packages (from matplotlib!=3.6.1,>=3.4->seaborn) (0.11.0)\n",
      "Requirement already satisfied: fonttools>=4.22.0 in /Users/nadja/miniconda3/envs/torchvision/lib/python3.11/site-packages (from matplotlib!=3.6.1,>=3.4->seaborn) (4.51.0)\n",
      "Requirement already satisfied: kiwisolver>=1.3.1 in /Users/nadja/miniconda3/envs/torchvision/lib/python3.11/site-packages (from matplotlib!=3.6.1,>=3.4->seaborn) (1.4.4)\n",
      "Requirement already satisfied: packaging>=20.0 in /Users/nadja/miniconda3/envs/torchvision/lib/python3.11/site-packages (from matplotlib!=3.6.1,>=3.4->seaborn) (23.2)\n",
      "Requirement already satisfied: pillow>=8 in /Users/nadja/miniconda3/envs/torchvision/lib/python3.11/site-packages (from matplotlib!=3.6.1,>=3.4->seaborn) (10.2.0)\n",
      "Requirement already satisfied: pyparsing>=2.3.1 in /Users/nadja/miniconda3/envs/torchvision/lib/python3.11/site-packages (from matplotlib!=3.6.1,>=3.4->seaborn) (3.0.9)\n",
      "Requirement already satisfied: python-dateutil>=2.7 in /Users/nadja/miniconda3/envs/torchvision/lib/python3.11/site-packages (from matplotlib!=3.6.1,>=3.4->seaborn) (2.8.2)\n",
      "Requirement already satisfied: pytz>=2020.1 in /Users/nadja/miniconda3/envs/torchvision/lib/python3.11/site-packages (from pandas>=1.2->seaborn) (2024.1)\n",
      "Requirement already satisfied: tzdata>=2022.7 in /Users/nadja/miniconda3/envs/torchvision/lib/python3.11/site-packages (from pandas>=1.2->seaborn) (2023.3)\n",
      "Requirement already satisfied: six>=1.5 in /Users/nadja/miniconda3/envs/torchvision/lib/python3.11/site-packages (from python-dateutil>=2.7->matplotlib!=3.6.1,>=3.4->seaborn) (1.16.0)\n",
      "Downloading seaborn-0.13.2-py3-none-any.whl (294 kB)\n",
      "Installing collected packages: seaborn\n",
      "Successfully installed seaborn-0.13.2\n"
     ]
    }
   ],
   "source": [
    "!pip install seaborn"
   ]
  },
  {
   "cell_type": "code",
   "execution_count": 57,
   "metadata": {},
   "outputs": [
    {
     "data": {
      "image/png": "[encoded data removed]",
      "text/plain": [
       "<Figure size 1000x600 with 1 Axes>"
      ]
     },
     "metadata": {},
     "output_type": "display_data"
    }
   ],
   "source": [
    "import matplotlib.pyplot as plt\n",
    "import numpy as np\n",
    "import seaborn as sns\n",
    "\n",
    "# Define bins for the histogram\n",
    "bins = [0, 0.0000000000001, 1, 5, 10, 20, float('inf')]\n",
    "labels = ['0', '0-1', '1-5', '5-10', '10-20', '>20']\n",
    "\n",
    "# Create a new column for binned palsa values\n",
    "combined_df['palsa_bins'] = pd.cut(combined_df['palsa'], bins=bins, labels=labels, right=False)\n",
    "\n",
    "# Calculate the frequency of palsa values in each bin\n",
    "frequency = combined_df['palsa_bins'].value_counts().reindex(labels, fill_value=0)\n",
    "\n",
    "# Create a vertical bar plot for the frequency of palsa values\n",
    "plt.figure(figsize=(10, 6))\n",
    "plt.gca().set_facecolor('#f0f0f0')  # Shade the background pane for the first bar\n",
    "colors = [sns.color_palette('Blues_r')[0]] + [sns.color_palette('Blues_r')[4]] * (len(labels) - 1)\n",
    "labels = ['Negative samples', 'Positive samples', None, None, None, None]\n",
    "bars = plt.bar(frequency.index, frequency.values, color=colors, edgecolor='black', label=labels)\n",
    "sns.despine(left=True)\n",
    "plt.xlabel('Palsa content of image (%)')\n",
    "plt.ylabel('Frequency')\n",
    "\n",
    "# Add a legend for the first two bars only\n",
    "plt.legend(['Negative samples', 'Positive samples'], loc='upper right', ncol=1, handlelength=1.5, frameon=False)\n",
    "plt.show()\n"
   ]
  },
  {
   "cell_type": "code",
   "execution_count": 77,
   "metadata": {},
   "outputs": [
    {
     "data": {
      "image/png": "[encoded data removed]",
      "text/plain": [
       "<Figure size 1000x600 with 1 Axes>"
      ]
     },
     "metadata": {},
     "output_type": "display_data"
    }
   ],
   "source": [
    "import matplotlib.pyplot as plt\n",
    "import numpy as np\n",
    "import seaborn as sns\n",
    "import pandas as pd\n",
    "\n",
    "# Define bins for the histogram\n",
    "bins = [0, 0.0000000000001, 1, 5, 10, 20, float('inf')]\n",
    "labels = ['0', '0-1', '1-5', '5-10', '10-20', '>20']\n",
    "\n",
    "# Create a new column for binned palsa values\n",
    "combined_df['palsa_bins'] = pd.cut(combined_df['palsa'], bins=bins, labels=labels, right=False)\n",
    "\n",
    "# Calculate the frequency of palsa values in each bin\n",
    "frequency = combined_df['palsa_bins'].value_counts().reindex(labels, fill_value=0)\n",
    "\n",
    "# Create figure and axis\n",
    "fig, ax = plt.subplots(figsize=(10, 6))\n",
    "\n",
    "# # Create background patches\n",
    "# # For negative samples (first bar)\n",
    "# neg_patch = plt.Rectangle((-0.5, 0), 1, max(frequency.values) * 1.2, \n",
    "#                          facecolor=sns.color_palette('Blues_r')[4], zorder=0)\n",
    "# ax.add_patch(neg_patch)\n",
    "\n",
    "# # For positive samples (remaining bars)\n",
    "# pos_patch = plt.Rectangle((0.5, 0), len(labels)-1, max(frequency.values) * 1.2, \n",
    "#                          facecolor=sns.color_palette('Blues_r')[5], zorder=0)\n",
    "# ax.add_patch(pos_patch)\n",
    "\n",
    "# Create bars\n",
    "# colors = [sns.color_palette('Blues_r')[5]] + [sns.color_palette('Blues_r')[3]] * (len(labels) - 1)\n",
    "colors = sns.color_palette('Blues')\n",
    "bars = plt.bar(frequency.index, frequency.values, color=colors, edgecolor='black')\n",
    "\n",
    "# Add section titles\n",
    "plt.text(0, max(frequency.values) * 0.5, 'Negative \\n samples', \n",
    "         horizontalalignment='center', fontsize=10)\n",
    "# plt.text(3, max(frequency.values) * 1.1, 'Positive \\n samples', \n",
    "#          horizontalalignment='center', fontsize=10)\n",
    "\n",
    "# Customize plot\n",
    "sns.despine(left=True)\n",
    "plt.xlabel('Palsa content of image (%)')\n",
    "plt.ylabel('Frequency')\n",
    "\n",
    "plt.show()"
   ]
  },
  {
   "cell_type": "code",
   "execution_count": 78,
   "metadata": {},
   "outputs": [
    {
     "name": "stdout",
     "output_type": "stream",
     "text": [
      "{'driver': 'GTiff', 'dtype': 'uint8', 'nodata': None, 'width': 400, 'height': 400, 'count': 3, 'crs': CRS.from_epsg(3006), 'transform': Affine(0.5, 0.0, 521000.0,\n",
      "       0.0, -0.5, 7326600.0)}\n"
     ]
    }
   ],
   "source": [
    "import rasterio\n",
    "\n",
    "# Path to the GeoTIFF file\n",
    "tif_path = '/Volumes/USB/Orig_200m_TIFS/rgb/732_52_5000_2015_crop_89.tif'\n",
    "\n",
    "# Open the GeoTIFF file and read metadata\n",
    "with rasterio.open(tif_path) as src:\n",
    "    metadata = src.meta\n",
    "\n",
    "# Print the metadata\n",
    "print(metadata)\n"
   ]
  },
  {
   "cell_type": "code",
   "execution_count": 80,
   "metadata": {},
   "outputs": [
    {
     "name": "stdout",
     "output_type": "stream",
     "text": [
      "Collecting geopandas\n",
      "  Downloading geopandas-1.0.1-py3-none-any.whl.metadata (2.2 kB)\n",
      "Requirement already satisfied: numpy>=1.22 in /Users/nadja/miniconda3/envs/torchvision/lib/python3.11/site-packages (from geopandas) (1.26.4)\n",
      "Collecting pyogrio>=0.7.2 (from geopandas)\n",
      "  Downloading pyogrio-0.10.0-cp311-cp311-macosx_12_0_x86_64.whl.metadata (5.5 kB)\n",
      "Requirement already satisfied: packaging in /Users/nadja/miniconda3/envs/torchvision/lib/python3.11/site-packages (from geopandas) (23.2)\n",
      "Requirement already satisfied: pandas>=1.4.0 in /Users/nadja/miniconda3/envs/torchvision/lib/python3.11/site-packages (from geopandas) (2.2.1)\n",
      "Collecting pyproj>=3.3.0 (from geopandas)\n",
      "  Downloading pyproj-3.7.0-cp311-cp311-macosx_12_0_x86_64.whl.metadata (31 kB)\n",
      "Requirement already satisfied: shapely>=2.0.0 in /Users/nadja/miniconda3/envs/torchvision/lib/python3.11/site-packages (from geopandas) (2.0.6)\n",
      "Requirement already satisfied: python-dateutil>=2.8.2 in /Users/nadja/miniconda3/envs/torchvision/lib/python3.11/site-packages (from pandas>=1.4.0->geopandas) (2.8.2)\n",
      "Requirement already satisfied: pytz>=2020.1 in /Users/nadja/miniconda3/envs/torchvision/lib/python3.11/site-packages (from pandas>=1.4.0->geopandas) (2024.1)\n",
      "Requirement already satisfied: tzdata>=2022.7 in /Users/nadja/miniconda3/envs/torchvision/lib/python3.11/site-packages (from pandas>=1.4.0->geopandas) (2023.3)\n",
      "Requirement already satisfied: certifi in /Users/nadja/miniconda3/envs/torchvision/lib/python3.11/site-packages (from pyogrio>=0.7.2->geopandas) (2024.7.4)\n",
      "Requirement already satisfied: six>=1.5 in /Users/nadja/miniconda3/envs/torchvision/lib/python3.11/site-packages (from python-dateutil>=2.8.2->pandas>=1.4.0->geopandas) (1.16.0)\n",
      "Downloading geopandas-1.0.1-py3-none-any.whl (323 kB)\n",
      "Downloading pyogrio-0.10.0-cp311-cp311-macosx_12_0_x86_64.whl (16.5 MB)\n",
      "\u001b[2K   \u001b[90m━━━━━━━━━━━━━━━━━━━━━━━━━━━━━━━━━━━━━━━━\u001b[0m \u001b[32m16.5/16.5 MB\u001b[0m \u001b[31m2.9 MB/s\u001b[0m eta \u001b[36m0:00:00\u001b[0ma \u001b[36m0:00:01\u001b[0m\n",
      "\u001b[?25hDownloading pyproj-3.7.0-cp311-cp311-macosx_12_0_x86_64.whl (6.3 MB)\n",
      "\u001b[2K   \u001b[90m━━━━━━━━━━━━━━━━━━━━━━━━━━━━━━━━━━━━━━━━\u001b[0m \u001b[32m6.3/6.3 MB\u001b[0m \u001b[31m4.6 MB/s\u001b[0m eta \u001b[36m0:00:00\u001b[0ma \u001b[36m0:00:01\u001b[0m\n",
      "\u001b[?25hInstalling collected packages: pyproj, pyogrio, geopandas\n",
      "Successfully installed geopandas-1.0.1 pyogrio-0.10.0 pyproj-3.7.0\n"
     ]
    }
   ],
   "source": [
    "!pip install geopandas"
   ]
  },
  {
   "cell_type": "code",
   "execution_count": 82,
   "metadata": {},
   "outputs": [
    {
     "name": "stdout",
     "output_type": "stream",
     "text": [
      "None\n"
     ]
    }
   ],
   "source": [
    "import geopandas as gpd\n",
    "\n",
    "# Path to the shapefile\n",
    "# shp_path = '/Volumes/USB/Final_Sweden_Map/original_model_v208/palsa_predictions.shp'\n",
    "shp_path = '/Volumes/USB/Final_Sweden_Map/thresholded_cam1.6_v45/thresh_palsa_predictions.shp'\n",
    "\n",
    "# Load the shapefile using GeoPandas\n",
    "gdf = gpd.read_file(shp_path)\n",
    "\n",
    "# Get the coordinate reference system (CRS)\n",
    "crs = gdf.crs\n",
    "\n",
    "# Print the CRS\n",
    "print(crs)\n"
   ]
  },
  {
   "cell_type": "code",
   "execution_count": 83,
   "metadata": {},
   "outputs": [
    {
     "data": {
      "text/html": [
       "<div>\n",
       "<style scoped>\n",
       "    .dataframe tbody tr th:only-of-type {\n",
       "        vertical-align: middle;\n",
       "    }\n",
       "\n",
       "    .dataframe tbody tr th {\n",
       "        vertical-align: top;\n",
       "    }\n",
       "\n",
       "    .dataframe thead th {\n",
       "        text-align: right;\n",
       "    }\n",
       "</style>\n",
       "<table border=\"1\" class=\"dataframe\">\n",
       "  <thead>\n",
       "    <tr style=\"text-align: right;\">\n",
       "      <th></th>\n",
       "      <th>FID</th>\n",
       "      <th>geometry</th>\n",
       "    </tr>\n",
       "  </thead>\n",
       "  <tbody>\n",
       "    <tr>\n",
       "      <th>0</th>\n",
       "      <td>0</td>\n",
       "      <td>POLYGON ((657530 7510087.5, 657530 7510089.5, ...</td>\n",
       "    </tr>\n",
       "    <tr>\n",
       "      <th>1</th>\n",
       "      <td>1</td>\n",
       "      <td>POLYGON ((657527 7510150, 657527 7510155, 6575...</td>\n",
       "    </tr>\n",
       "    <tr>\n",
       "      <th>2</th>\n",
       "      <td>2</td>\n",
       "      <td>POLYGON ((655352 7516939.5, 655352 7516941, 65...</td>\n",
       "    </tr>\n",
       "    <tr>\n",
       "      <th>3</th>\n",
       "      <td>3</td>\n",
       "      <td>POLYGON ((655391 7516448.5, 655391 7516450, 65...</td>\n",
       "    </tr>\n",
       "    <tr>\n",
       "      <th>4</th>\n",
       "      <td>4</td>\n",
       "      <td>POLYGON ((655442.5 7516427, 655442.5 7516428.5...</td>\n",
       "    </tr>\n",
       "  </tbody>\n",
       "</table>\n",
       "</div>"
      ],
      "text/plain": [
       "   FID                                           geometry\n",
       "0    0  POLYGON ((657530 7510087.5, 657530 7510089.5, ...\n",
       "1    1  POLYGON ((657527 7510150, 657527 7510155, 6575...\n",
       "2    2  POLYGON ((655352 7516939.5, 655352 7516941, 65...\n",
       "3    3  POLYGON ((655391 7516448.5, 655391 7516450, 65...\n",
       "4    4  POLYGON ((655442.5 7516427, 655442.5 7516428.5..."
      ]
     },
     "execution_count": 83,
     "metadata": {},
     "output_type": "execute_result"
    }
   ],
   "source": [
    "gdf.head()"
   ]
  },
  {
   "cell_type": "code",
   "execution_count": 84,
   "metadata": {},
   "outputs": [
    {
     "name": "stdout",
     "output_type": "stream",
     "text": [
      "[(657530.0, 7510087.5), (657530.0, 7510089.5), (657525.0, 7510089.5), (657525.0, 7510091.0), (657523.5, 7510091.0)]\n",
      "[ 521887.5 7329055.   812172.  7669534.5]\n"
     ]
    }
   ],
   "source": [
    "# Print the first few coordinates from the first polygon\n",
    "print(gdf.geometry.iloc[0].exterior.coords[:5])\n",
    "\n",
    "# Print the total bounds of all polygons\n",
    "print(gdf.total_bounds)"
   ]
  },
  {
   "cell_type": "code",
   "execution_count": null,
   "metadata": {},
   "outputs": [],
   "source": []
  }
 ],
 "metadata": {
  "kernelspec": {
   "display_name": "palsa_env_torch",
   "language": "python",
   "name": "python3"
  },
  "language_info": {
   "codemirror_mode": {
    "name": "ipython",
    "version": 3
   },
   "file_extension": ".py",
   "mimetype": "text/x-python",
   "name": "python",
   "nbconvert_exporter": "python",
   "pygments_lexer": "ipython3",
   "version": "3.11.5"
  }
 },
 "nbformat": 4,
 "nbformat_minor": 2
}
