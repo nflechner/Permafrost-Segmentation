{
 "cells": [
  {
   "cell_type": "markdown",
   "metadata": {},
   "source": [
    "This script will be used to generate the final pseudomasks to be used in supervised finetuning of a segmentation model (eg segformer). \n",
    "\n",
    "Input:\n",
    "- trained model\n",
    "- complete dataset\n",
    "\n",
    "Output:\n",
    "- image pairs to be used for supervised segmentation model\n",
    "\n",
    "\n",
    "Input image to segmentation model:\n",
    "- 200x200 tif \n",
    "- use only RGB? probably needed if i'm using a pretrained model\n",
    "\n",
    "\n",
    "Binary mask () segmentation model:\n",
    "- 200x200 tif \n",
    "- use only RGB? probably needed if i'm using a pretrained model"
   ]
  },
  {
   "cell_type": "code",
   "execution_count": null,
   "metadata": {},
   "outputs": [],
   "source": []
  }
 ],
 "metadata": {
  "language_info": {
   "name": "python"
  }
 },
 "nbformat": 4,
 "nbformat_minor": 2
}
