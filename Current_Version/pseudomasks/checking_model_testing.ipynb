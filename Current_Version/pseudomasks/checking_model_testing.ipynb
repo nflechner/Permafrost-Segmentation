{
 "cells": [
  {
   "cell_type": "code",
   "execution_count": null,
   "metadata": {},
   "outputs": [],
   "source": [
    "############\n",
    "# Imports #\n",
    "############\n",
    "\n",
    "import json\n",
    "import os\n",
    "\n",
    "import torch\n",
    "import wandb\n",
    "from torch.utils.data import DataLoader\n",
    "\n",
    "from model.cnn_classifier import model_4D\n",
    "from model.finetune import FinetuneLoop\n",
    "from model.pseudomask import Pseudomasks\n",
    "from model.train import ClassifierTrainLoop\n",
    "from utils.data_modules import ImageDataset, TestSet, filter_dataset"
   ]
  },
  {
   "cell_type": "code",
   "execution_count": null,
   "metadata": {},
   "outputs": [],
   "source": [
    "# Initialize wandb\n",
    "wandb.init(project=\"VGG_CAMs\")\n",
    "\n",
    "# Get the artifact\n",
    "artifact = wandb.use_artifact('nadjaflechner/VGG_CAMs/classification_model:v62', type='model')\n",
    "\n",
    "# Download the artifact\n",
    "artifact_dir = artifact.download()\n",
    "\n",
    "# Load the model\n",
    "model_path = os.path.join(artifact_dir, 'model.pth')\n",
    "\n",
    "# If you saved the entire model\n",
    "model = torch.load(model_path)\n",
    "\n",
    "# Or if you saved only the state dict\n",
    "# model = YourModelClass()\n",
    "# model.load_state_dict(torch.load(model_path))\n",
    "\n",
    "# Set to evaluation mode\n",
    "model.eval()\n",
    "\n",
    "# Now you can use your model\n",
    "# ...\n",
    "\n",
    "# Finish the wandb run\n",
    "wandb.finish()"
   ]
  },
  {
   "cell_type": "code",
   "execution_count": null,
   "metadata": {},
   "outputs": [],
   "source": [
    "##################\n",
    "# evaluate model #\n",
    "##################\n",
    "\n",
    "print('Testing model ...')\n",
    "test_set = TestSet(depth_layer, testset_dir, normalize)\n",
    "test_loader = DataLoader(test_set, batch_size=1, shuffle=True, num_workers=1)\n",
    "\n",
    "pseudomask_generator = Pseudomasks(test_loader, cam_threshold_factor, overlap_threshold,\n",
    "                                    snic_seeds, snic_compactness, finetuned = finetune)\n",
    "pseudomask_generator.model_from_dict(best_model)\n",
    "pseudomask_generator.test_loop(test_loader)"
   ]
  }
 ],
 "metadata": {
  "language_info": {
   "name": "python"
  }
 },
 "nbformat": 4,
 "nbformat_minor": 2
}
