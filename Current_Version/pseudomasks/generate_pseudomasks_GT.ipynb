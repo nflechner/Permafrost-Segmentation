{
 "cells": [
  {
   "cell_type": "code",
   "execution_count": 2,
   "metadata": {},
   "outputs": [
    {
     "name": "stderr",
     "output_type": "stream",
     "text": [
      "\u001b[34m\u001b[1mwandb\u001b[0m: Using wandb-core as the SDK backend. Please refer to https://wandb.me/wandb-core for more information.\n",
      "\u001b[34m\u001b[1mwandb\u001b[0m:   1 of 1 files downloaded.  \n",
      "/tmp/ipykernel_5109/2636737437.py:86: FutureWarning: You are using `torch.load` with `weights_only=False` (the current default value), which uses the default pickle module implicitly. It is possible to construct malicious pickle data which will execute arbitrary code during unpickling (See https://github.com/pytorch/pytorch/blob/main/SECURITY.md#untrusted-models for more details). In a future release, the default value for `weights_only` will be flipped to `True`. This limits the functions that could be executed during unpickling. Arbitrary objects will no longer be allowed to be loaded via this mode unless they are explicitly allowlisted by the user via `torch.serialization.add_safe_globals`. We recommend you start setting `weights_only=True` for any use case where you don't have full control of the loaded file. Please open an issue on GitHub for any issues related to this experimental feature.\n",
      "  state_dict = torch.load(f\"{artifact_dir}/model.pth\")\n"
     ]
    }
   ],
   "source": [
    "############\n",
    "# Imports #\n",
    "############\n",
    "\n",
    "import json\n",
    "import os\n",
    "\n",
    "import wandb\n",
    "import pandas as pd\n",
    "import rasterio\n",
    "import torch\n",
    "import torchvision.utils as vutils\n",
    "import numpy as np\n",
    "\n",
    "from torch.utils.data import DataLoader\n",
    "from PIL import Image\n",
    "\n",
    "from model.cnn_classifier import model_4D\n",
    "from model.pseudomask import Pseudomasks\n",
    "from utils.data_modules import ImageDataset, TestSet, filter_dataset\n",
    "\n",
    "##################\n",
    "## load configs ##\n",
    "##################\n",
    "\n",
    "# use this path when using vs code debugger.\n",
    "# config_path = os.path.join('/home/nadjaflechner/palsa_seg/current_models/pseudomask_generation_model', 'configs.json')\n",
    "\n",
    "config_path = os.path.join(os.getcwd(), 'configs/pseudomasks_configs.json')\n",
    "with open(config_path, 'r') as config_file:\n",
    "    configs = json.load(config_file)\n",
    "\n",
    "# assign paths\n",
    "parent_dir = \"/root/Permafrost-Segmentation/Current_Version/pseudomasks/Verified_GTs\"\n",
    "rgb_dir = os.path.join(parent_dir, 'rgb')\n",
    "hs_dir = os.path.join(parent_dir, 'hs')\n",
    "dem_dir = os.path.join(parent_dir, 'dem')\n",
    "final_pseudomasks_dir = os.path.join(parent_dir, 'pseudomasks')\n",
    "labels_file = os.path.join(parent_dir, 'new_palsa_labels_TINY.csv')\n",
    "\n",
    "# load model configs dictionary\n",
    "config_model = configs.get('model', {})\n",
    "# assign model\n",
    "artifact_path = config_model.get('artifact_path')\n",
    "run_id = config_model.get('run_id')\n",
    "finetune = config_model.get('finetuned')\n",
    "\n",
    "# load data configs dictionary\n",
    "config_data = configs.get('data', {})\n",
    "# assign data configs\n",
    "n_samples = config_data.get('n_samples')\n",
    "batch_size = config_data.get('batch_size')\n",
    "im_size = config_data.get('im_size')\n",
    "min_palsa_positive_samples = config_data.get('min_palsa_positive_samples')\n",
    "augment = config_data.get('augment')\n",
    "normalize = config_data.get('normalize')\n",
    "depth_layer = config_data.get('depth_layer')\n",
    "\n",
    "# load pseudomasks configs dictionary\n",
    "config_pseudomasks = configs.get('pseudomasks', {})\n",
    "# assign pseudomasks configs\n",
    "cam_threshold_factor = config_pseudomasks.get('cam_threshold_factor')\n",
    "overlap_threshold = config_pseudomasks.get('overlap_threshold')\n",
    "snic_seeds = config_pseudomasks.get('snic_seeds')\n",
    "snic_compactness = config_pseudomasks.get('snic_compactness')\n",
    "\n",
    "\n",
    "#########################\n",
    "# configure dataloaders #\n",
    "#########################\n",
    "\n",
    "all_files = pd.read_csv(labels_file, index_col=0)\n",
    "\n",
    "# choose depth data based on configs\n",
    "depth_dir = hs_dir if depth_layer == \"hs\" else dem_dir\n",
    "# Create the dataset and loaders for the entire dataset.\n",
    "dataset = ImageDataset(depth_dir, rgb_dir, all_files, im_size, normalize)\n",
    "loader = DataLoader(dataset, batch_size=1, shuffle=True)\n",
    "\n",
    "#############\n",
    "# Init model: \n",
    "\n",
    "api = wandb.Api()\n",
    "artifact = api.artifact(artifact_path, type='model')\n",
    "artifact_dir = artifact.download()\n",
    "state_dict = torch.load(f\"{artifact_dir}/model.pth\")\n",
    "model = model_4D()\n",
    "model.load_state_dict(state_dict)\n",
    "model.eval()\n",
    "\n",
    "#############################\n",
    "# generate all pseudolabels #\n",
    "#############################\n",
    "\n",
    "pseudomask_generator = Pseudomasks(\n",
    "    dataset, cam_threshold_factor, overlap_threshold,\n",
    "    snic_seeds, snic_compactness, finetuned = finetune, std_from_mean=0\n",
    "    )\n",
    "pseudomask_generator.model = model.to(torch.device('cuda' if torch.cuda.is_available() else 'cpu'))\n"
   ]
  },
  {
   "cell_type": "code",
   "execution_count": 4,
   "metadata": {},
   "outputs": [],
   "source": [
    "counter = 0\n",
    "for im,binary_label,_,img_name in loader:\n",
    "\n",
    "    # output paths:\n",
    "    output_path_mask = os.path.join(final_pseudomasks_dir, 'masks', f\"{img_name[0]}.png\") \n",
    "    output_path_jpg = os.path.join(final_pseudomasks_dir, 'images', f\"{img_name[0]}.jpg\") \n",
    "\n",
    "    # Save RGB image\n",
    "    vutils.save_image((im[:,:3,:,:]/255).cpu(), output_path_jpg, normalize = False)\n",
    "\n",
    "    # Generate pseudomask \n",
    "    if binary_label == 0: \n",
    "        pseudomask = np.full((400, 400), False, dtype=bool)\n",
    "    else:\n",
    "        pseudomask = pseudomask_generator.generate_mask(im, None, save_plot=False)\n",
    "\n",
    "    # Save pseudomask\n",
    "    binary_pseudomask = np.squeeze(pseudomask.astype(np.uint8)) # convert bool to binary mask\n",
    "    pseudomask_img = Image.fromarray(binary_pseudomask) # convert to pil img\n",
    "    pseudomask_img.save(output_path_mask) # save as binary png\n",
    "\n",
    "    counter+= 1\n",
    "\n",
    "    if counter%100 ==0:\n",
    "        print(f\"{(counter/14567)*100} % of images produced\")\n"
   ]
  },
  {
   "cell_type": "code",
   "execution_count": 7,
   "metadata": {},
   "outputs": [
    {
     "data": {
      "text/plain": [
       "1"
      ]
     },
     "execution_count": 7,
     "metadata": {},
     "output_type": "execute_result"
    },
    {
     "data": {
      "image/png": "[encoded data removed]",
      "text/plain": [
       "<Figure size 640x480 with 1 Axes>"
      ]
     },
     "metadata": {},
     "output_type": "display_data"
    }
   ],
   "source": [
    "import matplotlib.pyplot as plt\n",
    "immie = Image.open(output_path_mask)\n",
    "plt.imshow(immie)\n",
    "np.array(immie).max()"
   ]
  }
 ],
 "metadata": {
  "kernelspec": {
   "display_name": "torch_only_env",
   "language": "python",
   "name": "python3"
  },
  "language_info": {
   "codemirror_mode": {
    "name": "ipython",
    "version": 3
   },
   "file_extension": ".py",
   "mimetype": "text/x-python",
   "name": "python",
   "nbconvert_exporter": "python",
   "pygments_lexer": "ipython3",
   "version": "3.10.12"
  }
 },
 "nbformat": 4,
 "nbformat_minor": 2
}
