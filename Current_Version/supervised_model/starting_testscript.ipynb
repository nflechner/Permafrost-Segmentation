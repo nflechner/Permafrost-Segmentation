{
 "cells": [
  {
   "cell_type": "markdown",
   "metadata": {},
   "source": [
    "### Overall info\n",
    "\n",
    "Folder structure will be: \n",
    "\n",
    "Dataset \n",
    "    |__RGB \n",
    "    |__HS \n",
    "    |__DEM \n",
    "    |__annotations \n",
    "    |__labels.csv "
   ]
  },
  {
   "cell_type": "markdown",
   "metadata": {},
   "source": [
    "### Observe\n",
    "- All of the below script has been written but not tested \n",
    "- to run it, several installs might be needed. \n",
    "\n",
    "##### Useful links: \n",
    "- [source code](https://github.com/huggingface/transformers/blob/main/src/transformers/models/segformer/image_processing_segformer.py)\n",
    "- https://github.com/NielsRogge/Transformers-Tutorials/blob/master/SegFormer/Fine_tune_SegFormer_on_custom_dataset.ipynb\n",
    "\n"
   ]
  },
  {
   "cell_type": "markdown",
   "metadata": {},
   "source": [
    "#### Define dataset "
   ]
  },
  {
   "cell_type": "code",
   "execution_count": null,
   "metadata": {},
   "outputs": [],
   "source": [
    "from transformers import SegformerImageProcessor\n",
    "import pandas as pd \n",
    "from torch.utils.data import Dataset\n",
    "from torch.utils.data import DataLoader\n",
    "import os\n",
    "from PIL import Image\n",
    "\n",
    "# adapted from https://github.com/NielsRogge/Transformers-Tutorials/blob/master/SegFormer/Fine_tune_SegFormer_on_custom_dataset.ipynb\n",
    "class SemanticSegmentationDataset(Dataset):\n",
    "    \"\"\"Image (semantic) segmentation dataset.\"\"\"\n",
    "\n",
    "    def __init__(self, root_dir, labels_df, image_processor):\n",
    "        \"\"\"\n",
    "        Args:\n",
    "            root_dir (string): Root directory of the dataset containing the images + annotations.\n",
    "            image_processor (SegFormerImageProcessor): image processor to prepare images + segmentation maps.\n",
    "            labels_df: pd.Dataframe of the image names to be used in the dataset\n",
    "        \"\"\"\n",
    "        self.root_dir = root_dir\n",
    "        self.image_processor = image_processor\n",
    "        self.labels_df = labels_df\n",
    "\n",
    "        self.img_dir = os.path.join(self.root_dir, \"rgb\")\n",
    "        self.ann_dir = os.path.join(self.root_dir, \"annotations\")\n",
    "\n",
    "    def __len__(self):\n",
    "        return len(self.labels_df)\n",
    "\n",
    "    def __getitem__(self, idx):\n",
    "        img_name = self.labels_df['filenames'][idx]\n",
    "        img_path = os.path.join(self.img_dir, f\"{img_name}.jpg\")\n",
    "        ann_path = os.path.join(self.ann_dir, f\"{img_name}.png\")\n",
    "\n",
    "        image = Image.open(img_path)\n",
    "        segmentation_map = Image.open(ann_path)\n",
    "\n",
    "        # randomly crop + pad both image and segmentation map to same size\n",
    "        encoded_inputs = self.image_processor(image, segmentation_map, return_tensors=\"pt\")\n",
    "\n",
    "        for k,v in encoded_inputs.items():\n",
    "          encoded_inputs[k].squeeze_() # remove batch dimension\n",
    "\n",
    "        return encoded_inputs\n",
    "    \n",
    "\"\"\"\n",
    "WARNING: \n",
    "by default the image processor below will resize the image (to 512*512).\n",
    "Essentially i don't want this, HOWEVER it might be necessary to be able\n",
    "to use the weights from pretraining. TODO: Find out whether that's so.\n",
    "\"\"\"\n",
    "\n",
    "# split test and train set \n",
    "labels_file = \"/Users/nadja/Documents/UU/Thesis/Data/TINYsampleFINAL/tinydataset/palsa_labels.csv\"\n",
    "all_imgs = pd.read_csv(labels_file, usecols=[0], header=0, names=['filenames'])\n",
    "train_labels = all_imgs.sample(frac=0.8)\n",
    "valid_labels = all_imgs.drop(train_labels.index).sample(frac=0.5)\n",
    "test_labels = all_imgs.drop(train_labels.index).drop(valid_labels.index)\n",
    "\n",
    "root_dir = \"/Users/nadja/Documents/UU/Thesis/Data/TINYsampleFINAL/tinydataset\"\n",
    "image_processor = SegformerImageProcessor(\n",
    "    img_mean = [74.90, 85.26, 80.06], # use mean calculated over our dataset\n",
    "    img_std = [15.05, 13.88, 12.01], # use std calculated over our dataset\n",
    "    do_reduce_labels=True\n",
    "    # additionally, do i want some augmentation? \n",
    "    )\n",
    "\n",
    "train_dataset = SemanticSegmentationDataset(root_dir, train_labels, image_processor)\n",
    "valid_dataset = SemanticSegmentationDataset(root_dir, valid_labels, image_processor)\n",
    "\n",
    "train_dataloader = DataLoader(train_dataset, batch_size=20, shuffle=True)\n",
    "valid_dataloader = DataLoader(valid_dataset, batch_size=20)"
   ]
  },
  {
   "cell_type": "markdown",
   "metadata": {},
   "source": [
    "### Define model\n",
    "\n",
    "### IMPORTANT: DO I WANT TO FREEZE LAYERS??"
   ]
  },
  {
   "cell_type": "code",
   "execution_count": null,
   "metadata": {},
   "outputs": [],
   "source": [
    "from transformers import SegformerForSemanticSegmentation\n",
    "\n",
    "# define model\n",
    "model = SegformerForSemanticSegmentation.from_pretrained(\n",
    "    \"nvidia/mit-b0\", num_labels=1) # since we treat '0' as a background, the only class is palsa.\n",
    "\n",
    "# Freeze encoder layers\n",
    "for param in model.segformer.encoder.parameters():\n",
    "    param.requires_grad = False\n",
    "\n",
    "# Optionally, unfreeze the last few layers of the encoder\n",
    "# Adjust the number of unfrozen blocks as needed\n",
    "num_unfrozen_blocks = 2\n",
    "for i in range(len(model.segformer.encoder.block) - num_unfrozen_blocks, len(model.segformer.encoder.block)):\n",
    "    for param in model.segformer.encoder.block[i].parameters():\n",
    "        param.requires_grad = True\n",
    "\n",
    "# The decoder (model.decode_head) will be trained by default"
   ]
  },
  {
   "cell_type": "markdown",
   "metadata": {},
   "source": [
    "### Finetune\n",
    "based on [huggingface tutorial](https://github.com/NielsRogge/Transformers-Tutorials/blob/master/SegFormer/Fine_tune_SegFormer_on_custom_dataset.ipynb)\n",
    "\n",
    "DO i want to log all of this with wandb?"
   ]
  },
  {
   "cell_type": "code",
   "execution_count": null,
   "metadata": {},
   "outputs": [],
   "source": [
    "import torch\n",
    "from torch import nn\n",
    "from sklearn.metrics import accuracy_score\n",
    "from tqdm.notebook import tqdm\n",
    "import evaluate # \"from Datasets library\" \n",
    "\n",
    "metric = evaluate.load(\"mean_iou\")\n",
    "\n",
    "epochs = 20\n",
    "lr = 0.00006\n",
    "\n",
    "# define optimizer\n",
    "optimizer = torch.optim.AdamW(model.parameters(), lr=lr) # these are the params used during training \n",
    "# move model to GPU\n",
    "device = torch.device(\"cuda\" if torch.cuda.is_available() else \"cpu\")\n",
    "model.to(device)\n",
    "\n",
    "model.train()\n",
    "for epoch in range(epochs):  # loop over the dataset multiple times\n",
    "    print(\"Epoch:\", epoch)\n",
    "    for idx, batch in enumerate(train_dataloader):  \n",
    "        # get the inputs;\n",
    "        pixel_values = batch[\"pixel_values\"].to(device)\n",
    "        labels = batch[\"labels\"].to(device)\n",
    "\n",
    "        # zero the parameter gradients\n",
    "        optimizer.zero_grad()\n",
    "\n",
    "        # forward + backward + optimize\n",
    "        outputs = model(pixel_values=pixel_values, labels=labels)\n",
    "        loss, logits = outputs.loss, outputs.logits\n",
    "\n",
    "        loss.backward()\n",
    "        optimizer.step()\n",
    "\n",
    "        #### Look at tutorial notebook for metrics logging (and calculating) options \n",
    "\n",
    "    with torch.no_grad():\n",
    "        for idx, batch in enumerate(valid_dataloader): # tqdm does a progress bar: do we want that? \n",
    "            # get the inputs;\n",
    "            pixel_values = batch[\"pixel_values\"].to(device)\n",
    "            labels = batch[\"labels\"].to(device)\n",
    "\n",
    "            # forward + backward + optimize\n",
    "            outputs = model(pixel_values=pixel_values, labels=labels)\n",
    "            loss, logits = outputs.loss, outputs.logits\n"
   ]
  },
  {
   "cell_type": "markdown",
   "metadata": {},
   "source": [
    "### Visualize a result with the trained model "
   ]
  },
  {
   "cell_type": "code",
   "execution_count": null,
   "metadata": {},
   "outputs": [],
   "source": [
    "image = Image.open('imgpath')\n",
    "pixel_values = image_processor(image, return_tensors=\"pt\").pixel_values.to(device)\n",
    "with torch.no_grad():\n",
    "    outputs = model(pixel_values=pixel_values)\n",
    "logits = outputs.logits.cpu()\n",
    "predicted_segmentation_map = image_processor.post_process_semantic_segmentation(outputs, target_sizes=[image.size[::-1]])[0]\n",
    "predicted_segmentation_map = predicted_segmentation_map.cpu().numpy()"
   ]
  },
  {
   "cell_type": "code",
   "execution_count": null,
   "metadata": {},
   "outputs": [],
   "source": [
    "import matplotlib.pyplot as plt\n",
    "import numpy as np\n",
    "\n",
    "color_seg = np.zeros((predicted_segmentation_map.shape[0],\n",
    "                      predicted_segmentation_map.shape[1], 3), dtype=np.uint8) # height, width, 3\n",
    "\n",
    "color = np.array([4, 250, 7])\n",
    "color_seg[predicted_segmentation_map == 0, :] = color\n",
    "# Convert to BGR\n",
    "color_seg = color_seg[..., ::-1]\n",
    "\n",
    "# Show image + mask\n",
    "img = np.array(image) * 0.5 + color_seg * 0.5\n",
    "img = img.astype(np.uint8)\n",
    "\n",
    "plt.figure(figsize=(15, 10))\n",
    "plt.imshow(img)\n",
    "plt.show()"
   ]
  }
 ],
 "metadata": {
  "kernelspec": {
   "display_name": "palsa_env_torch",
   "language": "python",
   "name": "python3"
  },
  "language_info": {
   "codemirror_mode": {
    "name": "ipython",
    "version": 3
   },
   "file_extension": ".py",
   "mimetype": "text/x-python",
   "name": "python",
   "nbconvert_exporter": "python",
   "pygments_lexer": "ipython3",
   "version": "3.12.2"
  }
 },
 "nbformat": 4,
 "nbformat_minor": 2
}
