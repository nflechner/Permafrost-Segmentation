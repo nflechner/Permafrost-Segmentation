{
 "cells": [
  {
   "cell_type": "code",
   "execution_count": 3,
   "metadata": {},
   "outputs": [],
   "source": [
    "# libraries \n",
    "import geopandas as gpd\n",
    "import numpy as np \n",
    "import pandas as pd\n",
    "import rasterio\n",
    "import matplotlib.pyplot as plt\n",
    "from rasterio.plot import show\n",
    "from rasterio.mask import mask\n",
    "import os\n",
    "import json\n",
    "from shapely.geometry import box, Polygon\n",
    "import logging\n",
    "import random\n",
    "import torchvision.transforms.functional as TF\n",
    "import torch\n",
    "\n",
    "def generate_geoseries( bounds, crs, dims):\n",
    "\n",
    "    \"\"\"\n",
    "    Generates all dim x dim polygons present in the hillshade TIF.\n",
    "    \"\"\"\n",
    "\n",
    "    # height and width of new squares \n",
    "    square_dims = dims # 100x100 meters\n",
    "\n",
    "    # Calculate the number of segments in each dimension (tif width // desired width in pixels!)\n",
    "    segments_x = 2500 // square_dims # for depth data its 2500\n",
    "    segments_y = 2500 // square_dims\n",
    "\n",
    "    # Create an empty list to store the polygons\n",
    "    polygons = []\n",
    "\n",
    "    # Iterate over the segments\n",
    "    for i in range(segments_y):\n",
    "        for j in range(segments_x):\n",
    "            # Calculate the coordinates of the segment\n",
    "            left = bounds.left + j * square_dims\n",
    "            bottom = bounds.bottom + i * square_dims\n",
    "            right = left + square_dims\n",
    "            top = bottom + square_dims\n",
    "\n",
    "            # Create a polygon for the segment\n",
    "            polygon = Polygon([(right, bottom), (left, bottom), (left, top), (right, top), (right, bottom)])\n",
    "\n",
    "            # Append the polygon to the list\n",
    "            polygons.append(polygon)\n",
    "\n",
    "    # Create a GeoSeries from the list of polygons\n",
    "    return gpd.GeoSeries(polygons, crs=crs)"
   ]
  },
  {
   "cell_type": "code",
   "execution_count": 17,
   "metadata": {},
   "outputs": [],
   "source": [
    "img = rasterio.open('/home/nadjaflechner/Palsa_data/filtered_tifs/hillshade/749_68_2575_2014.tif')\n",
    "shape_file = \"/home/nadjaflechner/Palsa_data/Ground_truth/gt_polygons.shp\"\n",
    "groundtruth_polygs = gpd.read_file(shape_file)\n",
    "\n",
    "generated_polygons_all = generate_geoseries(img.bounds, img.crs, 200)\n"
   ]
  },
  {
   "cell_type": "code",
   "execution_count": 18,
   "metadata": {},
   "outputs": [],
   "source": [
    "d = {'name': [i for i in range(len(generated_polygons_all))]}\n",
    "generated_polygons_all_df = gpd.GeoDataFrame(d, geometry = generated_polygons_all, crs=generated_polygons_all.crs)"
   ]
  },
  {
   "cell_type": "code",
   "execution_count": 19,
   "metadata": {},
   "outputs": [
    {
     "data": {
      "text/plain": [
       "RangeIndex(start=0, stop=144, step=1)"
      ]
     },
     "execution_count": 19,
     "metadata": {},
     "output_type": "execute_result"
    }
   ],
   "source": [
    "generated_polygons_all.index"
   ]
  },
  {
   "cell_type": "code",
   "execution_count": 22,
   "metadata": {},
   "outputs": [
    {
     "name": "stdout",
     "output_type": "stream",
     "text": [
      "overlap\n"
     ]
    }
   ],
   "source": [
    "\n",
    "for idx, polygon in zip(generated_polygons_all_df.index, generated_polygons_all_df.geometry):\n",
    "\n",
    "    # see if there is an overlap with ground truths:\n",
    "    polyg_df = generated_polygons_all_df.iloc[[idx]]\n",
    "    intersections = gpd.overlay(groundtruth_polygs, polyg_df, how='intersection')\n",
    "\n",
    "    # only crop if theres a ground truth overlap\n",
    "    if not intersections.empty:\n",
    "        print('overlap')\n",
    "        break\n"
   ]
  },
  {
   "cell_type": "code",
   "execution_count": 27,
   "metadata": {},
   "outputs": [
    {
     "data": {
      "text/plain": [
       "688149.8104874288"
      ]
     },
     "execution_count": 27,
     "metadata": {},
     "output_type": "execute_result"
    }
   ],
   "source": [
    "intersections.geometry[0].bounds[0]"
   ]
  },
  {
   "cell_type": "code",
   "execution_count": 32,
   "metadata": {},
   "outputs": [],
   "source": [
    "minx_ruta = intersections.geometry[0].bounds[0]\n",
    "miny_ruta = intersections.geometry[0].bounds[1]\n",
    "\n",
    "miny = str(miny_ruta)[0:3]\n",
    "minx = str(minx_ruta)[0:2]\n",
    "\n",
    "if 0 <= int(str(miny_ruta)[3:5]) < 25:\n",
    "    km_siffran_y = '00'\n",
    "elif 25 <= int(str(miny_ruta)[3:5]) < 50:\n",
    "    km_siffran_y = '25'\n",
    "elif 50 <= int(str(miny_ruta)[3:5]) < 75:\n",
    "    km_siffran_y = '50'\n",
    "elif 75 <= int(str(miny_ruta)[3:5]) < 100:\n",
    "    km_siffran_y = '75'\n",
    "\n",
    "if 0 <= int(str(minx_ruta)[3:5]) < 25:\n",
    "    km_siffran_x = '00'\n",
    "elif 25 <= int(str(minx_ruta)[3:5]) < 50:\n",
    "    km_siffran_x = '25'\n",
    "elif 50 <= int(str(minx_ruta)[3:5]) < 75:\n",
    "    km_siffran_x = '50'\n",
    "elif 75 <= int(str(minx_ruta)[3:5]) < 100:\n",
    "    km_siffran_x = '75'\n",
    "\n",
    "year = 2018 # WHICH YEAR SHOULD IT BE??\n",
    "\n",
    "filename = f\"{miny}_{minx}_{km_siffran_y}{km_siffran_x}_{year}.tif\""
   ]
  },
  {
   "cell_type": "code",
   "execution_count": 34,
   "metadata": {},
   "outputs": [
    {
     "name": "stdout",
     "output_type": "stream",
     "text": [
      "688149.8104874288\n"
     ]
    },
    {
     "data": {
      "text/plain": [
       "14"
      ]
     },
     "execution_count": 34,
     "metadata": {},
     "output_type": "execute_result"
    }
   ],
   "source": [
    "print(minx_ruta)\n",
    "int(str(minx_ruta)[3:5])"
   ]
  },
  {
   "cell_type": "markdown",
   "metadata": {},
   "source": [
    "filename"
   ]
  },
  {
   "cell_type": "code",
   "execution_count": 39,
   "metadata": {},
   "outputs": [],
   "source": [
    "minx_ruta = 688041\n",
    "miny_ruta = 7492714\n",
    "\n",
    "miny = str(miny_ruta)[0:3]\n",
    "minx = str(minx_ruta)[0:2]\n",
    "\n",
    "if 0 <= int(str(miny_ruta)[3:5]) < 25:\n",
    "    km_siffran_y = '00'\n",
    "elif 25 <= int(str(miny_ruta)[3:5]) < 50:\n",
    "    km_siffran_y = '25'\n",
    "elif 50 <= int(str(miny_ruta)[3:5]) < 75:\n",
    "    km_siffran_y = '50'\n",
    "elif 75 <= int(str(miny_ruta)[3:5]) < 100:\n",
    "    km_siffran_y = '75'\n",
    "\n",
    "if 0 <= int(str(minx_ruta)[2:4]) < 25:\n",
    "    km_siffran_x = '00'\n",
    "elif 25 <= int(str(minx_ruta)[2:4]) < 50:\n",
    "    km_siffran_x = '25'\n",
    "elif 50 <= int(str(minx_ruta)[2:4]) < 75:\n",
    "    km_siffran_x = '50'\n",
    "elif 75 <= int(str(minx_ruta)[2:4]) < 100:\n",
    "    km_siffran_x = '75'\n",
    "\n",
    "year = 2018 # WHICH YEAR SHOULD IT BE??\n",
    "\n",
    "filename = f\"{miny}_{minx}_{km_siffran_y}{km_siffran_x}_{year}.tif\""
   ]
  },
  {
   "cell_type": "code",
   "execution_count": 36,
   "metadata": {},
   "outputs": [
    {
     "data": {
      "text/plain": [
       "'749_68_2575_2018.tif'"
      ]
     },
     "execution_count": 36,
     "metadata": {},
     "output_type": "execute_result"
    }
   ],
   "source": [
    "filename"
   ]
  },
  {
   "cell_type": "code",
   "execution_count": null,
   "metadata": {},
   "outputs": [],
   "source": []
  }
 ],
 "metadata": {
  "kernelspec": {
   "display_name": "palsa_env_torch",
   "language": "python",
   "name": "python3"
  },
  "language_info": {
   "codemirror_mode": {
    "name": "ipython",
    "version": 3
   },
   "file_extension": ".py",
   "mimetype": "text/x-python",
   "name": "python",
   "nbconvert_exporter": "python",
   "pygments_lexer": "ipython3",
   "version": "3.12.3"
  }
 },
 "nbformat": 4,
 "nbformat_minor": 2
}
