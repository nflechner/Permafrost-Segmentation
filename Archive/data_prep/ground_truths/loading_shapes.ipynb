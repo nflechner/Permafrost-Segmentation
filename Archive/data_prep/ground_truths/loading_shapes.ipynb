{
 "cells": [
  {
   "attachments": {
    "image.png": {
     "image/png": "[encoded data removed]"
    }
   },
   "cell_type": "markdown",
   "metadata": {},
   "source": [
    "### What needs to happen:\n",
    "make the whole file into a huge binary mask? \n",
    "want to cutoff at 200x200 borders, instead of whole polygons as masks. \n",
    "\n",
    "- generate 200x200 all polygons as in normal data method\n",
    "- do overlay with the jsoin intersection method \n",
    "- keep the intersections as labels per 200x200 polygon. \n",
    "\n",
    "![image.png](attachment:image.png)"
   ]
  },
  {
   "cell_type": "code",
   "execution_count": 1,
   "metadata": {},
   "outputs": [],
   "source": [
    "import geopandas as gpd\n",
    "\n",
    "polygon_path = \"/home/nadjaflechner/Palsa_data/Ground_truth/all_polygs.shp\"\n",
    "all_polygs = gpd.read_file(polygon_path)\n",
    "rutor_path = \"/home/nadjaflechner/Palsa_data/Ground_truth/gt_polygons.shp\"\n",
    "rutor = gpd.read_file(rutor_path)\n"
   ]
  },
  {
   "cell_type": "code",
   "execution_count": 2,
   "metadata": {},
   "outputs": [],
   "source": [
    "all_polygs['centroid'] = all_polygs.representative_point()"
   ]
  },
  {
   "cell_type": "code",
   "execution_count": 39,
   "metadata": {},
   "outputs": [
    {
     "data": {
      "text/plain": [
       "(688149.8104874288, 7494524.192531442, 688161.7818712636, 7494544.942930089)"
      ]
     },
     "execution_count": 39,
     "metadata": {},
     "output_type": "execute_result"
    }
   ],
   "source": [
    "all_polygs.geometry[0].bounds"
   ]
  },
  {
   "cell_type": "code",
   "execution_count": 11,
   "metadata": {},
   "outputs": [
    {
     "data": {
      "text/html": [
       "<div>\n",
       "<style scoped>\n",
       "    .dataframe tbody tr th:only-of-type {\n",
       "        vertical-align: middle;\n",
       "    }\n",
       "\n",
       "    .dataframe tbody tr th {\n",
       "        vertical-align: top;\n",
       "    }\n",
       "\n",
       "    .dataframe thead th {\n",
       "        text-align: right;\n",
       "    }\n",
       "</style>\n",
       "<table border=\"1\" class=\"dataframe\">\n",
       "  <thead>\n",
       "    <tr style=\"text-align: right;\">\n",
       "      <th></th>\n",
       "      <th>fid</th>\n",
       "      <th>geometry</th>\n",
       "    </tr>\n",
       "  </thead>\n",
       "  <tbody>\n",
       "    <tr>\n",
       "      <th>0</th>\n",
       "      <td>1.0</td>\n",
       "      <td>POLYGON ((688153.003 7494543.985, 688156.195 7...</td>\n",
       "    </tr>\n",
       "    <tr>\n",
       "      <th>1</th>\n",
       "      <td>2.0</td>\n",
       "      <td>POLYGON ((688224.672 7494541.751, 688227.545 7...</td>\n",
       "    </tr>\n",
       "    <tr>\n",
       "      <th>2</th>\n",
       "      <td>3.0</td>\n",
       "      <td>POLYGON ((688267.396 7494608.205, 688268.992 7...</td>\n",
       "    </tr>\n",
       "    <tr>\n",
       "      <th>3</th>\n",
       "      <td>4.0</td>\n",
       "      <td>POLYGON ((688303.097 7494634.861, 688306.769 7...</td>\n",
       "    </tr>\n",
       "    <tr>\n",
       "      <th>4</th>\n",
       "      <td>5.0</td>\n",
       "      <td>POLYGON ((688326.721 7494645.077, 688329.754 7...</td>\n",
       "    </tr>\n",
       "    <tr>\n",
       "      <th>5</th>\n",
       "      <td>6.0</td>\n",
       "      <td>POLYGON ((688358.166 7494638.533, 688358.964 7...</td>\n",
       "    </tr>\n",
       "    <tr>\n",
       "      <th>6</th>\n",
       "      <td>7.0</td>\n",
       "      <td>POLYGON ((688305.412 7494613.512, 688307.008 7...</td>\n",
       "    </tr>\n",
       "    <tr>\n",
       "      <th>7</th>\n",
       "      <td>8.0</td>\n",
       "      <td>POLYGON ((688501.782 7494774.807, 688505.773 7...</td>\n",
       "    </tr>\n",
       "    <tr>\n",
       "      <th>8</th>\n",
       "      <td>9.0</td>\n",
       "      <td>POLYGON ((688578.798 7494787.018, 688580.794 7...</td>\n",
       "    </tr>\n",
       "    <tr>\n",
       "      <th>9</th>\n",
       "      <td>10.0</td>\n",
       "      <td>POLYGON ((571335.401 7464434.536, 571334.124 7...</td>\n",
       "    </tr>\n",
       "    <tr>\n",
       "      <th>10</th>\n",
       "      <td>11.0</td>\n",
       "      <td>POLYGON ((571378.179 7464234.175, 571381.451 7...</td>\n",
       "    </tr>\n",
       "    <tr>\n",
       "      <th>11</th>\n",
       "      <td>12.0</td>\n",
       "      <td>POLYGON ((571493.025 7464369.172, 571494.701 7...</td>\n",
       "    </tr>\n",
       "    <tr>\n",
       "      <th>12</th>\n",
       "      <td>13.0</td>\n",
       "      <td>POLYGON ((573546.077 7462722.588, 573548.152 7...</td>\n",
       "    </tr>\n",
       "    <tr>\n",
       "      <th>13</th>\n",
       "      <td>14.0</td>\n",
       "      <td>POLYGON ((573507.769 7462690.186, 573512.318 7...</td>\n",
       "    </tr>\n",
       "    <tr>\n",
       "      <th>14</th>\n",
       "      <td>15.0</td>\n",
       "      <td>POLYGON ((573510.801 7465644.045, 573513.116 7...</td>\n",
       "    </tr>\n",
       "    <tr>\n",
       "      <th>15</th>\n",
       "      <td>16.0</td>\n",
       "      <td>POLYGON ((571929.940 7466314.363, 571932.095 7...</td>\n",
       "    </tr>\n",
       "    <tr>\n",
       "      <th>16</th>\n",
       "      <td>17.0</td>\n",
       "      <td>POLYGON ((571919.086 7466291.936, 571921.720 7...</td>\n",
       "    </tr>\n",
       "    <tr>\n",
       "      <th>17</th>\n",
       "      <td>18.0</td>\n",
       "      <td>POLYGON ((571964.897 7466269.729, 571966.852 7...</td>\n",
       "    </tr>\n",
       "    <tr>\n",
       "      <th>18</th>\n",
       "      <td>19.0</td>\n",
       "      <td>POLYGON ((571962.024 7466242.674, 571963.859 7...</td>\n",
       "    </tr>\n",
       "    <tr>\n",
       "      <th>19</th>\n",
       "      <td>20.0</td>\n",
       "      <td>POLYGON ((571953.963 7466184.812, 571955.479 7...</td>\n",
       "    </tr>\n",
       "    <tr>\n",
       "      <th>20</th>\n",
       "      <td>21.0</td>\n",
       "      <td>POLYGON ((571954.721 7466208.316, 571955.040 7...</td>\n",
       "    </tr>\n",
       "    <tr>\n",
       "      <th>21</th>\n",
       "      <td>22.0</td>\n",
       "      <td>POLYGON ((571775.270 7465975.872, 571775.509 7...</td>\n",
       "    </tr>\n",
       "    <tr>\n",
       "      <th>22</th>\n",
       "      <td>23.0</td>\n",
       "      <td>POLYGON ((573031.477 7465902.066, 573033.183 7...</td>\n",
       "    </tr>\n",
       "    <tr>\n",
       "      <th>23</th>\n",
       "      <td>24.0</td>\n",
       "      <td>POLYGON ((572924.184 7465901.258, 572926.742 7...</td>\n",
       "    </tr>\n",
       "    <tr>\n",
       "      <th>24</th>\n",
       "      <td>25.0</td>\n",
       "      <td>POLYGON ((574376.537 7466594.042, 574379.410 7...</td>\n",
       "    </tr>\n",
       "    <tr>\n",
       "      <th>25</th>\n",
       "      <td>26.0</td>\n",
       "      <td>POLYGON ((574387.790 7466601.464, 574389.466 7...</td>\n",
       "    </tr>\n",
       "    <tr>\n",
       "      <th>26</th>\n",
       "      <td>27.0</td>\n",
       "      <td>POLYGON ((574678.176 7466767.906, 574680.091 7...</td>\n",
       "    </tr>\n",
       "    <tr>\n",
       "      <th>27</th>\n",
       "      <td>28.0</td>\n",
       "      <td>POLYGON ((574690.307 7466730.236, 574694.457 7...</td>\n",
       "    </tr>\n",
       "    <tr>\n",
       "      <th>28</th>\n",
       "      <td>29.0</td>\n",
       "      <td>POLYGON ((574744.577 7466735.902, 574744.657 7...</td>\n",
       "    </tr>\n",
       "    <tr>\n",
       "      <th>29</th>\n",
       "      <td>30.0</td>\n",
       "      <td>POLYGON ((574731.010 7466737.977, 574733.164 7...</td>\n",
       "    </tr>\n",
       "    <tr>\n",
       "      <th>30</th>\n",
       "      <td>31.0</td>\n",
       "      <td>POLYGON ((574828.936 7466542.365, 574831.090 7...</td>\n",
       "    </tr>\n",
       "    <tr>\n",
       "      <th>31</th>\n",
       "      <td>32.0</td>\n",
       "      <td>POLYGON ((574874.028 7466610.283, 574876.183 7...</td>\n",
       "    </tr>\n",
       "    <tr>\n",
       "      <th>32</th>\n",
       "      <td>33.0</td>\n",
       "      <td>POLYGON ((574764.370 7466666.309, 574769.278 7...</td>\n",
       "    </tr>\n",
       "    <tr>\n",
       "      <th>33</th>\n",
       "      <td>34.0</td>\n",
       "      <td>POLYGON ((575799.715 7467313.587, 575803.217 7...</td>\n",
       "    </tr>\n",
       "    <tr>\n",
       "      <th>34</th>\n",
       "      <td>35.0</td>\n",
       "      <td>POLYGON ((575883.013 7467253.183, 575884.225 7...</td>\n",
       "    </tr>\n",
       "    <tr>\n",
       "      <th>35</th>\n",
       "      <td>36.0</td>\n",
       "      <td>POLYGON ((575865.573 7467212.578, 575866.381 7...</td>\n",
       "    </tr>\n",
       "    <tr>\n",
       "      <th>36</th>\n",
       "      <td>37.0</td>\n",
       "      <td>POLYGON ((575740.591 7466863.762, 575743.285 7...</td>\n",
       "    </tr>\n",
       "    <tr>\n",
       "      <th>37</th>\n",
       "      <td>38.0</td>\n",
       "      <td>POLYGON ((575753.116 7466816.961, 575756.214 7...</td>\n",
       "    </tr>\n",
       "    <tr>\n",
       "      <th>38</th>\n",
       "      <td>39.0</td>\n",
       "      <td>POLYGON ((575764.631 7466839.318, 575766.180 7...</td>\n",
       "    </tr>\n",
       "    <tr>\n",
       "      <th>39</th>\n",
       "      <td>40.0</td>\n",
       "      <td>POLYGON ((575767.460 7466806.322, 575768.672 7...</td>\n",
       "    </tr>\n",
       "    <tr>\n",
       "      <th>40</th>\n",
       "      <td>41.0</td>\n",
       "      <td>POLYGON ((575770.254 7466884.637, 575771.971 7...</td>\n",
       "    </tr>\n",
       "    <tr>\n",
       "      <th>41</th>\n",
       "      <td>42.0</td>\n",
       "      <td>POLYGON ((575751.669 7466874.132, 575753.790 7...</td>\n",
       "    </tr>\n",
       "    <tr>\n",
       "      <th>42</th>\n",
       "      <td>43.0</td>\n",
       "      <td>POLYGON ((575790.052 7466857.567, 575793.183 7...</td>\n",
       "    </tr>\n",
       "    <tr>\n",
       "      <th>43</th>\n",
       "      <td>44.0</td>\n",
       "      <td>POLYGON ((575825.169 7466823.224, 575825.775 7...</td>\n",
       "    </tr>\n",
       "    <tr>\n",
       "      <th>44</th>\n",
       "      <td>45.0</td>\n",
       "      <td>POLYGON ((575796.550 7466867.196, 575799.782 7...</td>\n",
       "    </tr>\n",
       "    <tr>\n",
       "      <th>45</th>\n",
       "      <td>46.0</td>\n",
       "      <td>POLYGON ((575830.592 7466960.562, 575833.092 7...</td>\n",
       "    </tr>\n",
       "    <tr>\n",
       "      <th>46</th>\n",
       "      <td>47.0</td>\n",
       "      <td>POLYGON ((575856.728 7466948.441, 575857.258 7...</td>\n",
       "    </tr>\n",
       "    <tr>\n",
       "      <th>47</th>\n",
       "      <td>48.0</td>\n",
       "      <td>POLYGON ((575865.213 7466955.789, 575866.955 7...</td>\n",
       "    </tr>\n",
       "    <tr>\n",
       "      <th>48</th>\n",
       "      <td>49.0</td>\n",
       "      <td>POLYGON ((575855.895 7466952.153, 575854.607 7...</td>\n",
       "    </tr>\n",
       "    <tr>\n",
       "      <th>49</th>\n",
       "      <td>50.0</td>\n",
       "      <td>POLYGON ((575911.675 7466959.956, 575912.101 7...</td>\n",
       "    </tr>\n",
       "  </tbody>\n",
       "</table>\n",
       "</div>"
      ],
      "text/plain": [
       "     fid                                           geometry\n",
       "0    1.0  POLYGON ((688153.003 7494543.985, 688156.195 7...\n",
       "1    2.0  POLYGON ((688224.672 7494541.751, 688227.545 7...\n",
       "2    3.0  POLYGON ((688267.396 7494608.205, 688268.992 7...\n",
       "3    4.0  POLYGON ((688303.097 7494634.861, 688306.769 7...\n",
       "4    5.0  POLYGON ((688326.721 7494645.077, 688329.754 7...\n",
       "5    6.0  POLYGON ((688358.166 7494638.533, 688358.964 7...\n",
       "6    7.0  POLYGON ((688305.412 7494613.512, 688307.008 7...\n",
       "7    8.0  POLYGON ((688501.782 7494774.807, 688505.773 7...\n",
       "8    9.0  POLYGON ((688578.798 7494787.018, 688580.794 7...\n",
       "9   10.0  POLYGON ((571335.401 7464434.536, 571334.124 7...\n",
       "10  11.0  POLYGON ((571378.179 7464234.175, 571381.451 7...\n",
       "11  12.0  POLYGON ((571493.025 7464369.172, 571494.701 7...\n",
       "12  13.0  POLYGON ((573546.077 7462722.588, 573548.152 7...\n",
       "13  14.0  POLYGON ((573507.769 7462690.186, 573512.318 7...\n",
       "14  15.0  POLYGON ((573510.801 7465644.045, 573513.116 7...\n",
       "15  16.0  POLYGON ((571929.940 7466314.363, 571932.095 7...\n",
       "16  17.0  POLYGON ((571919.086 7466291.936, 571921.720 7...\n",
       "17  18.0  POLYGON ((571964.897 7466269.729, 571966.852 7...\n",
       "18  19.0  POLYGON ((571962.024 7466242.674, 571963.859 7...\n",
       "19  20.0  POLYGON ((571953.963 7466184.812, 571955.479 7...\n",
       "20  21.0  POLYGON ((571954.721 7466208.316, 571955.040 7...\n",
       "21  22.0  POLYGON ((571775.270 7465975.872, 571775.509 7...\n",
       "22  23.0  POLYGON ((573031.477 7465902.066, 573033.183 7...\n",
       "23  24.0  POLYGON ((572924.184 7465901.258, 572926.742 7...\n",
       "24  25.0  POLYGON ((574376.537 7466594.042, 574379.410 7...\n",
       "25  26.0  POLYGON ((574387.790 7466601.464, 574389.466 7...\n",
       "26  27.0  POLYGON ((574678.176 7466767.906, 574680.091 7...\n",
       "27  28.0  POLYGON ((574690.307 7466730.236, 574694.457 7...\n",
       "28  29.0  POLYGON ((574744.577 7466735.902, 574744.657 7...\n",
       "29  30.0  POLYGON ((574731.010 7466737.977, 574733.164 7...\n",
       "30  31.0  POLYGON ((574828.936 7466542.365, 574831.090 7...\n",
       "31  32.0  POLYGON ((574874.028 7466610.283, 574876.183 7...\n",
       "32  33.0  POLYGON ((574764.370 7466666.309, 574769.278 7...\n",
       "33  34.0  POLYGON ((575799.715 7467313.587, 575803.217 7...\n",
       "34  35.0  POLYGON ((575883.013 7467253.183, 575884.225 7...\n",
       "35  36.0  POLYGON ((575865.573 7467212.578, 575866.381 7...\n",
       "36  37.0  POLYGON ((575740.591 7466863.762, 575743.285 7...\n",
       "37  38.0  POLYGON ((575753.116 7466816.961, 575756.214 7...\n",
       "38  39.0  POLYGON ((575764.631 7466839.318, 575766.180 7...\n",
       "39  40.0  POLYGON ((575767.460 7466806.322, 575768.672 7...\n",
       "40  41.0  POLYGON ((575770.254 7466884.637, 575771.971 7...\n",
       "41  42.0  POLYGON ((575751.669 7466874.132, 575753.790 7...\n",
       "42  43.0  POLYGON ((575790.052 7466857.567, 575793.183 7...\n",
       "43  44.0  POLYGON ((575825.169 7466823.224, 575825.775 7...\n",
       "44  45.0  POLYGON ((575796.550 7466867.196, 575799.782 7...\n",
       "45  46.0  POLYGON ((575830.592 7466960.562, 575833.092 7...\n",
       "46  47.0  POLYGON ((575856.728 7466948.441, 575857.258 7...\n",
       "47  48.0  POLYGON ((575865.213 7466955.789, 575866.955 7...\n",
       "48  49.0  POLYGON ((575855.895 7466952.153, 575854.607 7...\n",
       "49  50.0  POLYGON ((575911.675 7466959.956, 575912.101 7..."
      ]
     },
     "execution_count": 11,
     "metadata": {},
     "output_type": "execute_result"
    }
   ],
   "source": [
    "rutor"
   ]
  },
  {
   "cell_type": "code",
   "execution_count": 16,
   "metadata": {},
   "outputs": [],
   "source": [
    "intersect = gpd.overlay(all_polygs, rutor.iloc[[0]], how='intersection')"
   ]
  },
  {
   "cell_type": "code",
   "execution_count": 32,
   "metadata": {},
   "outputs": [
    {
     "data": {
      "image/svg+xml": [
       "<svg xmlns=\"http://www.w3.org/2000/svg\" xmlns:xlink=\"http://www.w3.org/1999/xlink\" width=\"100.0\" height=\"100.0\" viewBox=\"573543.491219946 7462713.936929955 7.964960711658932 9.48133599665016\" preserveAspectRatio=\"xMinYMin meet\"><g transform=\"matrix(1,0,0,-1,0,14925437.355195906)\"><path fill-rule=\"evenodd\" fill=\"#66cc99\" stroke=\"#555555\" stroke-width=\"0.18962671993300317\" opacity=\"0.6\" d=\"M 573546.0770388544,7462722.588250007 L 573548.1520787191,7462723.067105359 L 573548.3116971703,7462723.067105359 L 573548.4713156214,7462723.067105359 L 573548.7905525237,7462722.987296134 L 573548.9501709748,7462722.987296134 L 573549.1895986515,7462722.987296134 L 573549.3492171026,7462722.987296134 L 573549.5886447793,7462722.987296134 L 573549.7482632304,7462722.827677683 L 573549.8280724561,7462722.668059232 L 573550.0675001327,7462722.50844078 L 573550.2271185839,7462722.189203879 L 573550.386737035,7462722.029585428 L 573550.5463554861,7462721.869966976 L 573550.7059739373,7462721.710348525 L 573550.8655923884,7462721.6305393 L 573550.945401614,7462721.470920849 L 573551.0252108396,7462721.311302397 L 573551.1050200651,7462720.992065495 L 573551.1050200651,7462720.832447044 L 573551.1050200651,7462720.672828592 L 573551.1050200651,7462720.513210141 L 573551.1050200651,7462720.273782465 L 573551.1050200651,7462720.114164013 L 573551.1050200651,7462719.874736337 L 573551.1050200651,7462719.715117886 L 573551.0252108396,7462719.395880983 L 573550.945401614,7462719.076644082 L 573550.945401614,7462718.91702563 L 573550.945401614,7462718.757407179 L 573550.945401614,7462718.597788728 L 573550.945401614,7462718.438170277 L 573550.945401614,7462718.278551825 L 573550.945401614,7462718.118933374 L 573550.945401614,7462717.879505698 L 573550.945401614,7462717.719887246 L 573550.945401614,7462717.48045957 L 573550.945401614,7462717.320841119 L 573550.945401614,7462717.081413442 L 573550.945401614,7462716.921794991 L 573550.945401614,7462716.682367315 L 573550.8655923884,7462716.522748863 L 573550.7059739373,7462716.442939637 L 573550.5463554861,7462716.283321186 L 573550.386737035,7462716.203511961 L 573550.1473093583,7462715.884275058 L 573549.9876909072,7462715.724656607 L 573549.9078816816,7462715.565038157 L 573549.7482632304,7462715.485228931 L 573549.5886447793,7462715.405419705 L 573549.4290263281,7462715.325610479 L 573549.269407877,7462715.165992028 L 573549.109789426,7462715.006373578 L 573548.9501709748,7462714.926564352 L 573548.7905525237,7462714.687136675 L 573548.5511248469,7462714.607327449 L 573548.3116971703,7462714.607327449 L 573548.1520787191,7462714.447708998 L 573547.992460268,7462714.447708998 L 573547.8328418168,7462714.367899773 L 573547.5136049145,7462714.288090548 L 573547.3539864634,7462714.288090548 L 573547.1145587867,7462714.288090548 L 573546.87513111,7462714.288090548 L 573546.6357034333,7462714.288090548 L 573546.4760849822,7462714.288090548 L 573546.2366573055,7462714.288090548 L 573546.0770388544,7462714.288090548 L 573545.9174204032,7462714.288090548 L 573545.7578019521,7462714.367899773 L 573545.5981835009,7462714.447708998 L 573545.5183742753,7462714.607327449 L 573545.3587558242,7462714.7669459 L 573545.1991373731,7462714.926564352 L 573545.1991373731,7462715.165992028 L 573545.1193281475,7462715.325610479 L 573545.039518922,7462715.485228931 L 573544.8799004708,7462715.644847382 L 573544.8799004708,7462715.804465833 L 573544.7202820197,7462715.964084284 L 573544.5606635686,7462716.203511961 L 573544.4808543429,7462716.363130412 L 573544.4010451174,7462716.522748863 L 573544.4010451174,7462716.682367315 L 573544.3212358918,7462716.841985766 L 573544.2414266663,7462717.001604216 L 573544.1616174406,7462717.161222667 L 573544.0818082151,7462717.320841119 L 573544.0019989895,7462717.48045957 L 573543.922189764,7462717.640078021 L 573543.922189764,7462717.879505698 L 573543.922189764,7462718.039124149 L 573543.8423805385,7462718.1987426 L 573543.8423805385,7462718.438170277 L 573543.8423805385,7462718.597788728 L 573543.8423805385,7462718.757407179 L 573543.8423805385,7462718.9968348555 L 573543.8423805385,7462719.156453307 L 573543.8423805385,7462719.316071758 L 573544.0019989895,7462719.475690209 L 573544.0019989895,7462719.635308661 L 573544.1616174406,7462719.874736337 L 573544.2414266663,7462720.034354788 L 573544.4010451174,7462720.114164013 L 573544.5606635686,7462720.273782465 L 573544.7202820197,7462720.433400916 L 573544.8799004708,7462720.433400916 L 573545.039518922,7462720.593019367 L 573545.1991373731,7462720.752637818 L 573545.3587558242,7462720.91225627 L 573545.4385650498,7462721.07187472 L 573545.5981835009,7462721.231493171 L 573545.5981835009,7462721.391111623 L 573545.6779927264,7462721.6305393 L 573545.7578019521,7462721.79015775 L 573545.8376111776,7462722.029585428 L 573545.9972296287,7462722.189203879 L 573546.0770388544,7462722.348822329 L 573546.0770388544,7462722.588250007 z\" /></g></svg>"
      ],
      "text/plain": [
       "<POLYGON ((5.74e+05 7.46e+06, 5.74e+05 7.46e+06, 5.74e+05 7.46e+06, 5.74e+05...>"
      ]
     },
     "execution_count": 32,
     "metadata": {},
     "output_type": "execute_result"
    }
   ],
   "source": [
    "intersect.geometry[15]"
   ]
  },
  {
   "cell_type": "code",
   "execution_count": 11,
   "metadata": {},
   "outputs": [
    {
     "data": {
      "image/svg+xml": [
       "<svg xmlns=\"http://www.w3.org/2000/svg\" xmlns:xlink=\"http://www.w3.org/1999/xlink\" width=\"100.0\" height=\"100.0\" viewBox=\"688148.980471483 7494523.362515496 13.631415726500563 22.410430539399385\" preserveAspectRatio=\"xMinYMin meet\"><g transform=\"matrix(1,0,0,-1,0,14989069.135461532)\"><path fill-rule=\"evenodd\" fill=\"#66cc99\" stroke=\"#555555\" stroke-width=\"0.4482086107879877\" opacity=\"0.6\" d=\"M 688153.0028564514,7494543.985219383 L 688156.1952254741,7494544.942930089 L 688156.5144623762,7494544.942930089 L 688156.8336992785,7494544.942930089 L 688157.1529361808,7494544.942930089 L 688157.4721730831,7494544.942930089 L 688157.7914099854,7494544.942930089 L 688158.1106468876,7494544.942930089 L 688158.4298837899,7494544.942930089 L 688158.7491206921,7494544.942930089 L 688159.0683575944,7494544.942930089 L 688159.3875944966,7494544.623693188 L 688159.5472129477,7494544.304456285 L 688159.86644985,7494543.825600931 L 688160.1856867523,7494543.50636403 L 688160.1856867523,7494543.187127127 L 688160.5049236546,7494543.027508676 L 688160.6645421056,7494542.7082717735 L 688160.8241605568,7494542.389034872 L 688161.1433974591,7494541.910179518 L 688161.3030159102,7494541.590942616 L 688161.4626343613,7494541.271705714 L 688161.4626343613,7494540.952468812 L 688161.6222528125,7494540.633231909 L 688161.6222528125,7494540.3139950065 L 688161.6222528125,7494539.994758105 L 688161.6222528125,7494539.675521202 L 688161.7818712636,7494539.196665849 L 688161.7818712636,7494538.877428947 L 688161.7818712636,7494538.398573593 L 688161.7818712636,7494538.079336691 L 688161.7818712636,7494537.760099789 L 688161.7818712636,7494537.440862887 L 688161.4626343613,7494537.121625984 L 688161.1433974591,7494536.802389082 L 688160.9837790079,7494536.48315218 L 688160.3453052035,7494536.323533729 L 688160.0260683012,7494536.163915277 L 688159.3875944966,7494536.004296826 L 688159.0683575944,7494535.844678375 L 688158.7491206921,7494535.365823022 L 688158.7491206921,7494535.04658612 L 688158.7491206921,7494534.727349217 L 688159.0683575944,7494534.567730766 L 688159.3875944966,7494534.248493864 L 688159.7068313989,7494533.929256962 L 688160.0260683012,7494533.76963851 L 688160.3453052035,7494533.610020059 L 688160.6645421056,7494533.290783157 L 688160.9837790079,7494532.971546255 L 688161.1433974591,7494532.6523093525 L 688161.4626343613,7494532.173453999 L 688161.7818712636,7494531.854217097 L 688161.7818712636,7494531.375361743 L 688161.7818712636,7494531.056124841 L 688161.7818712636,7494530.577269488 L 688161.6222528125,7494530.2580325855 L 688161.4626343613,7494529.938795683 L 688161.1433974591,7494529.619558781 L 688160.8241605568,7494529.300321879 L 688160.5049236546,7494528.981084976 L 688160.1856867523,7494528.182992721 L 688160.1856867523,7494527.863755818 L 688160.1856867523,7494527.544518916 L 688160.0260683012,7494527.225282014 L 688160.0260683012,7494526.906045112 L 688159.86644985,7494526.427189758 L 688159.5472129477,7494525.788715954 L 688159.3875944966,7494525.469479051 L 688159.0683575944,7494525.15024215 L 688158.7491206921,7494524.831005247 L 688158.4298837899,7494524.511768345 L 688158.1106468876,7494524.511768345 L 688157.4721730831,7494524.3521498935 L 688156.5144623762,7494524.192531442 L 688155.5567516695,7494524.192531442 L 688154.918277865,7494524.192531442 L 688154.2798040605,7494524.192531442 L 688153.6413302559,7494524.192531442 L 688152.8432380003,7494524.192531442 L 688152.3643826469,7494524.3521498935 L 688152.0451457447,7494524.511768345 L 688151.7259088424,7494524.831005247 L 688151.4066719401,7494525.15024215 L 688151.0874350378,7494525.469479051 L 688150.9278165867,7494525.788715954 L 688150.9278165867,7494526.267571308 L 688150.7681981355,7494526.586808209 L 688150.7681981355,7494527.065663563 L 688150.7681981355,7494527.384900466 L 688150.7681981355,7494527.863755818 L 688150.6085796845,7494528.182992721 L 688150.6085796845,7494528.661848075 L 688150.6085796845,7494528.981084976 L 688150.6085796845,7494529.45994033 L 688150.6085796845,7494529.779177233 L 688150.6085796845,7494530.098414134 L 688150.6085796845,7494530.417651037 L 688150.2893427822,7494530.896506391 L 688150.1297243311,7494531.215743292 L 688150.1297243311,7494531.694598646 L 688150.1297243311,7494532.013835548 L 688150.1297243311,7494532.33307245 L 688150.1297243311,7494532.6523093525 L 688149.9701058799,7494533.131164706 L 688149.9701058799,7494533.450401608 L 688149.9701058799,7494533.76963851 L 688149.9701058799,7494534.088875413 L 688149.8104874288,7494534.408112315 L 688149.8104874288,7494534.727349217 L 688149.8104874288,7494535.04658612 L 688149.8104874288,7494535.525441473 L 688149.8104874288,7494535.844678375 L 688149.8104874288,7494536.163915277 L 688149.9701058799,7494536.48315218 L 688150.1297243311,7494537.121625984 L 688150.1297243311,7494537.440862887 L 688150.2893427822,7494537.760099789 L 688150.4489612334,7494538.079336691 L 688150.4489612334,7494538.398573593 L 688150.6085796845,7494538.877428947 L 688150.9278165867,7494539.3562843 L 688150.9278165867,7494539.675521202 L 688151.0874350378,7494540.154376555 L 688151.247053489,7494540.633231909 L 688151.247053489,7494540.952468812 L 688151.4066719401,7494541.431324164 L 688151.7259088424,7494541.750561067 L 688151.8855272935,7494542.069797969 L 688152.2047641957,7494542.389034872 L 688152.524001098,7494542.548653322 L 688152.8432380003,7494543.187127127 L 688153.0028564514,7494543.50636403 L 688153.0028564514,7494543.985219383 z\" /></g></svg>"
      ],
      "text/plain": [
       "<POLYGON ((6.88e+05 7.49e+06, 6.88e+05 7.49e+06, 6.88e+05 7.49e+06, 6.88e+05...>"
      ]
     },
     "execution_count": 11,
     "metadata": {},
     "output_type": "execute_result"
    }
   ],
   "source": [
    "all_polygs.geometry[0]"
   ]
  },
  {
   "cell_type": "code",
   "execution_count": 7,
   "metadata": {},
   "outputs": [
    {
     "data": {
      "text/plain": [
       "shapely.geometry.polygon.Polygon"
      ]
     },
     "execution_count": 7,
     "metadata": {},
     "output_type": "execute_result"
    }
   ],
   "source": [
    "type(all_polygs.geometry[0])"
   ]
  },
  {
   "cell_type": "code",
   "execution_count": null,
   "metadata": {},
   "outputs": [],
   "source": [
    "import rasterio.features\n",
    "import matplotlib.pyplot as plt\n",
    "\n",
    "poly = all_polygs.geometry[0]\n",
    "img = rasterio.features.rasterize([poly], out_shape=(200, 200))\n",
    "plt.imshow(img)"
   ]
  },
  {
   "cell_type": "markdown",
   "metadata": {},
   "source": [
    "Plan:\n",
    "- find intersection of groundtruth polygons with current 200x200 polygon USING sjoin intersection\n",
    "- make polygon into geotiff / raster of only 0's\n",
    "- then use rasterio.mask to mask the 200x200 image with the intersection(s)"
   ]
  },
  {
   "cell_type": "code",
   "execution_count": 8,
   "metadata": {},
   "outputs": [
    {
     "ename": "AttributeError",
     "evalue": "'Polygon' object has no attribute 'crs'",
     "output_type": "error",
     "traceback": [
      "\u001b[0;31m---------------------------------------------------------------------------\u001b[0m",
      "\u001b[0;31mAttributeError\u001b[0m                            Traceback (most recent call last)",
      "Cell \u001b[0;32mIn[8], line 1\u001b[0m\n\u001b[0;32m----> 1\u001b[0m all_polygs\u001b[38;5;241m.\u001b[39mgeometry[\u001b[38;5;241m0\u001b[39m]\u001b[38;5;241m.\u001b[39mcrs\n",
      "\u001b[0;31mAttributeError\u001b[0m: 'Polygon' object has no attribute 'crs'"
     ]
    }
   ],
   "source": [
    "all_polygs.geometry[0].crs"
   ]
  },
  {
   "cell_type": "code",
   "execution_count": null,
   "metadata": {},
   "outputs": [],
   "source": [
    "import numpy as np \n",
    "\n",
    "ones = np.ones((200,200))"
   ]
  },
  {
   "cell_type": "code",
   "execution_count": 29,
   "metadata": {},
   "outputs": [],
   "source": [
    "import rasterio\n",
    "img = rasterio.open('/home/nadjaflechner/Palsa_data/generated_datasets/FINAL_200m_dataset/hs/732_52_5000_2015_negcrop_0.tif')"
   ]
  },
  {
   "cell_type": "code",
   "execution_count": 31,
   "metadata": {},
   "outputs": [
    {
     "ename": "TypeError",
     "evalue": "unsupported operand type(s) for *: 'DatasetReader' and 'int'",
     "output_type": "error",
     "traceback": [
      "\u001b[0;31m---------------------------------------------------------------------------\u001b[0m",
      "\u001b[0;31mTypeError\u001b[0m                                 Traceback (most recent call last)",
      "Cell \u001b[0;32mIn[31], line 1\u001b[0m\n\u001b[0;32m----> 1\u001b[0m img\u001b[38;5;241m*\u001b[39m\u001b[38;5;241m0\u001b[39m\n",
      "\u001b[0;31mTypeError\u001b[0m: unsupported operand type(s) for *: 'DatasetReader' and 'int'"
     ]
    }
   ],
   "source": [
    "img*0"
   ]
  },
  {
   "cell_type": "code",
   "execution_count": 26,
   "metadata": {},
   "outputs": [
    {
     "data": {
      "text/plain": [
       "array([[[0, 0, 0, ..., 0, 0, 0],\n",
       "        [0, 0, 0, ..., 0, 0, 0],\n",
       "        [0, 0, 0, ..., 0, 0, 0],\n",
       "        ...,\n",
       "        [0, 0, 0, ..., 0, 0, 0],\n",
       "        [0, 0, 0, ..., 0, 0, 0],\n",
       "        [0, 0, 0, ..., 0, 0, 0]]], dtype=uint8)"
      ]
     },
     "execution_count": 26,
     "metadata": {},
     "output_type": "execute_result"
    }
   ],
   "source": [
    "np_img*0"
   ]
  },
  {
   "cell_type": "code",
   "execution_count": null,
   "metadata": {},
   "outputs": [],
   "source": []
  }
 ],
 "metadata": {
  "kernelspec": {
   "display_name": "palsa_env",
   "language": "python",
   "name": "python3"
  },
  "language_info": {
   "codemirror_mode": {
    "name": "ipython",
    "version": 3
   },
   "file_extension": ".py",
   "mimetype": "text/x-python",
   "name": "python",
   "nbconvert_exporter": "python",
   "pygments_lexer": "ipython3",
   "version": "3.12.2"
  }
 },
 "nbformat": 4,
 "nbformat_minor": 2
}
