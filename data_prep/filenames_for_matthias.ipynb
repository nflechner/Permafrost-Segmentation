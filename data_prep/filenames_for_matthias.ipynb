{
 "cells": [
  {
   "cell_type": "code",
   "execution_count": 27,
   "metadata": {},
   "outputs": [],
   "source": [
    "#############\n",
    "## imports ##\n",
    "#############\n",
    "\n",
    "# libraries \n",
    "import geopandas as gpd\n",
    "import numpy as np \n",
    "import pandas as pd\n",
    "import rasterio\n",
    "import matplotlib.pyplot as plt\n",
    "from rasterio.plot import show\n",
    "from rasterio.mask import mask\n",
    "import os\n",
    "import json\n",
    "from shapely.geometry import box, Polygon\n",
    "import logging\n",
    "\n",
    "##########\n",
    "## code ##\n",
    "##########\n",
    "\n",
    "def tif_from_ruta(ruta_geometry):\n",
    "    minx_ruta = ruta_geometry.bounds[0]\n",
    "    miny_ruta = ruta_geometry.bounds[1]\n",
    "\n",
    "    miny = str(miny_ruta)[0:3]\n",
    "    minx = str(minx_ruta)[0:2]\n",
    "    km_siffran_y = 0 if int(str(miny_ruta)[3]) < 5 else 5\n",
    "    km_siffran_x = 0 if int(str(minx_ruta)[2]) < 5 else 5\n",
    "    year = 2018\n",
    "\n",
    "    filename = f\"{miny}_{minx}_{km_siffran_y}{km_siffran_x}_{year}.tif\"\n",
    "    return filename\n",
    "\n",
    "\n",
    "def filter_imgs(all_rutor_path, dir_files):\n",
    "    all_rutor = gpd.read_file(all_rutor_path)\n",
    "    all_rutor['in_tif'] = all_rutor['geometry'].map(tif_from_ruta)\n",
    "    uniques = all_rutor.in_tif.unique()\n",
    "\n",
    "    # dir_files = os.listdir(original_tif_dir)\n",
    "    only_tifs = [filename for filename in dir_files if filename[-4:] == \".tif\"]\n",
    "\n",
    "    only_tifs_noyear = [filename[:-8] for filename in only_tifs]\n",
    "    uniques_noyear = [filename[:-8] for filename in list(uniques)]\n",
    "\n",
    "    # check that all uniques are in only tifs\n",
    "    if not (set(list(uniques_noyear)).issubset(set(only_tifs_noyear))):\n",
    "        # logger.WARN(f\"at least one tif name generated from all_rutor was not found in the directory: {original_tif_dir}\")\n",
    "        print(f\"at least one tif name generated from all_rutor was not found in the directory\")\n",
    "        items_not_in_dir = [item for item in list(uniques) if item not in only_tifs]\n",
    "        print(f\"items not in directory are: \\n {items_not_in_dir}\")\n",
    "\n",
    "    intersection = list(set(uniques_noyear) & set(only_tifs_noyear))\n",
    "\n",
    "    tifs_to_use = [filename for filename in only_tifs if filename[:-8] in intersection]\n",
    "\n",
    "    return tifs_to_use"
   ]
  },
  {
   "cell_type": "code",
   "execution_count": 22,
   "metadata": {},
   "outputs": [],
   "source": [
    "with open('/Users/nadja/Documents/UU/Thesis/filelist.txt', 'r') as file:\n",
    "    lines = file.readlines()\n",
    "\n",
    "items = []\n",
    "for line in lines:\n",
    "    item = line.strip()\n",
    "    item = f\"{item}f\"\n",
    "    \n",
    "    items.append(item)"
   ]
  },
  {
   "cell_type": "code",
   "execution_count": 28,
   "metadata": {},
   "outputs": [],
   "source": [
    "shape_file = \"/Users/nadja/Documents/UU/Thesis/data/Vector/palsaShape/RUTNAT_100x100M_PALS_OR_PALSVATT_ALL.shp\"\n",
    "filtered_imgs = filter_imgs(shape_file, items)"
   ]
  },
  {
   "cell_type": "code",
   "execution_count": 30,
   "metadata": {},
   "outputs": [
    {
     "data": {
      "text/plain": [
       "782"
      ]
     },
     "execution_count": 30,
     "metadata": {},
     "output_type": "execute_result"
    }
   ],
   "source": [
    "len(filtered_imgs)"
   ]
  },
  {
   "cell_type": "code",
   "execution_count": 33,
   "metadata": {},
   "outputs": [],
   "source": [
    "imgs_to_use = pd.DataFrame(filtered_imgs)"
   ]
  },
  {
   "cell_type": "code",
   "execution_count": 36,
   "metadata": {},
   "outputs": [],
   "source": [
    "imgs_to_use.to_csv(\"filenames_to_use.csv\", header = False, index = False)"
   ]
  },
  {
   "cell_type": "code",
   "execution_count": 35,
   "metadata": {},
   "outputs": [
    {
     "name": "stdout",
     "output_type": "stream",
     "text": [
      "/Users/nadja/Documents/UU/Thesis/palsa_seg/data_prep\n"
     ]
    }
   ],
   "source": [
    "!pwd"
   ]
  },
  {
   "cell_type": "markdown",
   "metadata": {},
   "source": [
    "I have a list of filenames that i want to compare to another list of filenames. Specifically, I will need to use the files which are present in both lists. Both lists have filenames that are named according to the following format: \"{filename}_{year}.tif\". The filenames are unique, but some of the years are different in list1 versus list2. This is an error, such that i want the intersection of the 2 lists, ignoring the {year} component of the name. Is there any way to achieve this? \n",
    "\n"
   ]
  }
 ],
 "metadata": {
  "kernelspec": {
   "display_name": "palsa_env_torch",
   "language": "python",
   "name": "python3"
  },
  "language_info": {
   "codemirror_mode": {
    "name": "ipython",
    "version": 3
   },
   "file_extension": ".py",
   "mimetype": "text/x-python",
   "name": "python",
   "nbconvert_exporter": "python",
   "pygments_lexer": "ipython3",
   "version": "3.12.2"
  }
 },
 "nbformat": 4,
 "nbformat_minor": 2
}
