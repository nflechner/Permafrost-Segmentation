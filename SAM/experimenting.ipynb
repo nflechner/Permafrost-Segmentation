{
 "cells": [
  {
   "cell_type": "code",
   "execution_count": 1,
   "metadata": {},
   "outputs": [
    {
     "ename": "",
     "evalue": "",
     "output_type": "error",
     "traceback": [
      "\u001b[1;31mThe Kernel crashed while executing code in the current cell or a previous cell. \n",
      "\u001b[1;31mPlease review the code in the cell(s) to identify a possible cause of the failure. \n",
      "\u001b[1;31mClick <a href='https://aka.ms/vscodeJupyterKernelCrash'>here</a> for more info. \n",
      "\u001b[1;31mView Jupyter <a href='command:jupyter.viewOutput'>log</a> for further details."
     ]
    }
   ],
   "source": [
    "from PIL import Image\n",
    "import numpy as np\n",
    "import torch \n",
    "import torch.nn as nn \n",
    "import cv2\n",
    "\n",
    "hs_img = Image.open(\"/Users/nadja/Documents/UU/Thesis/Data/cropped_hillshade/hs/758_66_5050_2010_crop_8325_hs.tif\")\n",
    "PNG_hs_img_array = np.array(Image.open(\"/Users/nadja/Documents/UU/Thesis/Data/cropped_hillshade/hs/758_66_5050_2010_crop_8325_hs.tif\"))\n",
    "hs_image_tensor = torch.from_numpy(PNG_hs_img_array)\n",
    "hs_image_tensor = hs_image_tensor.float().view([1,1,100,100])\n",
    "\n",
    "bilinear = nn.Upsample(size=200, mode='bilinear')\n",
    "hs_upsampled_tensor = bilinear(hs_image_tensor).squeeze(0) \n",
    "hs_img_1d = hs_upsampled_tensor.numpy()\n",
    "\n",
    "hs_img_3d_arr = cv2.cvtColor(hs_img_1d.squeeze(0).astype(np.uint8), cv2.COLOR_GRAY2RGB)\n",
    "hs_img_3d = Image.fromarray(hs_img_3d_arr).convert(\"RGB\")\n",
    "hs_img.save(\"/Users/nadja/Documents/UU/Thesis/Data/SAM_tests/png_img.png\", \"PNG\")"
   ]
  },
  {
   "cell_type": "code",
   "execution_count": null,
   "metadata": {},
   "outputs": [],
   "source": []
  }
 ],
 "metadata": {
  "kernelspec": {
   "display_name": "torchvision",
   "language": "python",
   "name": "python3"
  },
  "language_info": {
   "codemirror_mode": {
    "name": "ipython",
    "version": 3
   },
   "file_extension": ".py",
   "mimetype": "text/x-python",
   "name": "python",
   "nbconvert_exporter": "python",
   "pygments_lexer": "ipython3",
   "version": "3.11.5"
  }
 },
 "nbformat": 4,
 "nbformat_minor": 2
}
